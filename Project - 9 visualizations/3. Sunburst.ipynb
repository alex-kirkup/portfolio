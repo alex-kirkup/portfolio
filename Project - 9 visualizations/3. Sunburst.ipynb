{
 "cells": [
  {
   "cell_type": "code",
   "execution_count": 4,
   "id": "f60c647c",
   "metadata": {},
   "outputs": [
    {
     "name": "stdout",
     "output_type": "stream",
     "text": [
      "Requirement already satisfied: plotly in c:\\users\\akirkup\\conda_trial_project\\env\\lib\\site-packages (5.15.0)\n",
      "Requirement already satisfied: tenacity>=6.2.0 in c:\\users\\akirkup\\conda_trial_project\\env\\lib\\site-packages (from plotly) (8.2.2)\n",
      "Requirement already satisfied: packaging in c:\\users\\akirkup\\conda_trial_project\\env\\lib\\site-packages (from plotly) (23.0)\n",
      "Collecting plotly_express\n",
      "  Downloading plotly_express-0.4.1-py2.py3-none-any.whl (2.9 kB)\n",
      "Requirement already satisfied: pandas>=0.20.0 in c:\\users\\akirkup\\conda_trial_project\\env\\lib\\site-packages (from plotly_express) (1.5.3)\n",
      "Requirement already satisfied: plotly>=4.1.0 in c:\\users\\akirkup\\conda_trial_project\\env\\lib\\site-packages (from plotly_express) (5.15.0)\n",
      "Collecting statsmodels>=0.9.0\n",
      "  Downloading statsmodels-0.14.0-cp311-cp311-win_amd64.whl (9.2 MB)\n",
      "     ---------------------------------------- 0.0/9.2 MB ? eta -:--:--\n",
      "      --------------------------------------- 0.2/9.2 MB 3.9 MB/s eta 0:00:03\n",
      "     - -------------------------------------- 0.4/9.2 MB 4.4 MB/s eta 0:00:02\n",
      "     -- ------------------------------------- 0.7/9.2 MB 4.8 MB/s eta 0:00:02\n",
      "     ---- ----------------------------------- 0.9/9.2 MB 5.0 MB/s eta 0:00:02\n",
      "     ---- ----------------------------------- 1.0/9.2 MB 4.4 MB/s eta 0:00:02\n",
      "     ---- ----------------------------------- 1.1/9.2 MB 4.2 MB/s eta 0:00:02\n",
      "     ---- ----------------------------------- 1.1/9.2 MB 4.2 MB/s eta 0:00:02\n",
      "     ---- ----------------------------------- 1.1/9.2 MB 4.2 MB/s eta 0:00:02\n",
      "     ---- ----------------------------------- 1.1/9.2 MB 4.2 MB/s eta 0:00:02\n",
      "     ---- ----------------------------------- 1.1/9.2 MB 4.2 MB/s eta 0:00:02\n",
      "     ---- ----------------------------------- 1.1/9.2 MB 4.2 MB/s eta 0:00:02\n",
      "     ---- ----------------------------------- 1.1/9.2 MB 4.2 MB/s eta 0:00:02\n",
      "     ---- ----------------------------------- 1.1/9.2 MB 4.2 MB/s eta 0:00:02\n",
      "     ---- ----------------------------------- 1.1/9.2 MB 4.2 MB/s eta 0:00:02\n",
      "     ---- ----------------------------------- 1.1/9.2 MB 4.2 MB/s eta 0:00:02\n",
      "     ---- ----------------------------------- 1.1/9.2 MB 4.2 MB/s eta 0:00:02\n",
      "     ----- ---------------------------------- 1.3/9.2 MB 1.6 MB/s eta 0:00:05\n",
      "     ----- ---------------------------------- 1.3/9.2 MB 1.6 MB/s eta 0:00:05\n",
      "     ------- -------------------------------- 1.6/9.2 MB 1.9 MB/s eta 0:00:05\n",
      "     -------- ------------------------------- 1.9/9.2 MB 2.1 MB/s eta 0:00:04\n",
      "     -------- ------------------------------- 1.9/9.2 MB 2.0 MB/s eta 0:00:04\n",
      "     ---------- ----------------------------- 2.4/9.2 MB 2.5 MB/s eta 0:00:03\n",
      "     ---------- ----------------------------- 2.5/9.2 MB 2.5 MB/s eta 0:00:03\n",
      "     ------------- -------------------------- 3.0/9.2 MB 2.8 MB/s eta 0:00:03\n",
      "     -------------- ------------------------- 3.3/9.2 MB 3.0 MB/s eta 0:00:02\n",
      "     --------------- ------------------------ 3.6/9.2 MB 3.1 MB/s eta 0:00:02\n",
      "     ---------------- ----------------------- 3.9/9.2 MB 3.2 MB/s eta 0:00:02\n",
      "     ----------------- ---------------------- 4.0/9.2 MB 3.3 MB/s eta 0:00:02\n",
      "     ------------------- -------------------- 4.5/9.2 MB 3.5 MB/s eta 0:00:02\n",
      "     -------------------- ------------------- 4.8/9.2 MB 3.6 MB/s eta 0:00:02\n",
      "     --------------------- ------------------ 5.0/9.2 MB 3.6 MB/s eta 0:00:02\n",
      "     ---------------------- ----------------- 5.2/9.2 MB 3.7 MB/s eta 0:00:02\n",
      "     ------------------------ --------------- 5.6/9.2 MB 3.8 MB/s eta 0:00:01\n",
      "     ------------------------- -------------- 5.9/9.2 MB 3.9 MB/s eta 0:00:01\n",
      "     -------------------------- ------------- 6.1/9.2 MB 3.9 MB/s eta 0:00:01\n",
      "     --------------------------- ------------ 6.3/9.2 MB 4.0 MB/s eta 0:00:01\n",
      "     ---------------------------- ----------- 6.6/9.2 MB 4.0 MB/s eta 0:00:01\n",
      "     ----------------------------- ---------- 6.8/9.2 MB 4.0 MB/s eta 0:00:01\n",
      "     ----------------------------- ---------- 6.8/9.2 MB 3.9 MB/s eta 0:00:01\n",
      "     ------------------------------ --------- 7.0/9.2 MB 3.9 MB/s eta 0:00:01\n",
      "     ------------------------------- -------- 7.3/9.2 MB 3.9 MB/s eta 0:00:01\n",
      "     -------------------------------- ------- 7.5/9.2 MB 4.0 MB/s eta 0:00:01\n",
      "     ---------------------------------- ----- 7.9/9.2 MB 4.1 MB/s eta 0:00:01\n",
      "     ----------------------------------- ---- 8.2/9.2 MB 4.1 MB/s eta 0:00:01\n",
      "     ------------------------------------ --- 8.4/9.2 MB 4.2 MB/s eta 0:00:01\n",
      "     ------------------------------------- -- 8.6/9.2 MB 4.2 MB/s eta 0:00:01\n",
      "     -------------------------------------- - 8.8/9.2 MB 4.2 MB/s eta 0:00:01\n",
      "     ---------------------------------------  9.1/9.2 MB 4.3 MB/s eta 0:00:01\n",
      "     ---------------------------------------  9.2/9.2 MB 4.3 MB/s eta 0:00:01\n",
      "     ---------------------------------------- 9.2/9.2 MB 4.1 MB/s eta 0:00:00\n",
      "Requirement already satisfied: scipy>=0.18 in c:\\users\\akirkup\\conda_trial_project\\env\\lib\\site-packages (from plotly_express) (1.10.1)\n",
      "Collecting patsy>=0.5\n",
      "  Downloading patsy-0.5.3-py2.py3-none-any.whl (233 kB)\n",
      "     ---------------------------------------- 0.0/233.8 kB ? eta -:--:--\n",
      "     ------------------------------------ - 225.3/233.8 kB 6.9 MB/s eta 0:00:01\n",
      "     -------------------------------------- 233.8/233.8 kB 4.8 MB/s eta 0:00:00\n",
      "Requirement already satisfied: numpy>=1.11 in c:\\users\\akirkup\\conda_trial_project\\env\\lib\\site-packages (from plotly_express) (1.24.3)\n",
      "Requirement already satisfied: python-dateutil>=2.8.1 in c:\\users\\akirkup\\conda_trial_project\\env\\lib\\site-packages (from pandas>=0.20.0->plotly_express) (2.8.2)\n",
      "Requirement already satisfied: pytz>=2020.1 in c:\\users\\akirkup\\conda_trial_project\\env\\lib\\site-packages (from pandas>=0.20.0->plotly_express) (2022.7)\n",
      "Requirement already satisfied: six in c:\\users\\akirkup\\conda_trial_project\\env\\lib\\site-packages (from patsy>=0.5->plotly_express) (1.16.0)\n",
      "Requirement already satisfied: tenacity>=6.2.0 in c:\\users\\akirkup\\conda_trial_project\\env\\lib\\site-packages (from plotly>=4.1.0->plotly_express) (8.2.2)\n",
      "Requirement already satisfied: packaging in c:\\users\\akirkup\\conda_trial_project\\env\\lib\\site-packages (from plotly>=4.1.0->plotly_express) (23.0)\n",
      "Installing collected packages: patsy, statsmodels, plotly_express\n",
      "Successfully installed patsy-0.5.3 plotly_express-0.4.1 statsmodels-0.14.0\n"
     ]
    }
   ],
   "source": [
    "!pip install plotly\n",
    "!pip install plotly_express"
   ]
  },
  {
   "cell_type": "code",
   "execution_count": 5,
   "id": "6f3446ee",
   "metadata": {},
   "outputs": [],
   "source": [
    "import pandas as pd\n",
    "import plotly_express as px"
   ]
  },
  {
   "cell_type": "code",
   "execution_count": 6,
   "id": "6724103d",
   "metadata": {},
   "outputs": [],
   "source": [
    "df = pd.read_csv('Data/Xeek_Well_15-9-15.csv')"
   ]
  },
  {
   "cell_type": "code",
   "execution_count": 7,
   "id": "941f4f50",
   "metadata": {},
   "outputs": [
    {
     "name": "stdout",
     "output_type": "stream",
     "text": [
      "<class 'pandas.core.frame.DataFrame'>\n",
      "RangeIndex: 17717 entries, 0 to 17716\n",
      "Data columns (total 12 columns):\n",
      " #   Column     Non-Null Count  Dtype  \n",
      "---  ------     --------------  -----  \n",
      " 0   WELL       17717 non-null  object \n",
      " 1   DEPTH_MD   17717 non-null  float64\n",
      " 2   GROUP      17717 non-null  object \n",
      " 3   FORMATION  15093 non-null  object \n",
      " 4   CALI       17635 non-null  float64\n",
      " 5   RDEP       17717 non-null  float64\n",
      " 6   RHOB       17521 non-null  float64\n",
      " 7   GR         17717 non-null  float64\n",
      " 8   NPHI       13346 non-null  float64\n",
      " 9   PEF        17662 non-null  float64\n",
      " 10  DTC        17708 non-null  float64\n",
      " 11  LITH       17717 non-null  object \n",
      "dtypes: float64(8), object(4)\n",
      "memory usage: 1.6+ MB\n"
     ]
    }
   ],
   "source": [
    "df.info()"
   ]
  },
  {
   "cell_type": "code",
   "execution_count": 8,
   "id": "5d44bd1e",
   "metadata": {},
   "outputs": [],
   "source": [
    "data_cleaned = df.dropna(subset=['FORMATION'])"
   ]
  },
  {
   "cell_type": "code",
   "execution_count": 9,
   "id": "db97b23c",
   "metadata": {},
   "outputs": [
    {
     "name": "stdout",
     "output_type": "stream",
     "text": [
      "<class 'pandas.core.frame.DataFrame'>\n",
      "Int64Index: 15093 entries, 2624 to 17716\n",
      "Data columns (total 12 columns):\n",
      " #   Column     Non-Null Count  Dtype  \n",
      "---  ------     --------------  -----  \n",
      " 0   WELL       15093 non-null  object \n",
      " 1   DEPTH_MD   15093 non-null  float64\n",
      " 2   GROUP      15093 non-null  object \n",
      " 3   FORMATION  15093 non-null  object \n",
      " 4   CALI       15091 non-null  float64\n",
      " 5   RDEP       15093 non-null  float64\n",
      " 6   RHOB       15093 non-null  float64\n",
      " 7   GR         15093 non-null  float64\n",
      " 8   NPHI       13346 non-null  float64\n",
      " 9   PEF        15046 non-null  float64\n",
      " 10  DTC        15084 non-null  float64\n",
      " 11  LITH       15093 non-null  object \n",
      "dtypes: float64(8), object(4)\n",
      "memory usage: 1.5+ MB\n"
     ]
    }
   ],
   "source": [
    "data_cleaned.info()"
   ]
  },
  {
   "cell_type": "code",
   "execution_count": 10,
   "id": "27b47ae6",
   "metadata": {},
   "outputs": [
    {
     "data": {
      "text/html": [
       "<div>\n",
       "<style scoped>\n",
       "    .dataframe tbody tr th:only-of-type {\n",
       "        vertical-align: middle;\n",
       "    }\n",
       "\n",
       "    .dataframe tbody tr th {\n",
       "        vertical-align: top;\n",
       "    }\n",
       "\n",
       "    .dataframe thead th {\n",
       "        text-align: right;\n",
       "    }\n",
       "</style>\n",
       "<table border=\"1\" class=\"dataframe\">\n",
       "  <thead>\n",
       "    <tr style=\"text-align: right;\">\n",
       "      <th></th>\n",
       "      <th>GROUP</th>\n",
       "      <th>FORMATION</th>\n",
       "      <th>LITH</th>\n",
       "      <th>count</th>\n",
       "    </tr>\n",
       "  </thead>\n",
       "  <tbody>\n",
       "    <tr>\n",
       "      <th>0</th>\n",
       "      <td>CROMER KNOLL GP.</td>\n",
       "      <td>Blodoeks Fm.</td>\n",
       "      <td>Limestone</td>\n",
       "      <td>4</td>\n",
       "    </tr>\n",
       "    <tr>\n",
       "      <th>1</th>\n",
       "      <td>CROMER KNOLL GP.</td>\n",
       "      <td>Blodoeks Fm.</td>\n",
       "      <td>Marl</td>\n",
       "      <td>119</td>\n",
       "    </tr>\n",
       "    <tr>\n",
       "      <th>2</th>\n",
       "      <td>CROMER KNOLL GP.</td>\n",
       "      <td>Blodoeks Fm.</td>\n",
       "      <td>Sandstone</td>\n",
       "      <td>27</td>\n",
       "    </tr>\n",
       "    <tr>\n",
       "      <th>3</th>\n",
       "      <td>CROMER KNOLL GP.</td>\n",
       "      <td>Blodoeks Fm.</td>\n",
       "      <td>Sandstone/Shale</td>\n",
       "      <td>52</td>\n",
       "    </tr>\n",
       "    <tr>\n",
       "      <th>4</th>\n",
       "      <td>CROMER KNOLL GP.</td>\n",
       "      <td>Blodoeks Fm.</td>\n",
       "      <td>Shale</td>\n",
       "      <td>7</td>\n",
       "    </tr>\n",
       "  </tbody>\n",
       "</table>\n",
       "</div>"
      ],
      "text/plain": [
       "              GROUP     FORMATION             LITH  count\n",
       "0  CROMER KNOLL GP.  Blodoeks Fm.        Limestone      4\n",
       "1  CROMER KNOLL GP.  Blodoeks Fm.             Marl    119\n",
       "2  CROMER KNOLL GP.  Blodoeks Fm.        Sandstone     27\n",
       "3  CROMER KNOLL GP.  Blodoeks Fm.  Sandstone/Shale     52\n",
       "4  CROMER KNOLL GP.  Blodoeks Fm.            Shale      7"
      ]
     },
     "execution_count": 10,
     "metadata": {},
     "output_type": "execute_result"
    }
   ],
   "source": [
    "grouped_data = data_cleaned.groupby(['GROUP', 'FORMATION', 'LITH']).size().reset_index(name='count')\n",
    "grouped_data.head()"
   ]
  },
  {
   "cell_type": "code",
   "execution_count": 15,
   "id": "9b95a5a5",
   "metadata": {},
   "outputs": [
    {
     "data": {
      "application/vnd.plotly.v1+json": {
       "config": {
        "plotlyServerURL": "https://plot.ly"
       },
       "data": [
        {
         "branchvalues": "total",
         "customdata": [
          [
           "Shale"
          ],
          [
           "Shale"
          ],
          [
           "Chalk"
          ],
          [
           "Sandstone/Shale"
          ],
          [
           "Sandstone/Shale"
          ],
          [
           "Limestone"
          ],
          [
           "Shale"
          ],
          [
           "Sandstone"
          ],
          [
           "Shale"
          ],
          [
           "Limestone"
          ],
          [
           "Sandstone/Shale"
          ],
          [
           "Shale"
          ],
          [
           "Marl"
          ],
          [
           "Sandstone/Shale"
          ],
          [
           "Shale"
          ],
          [
           "Shale"
          ],
          [
           "Shale"
          ],
          [
           "Chalk"
          ],
          [
           "Shale"
          ],
          [
           "Sandstone"
          ],
          [
           "Limestone"
          ],
          [
           "Limestone"
          ],
          [
           "Limestone"
          ],
          [
           "Marl"
          ],
          [
           "Shale"
          ],
          [
           "Sandstone/Shale"
          ],
          [
           "Marl"
          ],
          [
           "Tuff"
          ],
          [
           "Limestone"
          ],
          [
           "Sandstone"
          ],
          [
           "Limestone"
          ],
          [
           "Limestone"
          ],
          [
           "Tuff"
          ],
          [
           "Sandstone"
          ],
          [
           "Sandstone/Shale"
          ],
          [
           "Sandstone/Shale"
          ],
          [
           "Sandstone"
          ],
          [
           "Marl"
          ],
          [
           "Limestone"
          ],
          [
           "Limestone"
          ],
          [
           "Limestone"
          ],
          [
           "Tuff"
          ],
          [
           "Sandstone"
          ],
          [
           "Marl"
          ],
          [
           "Sandstone/Shale"
          ],
          [
           "(?)"
          ],
          [
           "(?)"
          ],
          [
           "(?)"
          ],
          [
           "(?)"
          ],
          [
           "(?)"
          ],
          [
           "(?)"
          ],
          [
           "(?)"
          ],
          [
           "(?)"
          ],
          [
           "(?)"
          ],
          [
           "(?)"
          ],
          [
           "(?)"
          ],
          [
           "(?)"
          ],
          [
           "(?)"
          ],
          [
           "(?)"
          ],
          [
           "(?)"
          ],
          [
           "(?)"
          ],
          [
           "(?)"
          ],
          [
           "(?)"
          ],
          [
           "(?)"
          ],
          [
           "(?)"
          ]
         ],
         "domain": {
          "x": [
           0,
           1
          ],
          "y": [
           0,
           1
          ]
         },
         "hovertemplate": "labels=%{label}<br>count=%{value}<br>parent=%{parent}<br>id=%{id}<br>LITH=%{customdata[0]}<extra></extra>",
         "ids": [
          "HORDALAND GP./Frigg Fm./Shale",
          "ROGALAND GP./Sele Fm./Shale",
          "SHETLAND GP./Hod Fm./Chalk",
          "ROGALAND GP./Lista Fm./Sandstone/Shale",
          "CROMER KNOLL GP./Blodoeks Fm./Sandstone/Shale",
          "VIKING GP./Draupne Fm./Limestone",
          "VIKING GP./Heather Fm./Shale",
          "HEGRE GP./Skagerrak Fm./Sandstone",
          "NORDLAND GP./Utsira Fm./Shale",
          "ROGALAND GP./Sele Fm./Limestone",
          "NORDLAND GP./Utsira Fm./Sandstone/Shale",
          "HEGRE GP./Skagerrak Fm./Shale",
          "SHETLAND GP./Blodoeks Fm./Marl",
          "SHETLAND GP./Blodoeks Fm./Sandstone/Shale",
          "ROGALAND GP./Lista Fm./Shale",
          "ROGALAND GP./Balder Fm./Shale",
          "HORDALAND GP./Utsira Fm./Shale",
          "SHETLAND GP./Tor Fm./Chalk",
          "CROMER KNOLL GP./Blodoeks Fm./Shale",
          "CROMER KNOLL GP./Blodoeks Fm./Sandstone",
          "HEGRE GP./Skagerrak Fm./Limestone",
          "ROGALAND GP./Balder Fm./Limestone",
          "HORDALAND GP./Frigg Fm./Limestone",
          "SHETLAND GP./Hod Fm./Marl",
          "VIKING GP./Draupne Fm./Shale",
          "HORDALAND GP./Frigg Fm./Sandstone/Shale",
          "ROGALAND GP./Lista Fm./Marl",
          "HORDALAND GP./Frigg Fm./Tuff",
          "SHETLAND GP./Hod Fm./Limestone",
          "SHETLAND GP./Blodoeks Fm./Sandstone",
          "SHETLAND GP./Tor Fm./Limestone",
          "CROMER KNOLL GP./Blodoeks Fm./Limestone",
          "ROGALAND GP./Balder Fm./Tuff",
          "HORDALAND GP./Utsira Fm./Sandstone",
          "HEGRE GP./Skagerrak Fm./Sandstone/Shale",
          "VIKING GP./Heather Fm./Sandstone/Shale",
          "HORDALAND GP./Frigg Fm./Sandstone",
          "SHETLAND GP./Tor Fm./Marl",
          "HORDALAND GP./Utsira Fm./Limestone",
          "ROGALAND GP./Lista Fm./Limestone",
          "SHETLAND GP./Blodoeks Fm./Limestone",
          "ROGALAND GP./Sele Fm./Tuff",
          "NORDLAND GP./Utsira Fm./Sandstone",
          "CROMER KNOLL GP./Blodoeks Fm./Marl",
          "HORDALAND GP./Utsira Fm./Sandstone/Shale",
          "ROGALAND GP./Balder Fm.",
          "CROMER KNOLL GP./Blodoeks Fm.",
          "SHETLAND GP./Blodoeks Fm.",
          "VIKING GP./Draupne Fm.",
          "HORDALAND GP./Frigg Fm.",
          "VIKING GP./Heather Fm.",
          "SHETLAND GP./Hod Fm.",
          "ROGALAND GP./Lista Fm.",
          "ROGALAND GP./Sele Fm.",
          "HEGRE GP./Skagerrak Fm.",
          "SHETLAND GP./Tor Fm.",
          "HORDALAND GP./Utsira Fm.",
          "NORDLAND GP./Utsira Fm.",
          "CROMER KNOLL GP.",
          "HEGRE GP.",
          "HORDALAND GP.",
          "NORDLAND GP.",
          "ROGALAND GP.",
          "SHETLAND GP.",
          "VIKING GP."
         ],
         "labels": [
          "Shale",
          "Shale",
          "Chalk",
          "Sandstone/Shale",
          "Sandstone/Shale",
          "Limestone",
          "Shale",
          "Sandstone",
          "Shale",
          "Limestone",
          "Sandstone/Shale",
          "Shale",
          "Marl",
          "Sandstone/Shale",
          "Shale",
          "Shale",
          "Shale",
          "Chalk",
          "Shale",
          "Sandstone",
          "Limestone",
          "Limestone",
          "Limestone",
          "Marl",
          "Shale",
          "Sandstone/Shale",
          "Marl",
          "Tuff",
          "Limestone",
          "Sandstone",
          "Limestone",
          "Limestone",
          "Tuff",
          "Sandstone",
          "Sandstone/Shale",
          "Sandstone/Shale",
          "Sandstone",
          "Marl",
          "Limestone",
          "Limestone",
          "Limestone",
          "Tuff",
          "Sandstone",
          "Marl",
          "Sandstone/Shale",
          "Balder Fm.",
          "Blodoeks Fm.",
          "Blodoeks Fm.",
          "Draupne Fm.",
          "Frigg Fm.",
          "Heather Fm.",
          "Hod Fm.",
          "Lista Fm.",
          "Sele Fm.",
          "Skagerrak Fm.",
          "Tor Fm.",
          "Utsira Fm.",
          "Utsira Fm.",
          "CROMER KNOLL GP.",
          "HEGRE GP.",
          "HORDALAND GP.",
          "NORDLAND GP.",
          "ROGALAND GP.",
          "SHETLAND GP.",
          "VIKING GP."
         ],
         "marker": {
          "colors": [
           "#636efa",
           "#636efa",
           "#EF553B",
           "#00cc96",
           "#00cc96",
           "#ab63fa",
           "#636efa",
           "#FFA15A",
           "#636efa",
           "#ab63fa",
           "#00cc96",
           "#636efa",
           "#19d3f3",
           "#00cc96",
           "#636efa",
           "#636efa",
           "#636efa",
           "#EF553B",
           "#636efa",
           "#FFA15A",
           "#ab63fa",
           "#ab63fa",
           "#ab63fa",
           "#19d3f3",
           "#636efa",
           "#00cc96",
           "#19d3f3",
           "#FF6692",
           "#ab63fa",
           "#FFA15A",
           "#ab63fa",
           "#ab63fa",
           "#FF6692",
           "#FFA15A",
           "#00cc96",
           "#00cc96",
           "#FFA15A",
           "#19d3f3",
           "#ab63fa",
           "#ab63fa",
           "#ab63fa",
           "#FF6692",
           "#FFA15A",
           "#19d3f3",
           "#00cc96",
           "#B6E880",
           "#B6E880",
           "#B6E880",
           "#B6E880",
           "#B6E880",
           "#B6E880",
           "#B6E880",
           "#B6E880",
           "#B6E880",
           "#B6E880",
           "#B6E880",
           "#B6E880",
           "#B6E880",
           "#B6E880",
           "#B6E880",
           "#B6E880",
           "#B6E880",
           "#B6E880",
           "#B6E880",
           "#B6E880"
          ]
         },
         "name": "",
         "parents": [
          "HORDALAND GP./Frigg Fm.",
          "ROGALAND GP./Sele Fm.",
          "SHETLAND GP./Hod Fm.",
          "ROGALAND GP./Lista Fm.",
          "CROMER KNOLL GP./Blodoeks Fm.",
          "VIKING GP./Draupne Fm.",
          "VIKING GP./Heather Fm.",
          "HEGRE GP./Skagerrak Fm.",
          "NORDLAND GP./Utsira Fm.",
          "ROGALAND GP./Sele Fm.",
          "NORDLAND GP./Utsira Fm.",
          "HEGRE GP./Skagerrak Fm.",
          "SHETLAND GP./Blodoeks Fm.",
          "SHETLAND GP./Blodoeks Fm.",
          "ROGALAND GP./Lista Fm.",
          "ROGALAND GP./Balder Fm.",
          "HORDALAND GP./Utsira Fm.",
          "SHETLAND GP./Tor Fm.",
          "CROMER KNOLL GP./Blodoeks Fm.",
          "CROMER KNOLL GP./Blodoeks Fm.",
          "HEGRE GP./Skagerrak Fm.",
          "ROGALAND GP./Balder Fm.",
          "HORDALAND GP./Frigg Fm.",
          "SHETLAND GP./Hod Fm.",
          "VIKING GP./Draupne Fm.",
          "HORDALAND GP./Frigg Fm.",
          "ROGALAND GP./Lista Fm.",
          "HORDALAND GP./Frigg Fm.",
          "SHETLAND GP./Hod Fm.",
          "SHETLAND GP./Blodoeks Fm.",
          "SHETLAND GP./Tor Fm.",
          "CROMER KNOLL GP./Blodoeks Fm.",
          "ROGALAND GP./Balder Fm.",
          "HORDALAND GP./Utsira Fm.",
          "HEGRE GP./Skagerrak Fm.",
          "VIKING GP./Heather Fm.",
          "HORDALAND GP./Frigg Fm.",
          "SHETLAND GP./Tor Fm.",
          "HORDALAND GP./Utsira Fm.",
          "ROGALAND GP./Lista Fm.",
          "SHETLAND GP./Blodoeks Fm.",
          "ROGALAND GP./Sele Fm.",
          "NORDLAND GP./Utsira Fm.",
          "CROMER KNOLL GP./Blodoeks Fm.",
          "HORDALAND GP./Utsira Fm.",
          "ROGALAND GP.",
          "CROMER KNOLL GP.",
          "SHETLAND GP.",
          "VIKING GP.",
          "HORDALAND GP.",
          "VIKING GP.",
          "SHETLAND GP.",
          "ROGALAND GP.",
          "ROGALAND GP.",
          "HEGRE GP.",
          "SHETLAND GP.",
          "HORDALAND GP.",
          "NORDLAND GP.",
          "",
          "",
          "",
          "",
          "",
          "",
          ""
         ],
         "type": "sunburst",
         "values": [
          899,
          572,
          1,
          154,
          52,
          9,
          9,
          1116,
          128,
          7,
          189,
          350,
          192,
          47,
          388,
          25,
          5618,
          968,
          7,
          27,
          24,
          22,
          62,
          16,
          353,
          12,
          3,
          16,
          367,
          14,
          214,
          4,
          113,
          67,
          983,
          89,
          201,
          55,
          119,
          21,
          56,
          6,
          1295,
          119,
          104,
          160,
          209,
          309,
          362,
          1190,
          98,
          384,
          566,
          585,
          2473,
          1237,
          5908,
          1612,
          209,
          2473,
          7098,
          1612,
          1311,
          1930,
          460
         ]
        }
       ],
       "layout": {
        "height": 800,
        "legend": {
         "tracegroupgap": 0
        },
        "template": {
         "data": {
          "bar": [
           {
            "error_x": {
             "color": "#2a3f5f"
            },
            "error_y": {
             "color": "#2a3f5f"
            },
            "marker": {
             "line": {
              "color": "#E5ECF6",
              "width": 0.5
             },
             "pattern": {
              "fillmode": "overlay",
              "size": 10,
              "solidity": 0.2
             }
            },
            "type": "bar"
           }
          ],
          "barpolar": [
           {
            "marker": {
             "line": {
              "color": "#E5ECF6",
              "width": 0.5
             },
             "pattern": {
              "fillmode": "overlay",
              "size": 10,
              "solidity": 0.2
             }
            },
            "type": "barpolar"
           }
          ],
          "carpet": [
           {
            "aaxis": {
             "endlinecolor": "#2a3f5f",
             "gridcolor": "white",
             "linecolor": "white",
             "minorgridcolor": "white",
             "startlinecolor": "#2a3f5f"
            },
            "baxis": {
             "endlinecolor": "#2a3f5f",
             "gridcolor": "white",
             "linecolor": "white",
             "minorgridcolor": "white",
             "startlinecolor": "#2a3f5f"
            },
            "type": "carpet"
           }
          ],
          "choropleth": [
           {
            "colorbar": {
             "outlinewidth": 0,
             "ticks": ""
            },
            "type": "choropleth"
           }
          ],
          "contour": [
           {
            "colorbar": {
             "outlinewidth": 0,
             "ticks": ""
            },
            "colorscale": [
             [
              0,
              "#0d0887"
             ],
             [
              0.1111111111111111,
              "#46039f"
             ],
             [
              0.2222222222222222,
              "#7201a8"
             ],
             [
              0.3333333333333333,
              "#9c179e"
             ],
             [
              0.4444444444444444,
              "#bd3786"
             ],
             [
              0.5555555555555556,
              "#d8576b"
             ],
             [
              0.6666666666666666,
              "#ed7953"
             ],
             [
              0.7777777777777778,
              "#fb9f3a"
             ],
             [
              0.8888888888888888,
              "#fdca26"
             ],
             [
              1,
              "#f0f921"
             ]
            ],
            "type": "contour"
           }
          ],
          "contourcarpet": [
           {
            "colorbar": {
             "outlinewidth": 0,
             "ticks": ""
            },
            "type": "contourcarpet"
           }
          ],
          "heatmap": [
           {
            "colorbar": {
             "outlinewidth": 0,
             "ticks": ""
            },
            "colorscale": [
             [
              0,
              "#0d0887"
             ],
             [
              0.1111111111111111,
              "#46039f"
             ],
             [
              0.2222222222222222,
              "#7201a8"
             ],
             [
              0.3333333333333333,
              "#9c179e"
             ],
             [
              0.4444444444444444,
              "#bd3786"
             ],
             [
              0.5555555555555556,
              "#d8576b"
             ],
             [
              0.6666666666666666,
              "#ed7953"
             ],
             [
              0.7777777777777778,
              "#fb9f3a"
             ],
             [
              0.8888888888888888,
              "#fdca26"
             ],
             [
              1,
              "#f0f921"
             ]
            ],
            "type": "heatmap"
           }
          ],
          "heatmapgl": [
           {
            "colorbar": {
             "outlinewidth": 0,
             "ticks": ""
            },
            "colorscale": [
             [
              0,
              "#0d0887"
             ],
             [
              0.1111111111111111,
              "#46039f"
             ],
             [
              0.2222222222222222,
              "#7201a8"
             ],
             [
              0.3333333333333333,
              "#9c179e"
             ],
             [
              0.4444444444444444,
              "#bd3786"
             ],
             [
              0.5555555555555556,
              "#d8576b"
             ],
             [
              0.6666666666666666,
              "#ed7953"
             ],
             [
              0.7777777777777778,
              "#fb9f3a"
             ],
             [
              0.8888888888888888,
              "#fdca26"
             ],
             [
              1,
              "#f0f921"
             ]
            ],
            "type": "heatmapgl"
           }
          ],
          "histogram": [
           {
            "marker": {
             "pattern": {
              "fillmode": "overlay",
              "size": 10,
              "solidity": 0.2
             }
            },
            "type": "histogram"
           }
          ],
          "histogram2d": [
           {
            "colorbar": {
             "outlinewidth": 0,
             "ticks": ""
            },
            "colorscale": [
             [
              0,
              "#0d0887"
             ],
             [
              0.1111111111111111,
              "#46039f"
             ],
             [
              0.2222222222222222,
              "#7201a8"
             ],
             [
              0.3333333333333333,
              "#9c179e"
             ],
             [
              0.4444444444444444,
              "#bd3786"
             ],
             [
              0.5555555555555556,
              "#d8576b"
             ],
             [
              0.6666666666666666,
              "#ed7953"
             ],
             [
              0.7777777777777778,
              "#fb9f3a"
             ],
             [
              0.8888888888888888,
              "#fdca26"
             ],
             [
              1,
              "#f0f921"
             ]
            ],
            "type": "histogram2d"
           }
          ],
          "histogram2dcontour": [
           {
            "colorbar": {
             "outlinewidth": 0,
             "ticks": ""
            },
            "colorscale": [
             [
              0,
              "#0d0887"
             ],
             [
              0.1111111111111111,
              "#46039f"
             ],
             [
              0.2222222222222222,
              "#7201a8"
             ],
             [
              0.3333333333333333,
              "#9c179e"
             ],
             [
              0.4444444444444444,
              "#bd3786"
             ],
             [
              0.5555555555555556,
              "#d8576b"
             ],
             [
              0.6666666666666666,
              "#ed7953"
             ],
             [
              0.7777777777777778,
              "#fb9f3a"
             ],
             [
              0.8888888888888888,
              "#fdca26"
             ],
             [
              1,
              "#f0f921"
             ]
            ],
            "type": "histogram2dcontour"
           }
          ],
          "mesh3d": [
           {
            "colorbar": {
             "outlinewidth": 0,
             "ticks": ""
            },
            "type": "mesh3d"
           }
          ],
          "parcoords": [
           {
            "line": {
             "colorbar": {
              "outlinewidth": 0,
              "ticks": ""
             }
            },
            "type": "parcoords"
           }
          ],
          "pie": [
           {
            "automargin": true,
            "type": "pie"
           }
          ],
          "scatter": [
           {
            "fillpattern": {
             "fillmode": "overlay",
             "size": 10,
             "solidity": 0.2
            },
            "type": "scatter"
           }
          ],
          "scatter3d": [
           {
            "line": {
             "colorbar": {
              "outlinewidth": 0,
              "ticks": ""
             }
            },
            "marker": {
             "colorbar": {
              "outlinewidth": 0,
              "ticks": ""
             }
            },
            "type": "scatter3d"
           }
          ],
          "scattercarpet": [
           {
            "marker": {
             "colorbar": {
              "outlinewidth": 0,
              "ticks": ""
             }
            },
            "type": "scattercarpet"
           }
          ],
          "scattergeo": [
           {
            "marker": {
             "colorbar": {
              "outlinewidth": 0,
              "ticks": ""
             }
            },
            "type": "scattergeo"
           }
          ],
          "scattergl": [
           {
            "marker": {
             "colorbar": {
              "outlinewidth": 0,
              "ticks": ""
             }
            },
            "type": "scattergl"
           }
          ],
          "scattermapbox": [
           {
            "marker": {
             "colorbar": {
              "outlinewidth": 0,
              "ticks": ""
             }
            },
            "type": "scattermapbox"
           }
          ],
          "scatterpolar": [
           {
            "marker": {
             "colorbar": {
              "outlinewidth": 0,
              "ticks": ""
             }
            },
            "type": "scatterpolar"
           }
          ],
          "scatterpolargl": [
           {
            "marker": {
             "colorbar": {
              "outlinewidth": 0,
              "ticks": ""
             }
            },
            "type": "scatterpolargl"
           }
          ],
          "scatterternary": [
           {
            "marker": {
             "colorbar": {
              "outlinewidth": 0,
              "ticks": ""
             }
            },
            "type": "scatterternary"
           }
          ],
          "surface": [
           {
            "colorbar": {
             "outlinewidth": 0,
             "ticks": ""
            },
            "colorscale": [
             [
              0,
              "#0d0887"
             ],
             [
              0.1111111111111111,
              "#46039f"
             ],
             [
              0.2222222222222222,
              "#7201a8"
             ],
             [
              0.3333333333333333,
              "#9c179e"
             ],
             [
              0.4444444444444444,
              "#bd3786"
             ],
             [
              0.5555555555555556,
              "#d8576b"
             ],
             [
              0.6666666666666666,
              "#ed7953"
             ],
             [
              0.7777777777777778,
              "#fb9f3a"
             ],
             [
              0.8888888888888888,
              "#fdca26"
             ],
             [
              1,
              "#f0f921"
             ]
            ],
            "type": "surface"
           }
          ],
          "table": [
           {
            "cells": {
             "fill": {
              "color": "#EBF0F8"
             },
             "line": {
              "color": "white"
             }
            },
            "header": {
             "fill": {
              "color": "#C8D4E3"
             },
             "line": {
              "color": "white"
             }
            },
            "type": "table"
           }
          ]
         },
         "layout": {
          "annotationdefaults": {
           "arrowcolor": "#2a3f5f",
           "arrowhead": 0,
           "arrowwidth": 1
          },
          "autotypenumbers": "strict",
          "coloraxis": {
           "colorbar": {
            "outlinewidth": 0,
            "ticks": ""
           }
          },
          "colorscale": {
           "diverging": [
            [
             0,
             "#8e0152"
            ],
            [
             0.1,
             "#c51b7d"
            ],
            [
             0.2,
             "#de77ae"
            ],
            [
             0.3,
             "#f1b6da"
            ],
            [
             0.4,
             "#fde0ef"
            ],
            [
             0.5,
             "#f7f7f7"
            ],
            [
             0.6,
             "#e6f5d0"
            ],
            [
             0.7,
             "#b8e186"
            ],
            [
             0.8,
             "#7fbc41"
            ],
            [
             0.9,
             "#4d9221"
            ],
            [
             1,
             "#276419"
            ]
           ],
           "sequential": [
            [
             0,
             "#0d0887"
            ],
            [
             0.1111111111111111,
             "#46039f"
            ],
            [
             0.2222222222222222,
             "#7201a8"
            ],
            [
             0.3333333333333333,
             "#9c179e"
            ],
            [
             0.4444444444444444,
             "#bd3786"
            ],
            [
             0.5555555555555556,
             "#d8576b"
            ],
            [
             0.6666666666666666,
             "#ed7953"
            ],
            [
             0.7777777777777778,
             "#fb9f3a"
            ],
            [
             0.8888888888888888,
             "#fdca26"
            ],
            [
             1,
             "#f0f921"
            ]
           ],
           "sequentialminus": [
            [
             0,
             "#0d0887"
            ],
            [
             0.1111111111111111,
             "#46039f"
            ],
            [
             0.2222222222222222,
             "#7201a8"
            ],
            [
             0.3333333333333333,
             "#9c179e"
            ],
            [
             0.4444444444444444,
             "#bd3786"
            ],
            [
             0.5555555555555556,
             "#d8576b"
            ],
            [
             0.6666666666666666,
             "#ed7953"
            ],
            [
             0.7777777777777778,
             "#fb9f3a"
            ],
            [
             0.8888888888888888,
             "#fdca26"
            ],
            [
             1,
             "#f0f921"
            ]
           ]
          },
          "colorway": [
           "#636efa",
           "#EF553B",
           "#00cc96",
           "#ab63fa",
           "#FFA15A",
           "#19d3f3",
           "#FF6692",
           "#B6E880",
           "#FF97FF",
           "#FECB52"
          ],
          "font": {
           "color": "#2a3f5f"
          },
          "geo": {
           "bgcolor": "white",
           "lakecolor": "white",
           "landcolor": "#E5ECF6",
           "showlakes": true,
           "showland": true,
           "subunitcolor": "white"
          },
          "hoverlabel": {
           "align": "left"
          },
          "hovermode": "closest",
          "mapbox": {
           "style": "light"
          },
          "paper_bgcolor": "white",
          "plot_bgcolor": "#E5ECF6",
          "polar": {
           "angularaxis": {
            "gridcolor": "white",
            "linecolor": "white",
            "ticks": ""
           },
           "bgcolor": "#E5ECF6",
           "radialaxis": {
            "gridcolor": "white",
            "linecolor": "white",
            "ticks": ""
           }
          },
          "scene": {
           "xaxis": {
            "backgroundcolor": "#E5ECF6",
            "gridcolor": "white",
            "gridwidth": 2,
            "linecolor": "white",
            "showbackground": true,
            "ticks": "",
            "zerolinecolor": "white"
           },
           "yaxis": {
            "backgroundcolor": "#E5ECF6",
            "gridcolor": "white",
            "gridwidth": 2,
            "linecolor": "white",
            "showbackground": true,
            "ticks": "",
            "zerolinecolor": "white"
           },
           "zaxis": {
            "backgroundcolor": "#E5ECF6",
            "gridcolor": "white",
            "gridwidth": 2,
            "linecolor": "white",
            "showbackground": true,
            "ticks": "",
            "zerolinecolor": "white"
           }
          },
          "shapedefaults": {
           "line": {
            "color": "#2a3f5f"
           }
          },
          "ternary": {
           "aaxis": {
            "gridcolor": "white",
            "linecolor": "white",
            "ticks": ""
           },
           "baxis": {
            "gridcolor": "white",
            "linecolor": "white",
            "ticks": ""
           },
           "bgcolor": "#E5ECF6",
           "caxis": {
            "gridcolor": "white",
            "linecolor": "white",
            "ticks": ""
           }
          },
          "title": {
           "x": 0.05
          },
          "xaxis": {
           "automargin": true,
           "gridcolor": "white",
           "linecolor": "white",
           "ticks": "",
           "title": {
            "standoff": 15
           },
           "zerolinecolor": "white",
           "zerolinewidth": 2
          },
          "yaxis": {
           "automargin": true,
           "gridcolor": "white",
           "linecolor": "white",
           "ticks": "",
           "title": {
            "standoff": 15
           },
           "zerolinecolor": "white",
           "zerolinewidth": 2
          }
         }
        },
        "title": {
         "text": "Geological Distribution within well 15/9-15"
        },
        "width": 800
       }
      },
      "text/html": [
       "<div>                            <div id=\"5078b750-3985-4d84-b052-a8a7cf69b23a\" class=\"plotly-graph-div\" style=\"height:800px; width:800px;\"></div>            <script type=\"text/javascript\">                require([\"plotly\"], function(Plotly) {                    window.PLOTLYENV=window.PLOTLYENV || {};                                    if (document.getElementById(\"5078b750-3985-4d84-b052-a8a7cf69b23a\")) {                    Plotly.newPlot(                        \"5078b750-3985-4d84-b052-a8a7cf69b23a\",                        [{\"branchvalues\":\"total\",\"customdata\":[[\"Shale\"],[\"Shale\"],[\"Chalk\"],[\"Sandstone\\u002fShale\"],[\"Sandstone\\u002fShale\"],[\"Limestone\"],[\"Shale\"],[\"Sandstone\"],[\"Shale\"],[\"Limestone\"],[\"Sandstone\\u002fShale\"],[\"Shale\"],[\"Marl\"],[\"Sandstone\\u002fShale\"],[\"Shale\"],[\"Shale\"],[\"Shale\"],[\"Chalk\"],[\"Shale\"],[\"Sandstone\"],[\"Limestone\"],[\"Limestone\"],[\"Limestone\"],[\"Marl\"],[\"Shale\"],[\"Sandstone\\u002fShale\"],[\"Marl\"],[\"Tuff\"],[\"Limestone\"],[\"Sandstone\"],[\"Limestone\"],[\"Limestone\"],[\"Tuff\"],[\"Sandstone\"],[\"Sandstone\\u002fShale\"],[\"Sandstone\\u002fShale\"],[\"Sandstone\"],[\"Marl\"],[\"Limestone\"],[\"Limestone\"],[\"Limestone\"],[\"Tuff\"],[\"Sandstone\"],[\"Marl\"],[\"Sandstone\\u002fShale\"],[\"(?)\"],[\"(?)\"],[\"(?)\"],[\"(?)\"],[\"(?)\"],[\"(?)\"],[\"(?)\"],[\"(?)\"],[\"(?)\"],[\"(?)\"],[\"(?)\"],[\"(?)\"],[\"(?)\"],[\"(?)\"],[\"(?)\"],[\"(?)\"],[\"(?)\"],[\"(?)\"],[\"(?)\"],[\"(?)\"]],\"domain\":{\"x\":[0.0,1.0],\"y\":[0.0,1.0]},\"hovertemplate\":\"labels=%{label}\\u003cbr\\u003ecount=%{value}\\u003cbr\\u003eparent=%{parent}\\u003cbr\\u003eid=%{id}\\u003cbr\\u003eLITH=%{customdata[0]}\\u003cextra\\u003e\\u003c\\u002fextra\\u003e\",\"ids\":[\"HORDALAND GP.\\u002fFrigg Fm.\\u002fShale\",\"ROGALAND GP.\\u002fSele Fm.\\u002fShale\",\"SHETLAND GP.\\u002fHod Fm.\\u002fChalk\",\"ROGALAND GP.\\u002fLista Fm.\\u002fSandstone\\u002fShale\",\"CROMER KNOLL GP.\\u002fBlodoeks Fm.\\u002fSandstone\\u002fShale\",\"VIKING GP.\\u002fDraupne Fm.\\u002fLimestone\",\"VIKING GP.\\u002fHeather Fm.\\u002fShale\",\"HEGRE GP.\\u002fSkagerrak Fm.\\u002fSandstone\",\"NORDLAND GP.\\u002fUtsira Fm.\\u002fShale\",\"ROGALAND GP.\\u002fSele Fm.\\u002fLimestone\",\"NORDLAND GP.\\u002fUtsira Fm.\\u002fSandstone\\u002fShale\",\"HEGRE GP.\\u002fSkagerrak Fm.\\u002fShale\",\"SHETLAND GP.\\u002fBlodoeks Fm.\\u002fMarl\",\"SHETLAND GP.\\u002fBlodoeks Fm.\\u002fSandstone\\u002fShale\",\"ROGALAND GP.\\u002fLista Fm.\\u002fShale\",\"ROGALAND GP.\\u002fBalder Fm.\\u002fShale\",\"HORDALAND GP.\\u002fUtsira Fm.\\u002fShale\",\"SHETLAND GP.\\u002fTor Fm.\\u002fChalk\",\"CROMER KNOLL GP.\\u002fBlodoeks Fm.\\u002fShale\",\"CROMER KNOLL GP.\\u002fBlodoeks Fm.\\u002fSandstone\",\"HEGRE GP.\\u002fSkagerrak Fm.\\u002fLimestone\",\"ROGALAND GP.\\u002fBalder Fm.\\u002fLimestone\",\"HORDALAND GP.\\u002fFrigg Fm.\\u002fLimestone\",\"SHETLAND GP.\\u002fHod Fm.\\u002fMarl\",\"VIKING GP.\\u002fDraupne Fm.\\u002fShale\",\"HORDALAND GP.\\u002fFrigg Fm.\\u002fSandstone\\u002fShale\",\"ROGALAND GP.\\u002fLista Fm.\\u002fMarl\",\"HORDALAND GP.\\u002fFrigg Fm.\\u002fTuff\",\"SHETLAND GP.\\u002fHod Fm.\\u002fLimestone\",\"SHETLAND GP.\\u002fBlodoeks Fm.\\u002fSandstone\",\"SHETLAND GP.\\u002fTor Fm.\\u002fLimestone\",\"CROMER KNOLL GP.\\u002fBlodoeks Fm.\\u002fLimestone\",\"ROGALAND GP.\\u002fBalder Fm.\\u002fTuff\",\"HORDALAND GP.\\u002fUtsira Fm.\\u002fSandstone\",\"HEGRE GP.\\u002fSkagerrak Fm.\\u002fSandstone\\u002fShale\",\"VIKING GP.\\u002fHeather Fm.\\u002fSandstone\\u002fShale\",\"HORDALAND GP.\\u002fFrigg Fm.\\u002fSandstone\",\"SHETLAND GP.\\u002fTor Fm.\\u002fMarl\",\"HORDALAND GP.\\u002fUtsira Fm.\\u002fLimestone\",\"ROGALAND GP.\\u002fLista Fm.\\u002fLimestone\",\"SHETLAND GP.\\u002fBlodoeks Fm.\\u002fLimestone\",\"ROGALAND GP.\\u002fSele Fm.\\u002fTuff\",\"NORDLAND GP.\\u002fUtsira Fm.\\u002fSandstone\",\"CROMER KNOLL GP.\\u002fBlodoeks Fm.\\u002fMarl\",\"HORDALAND GP.\\u002fUtsira Fm.\\u002fSandstone\\u002fShale\",\"ROGALAND GP.\\u002fBalder Fm.\",\"CROMER KNOLL GP.\\u002fBlodoeks Fm.\",\"SHETLAND GP.\\u002fBlodoeks Fm.\",\"VIKING GP.\\u002fDraupne Fm.\",\"HORDALAND GP.\\u002fFrigg Fm.\",\"VIKING GP.\\u002fHeather Fm.\",\"SHETLAND GP.\\u002fHod Fm.\",\"ROGALAND GP.\\u002fLista Fm.\",\"ROGALAND GP.\\u002fSele Fm.\",\"HEGRE GP.\\u002fSkagerrak Fm.\",\"SHETLAND GP.\\u002fTor Fm.\",\"HORDALAND GP.\\u002fUtsira Fm.\",\"NORDLAND GP.\\u002fUtsira Fm.\",\"CROMER KNOLL GP.\",\"HEGRE GP.\",\"HORDALAND GP.\",\"NORDLAND GP.\",\"ROGALAND GP.\",\"SHETLAND GP.\",\"VIKING GP.\"],\"labels\":[\"Shale\",\"Shale\",\"Chalk\",\"Sandstone\\u002fShale\",\"Sandstone\\u002fShale\",\"Limestone\",\"Shale\",\"Sandstone\",\"Shale\",\"Limestone\",\"Sandstone\\u002fShale\",\"Shale\",\"Marl\",\"Sandstone\\u002fShale\",\"Shale\",\"Shale\",\"Shale\",\"Chalk\",\"Shale\",\"Sandstone\",\"Limestone\",\"Limestone\",\"Limestone\",\"Marl\",\"Shale\",\"Sandstone\\u002fShale\",\"Marl\",\"Tuff\",\"Limestone\",\"Sandstone\",\"Limestone\",\"Limestone\",\"Tuff\",\"Sandstone\",\"Sandstone\\u002fShale\",\"Sandstone\\u002fShale\",\"Sandstone\",\"Marl\",\"Limestone\",\"Limestone\",\"Limestone\",\"Tuff\",\"Sandstone\",\"Marl\",\"Sandstone\\u002fShale\",\"Balder Fm.\",\"Blodoeks Fm.\",\"Blodoeks Fm.\",\"Draupne Fm.\",\"Frigg Fm.\",\"Heather Fm.\",\"Hod Fm.\",\"Lista Fm.\",\"Sele Fm.\",\"Skagerrak Fm.\",\"Tor Fm.\",\"Utsira Fm.\",\"Utsira Fm.\",\"CROMER KNOLL GP.\",\"HEGRE GP.\",\"HORDALAND GP.\",\"NORDLAND GP.\",\"ROGALAND GP.\",\"SHETLAND GP.\",\"VIKING GP.\"],\"marker\":{\"colors\":[\"#636efa\",\"#636efa\",\"#EF553B\",\"#00cc96\",\"#00cc96\",\"#ab63fa\",\"#636efa\",\"#FFA15A\",\"#636efa\",\"#ab63fa\",\"#00cc96\",\"#636efa\",\"#19d3f3\",\"#00cc96\",\"#636efa\",\"#636efa\",\"#636efa\",\"#EF553B\",\"#636efa\",\"#FFA15A\",\"#ab63fa\",\"#ab63fa\",\"#ab63fa\",\"#19d3f3\",\"#636efa\",\"#00cc96\",\"#19d3f3\",\"#FF6692\",\"#ab63fa\",\"#FFA15A\",\"#ab63fa\",\"#ab63fa\",\"#FF6692\",\"#FFA15A\",\"#00cc96\",\"#00cc96\",\"#FFA15A\",\"#19d3f3\",\"#ab63fa\",\"#ab63fa\",\"#ab63fa\",\"#FF6692\",\"#FFA15A\",\"#19d3f3\",\"#00cc96\",\"#B6E880\",\"#B6E880\",\"#B6E880\",\"#B6E880\",\"#B6E880\",\"#B6E880\",\"#B6E880\",\"#B6E880\",\"#B6E880\",\"#B6E880\",\"#B6E880\",\"#B6E880\",\"#B6E880\",\"#B6E880\",\"#B6E880\",\"#B6E880\",\"#B6E880\",\"#B6E880\",\"#B6E880\",\"#B6E880\"]},\"name\":\"\",\"parents\":[\"HORDALAND GP.\\u002fFrigg Fm.\",\"ROGALAND GP.\\u002fSele Fm.\",\"SHETLAND GP.\\u002fHod Fm.\",\"ROGALAND GP.\\u002fLista Fm.\",\"CROMER KNOLL GP.\\u002fBlodoeks Fm.\",\"VIKING GP.\\u002fDraupne Fm.\",\"VIKING GP.\\u002fHeather Fm.\",\"HEGRE GP.\\u002fSkagerrak Fm.\",\"NORDLAND GP.\\u002fUtsira Fm.\",\"ROGALAND GP.\\u002fSele Fm.\",\"NORDLAND GP.\\u002fUtsira Fm.\",\"HEGRE GP.\\u002fSkagerrak Fm.\",\"SHETLAND GP.\\u002fBlodoeks Fm.\",\"SHETLAND GP.\\u002fBlodoeks Fm.\",\"ROGALAND GP.\\u002fLista Fm.\",\"ROGALAND GP.\\u002fBalder Fm.\",\"HORDALAND GP.\\u002fUtsira Fm.\",\"SHETLAND GP.\\u002fTor Fm.\",\"CROMER KNOLL GP.\\u002fBlodoeks Fm.\",\"CROMER KNOLL GP.\\u002fBlodoeks Fm.\",\"HEGRE GP.\\u002fSkagerrak Fm.\",\"ROGALAND GP.\\u002fBalder Fm.\",\"HORDALAND GP.\\u002fFrigg Fm.\",\"SHETLAND GP.\\u002fHod Fm.\",\"VIKING GP.\\u002fDraupne Fm.\",\"HORDALAND GP.\\u002fFrigg Fm.\",\"ROGALAND GP.\\u002fLista Fm.\",\"HORDALAND GP.\\u002fFrigg Fm.\",\"SHETLAND GP.\\u002fHod Fm.\",\"SHETLAND GP.\\u002fBlodoeks Fm.\",\"SHETLAND GP.\\u002fTor Fm.\",\"CROMER KNOLL GP.\\u002fBlodoeks Fm.\",\"ROGALAND GP.\\u002fBalder Fm.\",\"HORDALAND GP.\\u002fUtsira Fm.\",\"HEGRE GP.\\u002fSkagerrak Fm.\",\"VIKING GP.\\u002fHeather Fm.\",\"HORDALAND GP.\\u002fFrigg Fm.\",\"SHETLAND GP.\\u002fTor Fm.\",\"HORDALAND GP.\\u002fUtsira Fm.\",\"ROGALAND GP.\\u002fLista Fm.\",\"SHETLAND GP.\\u002fBlodoeks Fm.\",\"ROGALAND GP.\\u002fSele Fm.\",\"NORDLAND GP.\\u002fUtsira Fm.\",\"CROMER KNOLL GP.\\u002fBlodoeks Fm.\",\"HORDALAND GP.\\u002fUtsira Fm.\",\"ROGALAND GP.\",\"CROMER KNOLL GP.\",\"SHETLAND GP.\",\"VIKING GP.\",\"HORDALAND GP.\",\"VIKING GP.\",\"SHETLAND GP.\",\"ROGALAND GP.\",\"ROGALAND GP.\",\"HEGRE GP.\",\"SHETLAND GP.\",\"HORDALAND GP.\",\"NORDLAND GP.\",\"\",\"\",\"\",\"\",\"\",\"\",\"\"],\"values\":[899,572,1,154,52,9,9,1116,128,7,189,350,192,47,388,25,5618,968,7,27,24,22,62,16,353,12,3,16,367,14,214,4,113,67,983,89,201,55,119,21,56,6,1295,119,104,160,209,309,362,1190,98,384,566,585,2473,1237,5908,1612,209,2473,7098,1612,1311,1930,460],\"type\":\"sunburst\"}],                        {\"template\":{\"data\":{\"histogram2dcontour\":[{\"type\":\"histogram2dcontour\",\"colorbar\":{\"outlinewidth\":0,\"ticks\":\"\"},\"colorscale\":[[0.0,\"#0d0887\"],[0.1111111111111111,\"#46039f\"],[0.2222222222222222,\"#7201a8\"],[0.3333333333333333,\"#9c179e\"],[0.4444444444444444,\"#bd3786\"],[0.5555555555555556,\"#d8576b\"],[0.6666666666666666,\"#ed7953\"],[0.7777777777777778,\"#fb9f3a\"],[0.8888888888888888,\"#fdca26\"],[1.0,\"#f0f921\"]]}],\"choropleth\":[{\"type\":\"choropleth\",\"colorbar\":{\"outlinewidth\":0,\"ticks\":\"\"}}],\"histogram2d\":[{\"type\":\"histogram2d\",\"colorbar\":{\"outlinewidth\":0,\"ticks\":\"\"},\"colorscale\":[[0.0,\"#0d0887\"],[0.1111111111111111,\"#46039f\"],[0.2222222222222222,\"#7201a8\"],[0.3333333333333333,\"#9c179e\"],[0.4444444444444444,\"#bd3786\"],[0.5555555555555556,\"#d8576b\"],[0.6666666666666666,\"#ed7953\"],[0.7777777777777778,\"#fb9f3a\"],[0.8888888888888888,\"#fdca26\"],[1.0,\"#f0f921\"]]}],\"heatmap\":[{\"type\":\"heatmap\",\"colorbar\":{\"outlinewidth\":0,\"ticks\":\"\"},\"colorscale\":[[0.0,\"#0d0887\"],[0.1111111111111111,\"#46039f\"],[0.2222222222222222,\"#7201a8\"],[0.3333333333333333,\"#9c179e\"],[0.4444444444444444,\"#bd3786\"],[0.5555555555555556,\"#d8576b\"],[0.6666666666666666,\"#ed7953\"],[0.7777777777777778,\"#fb9f3a\"],[0.8888888888888888,\"#fdca26\"],[1.0,\"#f0f921\"]]}],\"heatmapgl\":[{\"type\":\"heatmapgl\",\"colorbar\":{\"outlinewidth\":0,\"ticks\":\"\"},\"colorscale\":[[0.0,\"#0d0887\"],[0.1111111111111111,\"#46039f\"],[0.2222222222222222,\"#7201a8\"],[0.3333333333333333,\"#9c179e\"],[0.4444444444444444,\"#bd3786\"],[0.5555555555555556,\"#d8576b\"],[0.6666666666666666,\"#ed7953\"],[0.7777777777777778,\"#fb9f3a\"],[0.8888888888888888,\"#fdca26\"],[1.0,\"#f0f921\"]]}],\"contourcarpet\":[{\"type\":\"contourcarpet\",\"colorbar\":{\"outlinewidth\":0,\"ticks\":\"\"}}],\"contour\":[{\"type\":\"contour\",\"colorbar\":{\"outlinewidth\":0,\"ticks\":\"\"},\"colorscale\":[[0.0,\"#0d0887\"],[0.1111111111111111,\"#46039f\"],[0.2222222222222222,\"#7201a8\"],[0.3333333333333333,\"#9c179e\"],[0.4444444444444444,\"#bd3786\"],[0.5555555555555556,\"#d8576b\"],[0.6666666666666666,\"#ed7953\"],[0.7777777777777778,\"#fb9f3a\"],[0.8888888888888888,\"#fdca26\"],[1.0,\"#f0f921\"]]}],\"surface\":[{\"type\":\"surface\",\"colorbar\":{\"outlinewidth\":0,\"ticks\":\"\"},\"colorscale\":[[0.0,\"#0d0887\"],[0.1111111111111111,\"#46039f\"],[0.2222222222222222,\"#7201a8\"],[0.3333333333333333,\"#9c179e\"],[0.4444444444444444,\"#bd3786\"],[0.5555555555555556,\"#d8576b\"],[0.6666666666666666,\"#ed7953\"],[0.7777777777777778,\"#fb9f3a\"],[0.8888888888888888,\"#fdca26\"],[1.0,\"#f0f921\"]]}],\"mesh3d\":[{\"type\":\"mesh3d\",\"colorbar\":{\"outlinewidth\":0,\"ticks\":\"\"}}],\"scatter\":[{\"fillpattern\":{\"fillmode\":\"overlay\",\"size\":10,\"solidity\":0.2},\"type\":\"scatter\"}],\"parcoords\":[{\"type\":\"parcoords\",\"line\":{\"colorbar\":{\"outlinewidth\":0,\"ticks\":\"\"}}}],\"scatterpolargl\":[{\"type\":\"scatterpolargl\",\"marker\":{\"colorbar\":{\"outlinewidth\":0,\"ticks\":\"\"}}}],\"bar\":[{\"error_x\":{\"color\":\"#2a3f5f\"},\"error_y\":{\"color\":\"#2a3f5f\"},\"marker\":{\"line\":{\"color\":\"#E5ECF6\",\"width\":0.5},\"pattern\":{\"fillmode\":\"overlay\",\"size\":10,\"solidity\":0.2}},\"type\":\"bar\"}],\"scattergeo\":[{\"type\":\"scattergeo\",\"marker\":{\"colorbar\":{\"outlinewidth\":0,\"ticks\":\"\"}}}],\"scatterpolar\":[{\"type\":\"scatterpolar\",\"marker\":{\"colorbar\":{\"outlinewidth\":0,\"ticks\":\"\"}}}],\"histogram\":[{\"marker\":{\"pattern\":{\"fillmode\":\"overlay\",\"size\":10,\"solidity\":0.2}},\"type\":\"histogram\"}],\"scattergl\":[{\"type\":\"scattergl\",\"marker\":{\"colorbar\":{\"outlinewidth\":0,\"ticks\":\"\"}}}],\"scatter3d\":[{\"type\":\"scatter3d\",\"line\":{\"colorbar\":{\"outlinewidth\":0,\"ticks\":\"\"}},\"marker\":{\"colorbar\":{\"outlinewidth\":0,\"ticks\":\"\"}}}],\"scattermapbox\":[{\"type\":\"scattermapbox\",\"marker\":{\"colorbar\":{\"outlinewidth\":0,\"ticks\":\"\"}}}],\"scatterternary\":[{\"type\":\"scatterternary\",\"marker\":{\"colorbar\":{\"outlinewidth\":0,\"ticks\":\"\"}}}],\"scattercarpet\":[{\"type\":\"scattercarpet\",\"marker\":{\"colorbar\":{\"outlinewidth\":0,\"ticks\":\"\"}}}],\"carpet\":[{\"aaxis\":{\"endlinecolor\":\"#2a3f5f\",\"gridcolor\":\"white\",\"linecolor\":\"white\",\"minorgridcolor\":\"white\",\"startlinecolor\":\"#2a3f5f\"},\"baxis\":{\"endlinecolor\":\"#2a3f5f\",\"gridcolor\":\"white\",\"linecolor\":\"white\",\"minorgridcolor\":\"white\",\"startlinecolor\":\"#2a3f5f\"},\"type\":\"carpet\"}],\"table\":[{\"cells\":{\"fill\":{\"color\":\"#EBF0F8\"},\"line\":{\"color\":\"white\"}},\"header\":{\"fill\":{\"color\":\"#C8D4E3\"},\"line\":{\"color\":\"white\"}},\"type\":\"table\"}],\"barpolar\":[{\"marker\":{\"line\":{\"color\":\"#E5ECF6\",\"width\":0.5},\"pattern\":{\"fillmode\":\"overlay\",\"size\":10,\"solidity\":0.2}},\"type\":\"barpolar\"}],\"pie\":[{\"automargin\":true,\"type\":\"pie\"}]},\"layout\":{\"autotypenumbers\":\"strict\",\"colorway\":[\"#636efa\",\"#EF553B\",\"#00cc96\",\"#ab63fa\",\"#FFA15A\",\"#19d3f3\",\"#FF6692\",\"#B6E880\",\"#FF97FF\",\"#FECB52\"],\"font\":{\"color\":\"#2a3f5f\"},\"hovermode\":\"closest\",\"hoverlabel\":{\"align\":\"left\"},\"paper_bgcolor\":\"white\",\"plot_bgcolor\":\"#E5ECF6\",\"polar\":{\"bgcolor\":\"#E5ECF6\",\"angularaxis\":{\"gridcolor\":\"white\",\"linecolor\":\"white\",\"ticks\":\"\"},\"radialaxis\":{\"gridcolor\":\"white\",\"linecolor\":\"white\",\"ticks\":\"\"}},\"ternary\":{\"bgcolor\":\"#E5ECF6\",\"aaxis\":{\"gridcolor\":\"white\",\"linecolor\":\"white\",\"ticks\":\"\"},\"baxis\":{\"gridcolor\":\"white\",\"linecolor\":\"white\",\"ticks\":\"\"},\"caxis\":{\"gridcolor\":\"white\",\"linecolor\":\"white\",\"ticks\":\"\"}},\"coloraxis\":{\"colorbar\":{\"outlinewidth\":0,\"ticks\":\"\"}},\"colorscale\":{\"sequential\":[[0.0,\"#0d0887\"],[0.1111111111111111,\"#46039f\"],[0.2222222222222222,\"#7201a8\"],[0.3333333333333333,\"#9c179e\"],[0.4444444444444444,\"#bd3786\"],[0.5555555555555556,\"#d8576b\"],[0.6666666666666666,\"#ed7953\"],[0.7777777777777778,\"#fb9f3a\"],[0.8888888888888888,\"#fdca26\"],[1.0,\"#f0f921\"]],\"sequentialminus\":[[0.0,\"#0d0887\"],[0.1111111111111111,\"#46039f\"],[0.2222222222222222,\"#7201a8\"],[0.3333333333333333,\"#9c179e\"],[0.4444444444444444,\"#bd3786\"],[0.5555555555555556,\"#d8576b\"],[0.6666666666666666,\"#ed7953\"],[0.7777777777777778,\"#fb9f3a\"],[0.8888888888888888,\"#fdca26\"],[1.0,\"#f0f921\"]],\"diverging\":[[0,\"#8e0152\"],[0.1,\"#c51b7d\"],[0.2,\"#de77ae\"],[0.3,\"#f1b6da\"],[0.4,\"#fde0ef\"],[0.5,\"#f7f7f7\"],[0.6,\"#e6f5d0\"],[0.7,\"#b8e186\"],[0.8,\"#7fbc41\"],[0.9,\"#4d9221\"],[1,\"#276419\"]]},\"xaxis\":{\"gridcolor\":\"white\",\"linecolor\":\"white\",\"ticks\":\"\",\"title\":{\"standoff\":15},\"zerolinecolor\":\"white\",\"automargin\":true,\"zerolinewidth\":2},\"yaxis\":{\"gridcolor\":\"white\",\"linecolor\":\"white\",\"ticks\":\"\",\"title\":{\"standoff\":15},\"zerolinecolor\":\"white\",\"automargin\":true,\"zerolinewidth\":2},\"scene\":{\"xaxis\":{\"backgroundcolor\":\"#E5ECF6\",\"gridcolor\":\"white\",\"linecolor\":\"white\",\"showbackground\":true,\"ticks\":\"\",\"zerolinecolor\":\"white\",\"gridwidth\":2},\"yaxis\":{\"backgroundcolor\":\"#E5ECF6\",\"gridcolor\":\"white\",\"linecolor\":\"white\",\"showbackground\":true,\"ticks\":\"\",\"zerolinecolor\":\"white\",\"gridwidth\":2},\"zaxis\":{\"backgroundcolor\":\"#E5ECF6\",\"gridcolor\":\"white\",\"linecolor\":\"white\",\"showbackground\":true,\"ticks\":\"\",\"zerolinecolor\":\"white\",\"gridwidth\":2}},\"shapedefaults\":{\"line\":{\"color\":\"#2a3f5f\"}},\"annotationdefaults\":{\"arrowcolor\":\"#2a3f5f\",\"arrowhead\":0,\"arrowwidth\":1},\"geo\":{\"bgcolor\":\"white\",\"landcolor\":\"#E5ECF6\",\"subunitcolor\":\"white\",\"showland\":true,\"showlakes\":true,\"lakecolor\":\"white\"},\"title\":{\"x\":0.05},\"mapbox\":{\"style\":\"light\"}}},\"legend\":{\"tracegroupgap\":0},\"title\":{\"text\":\"Geological Distribution within well 15\\u002f9-15\"},\"height\":800,\"width\":800},                        {\"responsive\": true}                    ).then(function(){\n",
       "                            \n",
       "var gd = document.getElementById('5078b750-3985-4d84-b052-a8a7cf69b23a');\n",
       "var x = new MutationObserver(function (mutations, observer) {{\n",
       "        var display = window.getComputedStyle(gd).display;\n",
       "        if (!display || display === 'none') {{\n",
       "            console.log([gd, 'removed!']);\n",
       "            Plotly.purge(gd);\n",
       "            observer.disconnect();\n",
       "        }}\n",
       "}});\n",
       "\n",
       "// Listen for the removal of the full notebook cells\n",
       "var notebookContainer = gd.closest('#notebook-container');\n",
       "if (notebookContainer) {{\n",
       "    x.observe(notebookContainer, {childList: true});\n",
       "}}\n",
       "\n",
       "// Listen for the clearing of the current output cell\n",
       "var outputEl = gd.closest('.output');\n",
       "if (outputEl) {{\n",
       "    x.observe(outputEl, {childList: true});\n",
       "}}\n",
       "\n",
       "                        })                };                });            </script>        </div>"
      ]
     },
     "metadata": {},
     "output_type": "display_data"
    }
   ],
   "source": [
    "fig = px.sunburst(\n",
    "    grouped_data,\n",
    "    path=[\"GROUP\", \"FORMATION\", \"LITH\"],\n",
    "    values='count',\n",
    "    title=\"Geological Distribution within well 15/9-15\",\n",
    "    width=800, \n",
    "    height=800,\n",
    "    color='LITH',\n",
    ")\n",
    "fig.show()"
   ]
  },
  {
   "cell_type": "code",
   "execution_count": null,
   "id": "fa4c9495",
   "metadata": {},
   "outputs": [],
   "source": []
  }
 ],
 "metadata": {
  "kernelspec": {
   "display_name": "Python 3 (ipykernel)",
   "language": "python",
   "name": "python3"
  },
  "language_info": {
   "codemirror_mode": {
    "name": "ipython",
    "version": 3
   },
   "file_extension": ".py",
   "mimetype": "text/x-python",
   "name": "python",
   "nbconvert_exporter": "python",
   "pygments_lexer": "ipython3",
   "version": "3.11.3"
  }
 },
 "nbformat": 4,
 "nbformat_minor": 5
}
