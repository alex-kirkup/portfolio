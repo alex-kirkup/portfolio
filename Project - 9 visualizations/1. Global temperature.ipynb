{
 "cells": [
  {
   "cell_type": "markdown",
   "id": "ac8382a2",
   "metadata": {},
   "source": [
    "# An interactive line graph showing differences in global temperature from the 1961-1990 average using Plotly Express\n",
    "\n",
    "Inspired by a graph I saw at [Our World in Data](https://ourworldindata.org/), this visualization will show the upward trend in global temperatures from 1850 to 2022. \n",
    "\n",
    "I have employed Plotly Express and used a number of its features to make the graph interactive so that it can be used both to see the trends but also to explore the results without having to look up values in the original tabular form.\n",
    "\n",
    "The data is sourced from [NASA and the Goddard Institute for Space Studies (GISS)](https://data.giss.nasa.gov/gistemp/).\n",
    "\n",
    "### Import the data"
   ]
  },
  {
   "cell_type": "code",
   "execution_count": 1,
   "id": "e9c08e67",
   "metadata": {},
   "outputs": [
    {
     "name": "stdout",
     "output_type": "stream",
     "text": [
      "Requirement already satisfied: plotly in c:\\users\\akirkup\\conda_trial_project\\env\\lib\\site-packages (5.15.0)\n",
      "Requirement already satisfied: tenacity>=6.2.0 in c:\\users\\akirkup\\conda_trial_project\\env\\lib\\site-packages (from plotly) (8.2.2)\n",
      "Requirement already satisfied: packaging in c:\\users\\akirkup\\conda_trial_project\\env\\lib\\site-packages (from plotly) (23.0)\n"
     ]
    }
   ],
   "source": [
    "# begin with installing Plotly\n",
    "!pip install plotly"
   ]
  },
  {
   "cell_type": "code",
   "execution_count": 2,
   "id": "26fc58b1",
   "metadata": {},
   "outputs": [],
   "source": [
    "# basic imports\n",
    "import pandas as pd\n",
    "import plotly.express as px"
   ]
  },
  {
   "cell_type": "code",
   "execution_count": 68,
   "id": "7588ee81",
   "metadata": {},
   "outputs": [
    {
     "data": {
      "text/html": [
       "<div>\n",
       "<style scoped>\n",
       "    .dataframe tbody tr th:only-of-type {\n",
       "        vertical-align: middle;\n",
       "    }\n",
       "\n",
       "    .dataframe tbody tr th {\n",
       "        vertical-align: top;\n",
       "    }\n",
       "\n",
       "    .dataframe thead th {\n",
       "        text-align: right;\n",
       "    }\n",
       "</style>\n",
       "<table border=\"1\" class=\"dataframe\">\n",
       "  <thead>\n",
       "    <tr style=\"text-align: right;\">\n",
       "      <th></th>\n",
       "      <th>Entity</th>\n",
       "      <th>Code</th>\n",
       "      <th>Year</th>\n",
       "      <th>Global average temperature anomaly relative to 1961-1990</th>\n",
       "      <th>Upper bound (95% confidence interval) of the annual temperature anomaly</th>\n",
       "      <th>Lower bound (95% confidence interval) of the annual temperature anomaly</th>\n",
       "    </tr>\n",
       "  </thead>\n",
       "  <tbody>\n",
       "    <tr>\n",
       "      <th>0</th>\n",
       "      <td>Global</td>\n",
       "      <td>NaN</td>\n",
       "      <td>1850</td>\n",
       "      <td>-0.417659</td>\n",
       "      <td>-0.246115</td>\n",
       "      <td>-0.589203</td>\n",
       "    </tr>\n",
       "    <tr>\n",
       "      <th>1</th>\n",
       "      <td>Global</td>\n",
       "      <td>NaN</td>\n",
       "      <td>1851</td>\n",
       "      <td>-0.233350</td>\n",
       "      <td>-0.054832</td>\n",
       "      <td>-0.411868</td>\n",
       "    </tr>\n",
       "    <tr>\n",
       "      <th>2</th>\n",
       "      <td>Global</td>\n",
       "      <td>NaN</td>\n",
       "      <td>1852</td>\n",
       "      <td>-0.229399</td>\n",
       "      <td>-0.049416</td>\n",
       "      <td>-0.409382</td>\n",
       "    </tr>\n",
       "    <tr>\n",
       "      <th>3</th>\n",
       "      <td>Global</td>\n",
       "      <td>NaN</td>\n",
       "      <td>1853</td>\n",
       "      <td>-0.270354</td>\n",
       "      <td>-0.110700</td>\n",
       "      <td>-0.430009</td>\n",
       "    </tr>\n",
       "    <tr>\n",
       "      <th>4</th>\n",
       "      <td>Global</td>\n",
       "      <td>NaN</td>\n",
       "      <td>1854</td>\n",
       "      <td>-0.291630</td>\n",
       "      <td>-0.150436</td>\n",
       "      <td>-0.432824</td>\n",
       "    </tr>\n",
       "  </tbody>\n",
       "</table>\n",
       "</div>"
      ],
      "text/plain": [
       "   Entity  Code  Year  \\\n",
       "0  Global   NaN  1850   \n",
       "1  Global   NaN  1851   \n",
       "2  Global   NaN  1852   \n",
       "3  Global   NaN  1853   \n",
       "4  Global   NaN  1854   \n",
       "\n",
       "   Global average temperature anomaly relative to 1961-1990  \\\n",
       "0                                          -0.417659          \n",
       "1                                          -0.233350          \n",
       "2                                          -0.229399          \n",
       "3                                          -0.270354          \n",
       "4                                          -0.291630          \n",
       "\n",
       "   Upper bound (95% confidence interval) of the annual temperature anomaly  \\\n",
       "0                                          -0.246115                         \n",
       "1                                          -0.054832                         \n",
       "2                                          -0.049416                         \n",
       "3                                          -0.110700                         \n",
       "4                                          -0.150436                         \n",
       "\n",
       "   Lower bound (95% confidence interval) of the annual temperature anomaly  \n",
       "0                                          -0.589203                        \n",
       "1                                          -0.411868                        \n",
       "2                                          -0.409382                        \n",
       "3                                          -0.430009                        \n",
       "4                                          -0.432824                        "
      ]
     },
     "execution_count": 68,
     "metadata": {},
     "output_type": "execute_result"
    }
   ],
   "source": [
    "# read the csv data\n",
    "df = pd.read_csv('data/temperature-anomaly.csv')\n",
    "df.head()"
   ]
  },
  {
   "cell_type": "markdown",
   "id": "9d50bc29",
   "metadata": {},
   "source": [
    "### EDA and data preparation"
   ]
  },
  {
   "cell_type": "code",
   "execution_count": 69,
   "id": "18af1a48",
   "metadata": {},
   "outputs": [
    {
     "name": "stdout",
     "output_type": "stream",
     "text": [
      "<class 'pandas.core.frame.DataFrame'>\n",
      "RangeIndex: 519 entries, 0 to 518\n",
      "Data columns (total 6 columns):\n",
      " #   Column                                                                   Non-Null Count  Dtype  \n",
      "---  ------                                                                   --------------  -----  \n",
      " 0   Entity                                                                   519 non-null    object \n",
      " 1   Code                                                                     0 non-null      float64\n",
      " 2   Year                                                                     519 non-null    int64  \n",
      " 3   Global average temperature anomaly relative to 1961-1990                 519 non-null    float64\n",
      " 4   Upper bound (95% confidence interval) of the annual temperature anomaly  519 non-null    float64\n",
      " 5   Lower bound (95% confidence interval) of the annual temperature anomaly  519 non-null    float64\n",
      "dtypes: float64(4), int64(1), object(1)\n",
      "memory usage: 24.5+ KB\n"
     ]
    }
   ],
   "source": [
    "# begin the EDA\n",
    "df.info()"
   ]
  },
  {
   "cell_type": "markdown",
   "id": "d69f4163",
   "metadata": {},
   "source": [
    "It is nice to see no missing values except the *Code* field which seems unused."
   ]
  },
  {
   "cell_type": "code",
   "execution_count": 70,
   "id": "b17477c6",
   "metadata": {},
   "outputs": [
    {
     "name": "stdout",
     "output_type": "stream",
     "text": [
      "<class 'pandas.core.frame.DataFrame'>\n",
      "RangeIndex: 519 entries, 0 to 518\n",
      "Data columns (total 5 columns):\n",
      " #   Column                                                                   Non-Null Count  Dtype  \n",
      "---  ------                                                                   --------------  -----  \n",
      " 0   Entity                                                                   519 non-null    object \n",
      " 1   Year                                                                     519 non-null    int64  \n",
      " 2   Global average temperature anomaly relative to 1961-1990                 519 non-null    float64\n",
      " 3   Upper bound (95% confidence interval) of the annual temperature anomaly  519 non-null    float64\n",
      " 4   Lower bound (95% confidence interval) of the annual temperature anomaly  519 non-null    float64\n",
      "dtypes: float64(3), int64(1), object(1)\n",
      "memory usage: 20.4+ KB\n"
     ]
    }
   ],
   "source": [
    "# drop Code which holds no data (0 non-null rows)\n",
    "df = df.drop(columns=['Code'])\n",
    "df.info()"
   ]
  },
  {
   "cell_type": "code",
   "execution_count": 71,
   "id": "2e68b3d6",
   "metadata": {},
   "outputs": [
    {
     "data": {
      "text/plain": [
       "(519, 5)"
      ]
     },
     "execution_count": 71,
     "metadata": {},
     "output_type": "execute_result"
    }
   ],
   "source": [
    "df.shape"
   ]
  },
  {
   "cell_type": "code",
   "execution_count": 72,
   "id": "0e495ccb",
   "metadata": {},
   "outputs": [
    {
     "data": {
      "text/plain": [
       "array(['Global', 'Northern Hemisphere', 'Southern Hemisphere'],\n",
       "      dtype=object)"
      ]
     },
     "execution_count": 72,
     "metadata": {},
     "output_type": "execute_result"
    }
   ],
   "source": [
    "# 519 rows, but are they all 'Global'?\n",
    "df['Entity'].unique()"
   ]
  },
  {
   "cell_type": "code",
   "execution_count": 77,
   "id": "189be4a0",
   "metadata": {},
   "outputs": [
    {
     "data": {
      "text/plain": [
       "(173, 5)"
      ]
     },
     "execution_count": 77,
     "metadata": {},
     "output_type": "execute_result"
    }
   ],
   "source": [
    "# no, so let's filter for 'Global' only\n",
    "df_global = df.loc[df['Entity']=='Global']\n",
    "df_global.shape"
   ]
  },
  {
   "cell_type": "markdown",
   "id": "383826d0",
   "metadata": {},
   "source": [
    "### Basic line graph using Plotly Express"
   ]
  },
  {
   "cell_type": "code",
   "execution_count": 74,
   "id": "5160b37b",
   "metadata": {},
   "outputs": [
    {
     "data": {
      "application/vnd.plotly.v1+json": {
       "config": {
        "plotlyServerURL": "https://plot.ly"
       },
       "data": [
        {
         "hovertemplate": "Year=%{x}<br>Global average temperature anomaly relative to 1961-1990=%{y}<extra></extra>",
         "legendgroup": "",
         "line": {
          "color": "#636efa",
          "dash": "solid"
         },
         "marker": {
          "symbol": "circle"
         },
         "mode": "lines",
         "name": "",
         "orientation": "v",
         "showlegend": false,
         "type": "scatter",
         "x": [
          1850,
          1851,
          1852,
          1853,
          1854,
          1855,
          1856,
          1857,
          1858,
          1859,
          1860,
          1861,
          1862,
          1863,
          1864,
          1865,
          1866,
          1867,
          1868,
          1869,
          1870,
          1871,
          1872,
          1873,
          1874,
          1875,
          1876,
          1877,
          1878,
          1879,
          1880,
          1881,
          1882,
          1883,
          1884,
          1885,
          1886,
          1887,
          1888,
          1889,
          1890,
          1891,
          1892,
          1893,
          1894,
          1895,
          1896,
          1897,
          1898,
          1899,
          1900,
          1901,
          1902,
          1903,
          1904,
          1905,
          1906,
          1907,
          1908,
          1909,
          1910,
          1911,
          1912,
          1913,
          1914,
          1915,
          1916,
          1917,
          1918,
          1919,
          1920,
          1921,
          1922,
          1923,
          1924,
          1925,
          1926,
          1927,
          1928,
          1929,
          1930,
          1931,
          1932,
          1933,
          1934,
          1935,
          1936,
          1937,
          1938,
          1939,
          1940,
          1941,
          1942,
          1943,
          1944,
          1945,
          1946,
          1947,
          1948,
          1949,
          1950,
          1951,
          1952,
          1953,
          1954,
          1955,
          1956,
          1957,
          1958,
          1959,
          1960,
          1961,
          1962,
          1963,
          1964,
          1965,
          1966,
          1967,
          1968,
          1969,
          1970,
          1971,
          1972,
          1973,
          1974,
          1975,
          1976,
          1977,
          1978,
          1979,
          1980,
          1981,
          1982,
          1983,
          1984,
          1985,
          1986,
          1987,
          1988,
          1989,
          1990,
          1991,
          1992,
          1993,
          1994,
          1995,
          1996,
          1997,
          1998,
          1999,
          2000,
          2001,
          2002,
          2003,
          2004,
          2005,
          2006,
          2007,
          2008,
          2009,
          2010,
          2011,
          2012,
          2013,
          2014,
          2015,
          2016,
          2017,
          2018,
          2019,
          2020,
          2021,
          2022
         ],
         "xaxis": "x",
         "y": [
          -0.41765878,
          -0.2333498,
          -0.22939907,
          -0.27035445,
          -0.29163003,
          -0.2969512,
          -0.32035372,
          -0.46723005,
          -0.3887657,
          -0.28119546,
          -0.39016518,
          -0.42927712,
          -0.53639776,
          -0.3443432,
          -0.4654367,
          -0.33258784,
          -0.34126064,
          -0.35696334,
          -0.35196072,
          -0.31657043,
          -0.32789087,
          -0.3685807,
          -0.32804197,
          -0.34133235,
          -0.3732512,
          -0.37562594,
          -0.42410994,
          -0.101108834,
          -0.011315193,
          -0.30363432,
          -0.31583208,
          -0.23224552,
          -0.29553008,
          -0.3464744,
          -0.49232006,
          -0.47112358,
          -0.42090362,
          -0.49878576,
          -0.37937889,
          -0.24989556,
          -0.50685817,
          -0.40131494,
          -0.5075585,
          -0.49461925,
          -0.48376393,
          -0.4487516,
          -0.28400728,
          -0.25980017,
          -0.48579213,
          -0.35543364,
          -0.23447904,
          -0.29342857,
          -0.43898427,
          -0.5333264,
          -0.5975614,
          -0.40775132,
          -0.3191393,
          -0.5041577,
          -0.5138707,
          -0.5357649,
          -0.5310242,
          -0.5392051,
          -0.47567302,
          -0.46715254,
          -0.2625924,
          -0.19184391,
          -0.42020997,
          -0.54301953,
          -0.42458433,
          -0.32551822,
          -0.2985808,
          -0.24067703,
          -0.33922812,
          -0.31793055,
          -0.3120622,
          -0.28242525,
          -0.12283547,
          -0.22940508,
          -0.20676155,
          -0.39275664,
          -0.1768054,
          -0.10339768,
          -0.14546166,
          -0.32234442,
          -0.17433685,
          -0.20605922,
          -0.16952093,
          -0.01919893,
          -0.012200732,
          -0.040797167,
          0.07593584,
          0.038129337,
          0.001406091,
          0.006414075,
          0.14410514,
          0.043088365,
          -0.1188128,
          -0.091205545,
          -0.12466127,
          -0.14380224,
          -0.22662179,
          -0.06115397,
          0.015354565,
          0.07763074,
          -0.11675021,
          -0.19730993,
          -0.2631656,
          -0.035334926,
          -0.017632553,
          -0.048004825,
          -0.115487024,
          -0.019997388,
          -0.06405444,
          -0.03680589,
          -0.30586675,
          -0.2043879,
          -0.14888458,
          -0.11751631,
          -0.1686323,
          -0.031366713,
          -0.08510657,
          -0.20593274,
          -0.0938271,
          0.04993336,
          -0.17253734,
          -0.11075424,
          -0.21586166,
          0.10308852,
          0.005255772,
          0.09085813,
          0.19607207,
          0.25001204,
          0.034263328,
          0.22383861,
          0.04800471,
          0.04972978,
          0.09568697,
          0.2430264,
          0.28215173,
          0.17925027,
          0.36056247,
          0.33889654,
          0.124896795,
          0.16565846,
          0.23354977,
          0.37686616,
          0.2766894,
          0.4223085,
          0.57731646,
          0.32448497,
          0.3310848,
          0.48928034,
          0.5434665,
          0.5441702,
          0.46737072,
          0.60686255,
          0.5725527,
          0.5917013,
          0.46564984,
          0.5967817,
          0.68037146,
          0.53769773,
          0.5776071,
          0.6235754,
          0.67287165,
          0.82511437,
          0.93292713,
          0.84517425,
          0.762654,
          0.8910726,
          0.9227938,
          0.7618559,
          0.80124223
         ],
         "yaxis": "y"
        }
       ],
       "layout": {
        "legend": {
         "tracegroupgap": 0
        },
        "template": {
         "data": {
          "bar": [
           {
            "error_x": {
             "color": "#2a3f5f"
            },
            "error_y": {
             "color": "#2a3f5f"
            },
            "marker": {
             "line": {
              "color": "#E5ECF6",
              "width": 0.5
             },
             "pattern": {
              "fillmode": "overlay",
              "size": 10,
              "solidity": 0.2
             }
            },
            "type": "bar"
           }
          ],
          "barpolar": [
           {
            "marker": {
             "line": {
              "color": "#E5ECF6",
              "width": 0.5
             },
             "pattern": {
              "fillmode": "overlay",
              "size": 10,
              "solidity": 0.2
             }
            },
            "type": "barpolar"
           }
          ],
          "carpet": [
           {
            "aaxis": {
             "endlinecolor": "#2a3f5f",
             "gridcolor": "white",
             "linecolor": "white",
             "minorgridcolor": "white",
             "startlinecolor": "#2a3f5f"
            },
            "baxis": {
             "endlinecolor": "#2a3f5f",
             "gridcolor": "white",
             "linecolor": "white",
             "minorgridcolor": "white",
             "startlinecolor": "#2a3f5f"
            },
            "type": "carpet"
           }
          ],
          "choropleth": [
           {
            "colorbar": {
             "outlinewidth": 0,
             "ticks": ""
            },
            "type": "choropleth"
           }
          ],
          "contour": [
           {
            "colorbar": {
             "outlinewidth": 0,
             "ticks": ""
            },
            "colorscale": [
             [
              0,
              "#0d0887"
             ],
             [
              0.1111111111111111,
              "#46039f"
             ],
             [
              0.2222222222222222,
              "#7201a8"
             ],
             [
              0.3333333333333333,
              "#9c179e"
             ],
             [
              0.4444444444444444,
              "#bd3786"
             ],
             [
              0.5555555555555556,
              "#d8576b"
             ],
             [
              0.6666666666666666,
              "#ed7953"
             ],
             [
              0.7777777777777778,
              "#fb9f3a"
             ],
             [
              0.8888888888888888,
              "#fdca26"
             ],
             [
              1,
              "#f0f921"
             ]
            ],
            "type": "contour"
           }
          ],
          "contourcarpet": [
           {
            "colorbar": {
             "outlinewidth": 0,
             "ticks": ""
            },
            "type": "contourcarpet"
           }
          ],
          "heatmap": [
           {
            "colorbar": {
             "outlinewidth": 0,
             "ticks": ""
            },
            "colorscale": [
             [
              0,
              "#0d0887"
             ],
             [
              0.1111111111111111,
              "#46039f"
             ],
             [
              0.2222222222222222,
              "#7201a8"
             ],
             [
              0.3333333333333333,
              "#9c179e"
             ],
             [
              0.4444444444444444,
              "#bd3786"
             ],
             [
              0.5555555555555556,
              "#d8576b"
             ],
             [
              0.6666666666666666,
              "#ed7953"
             ],
             [
              0.7777777777777778,
              "#fb9f3a"
             ],
             [
              0.8888888888888888,
              "#fdca26"
             ],
             [
              1,
              "#f0f921"
             ]
            ],
            "type": "heatmap"
           }
          ],
          "heatmapgl": [
           {
            "colorbar": {
             "outlinewidth": 0,
             "ticks": ""
            },
            "colorscale": [
             [
              0,
              "#0d0887"
             ],
             [
              0.1111111111111111,
              "#46039f"
             ],
             [
              0.2222222222222222,
              "#7201a8"
             ],
             [
              0.3333333333333333,
              "#9c179e"
             ],
             [
              0.4444444444444444,
              "#bd3786"
             ],
             [
              0.5555555555555556,
              "#d8576b"
             ],
             [
              0.6666666666666666,
              "#ed7953"
             ],
             [
              0.7777777777777778,
              "#fb9f3a"
             ],
             [
              0.8888888888888888,
              "#fdca26"
             ],
             [
              1,
              "#f0f921"
             ]
            ],
            "type": "heatmapgl"
           }
          ],
          "histogram": [
           {
            "marker": {
             "pattern": {
              "fillmode": "overlay",
              "size": 10,
              "solidity": 0.2
             }
            },
            "type": "histogram"
           }
          ],
          "histogram2d": [
           {
            "colorbar": {
             "outlinewidth": 0,
             "ticks": ""
            },
            "colorscale": [
             [
              0,
              "#0d0887"
             ],
             [
              0.1111111111111111,
              "#46039f"
             ],
             [
              0.2222222222222222,
              "#7201a8"
             ],
             [
              0.3333333333333333,
              "#9c179e"
             ],
             [
              0.4444444444444444,
              "#bd3786"
             ],
             [
              0.5555555555555556,
              "#d8576b"
             ],
             [
              0.6666666666666666,
              "#ed7953"
             ],
             [
              0.7777777777777778,
              "#fb9f3a"
             ],
             [
              0.8888888888888888,
              "#fdca26"
             ],
             [
              1,
              "#f0f921"
             ]
            ],
            "type": "histogram2d"
           }
          ],
          "histogram2dcontour": [
           {
            "colorbar": {
             "outlinewidth": 0,
             "ticks": ""
            },
            "colorscale": [
             [
              0,
              "#0d0887"
             ],
             [
              0.1111111111111111,
              "#46039f"
             ],
             [
              0.2222222222222222,
              "#7201a8"
             ],
             [
              0.3333333333333333,
              "#9c179e"
             ],
             [
              0.4444444444444444,
              "#bd3786"
             ],
             [
              0.5555555555555556,
              "#d8576b"
             ],
             [
              0.6666666666666666,
              "#ed7953"
             ],
             [
              0.7777777777777778,
              "#fb9f3a"
             ],
             [
              0.8888888888888888,
              "#fdca26"
             ],
             [
              1,
              "#f0f921"
             ]
            ],
            "type": "histogram2dcontour"
           }
          ],
          "mesh3d": [
           {
            "colorbar": {
             "outlinewidth": 0,
             "ticks": ""
            },
            "type": "mesh3d"
           }
          ],
          "parcoords": [
           {
            "line": {
             "colorbar": {
              "outlinewidth": 0,
              "ticks": ""
             }
            },
            "type": "parcoords"
           }
          ],
          "pie": [
           {
            "automargin": true,
            "type": "pie"
           }
          ],
          "scatter": [
           {
            "fillpattern": {
             "fillmode": "overlay",
             "size": 10,
             "solidity": 0.2
            },
            "type": "scatter"
           }
          ],
          "scatter3d": [
           {
            "line": {
             "colorbar": {
              "outlinewidth": 0,
              "ticks": ""
             }
            },
            "marker": {
             "colorbar": {
              "outlinewidth": 0,
              "ticks": ""
             }
            },
            "type": "scatter3d"
           }
          ],
          "scattercarpet": [
           {
            "marker": {
             "colorbar": {
              "outlinewidth": 0,
              "ticks": ""
             }
            },
            "type": "scattercarpet"
           }
          ],
          "scattergeo": [
           {
            "marker": {
             "colorbar": {
              "outlinewidth": 0,
              "ticks": ""
             }
            },
            "type": "scattergeo"
           }
          ],
          "scattergl": [
           {
            "marker": {
             "colorbar": {
              "outlinewidth": 0,
              "ticks": ""
             }
            },
            "type": "scattergl"
           }
          ],
          "scattermapbox": [
           {
            "marker": {
             "colorbar": {
              "outlinewidth": 0,
              "ticks": ""
             }
            },
            "type": "scattermapbox"
           }
          ],
          "scatterpolar": [
           {
            "marker": {
             "colorbar": {
              "outlinewidth": 0,
              "ticks": ""
             }
            },
            "type": "scatterpolar"
           }
          ],
          "scatterpolargl": [
           {
            "marker": {
             "colorbar": {
              "outlinewidth": 0,
              "ticks": ""
             }
            },
            "type": "scatterpolargl"
           }
          ],
          "scatterternary": [
           {
            "marker": {
             "colorbar": {
              "outlinewidth": 0,
              "ticks": ""
             }
            },
            "type": "scatterternary"
           }
          ],
          "surface": [
           {
            "colorbar": {
             "outlinewidth": 0,
             "ticks": ""
            },
            "colorscale": [
             [
              0,
              "#0d0887"
             ],
             [
              0.1111111111111111,
              "#46039f"
             ],
             [
              0.2222222222222222,
              "#7201a8"
             ],
             [
              0.3333333333333333,
              "#9c179e"
             ],
             [
              0.4444444444444444,
              "#bd3786"
             ],
             [
              0.5555555555555556,
              "#d8576b"
             ],
             [
              0.6666666666666666,
              "#ed7953"
             ],
             [
              0.7777777777777778,
              "#fb9f3a"
             ],
             [
              0.8888888888888888,
              "#fdca26"
             ],
             [
              1,
              "#f0f921"
             ]
            ],
            "type": "surface"
           }
          ],
          "table": [
           {
            "cells": {
             "fill": {
              "color": "#EBF0F8"
             },
             "line": {
              "color": "white"
             }
            },
            "header": {
             "fill": {
              "color": "#C8D4E3"
             },
             "line": {
              "color": "white"
             }
            },
            "type": "table"
           }
          ]
         },
         "layout": {
          "annotationdefaults": {
           "arrowcolor": "#2a3f5f",
           "arrowhead": 0,
           "arrowwidth": 1
          },
          "autotypenumbers": "strict",
          "coloraxis": {
           "colorbar": {
            "outlinewidth": 0,
            "ticks": ""
           }
          },
          "colorscale": {
           "diverging": [
            [
             0,
             "#8e0152"
            ],
            [
             0.1,
             "#c51b7d"
            ],
            [
             0.2,
             "#de77ae"
            ],
            [
             0.3,
             "#f1b6da"
            ],
            [
             0.4,
             "#fde0ef"
            ],
            [
             0.5,
             "#f7f7f7"
            ],
            [
             0.6,
             "#e6f5d0"
            ],
            [
             0.7,
             "#b8e186"
            ],
            [
             0.8,
             "#7fbc41"
            ],
            [
             0.9,
             "#4d9221"
            ],
            [
             1,
             "#276419"
            ]
           ],
           "sequential": [
            [
             0,
             "#0d0887"
            ],
            [
             0.1111111111111111,
             "#46039f"
            ],
            [
             0.2222222222222222,
             "#7201a8"
            ],
            [
             0.3333333333333333,
             "#9c179e"
            ],
            [
             0.4444444444444444,
             "#bd3786"
            ],
            [
             0.5555555555555556,
             "#d8576b"
            ],
            [
             0.6666666666666666,
             "#ed7953"
            ],
            [
             0.7777777777777778,
             "#fb9f3a"
            ],
            [
             0.8888888888888888,
             "#fdca26"
            ],
            [
             1,
             "#f0f921"
            ]
           ],
           "sequentialminus": [
            [
             0,
             "#0d0887"
            ],
            [
             0.1111111111111111,
             "#46039f"
            ],
            [
             0.2222222222222222,
             "#7201a8"
            ],
            [
             0.3333333333333333,
             "#9c179e"
            ],
            [
             0.4444444444444444,
             "#bd3786"
            ],
            [
             0.5555555555555556,
             "#d8576b"
            ],
            [
             0.6666666666666666,
             "#ed7953"
            ],
            [
             0.7777777777777778,
             "#fb9f3a"
            ],
            [
             0.8888888888888888,
             "#fdca26"
            ],
            [
             1,
             "#f0f921"
            ]
           ]
          },
          "colorway": [
           "#636efa",
           "#EF553B",
           "#00cc96",
           "#ab63fa",
           "#FFA15A",
           "#19d3f3",
           "#FF6692",
           "#B6E880",
           "#FF97FF",
           "#FECB52"
          ],
          "font": {
           "color": "#2a3f5f"
          },
          "geo": {
           "bgcolor": "white",
           "lakecolor": "white",
           "landcolor": "#E5ECF6",
           "showlakes": true,
           "showland": true,
           "subunitcolor": "white"
          },
          "hoverlabel": {
           "align": "left"
          },
          "hovermode": "closest",
          "mapbox": {
           "style": "light"
          },
          "paper_bgcolor": "white",
          "plot_bgcolor": "#E5ECF6",
          "polar": {
           "angularaxis": {
            "gridcolor": "white",
            "linecolor": "white",
            "ticks": ""
           },
           "bgcolor": "#E5ECF6",
           "radialaxis": {
            "gridcolor": "white",
            "linecolor": "white",
            "ticks": ""
           }
          },
          "scene": {
           "xaxis": {
            "backgroundcolor": "#E5ECF6",
            "gridcolor": "white",
            "gridwidth": 2,
            "linecolor": "white",
            "showbackground": true,
            "ticks": "",
            "zerolinecolor": "white"
           },
           "yaxis": {
            "backgroundcolor": "#E5ECF6",
            "gridcolor": "white",
            "gridwidth": 2,
            "linecolor": "white",
            "showbackground": true,
            "ticks": "",
            "zerolinecolor": "white"
           },
           "zaxis": {
            "backgroundcolor": "#E5ECF6",
            "gridcolor": "white",
            "gridwidth": 2,
            "linecolor": "white",
            "showbackground": true,
            "ticks": "",
            "zerolinecolor": "white"
           }
          },
          "shapedefaults": {
           "line": {
            "color": "#2a3f5f"
           }
          },
          "ternary": {
           "aaxis": {
            "gridcolor": "white",
            "linecolor": "white",
            "ticks": ""
           },
           "baxis": {
            "gridcolor": "white",
            "linecolor": "white",
            "ticks": ""
           },
           "bgcolor": "#E5ECF6",
           "caxis": {
            "gridcolor": "white",
            "linecolor": "white",
            "ticks": ""
           }
          },
          "title": {
           "x": 0.05
          },
          "xaxis": {
           "automargin": true,
           "gridcolor": "white",
           "linecolor": "white",
           "ticks": "",
           "title": {
            "standoff": 15
           },
           "zerolinecolor": "white",
           "zerolinewidth": 2
          },
          "yaxis": {
           "automargin": true,
           "gridcolor": "white",
           "linecolor": "white",
           "ticks": "",
           "title": {
            "standoff": 15
           },
           "zerolinecolor": "white",
           "zerolinewidth": 2
          }
         }
        },
        "title": {
         "text": "Global average temperature anomaly relative to 1961-1990"
        },
        "xaxis": {
         "anchor": "y",
         "domain": [
          0,
          1
         ],
         "title": {
          "text": "Year"
         }
        },
        "yaxis": {
         "anchor": "x",
         "domain": [
          0,
          1
         ],
         "title": {
          "text": "Global average temperature anomaly relative to 1961-1990"
         }
        }
       }
      },
      "text/html": [
       "<div>                            <div id=\"403f14fa-4038-4906-94cc-32a41a76fe2b\" class=\"plotly-graph-div\" style=\"height:525px; width:100%;\"></div>            <script type=\"text/javascript\">                require([\"plotly\"], function(Plotly) {                    window.PLOTLYENV=window.PLOTLYENV || {};                                    if (document.getElementById(\"403f14fa-4038-4906-94cc-32a41a76fe2b\")) {                    Plotly.newPlot(                        \"403f14fa-4038-4906-94cc-32a41a76fe2b\",                        [{\"hovertemplate\":\"Year=%{x}\\u003cbr\\u003eGlobal average temperature anomaly relative to 1961-1990=%{y}\\u003cextra\\u003e\\u003c\\u002fextra\\u003e\",\"legendgroup\":\"\",\"line\":{\"color\":\"#636efa\",\"dash\":\"solid\"},\"marker\":{\"symbol\":\"circle\"},\"mode\":\"lines\",\"name\":\"\",\"orientation\":\"v\",\"showlegend\":false,\"x\":[1850,1851,1852,1853,1854,1855,1856,1857,1858,1859,1860,1861,1862,1863,1864,1865,1866,1867,1868,1869,1870,1871,1872,1873,1874,1875,1876,1877,1878,1879,1880,1881,1882,1883,1884,1885,1886,1887,1888,1889,1890,1891,1892,1893,1894,1895,1896,1897,1898,1899,1900,1901,1902,1903,1904,1905,1906,1907,1908,1909,1910,1911,1912,1913,1914,1915,1916,1917,1918,1919,1920,1921,1922,1923,1924,1925,1926,1927,1928,1929,1930,1931,1932,1933,1934,1935,1936,1937,1938,1939,1940,1941,1942,1943,1944,1945,1946,1947,1948,1949,1950,1951,1952,1953,1954,1955,1956,1957,1958,1959,1960,1961,1962,1963,1964,1965,1966,1967,1968,1969,1970,1971,1972,1973,1974,1975,1976,1977,1978,1979,1980,1981,1982,1983,1984,1985,1986,1987,1988,1989,1990,1991,1992,1993,1994,1995,1996,1997,1998,1999,2000,2001,2002,2003,2004,2005,2006,2007,2008,2009,2010,2011,2012,2013,2014,2015,2016,2017,2018,2019,2020,2021,2022],\"xaxis\":\"x\",\"y\":[-0.41765878,-0.2333498,-0.22939907,-0.27035445,-0.29163003,-0.2969512,-0.32035372,-0.46723005,-0.3887657,-0.28119546,-0.39016518,-0.42927712,-0.53639776,-0.3443432,-0.4654367,-0.33258784,-0.34126064,-0.35696334,-0.35196072,-0.31657043,-0.32789087,-0.3685807,-0.32804197,-0.34133235,-0.3732512,-0.37562594,-0.42410994,-0.101108834,-0.011315193,-0.30363432,-0.31583208,-0.23224552,-0.29553008,-0.3464744,-0.49232006,-0.47112358,-0.42090362,-0.49878576,-0.37937889,-0.24989556,-0.50685817,-0.40131494,-0.5075585,-0.49461925,-0.48376393,-0.4487516,-0.28400728,-0.25980017,-0.48579213,-0.35543364,-0.23447904,-0.29342857,-0.43898427,-0.5333264,-0.5975614,-0.40775132,-0.3191393,-0.5041577,-0.5138707,-0.5357649,-0.5310242,-0.5392051,-0.47567302,-0.46715254,-0.2625924,-0.19184391,-0.42020997,-0.54301953,-0.42458433,-0.32551822,-0.2985808,-0.24067703,-0.33922812,-0.31793055,-0.3120622,-0.28242525,-0.12283547,-0.22940508,-0.20676155,-0.39275664,-0.1768054,-0.10339768,-0.14546166,-0.32234442,-0.17433685,-0.20605922,-0.16952093,-0.01919893,-0.012200732,-0.040797167,0.07593584,0.038129337,0.001406091,0.006414075,0.14410514,0.043088365,-0.1188128,-0.091205545,-0.12466127,-0.14380224,-0.22662179,-0.06115397,0.015354565,0.07763074,-0.11675021,-0.19730993,-0.2631656,-0.035334926,-0.017632553,-0.048004825,-0.115487024,-0.019997388,-0.06405444,-0.03680589,-0.30586675,-0.2043879,-0.14888458,-0.11751631,-0.1686323,-0.031366713,-0.08510657,-0.20593274,-0.0938271,0.04993336,-0.17253734,-0.11075424,-0.21586166,0.10308852,0.005255772,0.09085813,0.19607207,0.25001204,0.034263328,0.22383861,0.04800471,0.04972978,0.09568697,0.2430264,0.28215173,0.17925027,0.36056247,0.33889654,0.124896795,0.16565846,0.23354977,0.37686616,0.2766894,0.4223085,0.57731646,0.32448497,0.3310848,0.48928034,0.5434665,0.5441702,0.46737072,0.60686255,0.5725527,0.5917013,0.46564984,0.5967817,0.68037146,0.53769773,0.5776071,0.6235754,0.67287165,0.82511437,0.93292713,0.84517425,0.762654,0.8910726,0.9227938,0.7618559,0.80124223],\"yaxis\":\"y\",\"type\":\"scatter\"}],                        {\"template\":{\"data\":{\"histogram2dcontour\":[{\"type\":\"histogram2dcontour\",\"colorbar\":{\"outlinewidth\":0,\"ticks\":\"\"},\"colorscale\":[[0.0,\"#0d0887\"],[0.1111111111111111,\"#46039f\"],[0.2222222222222222,\"#7201a8\"],[0.3333333333333333,\"#9c179e\"],[0.4444444444444444,\"#bd3786\"],[0.5555555555555556,\"#d8576b\"],[0.6666666666666666,\"#ed7953\"],[0.7777777777777778,\"#fb9f3a\"],[0.8888888888888888,\"#fdca26\"],[1.0,\"#f0f921\"]]}],\"choropleth\":[{\"type\":\"choropleth\",\"colorbar\":{\"outlinewidth\":0,\"ticks\":\"\"}}],\"histogram2d\":[{\"type\":\"histogram2d\",\"colorbar\":{\"outlinewidth\":0,\"ticks\":\"\"},\"colorscale\":[[0.0,\"#0d0887\"],[0.1111111111111111,\"#46039f\"],[0.2222222222222222,\"#7201a8\"],[0.3333333333333333,\"#9c179e\"],[0.4444444444444444,\"#bd3786\"],[0.5555555555555556,\"#d8576b\"],[0.6666666666666666,\"#ed7953\"],[0.7777777777777778,\"#fb9f3a\"],[0.8888888888888888,\"#fdca26\"],[1.0,\"#f0f921\"]]}],\"heatmap\":[{\"type\":\"heatmap\",\"colorbar\":{\"outlinewidth\":0,\"ticks\":\"\"},\"colorscale\":[[0.0,\"#0d0887\"],[0.1111111111111111,\"#46039f\"],[0.2222222222222222,\"#7201a8\"],[0.3333333333333333,\"#9c179e\"],[0.4444444444444444,\"#bd3786\"],[0.5555555555555556,\"#d8576b\"],[0.6666666666666666,\"#ed7953\"],[0.7777777777777778,\"#fb9f3a\"],[0.8888888888888888,\"#fdca26\"],[1.0,\"#f0f921\"]]}],\"heatmapgl\":[{\"type\":\"heatmapgl\",\"colorbar\":{\"outlinewidth\":0,\"ticks\":\"\"},\"colorscale\":[[0.0,\"#0d0887\"],[0.1111111111111111,\"#46039f\"],[0.2222222222222222,\"#7201a8\"],[0.3333333333333333,\"#9c179e\"],[0.4444444444444444,\"#bd3786\"],[0.5555555555555556,\"#d8576b\"],[0.6666666666666666,\"#ed7953\"],[0.7777777777777778,\"#fb9f3a\"],[0.8888888888888888,\"#fdca26\"],[1.0,\"#f0f921\"]]}],\"contourcarpet\":[{\"type\":\"contourcarpet\",\"colorbar\":{\"outlinewidth\":0,\"ticks\":\"\"}}],\"contour\":[{\"type\":\"contour\",\"colorbar\":{\"outlinewidth\":0,\"ticks\":\"\"},\"colorscale\":[[0.0,\"#0d0887\"],[0.1111111111111111,\"#46039f\"],[0.2222222222222222,\"#7201a8\"],[0.3333333333333333,\"#9c179e\"],[0.4444444444444444,\"#bd3786\"],[0.5555555555555556,\"#d8576b\"],[0.6666666666666666,\"#ed7953\"],[0.7777777777777778,\"#fb9f3a\"],[0.8888888888888888,\"#fdca26\"],[1.0,\"#f0f921\"]]}],\"surface\":[{\"type\":\"surface\",\"colorbar\":{\"outlinewidth\":0,\"ticks\":\"\"},\"colorscale\":[[0.0,\"#0d0887\"],[0.1111111111111111,\"#46039f\"],[0.2222222222222222,\"#7201a8\"],[0.3333333333333333,\"#9c179e\"],[0.4444444444444444,\"#bd3786\"],[0.5555555555555556,\"#d8576b\"],[0.6666666666666666,\"#ed7953\"],[0.7777777777777778,\"#fb9f3a\"],[0.8888888888888888,\"#fdca26\"],[1.0,\"#f0f921\"]]}],\"mesh3d\":[{\"type\":\"mesh3d\",\"colorbar\":{\"outlinewidth\":0,\"ticks\":\"\"}}],\"scatter\":[{\"fillpattern\":{\"fillmode\":\"overlay\",\"size\":10,\"solidity\":0.2},\"type\":\"scatter\"}],\"parcoords\":[{\"type\":\"parcoords\",\"line\":{\"colorbar\":{\"outlinewidth\":0,\"ticks\":\"\"}}}],\"scatterpolargl\":[{\"type\":\"scatterpolargl\",\"marker\":{\"colorbar\":{\"outlinewidth\":0,\"ticks\":\"\"}}}],\"bar\":[{\"error_x\":{\"color\":\"#2a3f5f\"},\"error_y\":{\"color\":\"#2a3f5f\"},\"marker\":{\"line\":{\"color\":\"#E5ECF6\",\"width\":0.5},\"pattern\":{\"fillmode\":\"overlay\",\"size\":10,\"solidity\":0.2}},\"type\":\"bar\"}],\"scattergeo\":[{\"type\":\"scattergeo\",\"marker\":{\"colorbar\":{\"outlinewidth\":0,\"ticks\":\"\"}}}],\"scatterpolar\":[{\"type\":\"scatterpolar\",\"marker\":{\"colorbar\":{\"outlinewidth\":0,\"ticks\":\"\"}}}],\"histogram\":[{\"marker\":{\"pattern\":{\"fillmode\":\"overlay\",\"size\":10,\"solidity\":0.2}},\"type\":\"histogram\"}],\"scattergl\":[{\"type\":\"scattergl\",\"marker\":{\"colorbar\":{\"outlinewidth\":0,\"ticks\":\"\"}}}],\"scatter3d\":[{\"type\":\"scatter3d\",\"line\":{\"colorbar\":{\"outlinewidth\":0,\"ticks\":\"\"}},\"marker\":{\"colorbar\":{\"outlinewidth\":0,\"ticks\":\"\"}}}],\"scattermapbox\":[{\"type\":\"scattermapbox\",\"marker\":{\"colorbar\":{\"outlinewidth\":0,\"ticks\":\"\"}}}],\"scatterternary\":[{\"type\":\"scatterternary\",\"marker\":{\"colorbar\":{\"outlinewidth\":0,\"ticks\":\"\"}}}],\"scattercarpet\":[{\"type\":\"scattercarpet\",\"marker\":{\"colorbar\":{\"outlinewidth\":0,\"ticks\":\"\"}}}],\"carpet\":[{\"aaxis\":{\"endlinecolor\":\"#2a3f5f\",\"gridcolor\":\"white\",\"linecolor\":\"white\",\"minorgridcolor\":\"white\",\"startlinecolor\":\"#2a3f5f\"},\"baxis\":{\"endlinecolor\":\"#2a3f5f\",\"gridcolor\":\"white\",\"linecolor\":\"white\",\"minorgridcolor\":\"white\",\"startlinecolor\":\"#2a3f5f\"},\"type\":\"carpet\"}],\"table\":[{\"cells\":{\"fill\":{\"color\":\"#EBF0F8\"},\"line\":{\"color\":\"white\"}},\"header\":{\"fill\":{\"color\":\"#C8D4E3\"},\"line\":{\"color\":\"white\"}},\"type\":\"table\"}],\"barpolar\":[{\"marker\":{\"line\":{\"color\":\"#E5ECF6\",\"width\":0.5},\"pattern\":{\"fillmode\":\"overlay\",\"size\":10,\"solidity\":0.2}},\"type\":\"barpolar\"}],\"pie\":[{\"automargin\":true,\"type\":\"pie\"}]},\"layout\":{\"autotypenumbers\":\"strict\",\"colorway\":[\"#636efa\",\"#EF553B\",\"#00cc96\",\"#ab63fa\",\"#FFA15A\",\"#19d3f3\",\"#FF6692\",\"#B6E880\",\"#FF97FF\",\"#FECB52\"],\"font\":{\"color\":\"#2a3f5f\"},\"hovermode\":\"closest\",\"hoverlabel\":{\"align\":\"left\"},\"paper_bgcolor\":\"white\",\"plot_bgcolor\":\"#E5ECF6\",\"polar\":{\"bgcolor\":\"#E5ECF6\",\"angularaxis\":{\"gridcolor\":\"white\",\"linecolor\":\"white\",\"ticks\":\"\"},\"radialaxis\":{\"gridcolor\":\"white\",\"linecolor\":\"white\",\"ticks\":\"\"}},\"ternary\":{\"bgcolor\":\"#E5ECF6\",\"aaxis\":{\"gridcolor\":\"white\",\"linecolor\":\"white\",\"ticks\":\"\"},\"baxis\":{\"gridcolor\":\"white\",\"linecolor\":\"white\",\"ticks\":\"\"},\"caxis\":{\"gridcolor\":\"white\",\"linecolor\":\"white\",\"ticks\":\"\"}},\"coloraxis\":{\"colorbar\":{\"outlinewidth\":0,\"ticks\":\"\"}},\"colorscale\":{\"sequential\":[[0.0,\"#0d0887\"],[0.1111111111111111,\"#46039f\"],[0.2222222222222222,\"#7201a8\"],[0.3333333333333333,\"#9c179e\"],[0.4444444444444444,\"#bd3786\"],[0.5555555555555556,\"#d8576b\"],[0.6666666666666666,\"#ed7953\"],[0.7777777777777778,\"#fb9f3a\"],[0.8888888888888888,\"#fdca26\"],[1.0,\"#f0f921\"]],\"sequentialminus\":[[0.0,\"#0d0887\"],[0.1111111111111111,\"#46039f\"],[0.2222222222222222,\"#7201a8\"],[0.3333333333333333,\"#9c179e\"],[0.4444444444444444,\"#bd3786\"],[0.5555555555555556,\"#d8576b\"],[0.6666666666666666,\"#ed7953\"],[0.7777777777777778,\"#fb9f3a\"],[0.8888888888888888,\"#fdca26\"],[1.0,\"#f0f921\"]],\"diverging\":[[0,\"#8e0152\"],[0.1,\"#c51b7d\"],[0.2,\"#de77ae\"],[0.3,\"#f1b6da\"],[0.4,\"#fde0ef\"],[0.5,\"#f7f7f7\"],[0.6,\"#e6f5d0\"],[0.7,\"#b8e186\"],[0.8,\"#7fbc41\"],[0.9,\"#4d9221\"],[1,\"#276419\"]]},\"xaxis\":{\"gridcolor\":\"white\",\"linecolor\":\"white\",\"ticks\":\"\",\"title\":{\"standoff\":15},\"zerolinecolor\":\"white\",\"automargin\":true,\"zerolinewidth\":2},\"yaxis\":{\"gridcolor\":\"white\",\"linecolor\":\"white\",\"ticks\":\"\",\"title\":{\"standoff\":15},\"zerolinecolor\":\"white\",\"automargin\":true,\"zerolinewidth\":2},\"scene\":{\"xaxis\":{\"backgroundcolor\":\"#E5ECF6\",\"gridcolor\":\"white\",\"linecolor\":\"white\",\"showbackground\":true,\"ticks\":\"\",\"zerolinecolor\":\"white\",\"gridwidth\":2},\"yaxis\":{\"backgroundcolor\":\"#E5ECF6\",\"gridcolor\":\"white\",\"linecolor\":\"white\",\"showbackground\":true,\"ticks\":\"\",\"zerolinecolor\":\"white\",\"gridwidth\":2},\"zaxis\":{\"backgroundcolor\":\"#E5ECF6\",\"gridcolor\":\"white\",\"linecolor\":\"white\",\"showbackground\":true,\"ticks\":\"\",\"zerolinecolor\":\"white\",\"gridwidth\":2}},\"shapedefaults\":{\"line\":{\"color\":\"#2a3f5f\"}},\"annotationdefaults\":{\"arrowcolor\":\"#2a3f5f\",\"arrowhead\":0,\"arrowwidth\":1},\"geo\":{\"bgcolor\":\"white\",\"landcolor\":\"#E5ECF6\",\"subunitcolor\":\"white\",\"showland\":true,\"showlakes\":true,\"lakecolor\":\"white\"},\"title\":{\"x\":0.05},\"mapbox\":{\"style\":\"light\"}}},\"xaxis\":{\"anchor\":\"y\",\"domain\":[0.0,1.0],\"title\":{\"text\":\"Year\"}},\"yaxis\":{\"anchor\":\"x\",\"domain\":[0.0,1.0],\"title\":{\"text\":\"Global average temperature anomaly relative to 1961-1990\"}},\"legend\":{\"tracegroupgap\":0},\"title\":{\"text\":\"Global average temperature anomaly relative to 1961-1990\"}},                        {\"responsive\": true}                    ).then(function(){\n",
       "                            \n",
       "var gd = document.getElementById('403f14fa-4038-4906-94cc-32a41a76fe2b');\n",
       "var x = new MutationObserver(function (mutations, observer) {{\n",
       "        var display = window.getComputedStyle(gd).display;\n",
       "        if (!display || display === 'none') {{\n",
       "            console.log([gd, 'removed!']);\n",
       "            Plotly.purge(gd);\n",
       "            observer.disconnect();\n",
       "        }}\n",
       "}});\n",
       "\n",
       "// Listen for the removal of the full notebook cells\n",
       "var notebookContainer = gd.closest('#notebook-container');\n",
       "if (notebookContainer) {{\n",
       "    x.observe(notebookContainer, {childList: true});\n",
       "}}\n",
       "\n",
       "// Listen for the clearing of the current output cell\n",
       "var outputEl = gd.closest('.output');\n",
       "if (outputEl) {{\n",
       "    x.observe(outputEl, {childList: true});\n",
       "}}\n",
       "\n",
       "                        })                };                });            </script>        </div>"
      ]
     },
     "metadata": {},
     "output_type": "display_data"
    }
   ],
   "source": [
    "# basic line graph using Plotly Express\n",
    "fig = px.line(\n",
    "    df_global, \n",
    "    x=\"Year\", \n",
    "    y=\"Global average temperature anomaly relative to 1961-1990\",\n",
    "    title='Global average temperature anomaly relative to 1961-1990',\n",
    ")\n",
    "fig.show()"
   ]
  },
  {
   "cell_type": "markdown",
   "id": "12aa3a2b",
   "metadata": {},
   "source": [
    "Okay so we have our first line graph with no customization. It is clear and makes the upward trend perfectly visible and has some neat interactive features which you can see by hovering the mouse.\n",
    "\n",
    "However to name a few aspects we will want to improve on: \n",
    "* it only shows the median\n",
    "* it has no units\n",
    "* it is really bland\n",
    "* it doesn't emphasise the starting point (0 degrees)\n",
    "\n",
    "Let's work on all these points"
   ]
  },
  {
   "cell_type": "markdown",
   "id": "035f9dca",
   "metadata": {},
   "source": [
    "### Include lower and upper bounds"
   ]
  },
  {
   "cell_type": "code",
   "execution_count": 78,
   "id": "a9a6395c",
   "metadata": {},
   "outputs": [
    {
     "data": {
      "application/vnd.plotly.v1+json": {
       "config": {
        "plotlyServerURL": "https://plot.ly"
       },
       "data": [
        {
         "hovertemplate": "variable=Global average temperature anomaly relative to 1961-1990<br>Year=%{x}<br>value=%{y}<extra></extra>",
         "legendgroup": "Global average temperature anomaly relative to 1961-1990",
         "line": {
          "color": "#636efa",
          "dash": "solid"
         },
         "marker": {
          "symbol": "circle"
         },
         "mode": "lines",
         "name": "Global average temperature anomaly relative to 1961-1990",
         "orientation": "v",
         "showlegend": true,
         "type": "scatter",
         "x": [
          1850,
          1851,
          1852,
          1853,
          1854,
          1855,
          1856,
          1857,
          1858,
          1859,
          1860,
          1861,
          1862,
          1863,
          1864,
          1865,
          1866,
          1867,
          1868,
          1869,
          1870,
          1871,
          1872,
          1873,
          1874,
          1875,
          1876,
          1877,
          1878,
          1879,
          1880,
          1881,
          1882,
          1883,
          1884,
          1885,
          1886,
          1887,
          1888,
          1889,
          1890,
          1891,
          1892,
          1893,
          1894,
          1895,
          1896,
          1897,
          1898,
          1899,
          1900,
          1901,
          1902,
          1903,
          1904,
          1905,
          1906,
          1907,
          1908,
          1909,
          1910,
          1911,
          1912,
          1913,
          1914,
          1915,
          1916,
          1917,
          1918,
          1919,
          1920,
          1921,
          1922,
          1923,
          1924,
          1925,
          1926,
          1927,
          1928,
          1929,
          1930,
          1931,
          1932,
          1933,
          1934,
          1935,
          1936,
          1937,
          1938,
          1939,
          1940,
          1941,
          1942,
          1943,
          1944,
          1945,
          1946,
          1947,
          1948,
          1949,
          1950,
          1951,
          1952,
          1953,
          1954,
          1955,
          1956,
          1957,
          1958,
          1959,
          1960,
          1961,
          1962,
          1963,
          1964,
          1965,
          1966,
          1967,
          1968,
          1969,
          1970,
          1971,
          1972,
          1973,
          1974,
          1975,
          1976,
          1977,
          1978,
          1979,
          1980,
          1981,
          1982,
          1983,
          1984,
          1985,
          1986,
          1987,
          1988,
          1989,
          1990,
          1991,
          1992,
          1993,
          1994,
          1995,
          1996,
          1997,
          1998,
          1999,
          2000,
          2001,
          2002,
          2003,
          2004,
          2005,
          2006,
          2007,
          2008,
          2009,
          2010,
          2011,
          2012,
          2013,
          2014,
          2015,
          2016,
          2017,
          2018,
          2019,
          2020,
          2021,
          2022
         ],
         "xaxis": "x",
         "y": [
          -0.41765878,
          -0.2333498,
          -0.22939907,
          -0.27035445,
          -0.29163003,
          -0.2969512,
          -0.32035372,
          -0.46723005,
          -0.3887657,
          -0.28119546,
          -0.39016518,
          -0.42927712,
          -0.53639776,
          -0.3443432,
          -0.4654367,
          -0.33258784,
          -0.34126064,
          -0.35696334,
          -0.35196072,
          -0.31657043,
          -0.32789087,
          -0.3685807,
          -0.32804197,
          -0.34133235,
          -0.3732512,
          -0.37562594,
          -0.42410994,
          -0.101108834,
          -0.011315193,
          -0.30363432,
          -0.31583208,
          -0.23224552,
          -0.29553008,
          -0.3464744,
          -0.49232006,
          -0.47112358,
          -0.42090362,
          -0.49878576,
          -0.37937889,
          -0.24989556,
          -0.50685817,
          -0.40131494,
          -0.5075585,
          -0.49461925,
          -0.48376393,
          -0.4487516,
          -0.28400728,
          -0.25980017,
          -0.48579213,
          -0.35543364,
          -0.23447904,
          -0.29342857,
          -0.43898427,
          -0.5333264,
          -0.5975614,
          -0.40775132,
          -0.3191393,
          -0.5041577,
          -0.5138707,
          -0.5357649,
          -0.5310242,
          -0.5392051,
          -0.47567302,
          -0.46715254,
          -0.2625924,
          -0.19184391,
          -0.42020997,
          -0.54301953,
          -0.42458433,
          -0.32551822,
          -0.2985808,
          -0.24067703,
          -0.33922812,
          -0.31793055,
          -0.3120622,
          -0.28242525,
          -0.12283547,
          -0.22940508,
          -0.20676155,
          -0.39275664,
          -0.1768054,
          -0.10339768,
          -0.14546166,
          -0.32234442,
          -0.17433685,
          -0.20605922,
          -0.16952093,
          -0.01919893,
          -0.012200732,
          -0.040797167,
          0.07593584,
          0.038129337,
          0.001406091,
          0.006414075,
          0.14410514,
          0.043088365,
          -0.1188128,
          -0.091205545,
          -0.12466127,
          -0.14380224,
          -0.22662179,
          -0.06115397,
          0.015354565,
          0.07763074,
          -0.11675021,
          -0.19730993,
          -0.2631656,
          -0.035334926,
          -0.017632553,
          -0.048004825,
          -0.115487024,
          -0.019997388,
          -0.06405444,
          -0.03680589,
          -0.30586675,
          -0.2043879,
          -0.14888458,
          -0.11751631,
          -0.1686323,
          -0.031366713,
          -0.08510657,
          -0.20593274,
          -0.0938271,
          0.04993336,
          -0.17253734,
          -0.11075424,
          -0.21586166,
          0.10308852,
          0.005255772,
          0.09085813,
          0.19607207,
          0.25001204,
          0.034263328,
          0.22383861,
          0.04800471,
          0.04972978,
          0.09568697,
          0.2430264,
          0.28215173,
          0.17925027,
          0.36056247,
          0.33889654,
          0.124896795,
          0.16565846,
          0.23354977,
          0.37686616,
          0.2766894,
          0.4223085,
          0.57731646,
          0.32448497,
          0.3310848,
          0.48928034,
          0.5434665,
          0.5441702,
          0.46737072,
          0.60686255,
          0.5725527,
          0.5917013,
          0.46564984,
          0.5967817,
          0.68037146,
          0.53769773,
          0.5776071,
          0.6235754,
          0.67287165,
          0.82511437,
          0.93292713,
          0.84517425,
          0.762654,
          0.8910726,
          0.9227938,
          0.7618559,
          0.80124223
         ],
         "yaxis": "y"
        },
        {
         "hovertemplate": "variable=Upper bound (95% confidence interval) of the annual temperature anomaly<br>Year=%{x}<br>value=%{y}<extra></extra>",
         "legendgroup": "Upper bound (95% confidence interval) of the annual temperature anomaly",
         "line": {
          "color": "#EF553B",
          "dash": "solid"
         },
         "marker": {
          "symbol": "circle"
         },
         "mode": "lines",
         "name": "Upper bound (95% confidence interval) of the annual temperature anomaly",
         "orientation": "v",
         "showlegend": true,
         "type": "scatter",
         "x": [
          1850,
          1851,
          1852,
          1853,
          1854,
          1855,
          1856,
          1857,
          1858,
          1859,
          1860,
          1861,
          1862,
          1863,
          1864,
          1865,
          1866,
          1867,
          1868,
          1869,
          1870,
          1871,
          1872,
          1873,
          1874,
          1875,
          1876,
          1877,
          1878,
          1879,
          1880,
          1881,
          1882,
          1883,
          1884,
          1885,
          1886,
          1887,
          1888,
          1889,
          1890,
          1891,
          1892,
          1893,
          1894,
          1895,
          1896,
          1897,
          1898,
          1899,
          1900,
          1901,
          1902,
          1903,
          1904,
          1905,
          1906,
          1907,
          1908,
          1909,
          1910,
          1911,
          1912,
          1913,
          1914,
          1915,
          1916,
          1917,
          1918,
          1919,
          1920,
          1921,
          1922,
          1923,
          1924,
          1925,
          1926,
          1927,
          1928,
          1929,
          1930,
          1931,
          1932,
          1933,
          1934,
          1935,
          1936,
          1937,
          1938,
          1939,
          1940,
          1941,
          1942,
          1943,
          1944,
          1945,
          1946,
          1947,
          1948,
          1949,
          1950,
          1951,
          1952,
          1953,
          1954,
          1955,
          1956,
          1957,
          1958,
          1959,
          1960,
          1961,
          1962,
          1963,
          1964,
          1965,
          1966,
          1967,
          1968,
          1969,
          1970,
          1971,
          1972,
          1973,
          1974,
          1975,
          1976,
          1977,
          1978,
          1979,
          1980,
          1981,
          1982,
          1983,
          1984,
          1985,
          1986,
          1987,
          1988,
          1989,
          1990,
          1991,
          1992,
          1993,
          1994,
          1995,
          1996,
          1997,
          1998,
          1999,
          2000,
          2001,
          2002,
          2003,
          2004,
          2005,
          2006,
          2007,
          2008,
          2009,
          2010,
          2011,
          2012,
          2013,
          2014,
          2015,
          2016,
          2017,
          2018,
          2019,
          2020,
          2021,
          2022
         ],
         "xaxis": "x",
         "y": [
          -0.24611452,
          -0.054831687,
          -0.04941572,
          -0.110699534,
          -0.15043613,
          -0.15454465,
          -0.1726142,
          -0.31813794,
          -0.24064532,
          -0.13854107,
          -0.24135375,
          -0.26132414,
          -0.36908585,
          -0.1545219,
          -0.282776,
          -0.14052312,
          -0.16068307,
          -0.16086453,
          -0.17426313,
          -0.15671812,
          -0.18710826,
          -0.22301209,
          -0.19300064,
          -0.21012507,
          -0.2393598,
          -0.23721085,
          -0.28534868,
          0.027602348,
          0.10858219,
          -0.1732043,
          -0.19151321,
          -0.10655605,
          -0.17091006,
          -0.23213111,
          -0.38197154,
          -0.35917896,
          -0.31926903,
          -0.3810117,
          -0.265434,
          -0.12757017,
          -0.3813068,
          -0.26525995,
          -0.3707885,
          -0.35770702,
          -0.34195974,
          -0.3154826,
          -0.15061308,
          -0.12107607,
          -0.35393503,
          -0.22447036,
          -0.10199049,
          -0.15718324,
          -0.30254042,
          -0.40583345,
          -0.46629035,
          -0.28047356,
          -0.18775477,
          -0.38203365,
          -0.3902612,
          -0.41890016,
          -0.40636164,
          -0.4161705,
          -0.36201498,
          -0.34492958,
          -0.1424214,
          -0.06172589,
          -0.28152588,
          -0.3939199,
          -0.26718682,
          -0.1695783,
          -0.14856121,
          -0.09960067,
          -0.21235302,
          -0.1916881,
          -0.18529275,
          -0.15007503,
          0.006976739,
          -0.10745319,
          -0.074705064,
          -0.25894582,
          -0.06319936,
          0.005896248,
          -0.0389682,
          -0.21758842,
          -0.07466974,
          -0.10862111,
          -0.07552261,
          0.08136089,
          0.08590227,
          0.065110326,
          0.19382134,
          0.23851255,
          0.19802457,
          0.21241911,
          0.3427051,
          0.24345961,
          0.028331792,
          0.04937931,
          0.009810844,
          -0.033526987,
          -0.12058662,
          0.028042298,
          0.11364509,
          0.1757911,
          -0.024997713,
          -0.1101899,
          -0.18720557,
          0.029898768,
          0.04780945,
          0.0143541,
          -0.056808177,
          0.030785747,
          -0.010794453,
          0.016958294,
          -0.26224136,
          -0.15520222,
          -0.09937696,
          -0.07440783,
          -0.124011464,
          0.009132013,
          -0.04413217,
          -0.16735843,
          -0.05593726,
          0.086398184,
          -0.1348509,
          -0.07020335,
          -0.17583954,
          0.14612034,
          0.04508841,
          0.119357646,
          0.22934014,
          0.28063282,
          0.07363132,
          0.2596032,
          0.08444869,
          0.08379609,
          0.12696595,
          0.27386728,
          0.31726816,
          0.21400215,
          0.39657268,
          0.3737569,
          0.15891153,
          0.2031438,
          0.2686866,
          0.41007656,
          0.31019878,
          0.4545262,
          0.6115888,
          0.35613516,
          0.36394167,
          0.5204924,
          0.57415116,
          0.5770977,
          0.5004031,
          0.6380198,
          0.60313237,
          0.6220495,
          0.49864236,
          0.6283077,
          0.7116669,
          0.5693943,
          0.6103589,
          0.6586669,
          0.7068384,
          0.8589417,
          0.96409065,
          0.87557375,
          0.79425603,
          0.92535794,
          0.9573755,
          0.79826844,
          0.83731264
         ],
         "yaxis": "y"
        },
        {
         "hovertemplate": "variable=Lower bound (95% confidence interval) of the annual temperature anomaly<br>Year=%{x}<br>value=%{y}<extra></extra>",
         "legendgroup": "Lower bound (95% confidence interval) of the annual temperature anomaly",
         "line": {
          "color": "#00cc96",
          "dash": "solid"
         },
         "marker": {
          "symbol": "circle"
         },
         "mode": "lines",
         "name": "Lower bound (95% confidence interval) of the annual temperature anomaly",
         "orientation": "v",
         "showlegend": true,
         "type": "scatter",
         "x": [
          1850,
          1851,
          1852,
          1853,
          1854,
          1855,
          1856,
          1857,
          1858,
          1859,
          1860,
          1861,
          1862,
          1863,
          1864,
          1865,
          1866,
          1867,
          1868,
          1869,
          1870,
          1871,
          1872,
          1873,
          1874,
          1875,
          1876,
          1877,
          1878,
          1879,
          1880,
          1881,
          1882,
          1883,
          1884,
          1885,
          1886,
          1887,
          1888,
          1889,
          1890,
          1891,
          1892,
          1893,
          1894,
          1895,
          1896,
          1897,
          1898,
          1899,
          1900,
          1901,
          1902,
          1903,
          1904,
          1905,
          1906,
          1907,
          1908,
          1909,
          1910,
          1911,
          1912,
          1913,
          1914,
          1915,
          1916,
          1917,
          1918,
          1919,
          1920,
          1921,
          1922,
          1923,
          1924,
          1925,
          1926,
          1927,
          1928,
          1929,
          1930,
          1931,
          1932,
          1933,
          1934,
          1935,
          1936,
          1937,
          1938,
          1939,
          1940,
          1941,
          1942,
          1943,
          1944,
          1945,
          1946,
          1947,
          1948,
          1949,
          1950,
          1951,
          1952,
          1953,
          1954,
          1955,
          1956,
          1957,
          1958,
          1959,
          1960,
          1961,
          1962,
          1963,
          1964,
          1965,
          1966,
          1967,
          1968,
          1969,
          1970,
          1971,
          1972,
          1973,
          1974,
          1975,
          1976,
          1977,
          1978,
          1979,
          1980,
          1981,
          1982,
          1983,
          1984,
          1985,
          1986,
          1987,
          1988,
          1989,
          1990,
          1991,
          1992,
          1993,
          1994,
          1995,
          1996,
          1997,
          1998,
          1999,
          2000,
          2001,
          2002,
          2003,
          2004,
          2005,
          2006,
          2007,
          2008,
          2009,
          2010,
          2011,
          2012,
          2013,
          2014,
          2015,
          2016,
          2017,
          2018,
          2019,
          2020,
          2021,
          2022
         ],
         "xaxis": "x",
         "y": [
          -0.589203,
          -0.41186792,
          -0.40938243,
          -0.43000934,
          -0.43282393,
          -0.43935776,
          -0.46809322,
          -0.61632216,
          -0.53688604,
          -0.42384982,
          -0.5389766,
          -0.5972301,
          -0.7037096,
          -0.5341645,
          -0.6480974,
          -0.5246526,
          -0.52183825,
          -0.55306214,
          -0.52965826,
          -0.47642276,
          -0.46867347,
          -0.5141493,
          -0.4630833,
          -0.4725396,
          -0.5071426,
          -0.514041,
          -0.56287116,
          -0.22982001,
          -0.13121258,
          -0.43406433,
          -0.44015095,
          -0.35793498,
          -0.4201501,
          -0.4608177,
          -0.6026686,
          -0.5830682,
          -0.5225382,
          -0.61655986,
          -0.49332377,
          -0.37222093,
          -0.6324095,
          -0.5373699,
          -0.64432853,
          -0.6315314,
          -0.6255681,
          -0.58202064,
          -0.4174015,
          -0.39852425,
          -0.6176492,
          -0.48639694,
          -0.3669676,
          -0.42967388,
          -0.5754281,
          -0.66081935,
          -0.7288325,
          -0.5350291,
          -0.45052385,
          -0.6262818,
          -0.63748026,
          -0.6526296,
          -0.6556868,
          -0.66223973,
          -0.5893311,
          -0.5893755,
          -0.38276345,
          -0.32196194,
          -0.5588941,
          -0.6921192,
          -0.58198184,
          -0.48145813,
          -0.44860035,
          -0.38175339,
          -0.46610323,
          -0.444173,
          -0.4388317,
          -0.4147755,
          -0.25264767,
          -0.35135695,
          -0.33881804,
          -0.52656746,
          -0.29041144,
          -0.2126916,
          -0.25195515,
          -0.4271004,
          -0.27400395,
          -0.30349734,
          -0.26351926,
          -0.11975875,
          -0.11030374,
          -0.14670466,
          -0.04194966,
          -0.16225387,
          -0.1952124,
          -0.19959097,
          -0.054494828,
          -0.15728289,
          -0.2659574,
          -0.23179041,
          -0.25913337,
          -0.2540775,
          -0.33265698,
          -0.15035024,
          -0.08293597,
          -0.020529618,
          -0.20850271,
          -0.28442997,
          -0.33912563,
          -0.10056862,
          -0.083074555,
          -0.11036375,
          -0.17416587,
          -0.07078052,
          -0.11731443,
          -0.09057008,
          -0.34949213,
          -0.25357357,
          -0.19839221,
          -0.16062479,
          -0.21325313,
          -0.07186544,
          -0.12608096,
          -0.24450706,
          -0.13171694,
          0.013468528,
          -0.21022376,
          -0.15130512,
          -0.25588378,
          0.060056705,
          -0.034576867,
          0.062358618,
          0.162804,
          0.21939126,
          -0.005104665,
          0.18807402,
          0.011560736,
          0.015663471,
          0.064408,
          0.21218552,
          0.2470353,
          0.14449838,
          0.32455227,
          0.30403617,
          0.09088206,
          0.12817313,
          0.19841294,
          0.34365577,
          0.24318004,
          0.39009082,
          0.54304415,
          0.29283476,
          0.29822788,
          0.4580683,
          0.51278186,
          0.5112426,
          0.43433833,
          0.5757053,
          0.541973,
          0.56135315,
          0.43265733,
          0.56525564,
          0.649076,
          0.5060012,
          0.5448553,
          0.5884838,
          0.63890487,
          0.79128706,
          0.90176356,
          0.81477475,
          0.731052,
          0.85678726,
          0.8882121,
          0.72544336,
          0.7651718
         ],
         "yaxis": "y"
        }
       ],
       "layout": {
        "legend": {
         "title": {
          "text": "variable"
         },
         "tracegroupgap": 0
        },
        "template": {
         "data": {
          "bar": [
           {
            "error_x": {
             "color": "#2a3f5f"
            },
            "error_y": {
             "color": "#2a3f5f"
            },
            "marker": {
             "line": {
              "color": "#E5ECF6",
              "width": 0.5
             },
             "pattern": {
              "fillmode": "overlay",
              "size": 10,
              "solidity": 0.2
             }
            },
            "type": "bar"
           }
          ],
          "barpolar": [
           {
            "marker": {
             "line": {
              "color": "#E5ECF6",
              "width": 0.5
             },
             "pattern": {
              "fillmode": "overlay",
              "size": 10,
              "solidity": 0.2
             }
            },
            "type": "barpolar"
           }
          ],
          "carpet": [
           {
            "aaxis": {
             "endlinecolor": "#2a3f5f",
             "gridcolor": "white",
             "linecolor": "white",
             "minorgridcolor": "white",
             "startlinecolor": "#2a3f5f"
            },
            "baxis": {
             "endlinecolor": "#2a3f5f",
             "gridcolor": "white",
             "linecolor": "white",
             "minorgridcolor": "white",
             "startlinecolor": "#2a3f5f"
            },
            "type": "carpet"
           }
          ],
          "choropleth": [
           {
            "colorbar": {
             "outlinewidth": 0,
             "ticks": ""
            },
            "type": "choropleth"
           }
          ],
          "contour": [
           {
            "colorbar": {
             "outlinewidth": 0,
             "ticks": ""
            },
            "colorscale": [
             [
              0,
              "#0d0887"
             ],
             [
              0.1111111111111111,
              "#46039f"
             ],
             [
              0.2222222222222222,
              "#7201a8"
             ],
             [
              0.3333333333333333,
              "#9c179e"
             ],
             [
              0.4444444444444444,
              "#bd3786"
             ],
             [
              0.5555555555555556,
              "#d8576b"
             ],
             [
              0.6666666666666666,
              "#ed7953"
             ],
             [
              0.7777777777777778,
              "#fb9f3a"
             ],
             [
              0.8888888888888888,
              "#fdca26"
             ],
             [
              1,
              "#f0f921"
             ]
            ],
            "type": "contour"
           }
          ],
          "contourcarpet": [
           {
            "colorbar": {
             "outlinewidth": 0,
             "ticks": ""
            },
            "type": "contourcarpet"
           }
          ],
          "heatmap": [
           {
            "colorbar": {
             "outlinewidth": 0,
             "ticks": ""
            },
            "colorscale": [
             [
              0,
              "#0d0887"
             ],
             [
              0.1111111111111111,
              "#46039f"
             ],
             [
              0.2222222222222222,
              "#7201a8"
             ],
             [
              0.3333333333333333,
              "#9c179e"
             ],
             [
              0.4444444444444444,
              "#bd3786"
             ],
             [
              0.5555555555555556,
              "#d8576b"
             ],
             [
              0.6666666666666666,
              "#ed7953"
             ],
             [
              0.7777777777777778,
              "#fb9f3a"
             ],
             [
              0.8888888888888888,
              "#fdca26"
             ],
             [
              1,
              "#f0f921"
             ]
            ],
            "type": "heatmap"
           }
          ],
          "heatmapgl": [
           {
            "colorbar": {
             "outlinewidth": 0,
             "ticks": ""
            },
            "colorscale": [
             [
              0,
              "#0d0887"
             ],
             [
              0.1111111111111111,
              "#46039f"
             ],
             [
              0.2222222222222222,
              "#7201a8"
             ],
             [
              0.3333333333333333,
              "#9c179e"
             ],
             [
              0.4444444444444444,
              "#bd3786"
             ],
             [
              0.5555555555555556,
              "#d8576b"
             ],
             [
              0.6666666666666666,
              "#ed7953"
             ],
             [
              0.7777777777777778,
              "#fb9f3a"
             ],
             [
              0.8888888888888888,
              "#fdca26"
             ],
             [
              1,
              "#f0f921"
             ]
            ],
            "type": "heatmapgl"
           }
          ],
          "histogram": [
           {
            "marker": {
             "pattern": {
              "fillmode": "overlay",
              "size": 10,
              "solidity": 0.2
             }
            },
            "type": "histogram"
           }
          ],
          "histogram2d": [
           {
            "colorbar": {
             "outlinewidth": 0,
             "ticks": ""
            },
            "colorscale": [
             [
              0,
              "#0d0887"
             ],
             [
              0.1111111111111111,
              "#46039f"
             ],
             [
              0.2222222222222222,
              "#7201a8"
             ],
             [
              0.3333333333333333,
              "#9c179e"
             ],
             [
              0.4444444444444444,
              "#bd3786"
             ],
             [
              0.5555555555555556,
              "#d8576b"
             ],
             [
              0.6666666666666666,
              "#ed7953"
             ],
             [
              0.7777777777777778,
              "#fb9f3a"
             ],
             [
              0.8888888888888888,
              "#fdca26"
             ],
             [
              1,
              "#f0f921"
             ]
            ],
            "type": "histogram2d"
           }
          ],
          "histogram2dcontour": [
           {
            "colorbar": {
             "outlinewidth": 0,
             "ticks": ""
            },
            "colorscale": [
             [
              0,
              "#0d0887"
             ],
             [
              0.1111111111111111,
              "#46039f"
             ],
             [
              0.2222222222222222,
              "#7201a8"
             ],
             [
              0.3333333333333333,
              "#9c179e"
             ],
             [
              0.4444444444444444,
              "#bd3786"
             ],
             [
              0.5555555555555556,
              "#d8576b"
             ],
             [
              0.6666666666666666,
              "#ed7953"
             ],
             [
              0.7777777777777778,
              "#fb9f3a"
             ],
             [
              0.8888888888888888,
              "#fdca26"
             ],
             [
              1,
              "#f0f921"
             ]
            ],
            "type": "histogram2dcontour"
           }
          ],
          "mesh3d": [
           {
            "colorbar": {
             "outlinewidth": 0,
             "ticks": ""
            },
            "type": "mesh3d"
           }
          ],
          "parcoords": [
           {
            "line": {
             "colorbar": {
              "outlinewidth": 0,
              "ticks": ""
             }
            },
            "type": "parcoords"
           }
          ],
          "pie": [
           {
            "automargin": true,
            "type": "pie"
           }
          ],
          "scatter": [
           {
            "fillpattern": {
             "fillmode": "overlay",
             "size": 10,
             "solidity": 0.2
            },
            "type": "scatter"
           }
          ],
          "scatter3d": [
           {
            "line": {
             "colorbar": {
              "outlinewidth": 0,
              "ticks": ""
             }
            },
            "marker": {
             "colorbar": {
              "outlinewidth": 0,
              "ticks": ""
             }
            },
            "type": "scatter3d"
           }
          ],
          "scattercarpet": [
           {
            "marker": {
             "colorbar": {
              "outlinewidth": 0,
              "ticks": ""
             }
            },
            "type": "scattercarpet"
           }
          ],
          "scattergeo": [
           {
            "marker": {
             "colorbar": {
              "outlinewidth": 0,
              "ticks": ""
             }
            },
            "type": "scattergeo"
           }
          ],
          "scattergl": [
           {
            "marker": {
             "colorbar": {
              "outlinewidth": 0,
              "ticks": ""
             }
            },
            "type": "scattergl"
           }
          ],
          "scattermapbox": [
           {
            "marker": {
             "colorbar": {
              "outlinewidth": 0,
              "ticks": ""
             }
            },
            "type": "scattermapbox"
           }
          ],
          "scatterpolar": [
           {
            "marker": {
             "colorbar": {
              "outlinewidth": 0,
              "ticks": ""
             }
            },
            "type": "scatterpolar"
           }
          ],
          "scatterpolargl": [
           {
            "marker": {
             "colorbar": {
              "outlinewidth": 0,
              "ticks": ""
             }
            },
            "type": "scatterpolargl"
           }
          ],
          "scatterternary": [
           {
            "marker": {
             "colorbar": {
              "outlinewidth": 0,
              "ticks": ""
             }
            },
            "type": "scatterternary"
           }
          ],
          "surface": [
           {
            "colorbar": {
             "outlinewidth": 0,
             "ticks": ""
            },
            "colorscale": [
             [
              0,
              "#0d0887"
             ],
             [
              0.1111111111111111,
              "#46039f"
             ],
             [
              0.2222222222222222,
              "#7201a8"
             ],
             [
              0.3333333333333333,
              "#9c179e"
             ],
             [
              0.4444444444444444,
              "#bd3786"
             ],
             [
              0.5555555555555556,
              "#d8576b"
             ],
             [
              0.6666666666666666,
              "#ed7953"
             ],
             [
              0.7777777777777778,
              "#fb9f3a"
             ],
             [
              0.8888888888888888,
              "#fdca26"
             ],
             [
              1,
              "#f0f921"
             ]
            ],
            "type": "surface"
           }
          ],
          "table": [
           {
            "cells": {
             "fill": {
              "color": "#EBF0F8"
             },
             "line": {
              "color": "white"
             }
            },
            "header": {
             "fill": {
              "color": "#C8D4E3"
             },
             "line": {
              "color": "white"
             }
            },
            "type": "table"
           }
          ]
         },
         "layout": {
          "annotationdefaults": {
           "arrowcolor": "#2a3f5f",
           "arrowhead": 0,
           "arrowwidth": 1
          },
          "autotypenumbers": "strict",
          "coloraxis": {
           "colorbar": {
            "outlinewidth": 0,
            "ticks": ""
           }
          },
          "colorscale": {
           "diverging": [
            [
             0,
             "#8e0152"
            ],
            [
             0.1,
             "#c51b7d"
            ],
            [
             0.2,
             "#de77ae"
            ],
            [
             0.3,
             "#f1b6da"
            ],
            [
             0.4,
             "#fde0ef"
            ],
            [
             0.5,
             "#f7f7f7"
            ],
            [
             0.6,
             "#e6f5d0"
            ],
            [
             0.7,
             "#b8e186"
            ],
            [
             0.8,
             "#7fbc41"
            ],
            [
             0.9,
             "#4d9221"
            ],
            [
             1,
             "#276419"
            ]
           ],
           "sequential": [
            [
             0,
             "#0d0887"
            ],
            [
             0.1111111111111111,
             "#46039f"
            ],
            [
             0.2222222222222222,
             "#7201a8"
            ],
            [
             0.3333333333333333,
             "#9c179e"
            ],
            [
             0.4444444444444444,
             "#bd3786"
            ],
            [
             0.5555555555555556,
             "#d8576b"
            ],
            [
             0.6666666666666666,
             "#ed7953"
            ],
            [
             0.7777777777777778,
             "#fb9f3a"
            ],
            [
             0.8888888888888888,
             "#fdca26"
            ],
            [
             1,
             "#f0f921"
            ]
           ],
           "sequentialminus": [
            [
             0,
             "#0d0887"
            ],
            [
             0.1111111111111111,
             "#46039f"
            ],
            [
             0.2222222222222222,
             "#7201a8"
            ],
            [
             0.3333333333333333,
             "#9c179e"
            ],
            [
             0.4444444444444444,
             "#bd3786"
            ],
            [
             0.5555555555555556,
             "#d8576b"
            ],
            [
             0.6666666666666666,
             "#ed7953"
            ],
            [
             0.7777777777777778,
             "#fb9f3a"
            ],
            [
             0.8888888888888888,
             "#fdca26"
            ],
            [
             1,
             "#f0f921"
            ]
           ]
          },
          "colorway": [
           "#636efa",
           "#EF553B",
           "#00cc96",
           "#ab63fa",
           "#FFA15A",
           "#19d3f3",
           "#FF6692",
           "#B6E880",
           "#FF97FF",
           "#FECB52"
          ],
          "font": {
           "color": "#2a3f5f"
          },
          "geo": {
           "bgcolor": "white",
           "lakecolor": "white",
           "landcolor": "#E5ECF6",
           "showlakes": true,
           "showland": true,
           "subunitcolor": "white"
          },
          "hoverlabel": {
           "align": "left"
          },
          "hovermode": "closest",
          "mapbox": {
           "style": "light"
          },
          "paper_bgcolor": "white",
          "plot_bgcolor": "#E5ECF6",
          "polar": {
           "angularaxis": {
            "gridcolor": "white",
            "linecolor": "white",
            "ticks": ""
           },
           "bgcolor": "#E5ECF6",
           "radialaxis": {
            "gridcolor": "white",
            "linecolor": "white",
            "ticks": ""
           }
          },
          "scene": {
           "xaxis": {
            "backgroundcolor": "#E5ECF6",
            "gridcolor": "white",
            "gridwidth": 2,
            "linecolor": "white",
            "showbackground": true,
            "ticks": "",
            "zerolinecolor": "white"
           },
           "yaxis": {
            "backgroundcolor": "#E5ECF6",
            "gridcolor": "white",
            "gridwidth": 2,
            "linecolor": "white",
            "showbackground": true,
            "ticks": "",
            "zerolinecolor": "white"
           },
           "zaxis": {
            "backgroundcolor": "#E5ECF6",
            "gridcolor": "white",
            "gridwidth": 2,
            "linecolor": "white",
            "showbackground": true,
            "ticks": "",
            "zerolinecolor": "white"
           }
          },
          "shapedefaults": {
           "line": {
            "color": "#2a3f5f"
           }
          },
          "ternary": {
           "aaxis": {
            "gridcolor": "white",
            "linecolor": "white",
            "ticks": ""
           },
           "baxis": {
            "gridcolor": "white",
            "linecolor": "white",
            "ticks": ""
           },
           "bgcolor": "#E5ECF6",
           "caxis": {
            "gridcolor": "white",
            "linecolor": "white",
            "ticks": ""
           }
          },
          "title": {
           "x": 0.05
          },
          "xaxis": {
           "automargin": true,
           "gridcolor": "white",
           "linecolor": "white",
           "ticks": "",
           "title": {
            "standoff": 15
           },
           "zerolinecolor": "white",
           "zerolinewidth": 2
          },
          "yaxis": {
           "automargin": true,
           "gridcolor": "white",
           "linecolor": "white",
           "ticks": "",
           "title": {
            "standoff": 15
           },
           "zerolinecolor": "white",
           "zerolinewidth": 2
          }
         }
        },
        "title": {
         "text": "Global average temperature anomaly relative to 1961-1990"
        },
        "xaxis": {
         "anchor": "y",
         "domain": [
          0,
          1
         ],
         "title": {
          "text": "Year"
         }
        },
        "yaxis": {
         "anchor": "x",
         "domain": [
          0,
          1
         ],
         "title": {
          "text": "value"
         }
        }
       }
      },
      "text/html": [
       "<div>                            <div id=\"ed5bccdf-a36b-4088-8b8b-234103315144\" class=\"plotly-graph-div\" style=\"height:525px; width:100%;\"></div>            <script type=\"text/javascript\">                require([\"plotly\"], function(Plotly) {                    window.PLOTLYENV=window.PLOTLYENV || {};                                    if (document.getElementById(\"ed5bccdf-a36b-4088-8b8b-234103315144\")) {                    Plotly.newPlot(                        \"ed5bccdf-a36b-4088-8b8b-234103315144\",                        [{\"hovertemplate\":\"variable=Global average temperature anomaly relative to 1961-1990\\u003cbr\\u003eYear=%{x}\\u003cbr\\u003evalue=%{y}\\u003cextra\\u003e\\u003c\\u002fextra\\u003e\",\"legendgroup\":\"Global average temperature anomaly relative to 1961-1990\",\"line\":{\"color\":\"#636efa\",\"dash\":\"solid\"},\"marker\":{\"symbol\":\"circle\"},\"mode\":\"lines\",\"name\":\"Global average temperature anomaly relative to 1961-1990\",\"orientation\":\"v\",\"showlegend\":true,\"x\":[1850,1851,1852,1853,1854,1855,1856,1857,1858,1859,1860,1861,1862,1863,1864,1865,1866,1867,1868,1869,1870,1871,1872,1873,1874,1875,1876,1877,1878,1879,1880,1881,1882,1883,1884,1885,1886,1887,1888,1889,1890,1891,1892,1893,1894,1895,1896,1897,1898,1899,1900,1901,1902,1903,1904,1905,1906,1907,1908,1909,1910,1911,1912,1913,1914,1915,1916,1917,1918,1919,1920,1921,1922,1923,1924,1925,1926,1927,1928,1929,1930,1931,1932,1933,1934,1935,1936,1937,1938,1939,1940,1941,1942,1943,1944,1945,1946,1947,1948,1949,1950,1951,1952,1953,1954,1955,1956,1957,1958,1959,1960,1961,1962,1963,1964,1965,1966,1967,1968,1969,1970,1971,1972,1973,1974,1975,1976,1977,1978,1979,1980,1981,1982,1983,1984,1985,1986,1987,1988,1989,1990,1991,1992,1993,1994,1995,1996,1997,1998,1999,2000,2001,2002,2003,2004,2005,2006,2007,2008,2009,2010,2011,2012,2013,2014,2015,2016,2017,2018,2019,2020,2021,2022],\"xaxis\":\"x\",\"y\":[-0.41765878,-0.2333498,-0.22939907,-0.27035445,-0.29163003,-0.2969512,-0.32035372,-0.46723005,-0.3887657,-0.28119546,-0.39016518,-0.42927712,-0.53639776,-0.3443432,-0.4654367,-0.33258784,-0.34126064,-0.35696334,-0.35196072,-0.31657043,-0.32789087,-0.3685807,-0.32804197,-0.34133235,-0.3732512,-0.37562594,-0.42410994,-0.101108834,-0.011315193,-0.30363432,-0.31583208,-0.23224552,-0.29553008,-0.3464744,-0.49232006,-0.47112358,-0.42090362,-0.49878576,-0.37937889,-0.24989556,-0.50685817,-0.40131494,-0.5075585,-0.49461925,-0.48376393,-0.4487516,-0.28400728,-0.25980017,-0.48579213,-0.35543364,-0.23447904,-0.29342857,-0.43898427,-0.5333264,-0.5975614,-0.40775132,-0.3191393,-0.5041577,-0.5138707,-0.5357649,-0.5310242,-0.5392051,-0.47567302,-0.46715254,-0.2625924,-0.19184391,-0.42020997,-0.54301953,-0.42458433,-0.32551822,-0.2985808,-0.24067703,-0.33922812,-0.31793055,-0.3120622,-0.28242525,-0.12283547,-0.22940508,-0.20676155,-0.39275664,-0.1768054,-0.10339768,-0.14546166,-0.32234442,-0.17433685,-0.20605922,-0.16952093,-0.01919893,-0.012200732,-0.040797167,0.07593584,0.038129337,0.001406091,0.006414075,0.14410514,0.043088365,-0.1188128,-0.091205545,-0.12466127,-0.14380224,-0.22662179,-0.06115397,0.015354565,0.07763074,-0.11675021,-0.19730993,-0.2631656,-0.035334926,-0.017632553,-0.048004825,-0.115487024,-0.019997388,-0.06405444,-0.03680589,-0.30586675,-0.2043879,-0.14888458,-0.11751631,-0.1686323,-0.031366713,-0.08510657,-0.20593274,-0.0938271,0.04993336,-0.17253734,-0.11075424,-0.21586166,0.10308852,0.005255772,0.09085813,0.19607207,0.25001204,0.034263328,0.22383861,0.04800471,0.04972978,0.09568697,0.2430264,0.28215173,0.17925027,0.36056247,0.33889654,0.124896795,0.16565846,0.23354977,0.37686616,0.2766894,0.4223085,0.57731646,0.32448497,0.3310848,0.48928034,0.5434665,0.5441702,0.46737072,0.60686255,0.5725527,0.5917013,0.46564984,0.5967817,0.68037146,0.53769773,0.5776071,0.6235754,0.67287165,0.82511437,0.93292713,0.84517425,0.762654,0.8910726,0.9227938,0.7618559,0.80124223],\"yaxis\":\"y\",\"type\":\"scatter\"},{\"hovertemplate\":\"variable=Upper bound (95% confidence interval) of the annual temperature anomaly\\u003cbr\\u003eYear=%{x}\\u003cbr\\u003evalue=%{y}\\u003cextra\\u003e\\u003c\\u002fextra\\u003e\",\"legendgroup\":\"Upper bound (95% confidence interval) of the annual temperature anomaly\",\"line\":{\"color\":\"#EF553B\",\"dash\":\"solid\"},\"marker\":{\"symbol\":\"circle\"},\"mode\":\"lines\",\"name\":\"Upper bound (95% confidence interval) of the annual temperature anomaly\",\"orientation\":\"v\",\"showlegend\":true,\"x\":[1850,1851,1852,1853,1854,1855,1856,1857,1858,1859,1860,1861,1862,1863,1864,1865,1866,1867,1868,1869,1870,1871,1872,1873,1874,1875,1876,1877,1878,1879,1880,1881,1882,1883,1884,1885,1886,1887,1888,1889,1890,1891,1892,1893,1894,1895,1896,1897,1898,1899,1900,1901,1902,1903,1904,1905,1906,1907,1908,1909,1910,1911,1912,1913,1914,1915,1916,1917,1918,1919,1920,1921,1922,1923,1924,1925,1926,1927,1928,1929,1930,1931,1932,1933,1934,1935,1936,1937,1938,1939,1940,1941,1942,1943,1944,1945,1946,1947,1948,1949,1950,1951,1952,1953,1954,1955,1956,1957,1958,1959,1960,1961,1962,1963,1964,1965,1966,1967,1968,1969,1970,1971,1972,1973,1974,1975,1976,1977,1978,1979,1980,1981,1982,1983,1984,1985,1986,1987,1988,1989,1990,1991,1992,1993,1994,1995,1996,1997,1998,1999,2000,2001,2002,2003,2004,2005,2006,2007,2008,2009,2010,2011,2012,2013,2014,2015,2016,2017,2018,2019,2020,2021,2022],\"xaxis\":\"x\",\"y\":[-0.24611452,-0.054831687,-0.04941572,-0.110699534,-0.15043613,-0.15454465,-0.1726142,-0.31813794,-0.24064532,-0.13854107,-0.24135375,-0.26132414,-0.36908585,-0.1545219,-0.282776,-0.14052312,-0.16068307,-0.16086453,-0.17426313,-0.15671812,-0.18710826,-0.22301209,-0.19300064,-0.21012507,-0.2393598,-0.23721085,-0.28534868,0.027602348,0.10858219,-0.1732043,-0.19151321,-0.10655605,-0.17091006,-0.23213111,-0.38197154,-0.35917896,-0.31926903,-0.3810117,-0.265434,-0.12757017,-0.3813068,-0.26525995,-0.3707885,-0.35770702,-0.34195974,-0.3154826,-0.15061308,-0.12107607,-0.35393503,-0.22447036,-0.10199049,-0.15718324,-0.30254042,-0.40583345,-0.46629035,-0.28047356,-0.18775477,-0.38203365,-0.3902612,-0.41890016,-0.40636164,-0.4161705,-0.36201498,-0.34492958,-0.1424214,-0.06172589,-0.28152588,-0.3939199,-0.26718682,-0.1695783,-0.14856121,-0.09960067,-0.21235302,-0.1916881,-0.18529275,-0.15007503,0.006976739,-0.10745319,-0.074705064,-0.25894582,-0.06319936,0.005896248,-0.0389682,-0.21758842,-0.07466974,-0.10862111,-0.07552261,0.08136089,0.08590227,0.065110326,0.19382134,0.23851255,0.19802457,0.21241911,0.3427051,0.24345961,0.028331792,0.04937931,0.009810844,-0.033526987,-0.12058662,0.028042298,0.11364509,0.1757911,-0.024997713,-0.1101899,-0.18720557,0.029898768,0.04780945,0.0143541,-0.056808177,0.030785747,-0.010794453,0.016958294,-0.26224136,-0.15520222,-0.09937696,-0.07440783,-0.124011464,0.009132013,-0.04413217,-0.16735843,-0.05593726,0.086398184,-0.1348509,-0.07020335,-0.17583954,0.14612034,0.04508841,0.119357646,0.22934014,0.28063282,0.07363132,0.2596032,0.08444869,0.08379609,0.12696595,0.27386728,0.31726816,0.21400215,0.39657268,0.3737569,0.15891153,0.2031438,0.2686866,0.41007656,0.31019878,0.4545262,0.6115888,0.35613516,0.36394167,0.5204924,0.57415116,0.5770977,0.5004031,0.6380198,0.60313237,0.6220495,0.49864236,0.6283077,0.7116669,0.5693943,0.6103589,0.6586669,0.7068384,0.8589417,0.96409065,0.87557375,0.79425603,0.92535794,0.9573755,0.79826844,0.83731264],\"yaxis\":\"y\",\"type\":\"scatter\"},{\"hovertemplate\":\"variable=Lower bound (95% confidence interval) of the annual temperature anomaly\\u003cbr\\u003eYear=%{x}\\u003cbr\\u003evalue=%{y}\\u003cextra\\u003e\\u003c\\u002fextra\\u003e\",\"legendgroup\":\"Lower bound (95% confidence interval) of the annual temperature anomaly\",\"line\":{\"color\":\"#00cc96\",\"dash\":\"solid\"},\"marker\":{\"symbol\":\"circle\"},\"mode\":\"lines\",\"name\":\"Lower bound (95% confidence interval) of the annual temperature anomaly\",\"orientation\":\"v\",\"showlegend\":true,\"x\":[1850,1851,1852,1853,1854,1855,1856,1857,1858,1859,1860,1861,1862,1863,1864,1865,1866,1867,1868,1869,1870,1871,1872,1873,1874,1875,1876,1877,1878,1879,1880,1881,1882,1883,1884,1885,1886,1887,1888,1889,1890,1891,1892,1893,1894,1895,1896,1897,1898,1899,1900,1901,1902,1903,1904,1905,1906,1907,1908,1909,1910,1911,1912,1913,1914,1915,1916,1917,1918,1919,1920,1921,1922,1923,1924,1925,1926,1927,1928,1929,1930,1931,1932,1933,1934,1935,1936,1937,1938,1939,1940,1941,1942,1943,1944,1945,1946,1947,1948,1949,1950,1951,1952,1953,1954,1955,1956,1957,1958,1959,1960,1961,1962,1963,1964,1965,1966,1967,1968,1969,1970,1971,1972,1973,1974,1975,1976,1977,1978,1979,1980,1981,1982,1983,1984,1985,1986,1987,1988,1989,1990,1991,1992,1993,1994,1995,1996,1997,1998,1999,2000,2001,2002,2003,2004,2005,2006,2007,2008,2009,2010,2011,2012,2013,2014,2015,2016,2017,2018,2019,2020,2021,2022],\"xaxis\":\"x\",\"y\":[-0.589203,-0.41186792,-0.40938243,-0.43000934,-0.43282393,-0.43935776,-0.46809322,-0.61632216,-0.53688604,-0.42384982,-0.5389766,-0.5972301,-0.7037096,-0.5341645,-0.6480974,-0.5246526,-0.52183825,-0.55306214,-0.52965826,-0.47642276,-0.46867347,-0.5141493,-0.4630833,-0.4725396,-0.5071426,-0.514041,-0.56287116,-0.22982001,-0.13121258,-0.43406433,-0.44015095,-0.35793498,-0.4201501,-0.4608177,-0.6026686,-0.5830682,-0.5225382,-0.61655986,-0.49332377,-0.37222093,-0.6324095,-0.5373699,-0.64432853,-0.6315314,-0.6255681,-0.58202064,-0.4174015,-0.39852425,-0.6176492,-0.48639694,-0.3669676,-0.42967388,-0.5754281,-0.66081935,-0.7288325,-0.5350291,-0.45052385,-0.6262818,-0.63748026,-0.6526296,-0.6556868,-0.66223973,-0.5893311,-0.5893755,-0.38276345,-0.32196194,-0.5588941,-0.6921192,-0.58198184,-0.48145813,-0.44860035,-0.38175339,-0.46610323,-0.444173,-0.4388317,-0.4147755,-0.25264767,-0.35135695,-0.33881804,-0.52656746,-0.29041144,-0.2126916,-0.25195515,-0.4271004,-0.27400395,-0.30349734,-0.26351926,-0.11975875,-0.11030374,-0.14670466,-0.04194966,-0.16225387,-0.1952124,-0.19959097,-0.054494828,-0.15728289,-0.2659574,-0.23179041,-0.25913337,-0.2540775,-0.33265698,-0.15035024,-0.08293597,-0.020529618,-0.20850271,-0.28442997,-0.33912563,-0.10056862,-0.083074555,-0.11036375,-0.17416587,-0.07078052,-0.11731443,-0.09057008,-0.34949213,-0.25357357,-0.19839221,-0.16062479,-0.21325313,-0.07186544,-0.12608096,-0.24450706,-0.13171694,0.013468528,-0.21022376,-0.15130512,-0.25588378,0.060056705,-0.034576867,0.062358618,0.162804,0.21939126,-0.005104665,0.18807402,0.011560736,0.015663471,0.064408,0.21218552,0.2470353,0.14449838,0.32455227,0.30403617,0.09088206,0.12817313,0.19841294,0.34365577,0.24318004,0.39009082,0.54304415,0.29283476,0.29822788,0.4580683,0.51278186,0.5112426,0.43433833,0.5757053,0.541973,0.56135315,0.43265733,0.56525564,0.649076,0.5060012,0.5448553,0.5884838,0.63890487,0.79128706,0.90176356,0.81477475,0.731052,0.85678726,0.8882121,0.72544336,0.7651718],\"yaxis\":\"y\",\"type\":\"scatter\"}],                        {\"template\":{\"data\":{\"histogram2dcontour\":[{\"type\":\"histogram2dcontour\",\"colorbar\":{\"outlinewidth\":0,\"ticks\":\"\"},\"colorscale\":[[0.0,\"#0d0887\"],[0.1111111111111111,\"#46039f\"],[0.2222222222222222,\"#7201a8\"],[0.3333333333333333,\"#9c179e\"],[0.4444444444444444,\"#bd3786\"],[0.5555555555555556,\"#d8576b\"],[0.6666666666666666,\"#ed7953\"],[0.7777777777777778,\"#fb9f3a\"],[0.8888888888888888,\"#fdca26\"],[1.0,\"#f0f921\"]]}],\"choropleth\":[{\"type\":\"choropleth\",\"colorbar\":{\"outlinewidth\":0,\"ticks\":\"\"}}],\"histogram2d\":[{\"type\":\"histogram2d\",\"colorbar\":{\"outlinewidth\":0,\"ticks\":\"\"},\"colorscale\":[[0.0,\"#0d0887\"],[0.1111111111111111,\"#46039f\"],[0.2222222222222222,\"#7201a8\"],[0.3333333333333333,\"#9c179e\"],[0.4444444444444444,\"#bd3786\"],[0.5555555555555556,\"#d8576b\"],[0.6666666666666666,\"#ed7953\"],[0.7777777777777778,\"#fb9f3a\"],[0.8888888888888888,\"#fdca26\"],[1.0,\"#f0f921\"]]}],\"heatmap\":[{\"type\":\"heatmap\",\"colorbar\":{\"outlinewidth\":0,\"ticks\":\"\"},\"colorscale\":[[0.0,\"#0d0887\"],[0.1111111111111111,\"#46039f\"],[0.2222222222222222,\"#7201a8\"],[0.3333333333333333,\"#9c179e\"],[0.4444444444444444,\"#bd3786\"],[0.5555555555555556,\"#d8576b\"],[0.6666666666666666,\"#ed7953\"],[0.7777777777777778,\"#fb9f3a\"],[0.8888888888888888,\"#fdca26\"],[1.0,\"#f0f921\"]]}],\"heatmapgl\":[{\"type\":\"heatmapgl\",\"colorbar\":{\"outlinewidth\":0,\"ticks\":\"\"},\"colorscale\":[[0.0,\"#0d0887\"],[0.1111111111111111,\"#46039f\"],[0.2222222222222222,\"#7201a8\"],[0.3333333333333333,\"#9c179e\"],[0.4444444444444444,\"#bd3786\"],[0.5555555555555556,\"#d8576b\"],[0.6666666666666666,\"#ed7953\"],[0.7777777777777778,\"#fb9f3a\"],[0.8888888888888888,\"#fdca26\"],[1.0,\"#f0f921\"]]}],\"contourcarpet\":[{\"type\":\"contourcarpet\",\"colorbar\":{\"outlinewidth\":0,\"ticks\":\"\"}}],\"contour\":[{\"type\":\"contour\",\"colorbar\":{\"outlinewidth\":0,\"ticks\":\"\"},\"colorscale\":[[0.0,\"#0d0887\"],[0.1111111111111111,\"#46039f\"],[0.2222222222222222,\"#7201a8\"],[0.3333333333333333,\"#9c179e\"],[0.4444444444444444,\"#bd3786\"],[0.5555555555555556,\"#d8576b\"],[0.6666666666666666,\"#ed7953\"],[0.7777777777777778,\"#fb9f3a\"],[0.8888888888888888,\"#fdca26\"],[1.0,\"#f0f921\"]]}],\"surface\":[{\"type\":\"surface\",\"colorbar\":{\"outlinewidth\":0,\"ticks\":\"\"},\"colorscale\":[[0.0,\"#0d0887\"],[0.1111111111111111,\"#46039f\"],[0.2222222222222222,\"#7201a8\"],[0.3333333333333333,\"#9c179e\"],[0.4444444444444444,\"#bd3786\"],[0.5555555555555556,\"#d8576b\"],[0.6666666666666666,\"#ed7953\"],[0.7777777777777778,\"#fb9f3a\"],[0.8888888888888888,\"#fdca26\"],[1.0,\"#f0f921\"]]}],\"mesh3d\":[{\"type\":\"mesh3d\",\"colorbar\":{\"outlinewidth\":0,\"ticks\":\"\"}}],\"scatter\":[{\"fillpattern\":{\"fillmode\":\"overlay\",\"size\":10,\"solidity\":0.2},\"type\":\"scatter\"}],\"parcoords\":[{\"type\":\"parcoords\",\"line\":{\"colorbar\":{\"outlinewidth\":0,\"ticks\":\"\"}}}],\"scatterpolargl\":[{\"type\":\"scatterpolargl\",\"marker\":{\"colorbar\":{\"outlinewidth\":0,\"ticks\":\"\"}}}],\"bar\":[{\"error_x\":{\"color\":\"#2a3f5f\"},\"error_y\":{\"color\":\"#2a3f5f\"},\"marker\":{\"line\":{\"color\":\"#E5ECF6\",\"width\":0.5},\"pattern\":{\"fillmode\":\"overlay\",\"size\":10,\"solidity\":0.2}},\"type\":\"bar\"}],\"scattergeo\":[{\"type\":\"scattergeo\",\"marker\":{\"colorbar\":{\"outlinewidth\":0,\"ticks\":\"\"}}}],\"scatterpolar\":[{\"type\":\"scatterpolar\",\"marker\":{\"colorbar\":{\"outlinewidth\":0,\"ticks\":\"\"}}}],\"histogram\":[{\"marker\":{\"pattern\":{\"fillmode\":\"overlay\",\"size\":10,\"solidity\":0.2}},\"type\":\"histogram\"}],\"scattergl\":[{\"type\":\"scattergl\",\"marker\":{\"colorbar\":{\"outlinewidth\":0,\"ticks\":\"\"}}}],\"scatter3d\":[{\"type\":\"scatter3d\",\"line\":{\"colorbar\":{\"outlinewidth\":0,\"ticks\":\"\"}},\"marker\":{\"colorbar\":{\"outlinewidth\":0,\"ticks\":\"\"}}}],\"scattermapbox\":[{\"type\":\"scattermapbox\",\"marker\":{\"colorbar\":{\"outlinewidth\":0,\"ticks\":\"\"}}}],\"scatterternary\":[{\"type\":\"scatterternary\",\"marker\":{\"colorbar\":{\"outlinewidth\":0,\"ticks\":\"\"}}}],\"scattercarpet\":[{\"type\":\"scattercarpet\",\"marker\":{\"colorbar\":{\"outlinewidth\":0,\"ticks\":\"\"}}}],\"carpet\":[{\"aaxis\":{\"endlinecolor\":\"#2a3f5f\",\"gridcolor\":\"white\",\"linecolor\":\"white\",\"minorgridcolor\":\"white\",\"startlinecolor\":\"#2a3f5f\"},\"baxis\":{\"endlinecolor\":\"#2a3f5f\",\"gridcolor\":\"white\",\"linecolor\":\"white\",\"minorgridcolor\":\"white\",\"startlinecolor\":\"#2a3f5f\"},\"type\":\"carpet\"}],\"table\":[{\"cells\":{\"fill\":{\"color\":\"#EBF0F8\"},\"line\":{\"color\":\"white\"}},\"header\":{\"fill\":{\"color\":\"#C8D4E3\"},\"line\":{\"color\":\"white\"}},\"type\":\"table\"}],\"barpolar\":[{\"marker\":{\"line\":{\"color\":\"#E5ECF6\",\"width\":0.5},\"pattern\":{\"fillmode\":\"overlay\",\"size\":10,\"solidity\":0.2}},\"type\":\"barpolar\"}],\"pie\":[{\"automargin\":true,\"type\":\"pie\"}]},\"layout\":{\"autotypenumbers\":\"strict\",\"colorway\":[\"#636efa\",\"#EF553B\",\"#00cc96\",\"#ab63fa\",\"#FFA15A\",\"#19d3f3\",\"#FF6692\",\"#B6E880\",\"#FF97FF\",\"#FECB52\"],\"font\":{\"color\":\"#2a3f5f\"},\"hovermode\":\"closest\",\"hoverlabel\":{\"align\":\"left\"},\"paper_bgcolor\":\"white\",\"plot_bgcolor\":\"#E5ECF6\",\"polar\":{\"bgcolor\":\"#E5ECF6\",\"angularaxis\":{\"gridcolor\":\"white\",\"linecolor\":\"white\",\"ticks\":\"\"},\"radialaxis\":{\"gridcolor\":\"white\",\"linecolor\":\"white\",\"ticks\":\"\"}},\"ternary\":{\"bgcolor\":\"#E5ECF6\",\"aaxis\":{\"gridcolor\":\"white\",\"linecolor\":\"white\",\"ticks\":\"\"},\"baxis\":{\"gridcolor\":\"white\",\"linecolor\":\"white\",\"ticks\":\"\"},\"caxis\":{\"gridcolor\":\"white\",\"linecolor\":\"white\",\"ticks\":\"\"}},\"coloraxis\":{\"colorbar\":{\"outlinewidth\":0,\"ticks\":\"\"}},\"colorscale\":{\"sequential\":[[0.0,\"#0d0887\"],[0.1111111111111111,\"#46039f\"],[0.2222222222222222,\"#7201a8\"],[0.3333333333333333,\"#9c179e\"],[0.4444444444444444,\"#bd3786\"],[0.5555555555555556,\"#d8576b\"],[0.6666666666666666,\"#ed7953\"],[0.7777777777777778,\"#fb9f3a\"],[0.8888888888888888,\"#fdca26\"],[1.0,\"#f0f921\"]],\"sequentialminus\":[[0.0,\"#0d0887\"],[0.1111111111111111,\"#46039f\"],[0.2222222222222222,\"#7201a8\"],[0.3333333333333333,\"#9c179e\"],[0.4444444444444444,\"#bd3786\"],[0.5555555555555556,\"#d8576b\"],[0.6666666666666666,\"#ed7953\"],[0.7777777777777778,\"#fb9f3a\"],[0.8888888888888888,\"#fdca26\"],[1.0,\"#f0f921\"]],\"diverging\":[[0,\"#8e0152\"],[0.1,\"#c51b7d\"],[0.2,\"#de77ae\"],[0.3,\"#f1b6da\"],[0.4,\"#fde0ef\"],[0.5,\"#f7f7f7\"],[0.6,\"#e6f5d0\"],[0.7,\"#b8e186\"],[0.8,\"#7fbc41\"],[0.9,\"#4d9221\"],[1,\"#276419\"]]},\"xaxis\":{\"gridcolor\":\"white\",\"linecolor\":\"white\",\"ticks\":\"\",\"title\":{\"standoff\":15},\"zerolinecolor\":\"white\",\"automargin\":true,\"zerolinewidth\":2},\"yaxis\":{\"gridcolor\":\"white\",\"linecolor\":\"white\",\"ticks\":\"\",\"title\":{\"standoff\":15},\"zerolinecolor\":\"white\",\"automargin\":true,\"zerolinewidth\":2},\"scene\":{\"xaxis\":{\"backgroundcolor\":\"#E5ECF6\",\"gridcolor\":\"white\",\"linecolor\":\"white\",\"showbackground\":true,\"ticks\":\"\",\"zerolinecolor\":\"white\",\"gridwidth\":2},\"yaxis\":{\"backgroundcolor\":\"#E5ECF6\",\"gridcolor\":\"white\",\"linecolor\":\"white\",\"showbackground\":true,\"ticks\":\"\",\"zerolinecolor\":\"white\",\"gridwidth\":2},\"zaxis\":{\"backgroundcolor\":\"#E5ECF6\",\"gridcolor\":\"white\",\"linecolor\":\"white\",\"showbackground\":true,\"ticks\":\"\",\"zerolinecolor\":\"white\",\"gridwidth\":2}},\"shapedefaults\":{\"line\":{\"color\":\"#2a3f5f\"}},\"annotationdefaults\":{\"arrowcolor\":\"#2a3f5f\",\"arrowhead\":0,\"arrowwidth\":1},\"geo\":{\"bgcolor\":\"white\",\"landcolor\":\"#E5ECF6\",\"subunitcolor\":\"white\",\"showland\":true,\"showlakes\":true,\"lakecolor\":\"white\"},\"title\":{\"x\":0.05},\"mapbox\":{\"style\":\"light\"}}},\"xaxis\":{\"anchor\":\"y\",\"domain\":[0.0,1.0],\"title\":{\"text\":\"Year\"}},\"yaxis\":{\"anchor\":\"x\",\"domain\":[0.0,1.0],\"title\":{\"text\":\"value\"}},\"legend\":{\"title\":{\"text\":\"variable\"},\"tracegroupgap\":0},\"title\":{\"text\":\"Global average temperature anomaly relative to 1961-1990\"}},                        {\"responsive\": true}                    ).then(function(){\n",
       "                            \n",
       "var gd = document.getElementById('ed5bccdf-a36b-4088-8b8b-234103315144');\n",
       "var x = new MutationObserver(function (mutations, observer) {{\n",
       "        var display = window.getComputedStyle(gd).display;\n",
       "        if (!display || display === 'none') {{\n",
       "            console.log([gd, 'removed!']);\n",
       "            Plotly.purge(gd);\n",
       "            observer.disconnect();\n",
       "        }}\n",
       "}});\n",
       "\n",
       "// Listen for the removal of the full notebook cells\n",
       "var notebookContainer = gd.closest('#notebook-container');\n",
       "if (notebookContainer) {{\n",
       "    x.observe(notebookContainer, {childList: true});\n",
       "}}\n",
       "\n",
       "// Listen for the clearing of the current output cell\n",
       "var outputEl = gd.closest('.output');\n",
       "if (outputEl) {{\n",
       "    x.observe(outputEl, {childList: true});\n",
       "}}\n",
       "\n",
       "                        })                };                });            </script>        </div>"
      ]
     },
     "metadata": {},
     "output_type": "display_data"
    }
   ],
   "source": [
    "# first, let's look at more than the median\n",
    "fig = px.line(\n",
    "    df_global, \n",
    "    x=\"Year\", \n",
    "    y=[\n",
    "        \"Global average temperature anomaly relative to 1961-1990\",\n",
    "        \"Upper bound (95% confidence interval) of the annual temperature anomaly\",\n",
    "        \"Lower bound (95% confidence interval) of the annual temperature anomaly\",\n",
    "    ],\n",
    "    title='Global average temperature anomaly relative to 1961-1990',\n",
    ")\n",
    "fig.show()"
   ]
  },
  {
   "cell_type": "code",
   "execution_count": 79,
   "id": "819ebc50",
   "metadata": {},
   "outputs": [],
   "source": [
    "# the column names are very long, so let's shorten them\n",
    "df_global = df_global.rename(\n",
    "    columns={\n",
    "        'Global average temperature anomaly relative to 1961-1990' : 'Median',\n",
    "        'Upper bound (95% confidence interval) of the annual temperature anomaly' : 'U.Bound',\n",
    "        'Lower bound (95% confidence interval) of the annual temperature anomaly' : 'L.Bound',\n",
    "    },\n",
    ")"
   ]
  },
  {
   "cell_type": "code",
   "execution_count": 80,
   "id": "64fdb87f",
   "metadata": {},
   "outputs": [
    {
     "data": {
      "text/html": [
       "<div>\n",
       "<style scoped>\n",
       "    .dataframe tbody tr th:only-of-type {\n",
       "        vertical-align: middle;\n",
       "    }\n",
       "\n",
       "    .dataframe tbody tr th {\n",
       "        vertical-align: top;\n",
       "    }\n",
       "\n",
       "    .dataframe thead th {\n",
       "        text-align: right;\n",
       "    }\n",
       "</style>\n",
       "<table border=\"1\" class=\"dataframe\">\n",
       "  <thead>\n",
       "    <tr style=\"text-align: right;\">\n",
       "      <th></th>\n",
       "      <th>Year</th>\n",
       "      <th>U.Bound</th>\n",
       "      <th>Median</th>\n",
       "      <th>L.Bound</th>\n",
       "    </tr>\n",
       "  </thead>\n",
       "  <tbody>\n",
       "    <tr>\n",
       "      <th>0</th>\n",
       "      <td>1850</td>\n",
       "      <td>-0.25</td>\n",
       "      <td>-0.42</td>\n",
       "      <td>-0.59</td>\n",
       "    </tr>\n",
       "    <tr>\n",
       "      <th>1</th>\n",
       "      <td>1851</td>\n",
       "      <td>-0.05</td>\n",
       "      <td>-0.23</td>\n",
       "      <td>-0.41</td>\n",
       "    </tr>\n",
       "    <tr>\n",
       "      <th>2</th>\n",
       "      <td>1852</td>\n",
       "      <td>-0.05</td>\n",
       "      <td>-0.23</td>\n",
       "      <td>-0.41</td>\n",
       "    </tr>\n",
       "    <tr>\n",
       "      <th>3</th>\n",
       "      <td>1853</td>\n",
       "      <td>-0.11</td>\n",
       "      <td>-0.27</td>\n",
       "      <td>-0.43</td>\n",
       "    </tr>\n",
       "    <tr>\n",
       "      <th>4</th>\n",
       "      <td>1854</td>\n",
       "      <td>-0.15</td>\n",
       "      <td>-0.29</td>\n",
       "      <td>-0.43</td>\n",
       "    </tr>\n",
       "  </tbody>\n",
       "</table>\n",
       "</div>"
      ],
      "text/plain": [
       "   Year  U.Bound  Median  L.Bound\n",
       "0  1850    -0.25   -0.42    -0.59\n",
       "1  1851    -0.05   -0.23    -0.41\n",
       "2  1852    -0.05   -0.23    -0.41\n",
       "3  1853    -0.11   -0.27    -0.43\n",
       "4  1854    -0.15   -0.29    -0.43"
      ]
     },
     "execution_count": 80,
     "metadata": {},
     "output_type": "execute_result"
    }
   ],
   "source": [
    "# round to 2 d.p.\n",
    "columns_to_round = ['Median','U.Bound','L.Bound']\n",
    "df_global[columns_to_round] = df_global[columns_to_round].round(2)\n",
    "# reorder to put median in between bounds\n",
    "df_global = df_global[['Year','U.Bound','Median','L.Bound']]\n",
    "df_global.head()"
   ]
  },
  {
   "cell_type": "markdown",
   "id": "7b1f6ece",
   "metadata": {},
   "source": [
    "The data is how we want it now. Let's look at the line graph again."
   ]
  },
  {
   "cell_type": "code",
   "execution_count": 84,
   "id": "cf92d59e",
   "metadata": {
    "scrolled": false
   },
   "outputs": [
    {
     "data": {
      "application/vnd.plotly.v1+json": {
       "config": {
        "plotlyServerURL": "https://plot.ly"
       },
       "data": [
        {
         "hovertemplate": "variable=U.Bound<br>Year=%{x}<br>value=%{y}<extra></extra>",
         "legendgroup": "U.Bound",
         "line": {
          "color": "#636efa",
          "dash": "solid"
         },
         "marker": {
          "symbol": "circle"
         },
         "mode": "lines",
         "name": "U.Bound",
         "orientation": "v",
         "showlegend": true,
         "type": "scatter",
         "x": [
          1850,
          1851,
          1852,
          1853,
          1854,
          1855,
          1856,
          1857,
          1858,
          1859,
          1860,
          1861,
          1862,
          1863,
          1864,
          1865,
          1866,
          1867,
          1868,
          1869,
          1870,
          1871,
          1872,
          1873,
          1874,
          1875,
          1876,
          1877,
          1878,
          1879,
          1880,
          1881,
          1882,
          1883,
          1884,
          1885,
          1886,
          1887,
          1888,
          1889,
          1890,
          1891,
          1892,
          1893,
          1894,
          1895,
          1896,
          1897,
          1898,
          1899,
          1900,
          1901,
          1902,
          1903,
          1904,
          1905,
          1906,
          1907,
          1908,
          1909,
          1910,
          1911,
          1912,
          1913,
          1914,
          1915,
          1916,
          1917,
          1918,
          1919,
          1920,
          1921,
          1922,
          1923,
          1924,
          1925,
          1926,
          1927,
          1928,
          1929,
          1930,
          1931,
          1932,
          1933,
          1934,
          1935,
          1936,
          1937,
          1938,
          1939,
          1940,
          1941,
          1942,
          1943,
          1944,
          1945,
          1946,
          1947,
          1948,
          1949,
          1950,
          1951,
          1952,
          1953,
          1954,
          1955,
          1956,
          1957,
          1958,
          1959,
          1960,
          1961,
          1962,
          1963,
          1964,
          1965,
          1966,
          1967,
          1968,
          1969,
          1970,
          1971,
          1972,
          1973,
          1974,
          1975,
          1976,
          1977,
          1978,
          1979,
          1980,
          1981,
          1982,
          1983,
          1984,
          1985,
          1986,
          1987,
          1988,
          1989,
          1990,
          1991,
          1992,
          1993,
          1994,
          1995,
          1996,
          1997,
          1998,
          1999,
          2000,
          2001,
          2002,
          2003,
          2004,
          2005,
          2006,
          2007,
          2008,
          2009,
          2010,
          2011,
          2012,
          2013,
          2014,
          2015,
          2016,
          2017,
          2018,
          2019,
          2020,
          2021,
          2022
         ],
         "xaxis": "x",
         "y": [
          -0.25,
          -0.05,
          -0.05,
          -0.11,
          -0.15,
          -0.15,
          -0.17,
          -0.32,
          -0.24,
          -0.14,
          -0.24,
          -0.26,
          -0.37,
          -0.15,
          -0.28,
          -0.14,
          -0.16,
          -0.16,
          -0.17,
          -0.16,
          -0.19,
          -0.22,
          -0.19,
          -0.21,
          -0.24,
          -0.24,
          -0.29,
          0.03,
          0.11,
          -0.17,
          -0.19,
          -0.11,
          -0.17,
          -0.23,
          -0.38,
          -0.36,
          -0.32,
          -0.38,
          -0.27,
          -0.13,
          -0.38,
          -0.27,
          -0.37,
          -0.36,
          -0.34,
          -0.32,
          -0.15,
          -0.12,
          -0.35,
          -0.22,
          -0.1,
          -0.16,
          -0.3,
          -0.41,
          -0.47,
          -0.28,
          -0.19,
          -0.38,
          -0.39,
          -0.42,
          -0.41,
          -0.42,
          -0.36,
          -0.34,
          -0.14,
          -0.06,
          -0.28,
          -0.39,
          -0.27,
          -0.17,
          -0.15,
          -0.1,
          -0.21,
          -0.19,
          -0.19,
          -0.15,
          0.01,
          -0.11,
          -0.07,
          -0.26,
          -0.06,
          0.01,
          -0.04,
          -0.22,
          -0.07,
          -0.11,
          -0.08,
          0.08,
          0.09,
          0.07,
          0.19,
          0.24,
          0.2,
          0.21,
          0.34,
          0.24,
          0.03,
          0.05,
          0.01,
          -0.03,
          -0.12,
          0.03,
          0.11,
          0.18,
          -0.02,
          -0.11,
          -0.19,
          0.03,
          0.05,
          0.01,
          -0.06,
          0.03,
          -0.01,
          0.02,
          -0.26,
          -0.16,
          -0.1,
          -0.07,
          -0.12,
          0.01,
          -0.04,
          -0.17,
          -0.06,
          0.09,
          -0.13,
          -0.07,
          -0.18,
          0.15,
          0.05,
          0.12,
          0.23,
          0.28,
          0.07,
          0.26,
          0.08,
          0.08,
          0.13,
          0.27,
          0.32,
          0.21,
          0.4,
          0.37,
          0.16,
          0.2,
          0.27,
          0.41,
          0.31,
          0.45,
          0.61,
          0.36,
          0.36,
          0.52,
          0.57,
          0.58,
          0.5,
          0.64,
          0.6,
          0.62,
          0.5,
          0.63,
          0.71,
          0.57,
          0.61,
          0.66,
          0.71,
          0.86,
          0.96,
          0.88,
          0.79,
          0.93,
          0.96,
          0.8,
          0.84
         ],
         "yaxis": "y"
        },
        {
         "hovertemplate": "variable=Median<br>Year=%{x}<br>value=%{y}<extra></extra>",
         "legendgroup": "Median",
         "line": {
          "color": "#EF553B",
          "dash": "solid"
         },
         "marker": {
          "symbol": "circle"
         },
         "mode": "lines",
         "name": "Median",
         "orientation": "v",
         "showlegend": true,
         "type": "scatter",
         "x": [
          1850,
          1851,
          1852,
          1853,
          1854,
          1855,
          1856,
          1857,
          1858,
          1859,
          1860,
          1861,
          1862,
          1863,
          1864,
          1865,
          1866,
          1867,
          1868,
          1869,
          1870,
          1871,
          1872,
          1873,
          1874,
          1875,
          1876,
          1877,
          1878,
          1879,
          1880,
          1881,
          1882,
          1883,
          1884,
          1885,
          1886,
          1887,
          1888,
          1889,
          1890,
          1891,
          1892,
          1893,
          1894,
          1895,
          1896,
          1897,
          1898,
          1899,
          1900,
          1901,
          1902,
          1903,
          1904,
          1905,
          1906,
          1907,
          1908,
          1909,
          1910,
          1911,
          1912,
          1913,
          1914,
          1915,
          1916,
          1917,
          1918,
          1919,
          1920,
          1921,
          1922,
          1923,
          1924,
          1925,
          1926,
          1927,
          1928,
          1929,
          1930,
          1931,
          1932,
          1933,
          1934,
          1935,
          1936,
          1937,
          1938,
          1939,
          1940,
          1941,
          1942,
          1943,
          1944,
          1945,
          1946,
          1947,
          1948,
          1949,
          1950,
          1951,
          1952,
          1953,
          1954,
          1955,
          1956,
          1957,
          1958,
          1959,
          1960,
          1961,
          1962,
          1963,
          1964,
          1965,
          1966,
          1967,
          1968,
          1969,
          1970,
          1971,
          1972,
          1973,
          1974,
          1975,
          1976,
          1977,
          1978,
          1979,
          1980,
          1981,
          1982,
          1983,
          1984,
          1985,
          1986,
          1987,
          1988,
          1989,
          1990,
          1991,
          1992,
          1993,
          1994,
          1995,
          1996,
          1997,
          1998,
          1999,
          2000,
          2001,
          2002,
          2003,
          2004,
          2005,
          2006,
          2007,
          2008,
          2009,
          2010,
          2011,
          2012,
          2013,
          2014,
          2015,
          2016,
          2017,
          2018,
          2019,
          2020,
          2021,
          2022
         ],
         "xaxis": "x",
         "y": [
          -0.42,
          -0.23,
          -0.23,
          -0.27,
          -0.29,
          -0.3,
          -0.32,
          -0.47,
          -0.39,
          -0.28,
          -0.39,
          -0.43,
          -0.54,
          -0.34,
          -0.47,
          -0.33,
          -0.34,
          -0.36,
          -0.35,
          -0.32,
          -0.33,
          -0.37,
          -0.33,
          -0.34,
          -0.37,
          -0.38,
          -0.42,
          -0.1,
          -0.01,
          -0.3,
          -0.32,
          -0.23,
          -0.3,
          -0.35,
          -0.49,
          -0.47,
          -0.42,
          -0.5,
          -0.38,
          -0.25,
          -0.51,
          -0.4,
          -0.51,
          -0.49,
          -0.48,
          -0.45,
          -0.28,
          -0.26,
          -0.49,
          -0.36,
          -0.23,
          -0.29,
          -0.44,
          -0.53,
          -0.6,
          -0.41,
          -0.32,
          -0.5,
          -0.51,
          -0.54,
          -0.53,
          -0.54,
          -0.48,
          -0.47,
          -0.26,
          -0.19,
          -0.42,
          -0.54,
          -0.42,
          -0.33,
          -0.3,
          -0.24,
          -0.34,
          -0.32,
          -0.31,
          -0.28,
          -0.12,
          -0.23,
          -0.21,
          -0.39,
          -0.18,
          -0.1,
          -0.15,
          -0.32,
          -0.17,
          -0.21,
          -0.17,
          -0.02,
          -0.01,
          -0.04,
          0.08,
          0.04,
          0,
          0.01,
          0.14,
          0.04,
          -0.12,
          -0.09,
          -0.12,
          -0.14,
          -0.23,
          -0.06,
          0.02,
          0.08,
          -0.12,
          -0.2,
          -0.26,
          -0.04,
          -0.02,
          -0.05,
          -0.12,
          -0.02,
          -0.06,
          -0.04,
          -0.31,
          -0.2,
          -0.15,
          -0.12,
          -0.17,
          -0.03,
          -0.09,
          -0.21,
          -0.09,
          0.05,
          -0.17,
          -0.11,
          -0.22,
          0.1,
          0.01,
          0.09,
          0.2,
          0.25,
          0.03,
          0.22,
          0.05,
          0.05,
          0.1,
          0.24,
          0.28,
          0.18,
          0.36,
          0.34,
          0.12,
          0.17,
          0.23,
          0.38,
          0.28,
          0.42,
          0.58,
          0.32,
          0.33,
          0.49,
          0.54,
          0.54,
          0.47,
          0.61,
          0.57,
          0.59,
          0.47,
          0.6,
          0.68,
          0.54,
          0.58,
          0.62,
          0.67,
          0.83,
          0.93,
          0.85,
          0.76,
          0.89,
          0.92,
          0.76,
          0.8
         ],
         "yaxis": "y"
        },
        {
         "hovertemplate": "variable=L.Bound<br>Year=%{x}<br>value=%{y}<extra></extra>",
         "legendgroup": "L.Bound",
         "line": {
          "color": "#00cc96",
          "dash": "solid"
         },
         "marker": {
          "symbol": "circle"
         },
         "mode": "lines",
         "name": "L.Bound",
         "orientation": "v",
         "showlegend": true,
         "type": "scatter",
         "x": [
          1850,
          1851,
          1852,
          1853,
          1854,
          1855,
          1856,
          1857,
          1858,
          1859,
          1860,
          1861,
          1862,
          1863,
          1864,
          1865,
          1866,
          1867,
          1868,
          1869,
          1870,
          1871,
          1872,
          1873,
          1874,
          1875,
          1876,
          1877,
          1878,
          1879,
          1880,
          1881,
          1882,
          1883,
          1884,
          1885,
          1886,
          1887,
          1888,
          1889,
          1890,
          1891,
          1892,
          1893,
          1894,
          1895,
          1896,
          1897,
          1898,
          1899,
          1900,
          1901,
          1902,
          1903,
          1904,
          1905,
          1906,
          1907,
          1908,
          1909,
          1910,
          1911,
          1912,
          1913,
          1914,
          1915,
          1916,
          1917,
          1918,
          1919,
          1920,
          1921,
          1922,
          1923,
          1924,
          1925,
          1926,
          1927,
          1928,
          1929,
          1930,
          1931,
          1932,
          1933,
          1934,
          1935,
          1936,
          1937,
          1938,
          1939,
          1940,
          1941,
          1942,
          1943,
          1944,
          1945,
          1946,
          1947,
          1948,
          1949,
          1950,
          1951,
          1952,
          1953,
          1954,
          1955,
          1956,
          1957,
          1958,
          1959,
          1960,
          1961,
          1962,
          1963,
          1964,
          1965,
          1966,
          1967,
          1968,
          1969,
          1970,
          1971,
          1972,
          1973,
          1974,
          1975,
          1976,
          1977,
          1978,
          1979,
          1980,
          1981,
          1982,
          1983,
          1984,
          1985,
          1986,
          1987,
          1988,
          1989,
          1990,
          1991,
          1992,
          1993,
          1994,
          1995,
          1996,
          1997,
          1998,
          1999,
          2000,
          2001,
          2002,
          2003,
          2004,
          2005,
          2006,
          2007,
          2008,
          2009,
          2010,
          2011,
          2012,
          2013,
          2014,
          2015,
          2016,
          2017,
          2018,
          2019,
          2020,
          2021,
          2022
         ],
         "xaxis": "x",
         "y": [
          -0.59,
          -0.41,
          -0.41,
          -0.43,
          -0.43,
          -0.44,
          -0.47,
          -0.62,
          -0.54,
          -0.42,
          -0.54,
          -0.6,
          -0.7,
          -0.53,
          -0.65,
          -0.52,
          -0.52,
          -0.55,
          -0.53,
          -0.48,
          -0.47,
          -0.51,
          -0.46,
          -0.47,
          -0.51,
          -0.51,
          -0.56,
          -0.23,
          -0.13,
          -0.43,
          -0.44,
          -0.36,
          -0.42,
          -0.46,
          -0.6,
          -0.58,
          -0.52,
          -0.62,
          -0.49,
          -0.37,
          -0.63,
          -0.54,
          -0.64,
          -0.63,
          -0.63,
          -0.58,
          -0.42,
          -0.4,
          -0.62,
          -0.49,
          -0.37,
          -0.43,
          -0.58,
          -0.66,
          -0.73,
          -0.54,
          -0.45,
          -0.63,
          -0.64,
          -0.65,
          -0.66,
          -0.66,
          -0.59,
          -0.59,
          -0.38,
          -0.32,
          -0.56,
          -0.69,
          -0.58,
          -0.48,
          -0.45,
          -0.38,
          -0.47,
          -0.44,
          -0.44,
          -0.41,
          -0.25,
          -0.35,
          -0.34,
          -0.53,
          -0.29,
          -0.21,
          -0.25,
          -0.43,
          -0.27,
          -0.3,
          -0.26,
          -0.12,
          -0.11,
          -0.15,
          -0.04,
          -0.16,
          -0.2,
          -0.2,
          -0.05,
          -0.16,
          -0.27,
          -0.23,
          -0.26,
          -0.25,
          -0.33,
          -0.15,
          -0.08,
          -0.02,
          -0.21,
          -0.28,
          -0.34,
          -0.1,
          -0.08,
          -0.11,
          -0.17,
          -0.07,
          -0.12,
          -0.09,
          -0.35,
          -0.25,
          -0.2,
          -0.16,
          -0.21,
          -0.07,
          -0.13,
          -0.24,
          -0.13,
          0.01,
          -0.21,
          -0.15,
          -0.26,
          0.06,
          -0.03,
          0.06,
          0.16,
          0.22,
          -0.01,
          0.19,
          0.01,
          0.02,
          0.06,
          0.21,
          0.25,
          0.14,
          0.32,
          0.3,
          0.09,
          0.13,
          0.2,
          0.34,
          0.24,
          0.39,
          0.54,
          0.29,
          0.3,
          0.46,
          0.51,
          0.51,
          0.43,
          0.58,
          0.54,
          0.56,
          0.43,
          0.57,
          0.65,
          0.51,
          0.54,
          0.59,
          0.64,
          0.79,
          0.9,
          0.81,
          0.73,
          0.86,
          0.89,
          0.73,
          0.77
         ],
         "yaxis": "y"
        }
       ],
       "layout": {
        "legend": {
         "title": {
          "text": "variable"
         },
         "tracegroupgap": 0
        },
        "template": {
         "data": {
          "bar": [
           {
            "error_x": {
             "color": "#2a3f5f"
            },
            "error_y": {
             "color": "#2a3f5f"
            },
            "marker": {
             "line": {
              "color": "#E5ECF6",
              "width": 0.5
             },
             "pattern": {
              "fillmode": "overlay",
              "size": 10,
              "solidity": 0.2
             }
            },
            "type": "bar"
           }
          ],
          "barpolar": [
           {
            "marker": {
             "line": {
              "color": "#E5ECF6",
              "width": 0.5
             },
             "pattern": {
              "fillmode": "overlay",
              "size": 10,
              "solidity": 0.2
             }
            },
            "type": "barpolar"
           }
          ],
          "carpet": [
           {
            "aaxis": {
             "endlinecolor": "#2a3f5f",
             "gridcolor": "white",
             "linecolor": "white",
             "minorgridcolor": "white",
             "startlinecolor": "#2a3f5f"
            },
            "baxis": {
             "endlinecolor": "#2a3f5f",
             "gridcolor": "white",
             "linecolor": "white",
             "minorgridcolor": "white",
             "startlinecolor": "#2a3f5f"
            },
            "type": "carpet"
           }
          ],
          "choropleth": [
           {
            "colorbar": {
             "outlinewidth": 0,
             "ticks": ""
            },
            "type": "choropleth"
           }
          ],
          "contour": [
           {
            "colorbar": {
             "outlinewidth": 0,
             "ticks": ""
            },
            "colorscale": [
             [
              0,
              "#0d0887"
             ],
             [
              0.1111111111111111,
              "#46039f"
             ],
             [
              0.2222222222222222,
              "#7201a8"
             ],
             [
              0.3333333333333333,
              "#9c179e"
             ],
             [
              0.4444444444444444,
              "#bd3786"
             ],
             [
              0.5555555555555556,
              "#d8576b"
             ],
             [
              0.6666666666666666,
              "#ed7953"
             ],
             [
              0.7777777777777778,
              "#fb9f3a"
             ],
             [
              0.8888888888888888,
              "#fdca26"
             ],
             [
              1,
              "#f0f921"
             ]
            ],
            "type": "contour"
           }
          ],
          "contourcarpet": [
           {
            "colorbar": {
             "outlinewidth": 0,
             "ticks": ""
            },
            "type": "contourcarpet"
           }
          ],
          "heatmap": [
           {
            "colorbar": {
             "outlinewidth": 0,
             "ticks": ""
            },
            "colorscale": [
             [
              0,
              "#0d0887"
             ],
             [
              0.1111111111111111,
              "#46039f"
             ],
             [
              0.2222222222222222,
              "#7201a8"
             ],
             [
              0.3333333333333333,
              "#9c179e"
             ],
             [
              0.4444444444444444,
              "#bd3786"
             ],
             [
              0.5555555555555556,
              "#d8576b"
             ],
             [
              0.6666666666666666,
              "#ed7953"
             ],
             [
              0.7777777777777778,
              "#fb9f3a"
             ],
             [
              0.8888888888888888,
              "#fdca26"
             ],
             [
              1,
              "#f0f921"
             ]
            ],
            "type": "heatmap"
           }
          ],
          "heatmapgl": [
           {
            "colorbar": {
             "outlinewidth": 0,
             "ticks": ""
            },
            "colorscale": [
             [
              0,
              "#0d0887"
             ],
             [
              0.1111111111111111,
              "#46039f"
             ],
             [
              0.2222222222222222,
              "#7201a8"
             ],
             [
              0.3333333333333333,
              "#9c179e"
             ],
             [
              0.4444444444444444,
              "#bd3786"
             ],
             [
              0.5555555555555556,
              "#d8576b"
             ],
             [
              0.6666666666666666,
              "#ed7953"
             ],
             [
              0.7777777777777778,
              "#fb9f3a"
             ],
             [
              0.8888888888888888,
              "#fdca26"
             ],
             [
              1,
              "#f0f921"
             ]
            ],
            "type": "heatmapgl"
           }
          ],
          "histogram": [
           {
            "marker": {
             "pattern": {
              "fillmode": "overlay",
              "size": 10,
              "solidity": 0.2
             }
            },
            "type": "histogram"
           }
          ],
          "histogram2d": [
           {
            "colorbar": {
             "outlinewidth": 0,
             "ticks": ""
            },
            "colorscale": [
             [
              0,
              "#0d0887"
             ],
             [
              0.1111111111111111,
              "#46039f"
             ],
             [
              0.2222222222222222,
              "#7201a8"
             ],
             [
              0.3333333333333333,
              "#9c179e"
             ],
             [
              0.4444444444444444,
              "#bd3786"
             ],
             [
              0.5555555555555556,
              "#d8576b"
             ],
             [
              0.6666666666666666,
              "#ed7953"
             ],
             [
              0.7777777777777778,
              "#fb9f3a"
             ],
             [
              0.8888888888888888,
              "#fdca26"
             ],
             [
              1,
              "#f0f921"
             ]
            ],
            "type": "histogram2d"
           }
          ],
          "histogram2dcontour": [
           {
            "colorbar": {
             "outlinewidth": 0,
             "ticks": ""
            },
            "colorscale": [
             [
              0,
              "#0d0887"
             ],
             [
              0.1111111111111111,
              "#46039f"
             ],
             [
              0.2222222222222222,
              "#7201a8"
             ],
             [
              0.3333333333333333,
              "#9c179e"
             ],
             [
              0.4444444444444444,
              "#bd3786"
             ],
             [
              0.5555555555555556,
              "#d8576b"
             ],
             [
              0.6666666666666666,
              "#ed7953"
             ],
             [
              0.7777777777777778,
              "#fb9f3a"
             ],
             [
              0.8888888888888888,
              "#fdca26"
             ],
             [
              1,
              "#f0f921"
             ]
            ],
            "type": "histogram2dcontour"
           }
          ],
          "mesh3d": [
           {
            "colorbar": {
             "outlinewidth": 0,
             "ticks": ""
            },
            "type": "mesh3d"
           }
          ],
          "parcoords": [
           {
            "line": {
             "colorbar": {
              "outlinewidth": 0,
              "ticks": ""
             }
            },
            "type": "parcoords"
           }
          ],
          "pie": [
           {
            "automargin": true,
            "type": "pie"
           }
          ],
          "scatter": [
           {
            "fillpattern": {
             "fillmode": "overlay",
             "size": 10,
             "solidity": 0.2
            },
            "type": "scatter"
           }
          ],
          "scatter3d": [
           {
            "line": {
             "colorbar": {
              "outlinewidth": 0,
              "ticks": ""
             }
            },
            "marker": {
             "colorbar": {
              "outlinewidth": 0,
              "ticks": ""
             }
            },
            "type": "scatter3d"
           }
          ],
          "scattercarpet": [
           {
            "marker": {
             "colorbar": {
              "outlinewidth": 0,
              "ticks": ""
             }
            },
            "type": "scattercarpet"
           }
          ],
          "scattergeo": [
           {
            "marker": {
             "colorbar": {
              "outlinewidth": 0,
              "ticks": ""
             }
            },
            "type": "scattergeo"
           }
          ],
          "scattergl": [
           {
            "marker": {
             "colorbar": {
              "outlinewidth": 0,
              "ticks": ""
             }
            },
            "type": "scattergl"
           }
          ],
          "scattermapbox": [
           {
            "marker": {
             "colorbar": {
              "outlinewidth": 0,
              "ticks": ""
             }
            },
            "type": "scattermapbox"
           }
          ],
          "scatterpolar": [
           {
            "marker": {
             "colorbar": {
              "outlinewidth": 0,
              "ticks": ""
             }
            },
            "type": "scatterpolar"
           }
          ],
          "scatterpolargl": [
           {
            "marker": {
             "colorbar": {
              "outlinewidth": 0,
              "ticks": ""
             }
            },
            "type": "scatterpolargl"
           }
          ],
          "scatterternary": [
           {
            "marker": {
             "colorbar": {
              "outlinewidth": 0,
              "ticks": ""
             }
            },
            "type": "scatterternary"
           }
          ],
          "surface": [
           {
            "colorbar": {
             "outlinewidth": 0,
             "ticks": ""
            },
            "colorscale": [
             [
              0,
              "#0d0887"
             ],
             [
              0.1111111111111111,
              "#46039f"
             ],
             [
              0.2222222222222222,
              "#7201a8"
             ],
             [
              0.3333333333333333,
              "#9c179e"
             ],
             [
              0.4444444444444444,
              "#bd3786"
             ],
             [
              0.5555555555555556,
              "#d8576b"
             ],
             [
              0.6666666666666666,
              "#ed7953"
             ],
             [
              0.7777777777777778,
              "#fb9f3a"
             ],
             [
              0.8888888888888888,
              "#fdca26"
             ],
             [
              1,
              "#f0f921"
             ]
            ],
            "type": "surface"
           }
          ],
          "table": [
           {
            "cells": {
             "fill": {
              "color": "#EBF0F8"
             },
             "line": {
              "color": "white"
             }
            },
            "header": {
             "fill": {
              "color": "#C8D4E3"
             },
             "line": {
              "color": "white"
             }
            },
            "type": "table"
           }
          ]
         },
         "layout": {
          "annotationdefaults": {
           "arrowcolor": "#2a3f5f",
           "arrowhead": 0,
           "arrowwidth": 1
          },
          "autotypenumbers": "strict",
          "coloraxis": {
           "colorbar": {
            "outlinewidth": 0,
            "ticks": ""
           }
          },
          "colorscale": {
           "diverging": [
            [
             0,
             "#8e0152"
            ],
            [
             0.1,
             "#c51b7d"
            ],
            [
             0.2,
             "#de77ae"
            ],
            [
             0.3,
             "#f1b6da"
            ],
            [
             0.4,
             "#fde0ef"
            ],
            [
             0.5,
             "#f7f7f7"
            ],
            [
             0.6,
             "#e6f5d0"
            ],
            [
             0.7,
             "#b8e186"
            ],
            [
             0.8,
             "#7fbc41"
            ],
            [
             0.9,
             "#4d9221"
            ],
            [
             1,
             "#276419"
            ]
           ],
           "sequential": [
            [
             0,
             "#0d0887"
            ],
            [
             0.1111111111111111,
             "#46039f"
            ],
            [
             0.2222222222222222,
             "#7201a8"
            ],
            [
             0.3333333333333333,
             "#9c179e"
            ],
            [
             0.4444444444444444,
             "#bd3786"
            ],
            [
             0.5555555555555556,
             "#d8576b"
            ],
            [
             0.6666666666666666,
             "#ed7953"
            ],
            [
             0.7777777777777778,
             "#fb9f3a"
            ],
            [
             0.8888888888888888,
             "#fdca26"
            ],
            [
             1,
             "#f0f921"
            ]
           ],
           "sequentialminus": [
            [
             0,
             "#0d0887"
            ],
            [
             0.1111111111111111,
             "#46039f"
            ],
            [
             0.2222222222222222,
             "#7201a8"
            ],
            [
             0.3333333333333333,
             "#9c179e"
            ],
            [
             0.4444444444444444,
             "#bd3786"
            ],
            [
             0.5555555555555556,
             "#d8576b"
            ],
            [
             0.6666666666666666,
             "#ed7953"
            ],
            [
             0.7777777777777778,
             "#fb9f3a"
            ],
            [
             0.8888888888888888,
             "#fdca26"
            ],
            [
             1,
             "#f0f921"
            ]
           ]
          },
          "colorway": [
           "#636efa",
           "#EF553B",
           "#00cc96",
           "#ab63fa",
           "#FFA15A",
           "#19d3f3",
           "#FF6692",
           "#B6E880",
           "#FF97FF",
           "#FECB52"
          ],
          "font": {
           "color": "#2a3f5f"
          },
          "geo": {
           "bgcolor": "white",
           "lakecolor": "white",
           "landcolor": "#E5ECF6",
           "showlakes": true,
           "showland": true,
           "subunitcolor": "white"
          },
          "hoverlabel": {
           "align": "left"
          },
          "hovermode": "closest",
          "mapbox": {
           "style": "light"
          },
          "paper_bgcolor": "white",
          "plot_bgcolor": "#E5ECF6",
          "polar": {
           "angularaxis": {
            "gridcolor": "white",
            "linecolor": "white",
            "ticks": ""
           },
           "bgcolor": "#E5ECF6",
           "radialaxis": {
            "gridcolor": "white",
            "linecolor": "white",
            "ticks": ""
           }
          },
          "scene": {
           "xaxis": {
            "backgroundcolor": "#E5ECF6",
            "gridcolor": "white",
            "gridwidth": 2,
            "linecolor": "white",
            "showbackground": true,
            "ticks": "",
            "zerolinecolor": "white"
           },
           "yaxis": {
            "backgroundcolor": "#E5ECF6",
            "gridcolor": "white",
            "gridwidth": 2,
            "linecolor": "white",
            "showbackground": true,
            "ticks": "",
            "zerolinecolor": "white"
           },
           "zaxis": {
            "backgroundcolor": "#E5ECF6",
            "gridcolor": "white",
            "gridwidth": 2,
            "linecolor": "white",
            "showbackground": true,
            "ticks": "",
            "zerolinecolor": "white"
           }
          },
          "shapedefaults": {
           "line": {
            "color": "#2a3f5f"
           }
          },
          "ternary": {
           "aaxis": {
            "gridcolor": "white",
            "linecolor": "white",
            "ticks": ""
           },
           "baxis": {
            "gridcolor": "white",
            "linecolor": "white",
            "ticks": ""
           },
           "bgcolor": "#E5ECF6",
           "caxis": {
            "gridcolor": "white",
            "linecolor": "white",
            "ticks": ""
           }
          },
          "title": {
           "x": 0.05
          },
          "xaxis": {
           "automargin": true,
           "gridcolor": "white",
           "linecolor": "white",
           "ticks": "",
           "title": {
            "standoff": 15
           },
           "zerolinecolor": "white",
           "zerolinewidth": 2
          },
          "yaxis": {
           "automargin": true,
           "gridcolor": "white",
           "linecolor": "white",
           "ticks": "",
           "title": {
            "standoff": 15
           },
           "zerolinecolor": "white",
           "zerolinewidth": 2
          }
         }
        },
        "title": {
         "text": "Global average temperature anomaly relative to 1961-1990"
        },
        "xaxis": {
         "anchor": "y",
         "domain": [
          0,
          1
         ],
         "title": {
          "text": "Year"
         }
        },
        "yaxis": {
         "anchor": "x",
         "domain": [
          0,
          1
         ],
         "title": {
          "text": "value"
         }
        }
       }
      },
      "text/html": [
       "<div>                            <div id=\"3619f15f-1002-4fe3-b930-09aa3a39fbed\" class=\"plotly-graph-div\" style=\"height:525px; width:100%;\"></div>            <script type=\"text/javascript\">                require([\"plotly\"], function(Plotly) {                    window.PLOTLYENV=window.PLOTLYENV || {};                                    if (document.getElementById(\"3619f15f-1002-4fe3-b930-09aa3a39fbed\")) {                    Plotly.newPlot(                        \"3619f15f-1002-4fe3-b930-09aa3a39fbed\",                        [{\"hovertemplate\":\"variable=U.Bound\\u003cbr\\u003eYear=%{x}\\u003cbr\\u003evalue=%{y}\\u003cextra\\u003e\\u003c\\u002fextra\\u003e\",\"legendgroup\":\"U.Bound\",\"line\":{\"color\":\"#636efa\",\"dash\":\"solid\"},\"marker\":{\"symbol\":\"circle\"},\"mode\":\"lines\",\"name\":\"U.Bound\",\"orientation\":\"v\",\"showlegend\":true,\"x\":[1850,1851,1852,1853,1854,1855,1856,1857,1858,1859,1860,1861,1862,1863,1864,1865,1866,1867,1868,1869,1870,1871,1872,1873,1874,1875,1876,1877,1878,1879,1880,1881,1882,1883,1884,1885,1886,1887,1888,1889,1890,1891,1892,1893,1894,1895,1896,1897,1898,1899,1900,1901,1902,1903,1904,1905,1906,1907,1908,1909,1910,1911,1912,1913,1914,1915,1916,1917,1918,1919,1920,1921,1922,1923,1924,1925,1926,1927,1928,1929,1930,1931,1932,1933,1934,1935,1936,1937,1938,1939,1940,1941,1942,1943,1944,1945,1946,1947,1948,1949,1950,1951,1952,1953,1954,1955,1956,1957,1958,1959,1960,1961,1962,1963,1964,1965,1966,1967,1968,1969,1970,1971,1972,1973,1974,1975,1976,1977,1978,1979,1980,1981,1982,1983,1984,1985,1986,1987,1988,1989,1990,1991,1992,1993,1994,1995,1996,1997,1998,1999,2000,2001,2002,2003,2004,2005,2006,2007,2008,2009,2010,2011,2012,2013,2014,2015,2016,2017,2018,2019,2020,2021,2022],\"xaxis\":\"x\",\"y\":[-0.25,-0.05,-0.05,-0.11,-0.15,-0.15,-0.17,-0.32,-0.24,-0.14,-0.24,-0.26,-0.37,-0.15,-0.28,-0.14,-0.16,-0.16,-0.17,-0.16,-0.19,-0.22,-0.19,-0.21,-0.24,-0.24,-0.29,0.03,0.11,-0.17,-0.19,-0.11,-0.17,-0.23,-0.38,-0.36,-0.32,-0.38,-0.27,-0.13,-0.38,-0.27,-0.37,-0.36,-0.34,-0.32,-0.15,-0.12,-0.35,-0.22,-0.1,-0.16,-0.3,-0.41,-0.47,-0.28,-0.19,-0.38,-0.39,-0.42,-0.41,-0.42,-0.36,-0.34,-0.14,-0.06,-0.28,-0.39,-0.27,-0.17,-0.15,-0.1,-0.21,-0.19,-0.19,-0.15,0.01,-0.11,-0.07,-0.26,-0.06,0.01,-0.04,-0.22,-0.07,-0.11,-0.08,0.08,0.09,0.07,0.19,0.24,0.2,0.21,0.34,0.24,0.03,0.05,0.01,-0.03,-0.12,0.03,0.11,0.18,-0.02,-0.11,-0.19,0.03,0.05,0.01,-0.06,0.03,-0.01,0.02,-0.26,-0.16,-0.1,-0.07,-0.12,0.01,-0.04,-0.17,-0.06,0.09,-0.13,-0.07,-0.18,0.15,0.05,0.12,0.23,0.28,0.07,0.26,0.08,0.08,0.13,0.27,0.32,0.21,0.4,0.37,0.16,0.2,0.27,0.41,0.31,0.45,0.61,0.36,0.36,0.52,0.57,0.58,0.5,0.64,0.6,0.62,0.5,0.63,0.71,0.57,0.61,0.66,0.71,0.86,0.96,0.88,0.79,0.93,0.96,0.8,0.84],\"yaxis\":\"y\",\"type\":\"scatter\"},{\"hovertemplate\":\"variable=Median\\u003cbr\\u003eYear=%{x}\\u003cbr\\u003evalue=%{y}\\u003cextra\\u003e\\u003c\\u002fextra\\u003e\",\"legendgroup\":\"Median\",\"line\":{\"color\":\"#EF553B\",\"dash\":\"solid\"},\"marker\":{\"symbol\":\"circle\"},\"mode\":\"lines\",\"name\":\"Median\",\"orientation\":\"v\",\"showlegend\":true,\"x\":[1850,1851,1852,1853,1854,1855,1856,1857,1858,1859,1860,1861,1862,1863,1864,1865,1866,1867,1868,1869,1870,1871,1872,1873,1874,1875,1876,1877,1878,1879,1880,1881,1882,1883,1884,1885,1886,1887,1888,1889,1890,1891,1892,1893,1894,1895,1896,1897,1898,1899,1900,1901,1902,1903,1904,1905,1906,1907,1908,1909,1910,1911,1912,1913,1914,1915,1916,1917,1918,1919,1920,1921,1922,1923,1924,1925,1926,1927,1928,1929,1930,1931,1932,1933,1934,1935,1936,1937,1938,1939,1940,1941,1942,1943,1944,1945,1946,1947,1948,1949,1950,1951,1952,1953,1954,1955,1956,1957,1958,1959,1960,1961,1962,1963,1964,1965,1966,1967,1968,1969,1970,1971,1972,1973,1974,1975,1976,1977,1978,1979,1980,1981,1982,1983,1984,1985,1986,1987,1988,1989,1990,1991,1992,1993,1994,1995,1996,1997,1998,1999,2000,2001,2002,2003,2004,2005,2006,2007,2008,2009,2010,2011,2012,2013,2014,2015,2016,2017,2018,2019,2020,2021,2022],\"xaxis\":\"x\",\"y\":[-0.42,-0.23,-0.23,-0.27,-0.29,-0.3,-0.32,-0.47,-0.39,-0.28,-0.39,-0.43,-0.54,-0.34,-0.47,-0.33,-0.34,-0.36,-0.35,-0.32,-0.33,-0.37,-0.33,-0.34,-0.37,-0.38,-0.42,-0.1,-0.01,-0.3,-0.32,-0.23,-0.3,-0.35,-0.49,-0.47,-0.42,-0.5,-0.38,-0.25,-0.51,-0.4,-0.51,-0.49,-0.48,-0.45,-0.28,-0.26,-0.49,-0.36,-0.23,-0.29,-0.44,-0.53,-0.6,-0.41,-0.32,-0.5,-0.51,-0.54,-0.53,-0.54,-0.48,-0.47,-0.26,-0.19,-0.42,-0.54,-0.42,-0.33,-0.3,-0.24,-0.34,-0.32,-0.31,-0.28,-0.12,-0.23,-0.21,-0.39,-0.18,-0.1,-0.15,-0.32,-0.17,-0.21,-0.17,-0.02,-0.01,-0.04,0.08,0.04,0.0,0.01,0.14,0.04,-0.12,-0.09,-0.12,-0.14,-0.23,-0.06,0.02,0.08,-0.12,-0.2,-0.26,-0.04,-0.02,-0.05,-0.12,-0.02,-0.06,-0.04,-0.31,-0.2,-0.15,-0.12,-0.17,-0.03,-0.09,-0.21,-0.09,0.05,-0.17,-0.11,-0.22,0.1,0.01,0.09,0.2,0.25,0.03,0.22,0.05,0.05,0.1,0.24,0.28,0.18,0.36,0.34,0.12,0.17,0.23,0.38,0.28,0.42,0.58,0.32,0.33,0.49,0.54,0.54,0.47,0.61,0.57,0.59,0.47,0.6,0.68,0.54,0.58,0.62,0.67,0.83,0.93,0.85,0.76,0.89,0.92,0.76,0.8],\"yaxis\":\"y\",\"type\":\"scatter\"},{\"hovertemplate\":\"variable=L.Bound\\u003cbr\\u003eYear=%{x}\\u003cbr\\u003evalue=%{y}\\u003cextra\\u003e\\u003c\\u002fextra\\u003e\",\"legendgroup\":\"L.Bound\",\"line\":{\"color\":\"#00cc96\",\"dash\":\"solid\"},\"marker\":{\"symbol\":\"circle\"},\"mode\":\"lines\",\"name\":\"L.Bound\",\"orientation\":\"v\",\"showlegend\":true,\"x\":[1850,1851,1852,1853,1854,1855,1856,1857,1858,1859,1860,1861,1862,1863,1864,1865,1866,1867,1868,1869,1870,1871,1872,1873,1874,1875,1876,1877,1878,1879,1880,1881,1882,1883,1884,1885,1886,1887,1888,1889,1890,1891,1892,1893,1894,1895,1896,1897,1898,1899,1900,1901,1902,1903,1904,1905,1906,1907,1908,1909,1910,1911,1912,1913,1914,1915,1916,1917,1918,1919,1920,1921,1922,1923,1924,1925,1926,1927,1928,1929,1930,1931,1932,1933,1934,1935,1936,1937,1938,1939,1940,1941,1942,1943,1944,1945,1946,1947,1948,1949,1950,1951,1952,1953,1954,1955,1956,1957,1958,1959,1960,1961,1962,1963,1964,1965,1966,1967,1968,1969,1970,1971,1972,1973,1974,1975,1976,1977,1978,1979,1980,1981,1982,1983,1984,1985,1986,1987,1988,1989,1990,1991,1992,1993,1994,1995,1996,1997,1998,1999,2000,2001,2002,2003,2004,2005,2006,2007,2008,2009,2010,2011,2012,2013,2014,2015,2016,2017,2018,2019,2020,2021,2022],\"xaxis\":\"x\",\"y\":[-0.59,-0.41,-0.41,-0.43,-0.43,-0.44,-0.47,-0.62,-0.54,-0.42,-0.54,-0.6,-0.7,-0.53,-0.65,-0.52,-0.52,-0.55,-0.53,-0.48,-0.47,-0.51,-0.46,-0.47,-0.51,-0.51,-0.56,-0.23,-0.13,-0.43,-0.44,-0.36,-0.42,-0.46,-0.6,-0.58,-0.52,-0.62,-0.49,-0.37,-0.63,-0.54,-0.64,-0.63,-0.63,-0.58,-0.42,-0.4,-0.62,-0.49,-0.37,-0.43,-0.58,-0.66,-0.73,-0.54,-0.45,-0.63,-0.64,-0.65,-0.66,-0.66,-0.59,-0.59,-0.38,-0.32,-0.56,-0.69,-0.58,-0.48,-0.45,-0.38,-0.47,-0.44,-0.44,-0.41,-0.25,-0.35,-0.34,-0.53,-0.29,-0.21,-0.25,-0.43,-0.27,-0.3,-0.26,-0.12,-0.11,-0.15,-0.04,-0.16,-0.2,-0.2,-0.05,-0.16,-0.27,-0.23,-0.26,-0.25,-0.33,-0.15,-0.08,-0.02,-0.21,-0.28,-0.34,-0.1,-0.08,-0.11,-0.17,-0.07,-0.12,-0.09,-0.35,-0.25,-0.2,-0.16,-0.21,-0.07,-0.13,-0.24,-0.13,0.01,-0.21,-0.15,-0.26,0.06,-0.03,0.06,0.16,0.22,-0.01,0.19,0.01,0.02,0.06,0.21,0.25,0.14,0.32,0.3,0.09,0.13,0.2,0.34,0.24,0.39,0.54,0.29,0.3,0.46,0.51,0.51,0.43,0.58,0.54,0.56,0.43,0.57,0.65,0.51,0.54,0.59,0.64,0.79,0.9,0.81,0.73,0.86,0.89,0.73,0.77],\"yaxis\":\"y\",\"type\":\"scatter\"}],                        {\"template\":{\"data\":{\"histogram2dcontour\":[{\"type\":\"histogram2dcontour\",\"colorbar\":{\"outlinewidth\":0,\"ticks\":\"\"},\"colorscale\":[[0.0,\"#0d0887\"],[0.1111111111111111,\"#46039f\"],[0.2222222222222222,\"#7201a8\"],[0.3333333333333333,\"#9c179e\"],[0.4444444444444444,\"#bd3786\"],[0.5555555555555556,\"#d8576b\"],[0.6666666666666666,\"#ed7953\"],[0.7777777777777778,\"#fb9f3a\"],[0.8888888888888888,\"#fdca26\"],[1.0,\"#f0f921\"]]}],\"choropleth\":[{\"type\":\"choropleth\",\"colorbar\":{\"outlinewidth\":0,\"ticks\":\"\"}}],\"histogram2d\":[{\"type\":\"histogram2d\",\"colorbar\":{\"outlinewidth\":0,\"ticks\":\"\"},\"colorscale\":[[0.0,\"#0d0887\"],[0.1111111111111111,\"#46039f\"],[0.2222222222222222,\"#7201a8\"],[0.3333333333333333,\"#9c179e\"],[0.4444444444444444,\"#bd3786\"],[0.5555555555555556,\"#d8576b\"],[0.6666666666666666,\"#ed7953\"],[0.7777777777777778,\"#fb9f3a\"],[0.8888888888888888,\"#fdca26\"],[1.0,\"#f0f921\"]]}],\"heatmap\":[{\"type\":\"heatmap\",\"colorbar\":{\"outlinewidth\":0,\"ticks\":\"\"},\"colorscale\":[[0.0,\"#0d0887\"],[0.1111111111111111,\"#46039f\"],[0.2222222222222222,\"#7201a8\"],[0.3333333333333333,\"#9c179e\"],[0.4444444444444444,\"#bd3786\"],[0.5555555555555556,\"#d8576b\"],[0.6666666666666666,\"#ed7953\"],[0.7777777777777778,\"#fb9f3a\"],[0.8888888888888888,\"#fdca26\"],[1.0,\"#f0f921\"]]}],\"heatmapgl\":[{\"type\":\"heatmapgl\",\"colorbar\":{\"outlinewidth\":0,\"ticks\":\"\"},\"colorscale\":[[0.0,\"#0d0887\"],[0.1111111111111111,\"#46039f\"],[0.2222222222222222,\"#7201a8\"],[0.3333333333333333,\"#9c179e\"],[0.4444444444444444,\"#bd3786\"],[0.5555555555555556,\"#d8576b\"],[0.6666666666666666,\"#ed7953\"],[0.7777777777777778,\"#fb9f3a\"],[0.8888888888888888,\"#fdca26\"],[1.0,\"#f0f921\"]]}],\"contourcarpet\":[{\"type\":\"contourcarpet\",\"colorbar\":{\"outlinewidth\":0,\"ticks\":\"\"}}],\"contour\":[{\"type\":\"contour\",\"colorbar\":{\"outlinewidth\":0,\"ticks\":\"\"},\"colorscale\":[[0.0,\"#0d0887\"],[0.1111111111111111,\"#46039f\"],[0.2222222222222222,\"#7201a8\"],[0.3333333333333333,\"#9c179e\"],[0.4444444444444444,\"#bd3786\"],[0.5555555555555556,\"#d8576b\"],[0.6666666666666666,\"#ed7953\"],[0.7777777777777778,\"#fb9f3a\"],[0.8888888888888888,\"#fdca26\"],[1.0,\"#f0f921\"]]}],\"surface\":[{\"type\":\"surface\",\"colorbar\":{\"outlinewidth\":0,\"ticks\":\"\"},\"colorscale\":[[0.0,\"#0d0887\"],[0.1111111111111111,\"#46039f\"],[0.2222222222222222,\"#7201a8\"],[0.3333333333333333,\"#9c179e\"],[0.4444444444444444,\"#bd3786\"],[0.5555555555555556,\"#d8576b\"],[0.6666666666666666,\"#ed7953\"],[0.7777777777777778,\"#fb9f3a\"],[0.8888888888888888,\"#fdca26\"],[1.0,\"#f0f921\"]]}],\"mesh3d\":[{\"type\":\"mesh3d\",\"colorbar\":{\"outlinewidth\":0,\"ticks\":\"\"}}],\"scatter\":[{\"fillpattern\":{\"fillmode\":\"overlay\",\"size\":10,\"solidity\":0.2},\"type\":\"scatter\"}],\"parcoords\":[{\"type\":\"parcoords\",\"line\":{\"colorbar\":{\"outlinewidth\":0,\"ticks\":\"\"}}}],\"scatterpolargl\":[{\"type\":\"scatterpolargl\",\"marker\":{\"colorbar\":{\"outlinewidth\":0,\"ticks\":\"\"}}}],\"bar\":[{\"error_x\":{\"color\":\"#2a3f5f\"},\"error_y\":{\"color\":\"#2a3f5f\"},\"marker\":{\"line\":{\"color\":\"#E5ECF6\",\"width\":0.5},\"pattern\":{\"fillmode\":\"overlay\",\"size\":10,\"solidity\":0.2}},\"type\":\"bar\"}],\"scattergeo\":[{\"type\":\"scattergeo\",\"marker\":{\"colorbar\":{\"outlinewidth\":0,\"ticks\":\"\"}}}],\"scatterpolar\":[{\"type\":\"scatterpolar\",\"marker\":{\"colorbar\":{\"outlinewidth\":0,\"ticks\":\"\"}}}],\"histogram\":[{\"marker\":{\"pattern\":{\"fillmode\":\"overlay\",\"size\":10,\"solidity\":0.2}},\"type\":\"histogram\"}],\"scattergl\":[{\"type\":\"scattergl\",\"marker\":{\"colorbar\":{\"outlinewidth\":0,\"ticks\":\"\"}}}],\"scatter3d\":[{\"type\":\"scatter3d\",\"line\":{\"colorbar\":{\"outlinewidth\":0,\"ticks\":\"\"}},\"marker\":{\"colorbar\":{\"outlinewidth\":0,\"ticks\":\"\"}}}],\"scattermapbox\":[{\"type\":\"scattermapbox\",\"marker\":{\"colorbar\":{\"outlinewidth\":0,\"ticks\":\"\"}}}],\"scatterternary\":[{\"type\":\"scatterternary\",\"marker\":{\"colorbar\":{\"outlinewidth\":0,\"ticks\":\"\"}}}],\"scattercarpet\":[{\"type\":\"scattercarpet\",\"marker\":{\"colorbar\":{\"outlinewidth\":0,\"ticks\":\"\"}}}],\"carpet\":[{\"aaxis\":{\"endlinecolor\":\"#2a3f5f\",\"gridcolor\":\"white\",\"linecolor\":\"white\",\"minorgridcolor\":\"white\",\"startlinecolor\":\"#2a3f5f\"},\"baxis\":{\"endlinecolor\":\"#2a3f5f\",\"gridcolor\":\"white\",\"linecolor\":\"white\",\"minorgridcolor\":\"white\",\"startlinecolor\":\"#2a3f5f\"},\"type\":\"carpet\"}],\"table\":[{\"cells\":{\"fill\":{\"color\":\"#EBF0F8\"},\"line\":{\"color\":\"white\"}},\"header\":{\"fill\":{\"color\":\"#C8D4E3\"},\"line\":{\"color\":\"white\"}},\"type\":\"table\"}],\"barpolar\":[{\"marker\":{\"line\":{\"color\":\"#E5ECF6\",\"width\":0.5},\"pattern\":{\"fillmode\":\"overlay\",\"size\":10,\"solidity\":0.2}},\"type\":\"barpolar\"}],\"pie\":[{\"automargin\":true,\"type\":\"pie\"}]},\"layout\":{\"autotypenumbers\":\"strict\",\"colorway\":[\"#636efa\",\"#EF553B\",\"#00cc96\",\"#ab63fa\",\"#FFA15A\",\"#19d3f3\",\"#FF6692\",\"#B6E880\",\"#FF97FF\",\"#FECB52\"],\"font\":{\"color\":\"#2a3f5f\"},\"hovermode\":\"closest\",\"hoverlabel\":{\"align\":\"left\"},\"paper_bgcolor\":\"white\",\"plot_bgcolor\":\"#E5ECF6\",\"polar\":{\"bgcolor\":\"#E5ECF6\",\"angularaxis\":{\"gridcolor\":\"white\",\"linecolor\":\"white\",\"ticks\":\"\"},\"radialaxis\":{\"gridcolor\":\"white\",\"linecolor\":\"white\",\"ticks\":\"\"}},\"ternary\":{\"bgcolor\":\"#E5ECF6\",\"aaxis\":{\"gridcolor\":\"white\",\"linecolor\":\"white\",\"ticks\":\"\"},\"baxis\":{\"gridcolor\":\"white\",\"linecolor\":\"white\",\"ticks\":\"\"},\"caxis\":{\"gridcolor\":\"white\",\"linecolor\":\"white\",\"ticks\":\"\"}},\"coloraxis\":{\"colorbar\":{\"outlinewidth\":0,\"ticks\":\"\"}},\"colorscale\":{\"sequential\":[[0.0,\"#0d0887\"],[0.1111111111111111,\"#46039f\"],[0.2222222222222222,\"#7201a8\"],[0.3333333333333333,\"#9c179e\"],[0.4444444444444444,\"#bd3786\"],[0.5555555555555556,\"#d8576b\"],[0.6666666666666666,\"#ed7953\"],[0.7777777777777778,\"#fb9f3a\"],[0.8888888888888888,\"#fdca26\"],[1.0,\"#f0f921\"]],\"sequentialminus\":[[0.0,\"#0d0887\"],[0.1111111111111111,\"#46039f\"],[0.2222222222222222,\"#7201a8\"],[0.3333333333333333,\"#9c179e\"],[0.4444444444444444,\"#bd3786\"],[0.5555555555555556,\"#d8576b\"],[0.6666666666666666,\"#ed7953\"],[0.7777777777777778,\"#fb9f3a\"],[0.8888888888888888,\"#fdca26\"],[1.0,\"#f0f921\"]],\"diverging\":[[0,\"#8e0152\"],[0.1,\"#c51b7d\"],[0.2,\"#de77ae\"],[0.3,\"#f1b6da\"],[0.4,\"#fde0ef\"],[0.5,\"#f7f7f7\"],[0.6,\"#e6f5d0\"],[0.7,\"#b8e186\"],[0.8,\"#7fbc41\"],[0.9,\"#4d9221\"],[1,\"#276419\"]]},\"xaxis\":{\"gridcolor\":\"white\",\"linecolor\":\"white\",\"ticks\":\"\",\"title\":{\"standoff\":15},\"zerolinecolor\":\"white\",\"automargin\":true,\"zerolinewidth\":2},\"yaxis\":{\"gridcolor\":\"white\",\"linecolor\":\"white\",\"ticks\":\"\",\"title\":{\"standoff\":15},\"zerolinecolor\":\"white\",\"automargin\":true,\"zerolinewidth\":2},\"scene\":{\"xaxis\":{\"backgroundcolor\":\"#E5ECF6\",\"gridcolor\":\"white\",\"linecolor\":\"white\",\"showbackground\":true,\"ticks\":\"\",\"zerolinecolor\":\"white\",\"gridwidth\":2},\"yaxis\":{\"backgroundcolor\":\"#E5ECF6\",\"gridcolor\":\"white\",\"linecolor\":\"white\",\"showbackground\":true,\"ticks\":\"\",\"zerolinecolor\":\"white\",\"gridwidth\":2},\"zaxis\":{\"backgroundcolor\":\"#E5ECF6\",\"gridcolor\":\"white\",\"linecolor\":\"white\",\"showbackground\":true,\"ticks\":\"\",\"zerolinecolor\":\"white\",\"gridwidth\":2}},\"shapedefaults\":{\"line\":{\"color\":\"#2a3f5f\"}},\"annotationdefaults\":{\"arrowcolor\":\"#2a3f5f\",\"arrowhead\":0,\"arrowwidth\":1},\"geo\":{\"bgcolor\":\"white\",\"landcolor\":\"#E5ECF6\",\"subunitcolor\":\"white\",\"showland\":true,\"showlakes\":true,\"lakecolor\":\"white\"},\"title\":{\"x\":0.05},\"mapbox\":{\"style\":\"light\"}}},\"xaxis\":{\"anchor\":\"y\",\"domain\":[0.0,1.0],\"title\":{\"text\":\"Year\"}},\"yaxis\":{\"anchor\":\"x\",\"domain\":[0.0,1.0],\"title\":{\"text\":\"value\"}},\"legend\":{\"title\":{\"text\":\"variable\"},\"tracegroupgap\":0},\"title\":{\"text\":\"Global average temperature anomaly relative to 1961-1990\"}},                        {\"responsive\": true}                    ).then(function(){\n",
       "                            \n",
       "var gd = document.getElementById('3619f15f-1002-4fe3-b930-09aa3a39fbed');\n",
       "var x = new MutationObserver(function (mutations, observer) {{\n",
       "        var display = window.getComputedStyle(gd).display;\n",
       "        if (!display || display === 'none') {{\n",
       "            console.log([gd, 'removed!']);\n",
       "            Plotly.purge(gd);\n",
       "            observer.disconnect();\n",
       "        }}\n",
       "}});\n",
       "\n",
       "// Listen for the removal of the full notebook cells\n",
       "var notebookContainer = gd.closest('#notebook-container');\n",
       "if (notebookContainer) {{\n",
       "    x.observe(notebookContainer, {childList: true});\n",
       "}}\n",
       "\n",
       "// Listen for the clearing of the current output cell\n",
       "var outputEl = gd.closest('.output');\n",
       "if (outputEl) {{\n",
       "    x.observe(outputEl, {childList: true});\n",
       "}}\n",
       "\n",
       "                        })                };                });            </script>        </div>"
      ]
     },
     "metadata": {},
     "output_type": "display_data"
    }
   ],
   "source": [
    "# create the basic line graph\n",
    "fig = px.line(\n",
    "    df_global, \n",
    "    x=\"Year\", \n",
    "    y=[\n",
    "        \"U.Bound\",\n",
    "        \"Median\",\n",
    "        \"L.Bound\",\n",
    "    ],\n",
    "    title='Global average temperature anomaly relative to 1961-1990',\n",
    ")\n",
    "\n",
    "# display\n",
    "fig.show()"
   ]
  },
  {
   "cell_type": "markdown",
   "id": "dbef66ab",
   "metadata": {},
   "source": [
    "And a small tweak with the appearance..."
   ]
  },
  {
   "cell_type": "code",
   "execution_count": 89,
   "id": "40ff6259",
   "metadata": {},
   "outputs": [
    {
     "data": {
      "application/vnd.plotly.v1+json": {
       "config": {
        "plotlyServerURL": "https://plot.ly"
       },
       "data": [
        {
         "hovertemplate": "variable=U.Bound<br>Year=%{x}<br>value=%{y}<extra></extra>",
         "legendgroup": "U.Bound",
         "line": {
          "color": "red",
          "dash": "solid"
         },
         "marker": {
          "symbol": "circle"
         },
         "mode": "lines",
         "name": "U.Bound",
         "orientation": "v",
         "showlegend": true,
         "type": "scatter",
         "x": [
          1850,
          1851,
          1852,
          1853,
          1854,
          1855,
          1856,
          1857,
          1858,
          1859,
          1860,
          1861,
          1862,
          1863,
          1864,
          1865,
          1866,
          1867,
          1868,
          1869,
          1870,
          1871,
          1872,
          1873,
          1874,
          1875,
          1876,
          1877,
          1878,
          1879,
          1880,
          1881,
          1882,
          1883,
          1884,
          1885,
          1886,
          1887,
          1888,
          1889,
          1890,
          1891,
          1892,
          1893,
          1894,
          1895,
          1896,
          1897,
          1898,
          1899,
          1900,
          1901,
          1902,
          1903,
          1904,
          1905,
          1906,
          1907,
          1908,
          1909,
          1910,
          1911,
          1912,
          1913,
          1914,
          1915,
          1916,
          1917,
          1918,
          1919,
          1920,
          1921,
          1922,
          1923,
          1924,
          1925,
          1926,
          1927,
          1928,
          1929,
          1930,
          1931,
          1932,
          1933,
          1934,
          1935,
          1936,
          1937,
          1938,
          1939,
          1940,
          1941,
          1942,
          1943,
          1944,
          1945,
          1946,
          1947,
          1948,
          1949,
          1950,
          1951,
          1952,
          1953,
          1954,
          1955,
          1956,
          1957,
          1958,
          1959,
          1960,
          1961,
          1962,
          1963,
          1964,
          1965,
          1966,
          1967,
          1968,
          1969,
          1970,
          1971,
          1972,
          1973,
          1974,
          1975,
          1976,
          1977,
          1978,
          1979,
          1980,
          1981,
          1982,
          1983,
          1984,
          1985,
          1986,
          1987,
          1988,
          1989,
          1990,
          1991,
          1992,
          1993,
          1994,
          1995,
          1996,
          1997,
          1998,
          1999,
          2000,
          2001,
          2002,
          2003,
          2004,
          2005,
          2006,
          2007,
          2008,
          2009,
          2010,
          2011,
          2012,
          2013,
          2014,
          2015,
          2016,
          2017,
          2018,
          2019,
          2020,
          2021,
          2022
         ],
         "xaxis": "x",
         "y": [
          -0.25,
          -0.05,
          -0.05,
          -0.11,
          -0.15,
          -0.15,
          -0.17,
          -0.32,
          -0.24,
          -0.14,
          -0.24,
          -0.26,
          -0.37,
          -0.15,
          -0.28,
          -0.14,
          -0.16,
          -0.16,
          -0.17,
          -0.16,
          -0.19,
          -0.22,
          -0.19,
          -0.21,
          -0.24,
          -0.24,
          -0.29,
          0.03,
          0.11,
          -0.17,
          -0.19,
          -0.11,
          -0.17,
          -0.23,
          -0.38,
          -0.36,
          -0.32,
          -0.38,
          -0.27,
          -0.13,
          -0.38,
          -0.27,
          -0.37,
          -0.36,
          -0.34,
          -0.32,
          -0.15,
          -0.12,
          -0.35,
          -0.22,
          -0.1,
          -0.16,
          -0.3,
          -0.41,
          -0.47,
          -0.28,
          -0.19,
          -0.38,
          -0.39,
          -0.42,
          -0.41,
          -0.42,
          -0.36,
          -0.34,
          -0.14,
          -0.06,
          -0.28,
          -0.39,
          -0.27,
          -0.17,
          -0.15,
          -0.1,
          -0.21,
          -0.19,
          -0.19,
          -0.15,
          0.01,
          -0.11,
          -0.07,
          -0.26,
          -0.06,
          0.01,
          -0.04,
          -0.22,
          -0.07,
          -0.11,
          -0.08,
          0.08,
          0.09,
          0.07,
          0.19,
          0.24,
          0.2,
          0.21,
          0.34,
          0.24,
          0.03,
          0.05,
          0.01,
          -0.03,
          -0.12,
          0.03,
          0.11,
          0.18,
          -0.02,
          -0.11,
          -0.19,
          0.03,
          0.05,
          0.01,
          -0.06,
          0.03,
          -0.01,
          0.02,
          -0.26,
          -0.16,
          -0.1,
          -0.07,
          -0.12,
          0.01,
          -0.04,
          -0.17,
          -0.06,
          0.09,
          -0.13,
          -0.07,
          -0.18,
          0.15,
          0.05,
          0.12,
          0.23,
          0.28,
          0.07,
          0.26,
          0.08,
          0.08,
          0.13,
          0.27,
          0.32,
          0.21,
          0.4,
          0.37,
          0.16,
          0.2,
          0.27,
          0.41,
          0.31,
          0.45,
          0.61,
          0.36,
          0.36,
          0.52,
          0.57,
          0.58,
          0.5,
          0.64,
          0.6,
          0.62,
          0.5,
          0.63,
          0.71,
          0.57,
          0.61,
          0.66,
          0.71,
          0.86,
          0.96,
          0.88,
          0.79,
          0.93,
          0.96,
          0.8,
          0.84
         ],
         "yaxis": "y"
        },
        {
         "hovertemplate": "variable=Median<br>Year=%{x}<br>value=%{y}<extra></extra>",
         "legendgroup": "Median",
         "line": {
          "color": "blue",
          "dash": "solid"
         },
         "marker": {
          "symbol": "circle"
         },
         "mode": "lines",
         "name": "Median",
         "orientation": "v",
         "showlegend": true,
         "type": "scatter",
         "x": [
          1850,
          1851,
          1852,
          1853,
          1854,
          1855,
          1856,
          1857,
          1858,
          1859,
          1860,
          1861,
          1862,
          1863,
          1864,
          1865,
          1866,
          1867,
          1868,
          1869,
          1870,
          1871,
          1872,
          1873,
          1874,
          1875,
          1876,
          1877,
          1878,
          1879,
          1880,
          1881,
          1882,
          1883,
          1884,
          1885,
          1886,
          1887,
          1888,
          1889,
          1890,
          1891,
          1892,
          1893,
          1894,
          1895,
          1896,
          1897,
          1898,
          1899,
          1900,
          1901,
          1902,
          1903,
          1904,
          1905,
          1906,
          1907,
          1908,
          1909,
          1910,
          1911,
          1912,
          1913,
          1914,
          1915,
          1916,
          1917,
          1918,
          1919,
          1920,
          1921,
          1922,
          1923,
          1924,
          1925,
          1926,
          1927,
          1928,
          1929,
          1930,
          1931,
          1932,
          1933,
          1934,
          1935,
          1936,
          1937,
          1938,
          1939,
          1940,
          1941,
          1942,
          1943,
          1944,
          1945,
          1946,
          1947,
          1948,
          1949,
          1950,
          1951,
          1952,
          1953,
          1954,
          1955,
          1956,
          1957,
          1958,
          1959,
          1960,
          1961,
          1962,
          1963,
          1964,
          1965,
          1966,
          1967,
          1968,
          1969,
          1970,
          1971,
          1972,
          1973,
          1974,
          1975,
          1976,
          1977,
          1978,
          1979,
          1980,
          1981,
          1982,
          1983,
          1984,
          1985,
          1986,
          1987,
          1988,
          1989,
          1990,
          1991,
          1992,
          1993,
          1994,
          1995,
          1996,
          1997,
          1998,
          1999,
          2000,
          2001,
          2002,
          2003,
          2004,
          2005,
          2006,
          2007,
          2008,
          2009,
          2010,
          2011,
          2012,
          2013,
          2014,
          2015,
          2016,
          2017,
          2018,
          2019,
          2020,
          2021,
          2022
         ],
         "xaxis": "x",
         "y": [
          -0.42,
          -0.23,
          -0.23,
          -0.27,
          -0.29,
          -0.3,
          -0.32,
          -0.47,
          -0.39,
          -0.28,
          -0.39,
          -0.43,
          -0.54,
          -0.34,
          -0.47,
          -0.33,
          -0.34,
          -0.36,
          -0.35,
          -0.32,
          -0.33,
          -0.37,
          -0.33,
          -0.34,
          -0.37,
          -0.38,
          -0.42,
          -0.1,
          -0.01,
          -0.3,
          -0.32,
          -0.23,
          -0.3,
          -0.35,
          -0.49,
          -0.47,
          -0.42,
          -0.5,
          -0.38,
          -0.25,
          -0.51,
          -0.4,
          -0.51,
          -0.49,
          -0.48,
          -0.45,
          -0.28,
          -0.26,
          -0.49,
          -0.36,
          -0.23,
          -0.29,
          -0.44,
          -0.53,
          -0.6,
          -0.41,
          -0.32,
          -0.5,
          -0.51,
          -0.54,
          -0.53,
          -0.54,
          -0.48,
          -0.47,
          -0.26,
          -0.19,
          -0.42,
          -0.54,
          -0.42,
          -0.33,
          -0.3,
          -0.24,
          -0.34,
          -0.32,
          -0.31,
          -0.28,
          -0.12,
          -0.23,
          -0.21,
          -0.39,
          -0.18,
          -0.1,
          -0.15,
          -0.32,
          -0.17,
          -0.21,
          -0.17,
          -0.02,
          -0.01,
          -0.04,
          0.08,
          0.04,
          0,
          0.01,
          0.14,
          0.04,
          -0.12,
          -0.09,
          -0.12,
          -0.14,
          -0.23,
          -0.06,
          0.02,
          0.08,
          -0.12,
          -0.2,
          -0.26,
          -0.04,
          -0.02,
          -0.05,
          -0.12,
          -0.02,
          -0.06,
          -0.04,
          -0.31,
          -0.2,
          -0.15,
          -0.12,
          -0.17,
          -0.03,
          -0.09,
          -0.21,
          -0.09,
          0.05,
          -0.17,
          -0.11,
          -0.22,
          0.1,
          0.01,
          0.09,
          0.2,
          0.25,
          0.03,
          0.22,
          0.05,
          0.05,
          0.1,
          0.24,
          0.28,
          0.18,
          0.36,
          0.34,
          0.12,
          0.17,
          0.23,
          0.38,
          0.28,
          0.42,
          0.58,
          0.32,
          0.33,
          0.49,
          0.54,
          0.54,
          0.47,
          0.61,
          0.57,
          0.59,
          0.47,
          0.6,
          0.68,
          0.54,
          0.58,
          0.62,
          0.67,
          0.83,
          0.93,
          0.85,
          0.76,
          0.89,
          0.92,
          0.76,
          0.8
         ],
         "yaxis": "y"
        },
        {
         "hovertemplate": "variable=L.Bound<br>Year=%{x}<br>value=%{y}<extra></extra>",
         "legendgroup": "L.Bound",
         "line": {
          "color": "green",
          "dash": "solid"
         },
         "marker": {
          "symbol": "circle"
         },
         "mode": "lines",
         "name": "L.Bound",
         "orientation": "v",
         "showlegend": true,
         "type": "scatter",
         "x": [
          1850,
          1851,
          1852,
          1853,
          1854,
          1855,
          1856,
          1857,
          1858,
          1859,
          1860,
          1861,
          1862,
          1863,
          1864,
          1865,
          1866,
          1867,
          1868,
          1869,
          1870,
          1871,
          1872,
          1873,
          1874,
          1875,
          1876,
          1877,
          1878,
          1879,
          1880,
          1881,
          1882,
          1883,
          1884,
          1885,
          1886,
          1887,
          1888,
          1889,
          1890,
          1891,
          1892,
          1893,
          1894,
          1895,
          1896,
          1897,
          1898,
          1899,
          1900,
          1901,
          1902,
          1903,
          1904,
          1905,
          1906,
          1907,
          1908,
          1909,
          1910,
          1911,
          1912,
          1913,
          1914,
          1915,
          1916,
          1917,
          1918,
          1919,
          1920,
          1921,
          1922,
          1923,
          1924,
          1925,
          1926,
          1927,
          1928,
          1929,
          1930,
          1931,
          1932,
          1933,
          1934,
          1935,
          1936,
          1937,
          1938,
          1939,
          1940,
          1941,
          1942,
          1943,
          1944,
          1945,
          1946,
          1947,
          1948,
          1949,
          1950,
          1951,
          1952,
          1953,
          1954,
          1955,
          1956,
          1957,
          1958,
          1959,
          1960,
          1961,
          1962,
          1963,
          1964,
          1965,
          1966,
          1967,
          1968,
          1969,
          1970,
          1971,
          1972,
          1973,
          1974,
          1975,
          1976,
          1977,
          1978,
          1979,
          1980,
          1981,
          1982,
          1983,
          1984,
          1985,
          1986,
          1987,
          1988,
          1989,
          1990,
          1991,
          1992,
          1993,
          1994,
          1995,
          1996,
          1997,
          1998,
          1999,
          2000,
          2001,
          2002,
          2003,
          2004,
          2005,
          2006,
          2007,
          2008,
          2009,
          2010,
          2011,
          2012,
          2013,
          2014,
          2015,
          2016,
          2017,
          2018,
          2019,
          2020,
          2021,
          2022
         ],
         "xaxis": "x",
         "y": [
          -0.59,
          -0.41,
          -0.41,
          -0.43,
          -0.43,
          -0.44,
          -0.47,
          -0.62,
          -0.54,
          -0.42,
          -0.54,
          -0.6,
          -0.7,
          -0.53,
          -0.65,
          -0.52,
          -0.52,
          -0.55,
          -0.53,
          -0.48,
          -0.47,
          -0.51,
          -0.46,
          -0.47,
          -0.51,
          -0.51,
          -0.56,
          -0.23,
          -0.13,
          -0.43,
          -0.44,
          -0.36,
          -0.42,
          -0.46,
          -0.6,
          -0.58,
          -0.52,
          -0.62,
          -0.49,
          -0.37,
          -0.63,
          -0.54,
          -0.64,
          -0.63,
          -0.63,
          -0.58,
          -0.42,
          -0.4,
          -0.62,
          -0.49,
          -0.37,
          -0.43,
          -0.58,
          -0.66,
          -0.73,
          -0.54,
          -0.45,
          -0.63,
          -0.64,
          -0.65,
          -0.66,
          -0.66,
          -0.59,
          -0.59,
          -0.38,
          -0.32,
          -0.56,
          -0.69,
          -0.58,
          -0.48,
          -0.45,
          -0.38,
          -0.47,
          -0.44,
          -0.44,
          -0.41,
          -0.25,
          -0.35,
          -0.34,
          -0.53,
          -0.29,
          -0.21,
          -0.25,
          -0.43,
          -0.27,
          -0.3,
          -0.26,
          -0.12,
          -0.11,
          -0.15,
          -0.04,
          -0.16,
          -0.2,
          -0.2,
          -0.05,
          -0.16,
          -0.27,
          -0.23,
          -0.26,
          -0.25,
          -0.33,
          -0.15,
          -0.08,
          -0.02,
          -0.21,
          -0.28,
          -0.34,
          -0.1,
          -0.08,
          -0.11,
          -0.17,
          -0.07,
          -0.12,
          -0.09,
          -0.35,
          -0.25,
          -0.2,
          -0.16,
          -0.21,
          -0.07,
          -0.13,
          -0.24,
          -0.13,
          0.01,
          -0.21,
          -0.15,
          -0.26,
          0.06,
          -0.03,
          0.06,
          0.16,
          0.22,
          -0.01,
          0.19,
          0.01,
          0.02,
          0.06,
          0.21,
          0.25,
          0.14,
          0.32,
          0.3,
          0.09,
          0.13,
          0.2,
          0.34,
          0.24,
          0.39,
          0.54,
          0.29,
          0.3,
          0.46,
          0.51,
          0.51,
          0.43,
          0.58,
          0.54,
          0.56,
          0.43,
          0.57,
          0.65,
          0.51,
          0.54,
          0.59,
          0.64,
          0.79,
          0.9,
          0.81,
          0.73,
          0.86,
          0.89,
          0.73,
          0.77
         ],
         "yaxis": "y"
        }
       ],
       "layout": {
        "font": {
         "family": "Times New Roman"
        },
        "legend": {
         "title": {
          "text": "variable"
         },
         "tracegroupgap": 0
        },
        "plot_bgcolor": "rgb(242, 246, 252)",
        "template": {
         "data": {
          "bar": [
           {
            "error_x": {
             "color": "#2a3f5f"
            },
            "error_y": {
             "color": "#2a3f5f"
            },
            "marker": {
             "line": {
              "color": "#E5ECF6",
              "width": 0.5
             },
             "pattern": {
              "fillmode": "overlay",
              "size": 10,
              "solidity": 0.2
             }
            },
            "type": "bar"
           }
          ],
          "barpolar": [
           {
            "marker": {
             "line": {
              "color": "#E5ECF6",
              "width": 0.5
             },
             "pattern": {
              "fillmode": "overlay",
              "size": 10,
              "solidity": 0.2
             }
            },
            "type": "barpolar"
           }
          ],
          "carpet": [
           {
            "aaxis": {
             "endlinecolor": "#2a3f5f",
             "gridcolor": "white",
             "linecolor": "white",
             "minorgridcolor": "white",
             "startlinecolor": "#2a3f5f"
            },
            "baxis": {
             "endlinecolor": "#2a3f5f",
             "gridcolor": "white",
             "linecolor": "white",
             "minorgridcolor": "white",
             "startlinecolor": "#2a3f5f"
            },
            "type": "carpet"
           }
          ],
          "choropleth": [
           {
            "colorbar": {
             "outlinewidth": 0,
             "ticks": ""
            },
            "type": "choropleth"
           }
          ],
          "contour": [
           {
            "colorbar": {
             "outlinewidth": 0,
             "ticks": ""
            },
            "colorscale": [
             [
              0,
              "#0d0887"
             ],
             [
              0.1111111111111111,
              "#46039f"
             ],
             [
              0.2222222222222222,
              "#7201a8"
             ],
             [
              0.3333333333333333,
              "#9c179e"
             ],
             [
              0.4444444444444444,
              "#bd3786"
             ],
             [
              0.5555555555555556,
              "#d8576b"
             ],
             [
              0.6666666666666666,
              "#ed7953"
             ],
             [
              0.7777777777777778,
              "#fb9f3a"
             ],
             [
              0.8888888888888888,
              "#fdca26"
             ],
             [
              1,
              "#f0f921"
             ]
            ],
            "type": "contour"
           }
          ],
          "contourcarpet": [
           {
            "colorbar": {
             "outlinewidth": 0,
             "ticks": ""
            },
            "type": "contourcarpet"
           }
          ],
          "heatmap": [
           {
            "colorbar": {
             "outlinewidth": 0,
             "ticks": ""
            },
            "colorscale": [
             [
              0,
              "#0d0887"
             ],
             [
              0.1111111111111111,
              "#46039f"
             ],
             [
              0.2222222222222222,
              "#7201a8"
             ],
             [
              0.3333333333333333,
              "#9c179e"
             ],
             [
              0.4444444444444444,
              "#bd3786"
             ],
             [
              0.5555555555555556,
              "#d8576b"
             ],
             [
              0.6666666666666666,
              "#ed7953"
             ],
             [
              0.7777777777777778,
              "#fb9f3a"
             ],
             [
              0.8888888888888888,
              "#fdca26"
             ],
             [
              1,
              "#f0f921"
             ]
            ],
            "type": "heatmap"
           }
          ],
          "heatmapgl": [
           {
            "colorbar": {
             "outlinewidth": 0,
             "ticks": ""
            },
            "colorscale": [
             [
              0,
              "#0d0887"
             ],
             [
              0.1111111111111111,
              "#46039f"
             ],
             [
              0.2222222222222222,
              "#7201a8"
             ],
             [
              0.3333333333333333,
              "#9c179e"
             ],
             [
              0.4444444444444444,
              "#bd3786"
             ],
             [
              0.5555555555555556,
              "#d8576b"
             ],
             [
              0.6666666666666666,
              "#ed7953"
             ],
             [
              0.7777777777777778,
              "#fb9f3a"
             ],
             [
              0.8888888888888888,
              "#fdca26"
             ],
             [
              1,
              "#f0f921"
             ]
            ],
            "type": "heatmapgl"
           }
          ],
          "histogram": [
           {
            "marker": {
             "pattern": {
              "fillmode": "overlay",
              "size": 10,
              "solidity": 0.2
             }
            },
            "type": "histogram"
           }
          ],
          "histogram2d": [
           {
            "colorbar": {
             "outlinewidth": 0,
             "ticks": ""
            },
            "colorscale": [
             [
              0,
              "#0d0887"
             ],
             [
              0.1111111111111111,
              "#46039f"
             ],
             [
              0.2222222222222222,
              "#7201a8"
             ],
             [
              0.3333333333333333,
              "#9c179e"
             ],
             [
              0.4444444444444444,
              "#bd3786"
             ],
             [
              0.5555555555555556,
              "#d8576b"
             ],
             [
              0.6666666666666666,
              "#ed7953"
             ],
             [
              0.7777777777777778,
              "#fb9f3a"
             ],
             [
              0.8888888888888888,
              "#fdca26"
             ],
             [
              1,
              "#f0f921"
             ]
            ],
            "type": "histogram2d"
           }
          ],
          "histogram2dcontour": [
           {
            "colorbar": {
             "outlinewidth": 0,
             "ticks": ""
            },
            "colorscale": [
             [
              0,
              "#0d0887"
             ],
             [
              0.1111111111111111,
              "#46039f"
             ],
             [
              0.2222222222222222,
              "#7201a8"
             ],
             [
              0.3333333333333333,
              "#9c179e"
             ],
             [
              0.4444444444444444,
              "#bd3786"
             ],
             [
              0.5555555555555556,
              "#d8576b"
             ],
             [
              0.6666666666666666,
              "#ed7953"
             ],
             [
              0.7777777777777778,
              "#fb9f3a"
             ],
             [
              0.8888888888888888,
              "#fdca26"
             ],
             [
              1,
              "#f0f921"
             ]
            ],
            "type": "histogram2dcontour"
           }
          ],
          "mesh3d": [
           {
            "colorbar": {
             "outlinewidth": 0,
             "ticks": ""
            },
            "type": "mesh3d"
           }
          ],
          "parcoords": [
           {
            "line": {
             "colorbar": {
              "outlinewidth": 0,
              "ticks": ""
             }
            },
            "type": "parcoords"
           }
          ],
          "pie": [
           {
            "automargin": true,
            "type": "pie"
           }
          ],
          "scatter": [
           {
            "fillpattern": {
             "fillmode": "overlay",
             "size": 10,
             "solidity": 0.2
            },
            "type": "scatter"
           }
          ],
          "scatter3d": [
           {
            "line": {
             "colorbar": {
              "outlinewidth": 0,
              "ticks": ""
             }
            },
            "marker": {
             "colorbar": {
              "outlinewidth": 0,
              "ticks": ""
             }
            },
            "type": "scatter3d"
           }
          ],
          "scattercarpet": [
           {
            "marker": {
             "colorbar": {
              "outlinewidth": 0,
              "ticks": ""
             }
            },
            "type": "scattercarpet"
           }
          ],
          "scattergeo": [
           {
            "marker": {
             "colorbar": {
              "outlinewidth": 0,
              "ticks": ""
             }
            },
            "type": "scattergeo"
           }
          ],
          "scattergl": [
           {
            "marker": {
             "colorbar": {
              "outlinewidth": 0,
              "ticks": ""
             }
            },
            "type": "scattergl"
           }
          ],
          "scattermapbox": [
           {
            "marker": {
             "colorbar": {
              "outlinewidth": 0,
              "ticks": ""
             }
            },
            "type": "scattermapbox"
           }
          ],
          "scatterpolar": [
           {
            "marker": {
             "colorbar": {
              "outlinewidth": 0,
              "ticks": ""
             }
            },
            "type": "scatterpolar"
           }
          ],
          "scatterpolargl": [
           {
            "marker": {
             "colorbar": {
              "outlinewidth": 0,
              "ticks": ""
             }
            },
            "type": "scatterpolargl"
           }
          ],
          "scatterternary": [
           {
            "marker": {
             "colorbar": {
              "outlinewidth": 0,
              "ticks": ""
             }
            },
            "type": "scatterternary"
           }
          ],
          "surface": [
           {
            "colorbar": {
             "outlinewidth": 0,
             "ticks": ""
            },
            "colorscale": [
             [
              0,
              "#0d0887"
             ],
             [
              0.1111111111111111,
              "#46039f"
             ],
             [
              0.2222222222222222,
              "#7201a8"
             ],
             [
              0.3333333333333333,
              "#9c179e"
             ],
             [
              0.4444444444444444,
              "#bd3786"
             ],
             [
              0.5555555555555556,
              "#d8576b"
             ],
             [
              0.6666666666666666,
              "#ed7953"
             ],
             [
              0.7777777777777778,
              "#fb9f3a"
             ],
             [
              0.8888888888888888,
              "#fdca26"
             ],
             [
              1,
              "#f0f921"
             ]
            ],
            "type": "surface"
           }
          ],
          "table": [
           {
            "cells": {
             "fill": {
              "color": "#EBF0F8"
             },
             "line": {
              "color": "white"
             }
            },
            "header": {
             "fill": {
              "color": "#C8D4E3"
             },
             "line": {
              "color": "white"
             }
            },
            "type": "table"
           }
          ]
         },
         "layout": {
          "annotationdefaults": {
           "arrowcolor": "#2a3f5f",
           "arrowhead": 0,
           "arrowwidth": 1
          },
          "autotypenumbers": "strict",
          "coloraxis": {
           "colorbar": {
            "outlinewidth": 0,
            "ticks": ""
           }
          },
          "colorscale": {
           "diverging": [
            [
             0,
             "#8e0152"
            ],
            [
             0.1,
             "#c51b7d"
            ],
            [
             0.2,
             "#de77ae"
            ],
            [
             0.3,
             "#f1b6da"
            ],
            [
             0.4,
             "#fde0ef"
            ],
            [
             0.5,
             "#f7f7f7"
            ],
            [
             0.6,
             "#e6f5d0"
            ],
            [
             0.7,
             "#b8e186"
            ],
            [
             0.8,
             "#7fbc41"
            ],
            [
             0.9,
             "#4d9221"
            ],
            [
             1,
             "#276419"
            ]
           ],
           "sequential": [
            [
             0,
             "#0d0887"
            ],
            [
             0.1111111111111111,
             "#46039f"
            ],
            [
             0.2222222222222222,
             "#7201a8"
            ],
            [
             0.3333333333333333,
             "#9c179e"
            ],
            [
             0.4444444444444444,
             "#bd3786"
            ],
            [
             0.5555555555555556,
             "#d8576b"
            ],
            [
             0.6666666666666666,
             "#ed7953"
            ],
            [
             0.7777777777777778,
             "#fb9f3a"
            ],
            [
             0.8888888888888888,
             "#fdca26"
            ],
            [
             1,
             "#f0f921"
            ]
           ],
           "sequentialminus": [
            [
             0,
             "#0d0887"
            ],
            [
             0.1111111111111111,
             "#46039f"
            ],
            [
             0.2222222222222222,
             "#7201a8"
            ],
            [
             0.3333333333333333,
             "#9c179e"
            ],
            [
             0.4444444444444444,
             "#bd3786"
            ],
            [
             0.5555555555555556,
             "#d8576b"
            ],
            [
             0.6666666666666666,
             "#ed7953"
            ],
            [
             0.7777777777777778,
             "#fb9f3a"
            ],
            [
             0.8888888888888888,
             "#fdca26"
            ],
            [
             1,
             "#f0f921"
            ]
           ]
          },
          "colorway": [
           "#636efa",
           "#EF553B",
           "#00cc96",
           "#ab63fa",
           "#FFA15A",
           "#19d3f3",
           "#FF6692",
           "#B6E880",
           "#FF97FF",
           "#FECB52"
          ],
          "font": {
           "color": "#2a3f5f"
          },
          "geo": {
           "bgcolor": "white",
           "lakecolor": "white",
           "landcolor": "#E5ECF6",
           "showlakes": true,
           "showland": true,
           "subunitcolor": "white"
          },
          "hoverlabel": {
           "align": "left"
          },
          "hovermode": "closest",
          "mapbox": {
           "style": "light"
          },
          "paper_bgcolor": "white",
          "plot_bgcolor": "#E5ECF6",
          "polar": {
           "angularaxis": {
            "gridcolor": "white",
            "linecolor": "white",
            "ticks": ""
           },
           "bgcolor": "#E5ECF6",
           "radialaxis": {
            "gridcolor": "white",
            "linecolor": "white",
            "ticks": ""
           }
          },
          "scene": {
           "xaxis": {
            "backgroundcolor": "#E5ECF6",
            "gridcolor": "white",
            "gridwidth": 2,
            "linecolor": "white",
            "showbackground": true,
            "ticks": "",
            "zerolinecolor": "white"
           },
           "yaxis": {
            "backgroundcolor": "#E5ECF6",
            "gridcolor": "white",
            "gridwidth": 2,
            "linecolor": "white",
            "showbackground": true,
            "ticks": "",
            "zerolinecolor": "white"
           },
           "zaxis": {
            "backgroundcolor": "#E5ECF6",
            "gridcolor": "white",
            "gridwidth": 2,
            "linecolor": "white",
            "showbackground": true,
            "ticks": "",
            "zerolinecolor": "white"
           }
          },
          "shapedefaults": {
           "line": {
            "color": "#2a3f5f"
           }
          },
          "ternary": {
           "aaxis": {
            "gridcolor": "white",
            "linecolor": "white",
            "ticks": ""
           },
           "baxis": {
            "gridcolor": "white",
            "linecolor": "white",
            "ticks": ""
           },
           "bgcolor": "#E5ECF6",
           "caxis": {
            "gridcolor": "white",
            "linecolor": "white",
            "ticks": ""
           }
          },
          "title": {
           "x": 0.05
          },
          "xaxis": {
           "automargin": true,
           "gridcolor": "white",
           "linecolor": "white",
           "ticks": "",
           "title": {
            "standoff": 15
           },
           "zerolinecolor": "white",
           "zerolinewidth": 2
          },
          "yaxis": {
           "automargin": true,
           "gridcolor": "white",
           "linecolor": "white",
           "ticks": "",
           "title": {
            "standoff": 15
           },
           "zerolinecolor": "white",
           "zerolinewidth": 2
          }
         }
        },
        "title": {
         "text": "Global average temperature anomaly relative to 1961-1990"
        },
        "xaxis": {
         "anchor": "y",
         "domain": [
          0,
          1
         ],
         "title": {
          "text": "Year"
         }
        },
        "yaxis": {
         "anchor": "x",
         "domain": [
          0,
          1
         ],
         "title": {
          "text": "value"
         }
        }
       }
      },
      "text/html": [
       "<div>                            <div id=\"4c8a00c3-7a4d-44ff-8049-cbcb382160eb\" class=\"plotly-graph-div\" style=\"height:525px; width:100%;\"></div>            <script type=\"text/javascript\">                require([\"plotly\"], function(Plotly) {                    window.PLOTLYENV=window.PLOTLYENV || {};                                    if (document.getElementById(\"4c8a00c3-7a4d-44ff-8049-cbcb382160eb\")) {                    Plotly.newPlot(                        \"4c8a00c3-7a4d-44ff-8049-cbcb382160eb\",                        [{\"hovertemplate\":\"variable=U.Bound\\u003cbr\\u003eYear=%{x}\\u003cbr\\u003evalue=%{y}\\u003cextra\\u003e\\u003c\\u002fextra\\u003e\",\"legendgroup\":\"U.Bound\",\"line\":{\"color\":\"red\",\"dash\":\"solid\"},\"marker\":{\"symbol\":\"circle\"},\"mode\":\"lines\",\"name\":\"U.Bound\",\"orientation\":\"v\",\"showlegend\":true,\"x\":[1850,1851,1852,1853,1854,1855,1856,1857,1858,1859,1860,1861,1862,1863,1864,1865,1866,1867,1868,1869,1870,1871,1872,1873,1874,1875,1876,1877,1878,1879,1880,1881,1882,1883,1884,1885,1886,1887,1888,1889,1890,1891,1892,1893,1894,1895,1896,1897,1898,1899,1900,1901,1902,1903,1904,1905,1906,1907,1908,1909,1910,1911,1912,1913,1914,1915,1916,1917,1918,1919,1920,1921,1922,1923,1924,1925,1926,1927,1928,1929,1930,1931,1932,1933,1934,1935,1936,1937,1938,1939,1940,1941,1942,1943,1944,1945,1946,1947,1948,1949,1950,1951,1952,1953,1954,1955,1956,1957,1958,1959,1960,1961,1962,1963,1964,1965,1966,1967,1968,1969,1970,1971,1972,1973,1974,1975,1976,1977,1978,1979,1980,1981,1982,1983,1984,1985,1986,1987,1988,1989,1990,1991,1992,1993,1994,1995,1996,1997,1998,1999,2000,2001,2002,2003,2004,2005,2006,2007,2008,2009,2010,2011,2012,2013,2014,2015,2016,2017,2018,2019,2020,2021,2022],\"xaxis\":\"x\",\"y\":[-0.25,-0.05,-0.05,-0.11,-0.15,-0.15,-0.17,-0.32,-0.24,-0.14,-0.24,-0.26,-0.37,-0.15,-0.28,-0.14,-0.16,-0.16,-0.17,-0.16,-0.19,-0.22,-0.19,-0.21,-0.24,-0.24,-0.29,0.03,0.11,-0.17,-0.19,-0.11,-0.17,-0.23,-0.38,-0.36,-0.32,-0.38,-0.27,-0.13,-0.38,-0.27,-0.37,-0.36,-0.34,-0.32,-0.15,-0.12,-0.35,-0.22,-0.1,-0.16,-0.3,-0.41,-0.47,-0.28,-0.19,-0.38,-0.39,-0.42,-0.41,-0.42,-0.36,-0.34,-0.14,-0.06,-0.28,-0.39,-0.27,-0.17,-0.15,-0.1,-0.21,-0.19,-0.19,-0.15,0.01,-0.11,-0.07,-0.26,-0.06,0.01,-0.04,-0.22,-0.07,-0.11,-0.08,0.08,0.09,0.07,0.19,0.24,0.2,0.21,0.34,0.24,0.03,0.05,0.01,-0.03,-0.12,0.03,0.11,0.18,-0.02,-0.11,-0.19,0.03,0.05,0.01,-0.06,0.03,-0.01,0.02,-0.26,-0.16,-0.1,-0.07,-0.12,0.01,-0.04,-0.17,-0.06,0.09,-0.13,-0.07,-0.18,0.15,0.05,0.12,0.23,0.28,0.07,0.26,0.08,0.08,0.13,0.27,0.32,0.21,0.4,0.37,0.16,0.2,0.27,0.41,0.31,0.45,0.61,0.36,0.36,0.52,0.57,0.58,0.5,0.64,0.6,0.62,0.5,0.63,0.71,0.57,0.61,0.66,0.71,0.86,0.96,0.88,0.79,0.93,0.96,0.8,0.84],\"yaxis\":\"y\",\"type\":\"scatter\"},{\"hovertemplate\":\"variable=Median\\u003cbr\\u003eYear=%{x}\\u003cbr\\u003evalue=%{y}\\u003cextra\\u003e\\u003c\\u002fextra\\u003e\",\"legendgroup\":\"Median\",\"line\":{\"color\":\"blue\",\"dash\":\"solid\"},\"marker\":{\"symbol\":\"circle\"},\"mode\":\"lines\",\"name\":\"Median\",\"orientation\":\"v\",\"showlegend\":true,\"x\":[1850,1851,1852,1853,1854,1855,1856,1857,1858,1859,1860,1861,1862,1863,1864,1865,1866,1867,1868,1869,1870,1871,1872,1873,1874,1875,1876,1877,1878,1879,1880,1881,1882,1883,1884,1885,1886,1887,1888,1889,1890,1891,1892,1893,1894,1895,1896,1897,1898,1899,1900,1901,1902,1903,1904,1905,1906,1907,1908,1909,1910,1911,1912,1913,1914,1915,1916,1917,1918,1919,1920,1921,1922,1923,1924,1925,1926,1927,1928,1929,1930,1931,1932,1933,1934,1935,1936,1937,1938,1939,1940,1941,1942,1943,1944,1945,1946,1947,1948,1949,1950,1951,1952,1953,1954,1955,1956,1957,1958,1959,1960,1961,1962,1963,1964,1965,1966,1967,1968,1969,1970,1971,1972,1973,1974,1975,1976,1977,1978,1979,1980,1981,1982,1983,1984,1985,1986,1987,1988,1989,1990,1991,1992,1993,1994,1995,1996,1997,1998,1999,2000,2001,2002,2003,2004,2005,2006,2007,2008,2009,2010,2011,2012,2013,2014,2015,2016,2017,2018,2019,2020,2021,2022],\"xaxis\":\"x\",\"y\":[-0.42,-0.23,-0.23,-0.27,-0.29,-0.3,-0.32,-0.47,-0.39,-0.28,-0.39,-0.43,-0.54,-0.34,-0.47,-0.33,-0.34,-0.36,-0.35,-0.32,-0.33,-0.37,-0.33,-0.34,-0.37,-0.38,-0.42,-0.1,-0.01,-0.3,-0.32,-0.23,-0.3,-0.35,-0.49,-0.47,-0.42,-0.5,-0.38,-0.25,-0.51,-0.4,-0.51,-0.49,-0.48,-0.45,-0.28,-0.26,-0.49,-0.36,-0.23,-0.29,-0.44,-0.53,-0.6,-0.41,-0.32,-0.5,-0.51,-0.54,-0.53,-0.54,-0.48,-0.47,-0.26,-0.19,-0.42,-0.54,-0.42,-0.33,-0.3,-0.24,-0.34,-0.32,-0.31,-0.28,-0.12,-0.23,-0.21,-0.39,-0.18,-0.1,-0.15,-0.32,-0.17,-0.21,-0.17,-0.02,-0.01,-0.04,0.08,0.04,0.0,0.01,0.14,0.04,-0.12,-0.09,-0.12,-0.14,-0.23,-0.06,0.02,0.08,-0.12,-0.2,-0.26,-0.04,-0.02,-0.05,-0.12,-0.02,-0.06,-0.04,-0.31,-0.2,-0.15,-0.12,-0.17,-0.03,-0.09,-0.21,-0.09,0.05,-0.17,-0.11,-0.22,0.1,0.01,0.09,0.2,0.25,0.03,0.22,0.05,0.05,0.1,0.24,0.28,0.18,0.36,0.34,0.12,0.17,0.23,0.38,0.28,0.42,0.58,0.32,0.33,0.49,0.54,0.54,0.47,0.61,0.57,0.59,0.47,0.6,0.68,0.54,0.58,0.62,0.67,0.83,0.93,0.85,0.76,0.89,0.92,0.76,0.8],\"yaxis\":\"y\",\"type\":\"scatter\"},{\"hovertemplate\":\"variable=L.Bound\\u003cbr\\u003eYear=%{x}\\u003cbr\\u003evalue=%{y}\\u003cextra\\u003e\\u003c\\u002fextra\\u003e\",\"legendgroup\":\"L.Bound\",\"line\":{\"color\":\"green\",\"dash\":\"solid\"},\"marker\":{\"symbol\":\"circle\"},\"mode\":\"lines\",\"name\":\"L.Bound\",\"orientation\":\"v\",\"showlegend\":true,\"x\":[1850,1851,1852,1853,1854,1855,1856,1857,1858,1859,1860,1861,1862,1863,1864,1865,1866,1867,1868,1869,1870,1871,1872,1873,1874,1875,1876,1877,1878,1879,1880,1881,1882,1883,1884,1885,1886,1887,1888,1889,1890,1891,1892,1893,1894,1895,1896,1897,1898,1899,1900,1901,1902,1903,1904,1905,1906,1907,1908,1909,1910,1911,1912,1913,1914,1915,1916,1917,1918,1919,1920,1921,1922,1923,1924,1925,1926,1927,1928,1929,1930,1931,1932,1933,1934,1935,1936,1937,1938,1939,1940,1941,1942,1943,1944,1945,1946,1947,1948,1949,1950,1951,1952,1953,1954,1955,1956,1957,1958,1959,1960,1961,1962,1963,1964,1965,1966,1967,1968,1969,1970,1971,1972,1973,1974,1975,1976,1977,1978,1979,1980,1981,1982,1983,1984,1985,1986,1987,1988,1989,1990,1991,1992,1993,1994,1995,1996,1997,1998,1999,2000,2001,2002,2003,2004,2005,2006,2007,2008,2009,2010,2011,2012,2013,2014,2015,2016,2017,2018,2019,2020,2021,2022],\"xaxis\":\"x\",\"y\":[-0.59,-0.41,-0.41,-0.43,-0.43,-0.44,-0.47,-0.62,-0.54,-0.42,-0.54,-0.6,-0.7,-0.53,-0.65,-0.52,-0.52,-0.55,-0.53,-0.48,-0.47,-0.51,-0.46,-0.47,-0.51,-0.51,-0.56,-0.23,-0.13,-0.43,-0.44,-0.36,-0.42,-0.46,-0.6,-0.58,-0.52,-0.62,-0.49,-0.37,-0.63,-0.54,-0.64,-0.63,-0.63,-0.58,-0.42,-0.4,-0.62,-0.49,-0.37,-0.43,-0.58,-0.66,-0.73,-0.54,-0.45,-0.63,-0.64,-0.65,-0.66,-0.66,-0.59,-0.59,-0.38,-0.32,-0.56,-0.69,-0.58,-0.48,-0.45,-0.38,-0.47,-0.44,-0.44,-0.41,-0.25,-0.35,-0.34,-0.53,-0.29,-0.21,-0.25,-0.43,-0.27,-0.3,-0.26,-0.12,-0.11,-0.15,-0.04,-0.16,-0.2,-0.2,-0.05,-0.16,-0.27,-0.23,-0.26,-0.25,-0.33,-0.15,-0.08,-0.02,-0.21,-0.28,-0.34,-0.1,-0.08,-0.11,-0.17,-0.07,-0.12,-0.09,-0.35,-0.25,-0.2,-0.16,-0.21,-0.07,-0.13,-0.24,-0.13,0.01,-0.21,-0.15,-0.26,0.06,-0.03,0.06,0.16,0.22,-0.01,0.19,0.01,0.02,0.06,0.21,0.25,0.14,0.32,0.3,0.09,0.13,0.2,0.34,0.24,0.39,0.54,0.29,0.3,0.46,0.51,0.51,0.43,0.58,0.54,0.56,0.43,0.57,0.65,0.51,0.54,0.59,0.64,0.79,0.9,0.81,0.73,0.86,0.89,0.73,0.77],\"yaxis\":\"y\",\"type\":\"scatter\"}],                        {\"template\":{\"data\":{\"histogram2dcontour\":[{\"type\":\"histogram2dcontour\",\"colorbar\":{\"outlinewidth\":0,\"ticks\":\"\"},\"colorscale\":[[0.0,\"#0d0887\"],[0.1111111111111111,\"#46039f\"],[0.2222222222222222,\"#7201a8\"],[0.3333333333333333,\"#9c179e\"],[0.4444444444444444,\"#bd3786\"],[0.5555555555555556,\"#d8576b\"],[0.6666666666666666,\"#ed7953\"],[0.7777777777777778,\"#fb9f3a\"],[0.8888888888888888,\"#fdca26\"],[1.0,\"#f0f921\"]]}],\"choropleth\":[{\"type\":\"choropleth\",\"colorbar\":{\"outlinewidth\":0,\"ticks\":\"\"}}],\"histogram2d\":[{\"type\":\"histogram2d\",\"colorbar\":{\"outlinewidth\":0,\"ticks\":\"\"},\"colorscale\":[[0.0,\"#0d0887\"],[0.1111111111111111,\"#46039f\"],[0.2222222222222222,\"#7201a8\"],[0.3333333333333333,\"#9c179e\"],[0.4444444444444444,\"#bd3786\"],[0.5555555555555556,\"#d8576b\"],[0.6666666666666666,\"#ed7953\"],[0.7777777777777778,\"#fb9f3a\"],[0.8888888888888888,\"#fdca26\"],[1.0,\"#f0f921\"]]}],\"heatmap\":[{\"type\":\"heatmap\",\"colorbar\":{\"outlinewidth\":0,\"ticks\":\"\"},\"colorscale\":[[0.0,\"#0d0887\"],[0.1111111111111111,\"#46039f\"],[0.2222222222222222,\"#7201a8\"],[0.3333333333333333,\"#9c179e\"],[0.4444444444444444,\"#bd3786\"],[0.5555555555555556,\"#d8576b\"],[0.6666666666666666,\"#ed7953\"],[0.7777777777777778,\"#fb9f3a\"],[0.8888888888888888,\"#fdca26\"],[1.0,\"#f0f921\"]]}],\"heatmapgl\":[{\"type\":\"heatmapgl\",\"colorbar\":{\"outlinewidth\":0,\"ticks\":\"\"},\"colorscale\":[[0.0,\"#0d0887\"],[0.1111111111111111,\"#46039f\"],[0.2222222222222222,\"#7201a8\"],[0.3333333333333333,\"#9c179e\"],[0.4444444444444444,\"#bd3786\"],[0.5555555555555556,\"#d8576b\"],[0.6666666666666666,\"#ed7953\"],[0.7777777777777778,\"#fb9f3a\"],[0.8888888888888888,\"#fdca26\"],[1.0,\"#f0f921\"]]}],\"contourcarpet\":[{\"type\":\"contourcarpet\",\"colorbar\":{\"outlinewidth\":0,\"ticks\":\"\"}}],\"contour\":[{\"type\":\"contour\",\"colorbar\":{\"outlinewidth\":0,\"ticks\":\"\"},\"colorscale\":[[0.0,\"#0d0887\"],[0.1111111111111111,\"#46039f\"],[0.2222222222222222,\"#7201a8\"],[0.3333333333333333,\"#9c179e\"],[0.4444444444444444,\"#bd3786\"],[0.5555555555555556,\"#d8576b\"],[0.6666666666666666,\"#ed7953\"],[0.7777777777777778,\"#fb9f3a\"],[0.8888888888888888,\"#fdca26\"],[1.0,\"#f0f921\"]]}],\"surface\":[{\"type\":\"surface\",\"colorbar\":{\"outlinewidth\":0,\"ticks\":\"\"},\"colorscale\":[[0.0,\"#0d0887\"],[0.1111111111111111,\"#46039f\"],[0.2222222222222222,\"#7201a8\"],[0.3333333333333333,\"#9c179e\"],[0.4444444444444444,\"#bd3786\"],[0.5555555555555556,\"#d8576b\"],[0.6666666666666666,\"#ed7953\"],[0.7777777777777778,\"#fb9f3a\"],[0.8888888888888888,\"#fdca26\"],[1.0,\"#f0f921\"]]}],\"mesh3d\":[{\"type\":\"mesh3d\",\"colorbar\":{\"outlinewidth\":0,\"ticks\":\"\"}}],\"scatter\":[{\"fillpattern\":{\"fillmode\":\"overlay\",\"size\":10,\"solidity\":0.2},\"type\":\"scatter\"}],\"parcoords\":[{\"type\":\"parcoords\",\"line\":{\"colorbar\":{\"outlinewidth\":0,\"ticks\":\"\"}}}],\"scatterpolargl\":[{\"type\":\"scatterpolargl\",\"marker\":{\"colorbar\":{\"outlinewidth\":0,\"ticks\":\"\"}}}],\"bar\":[{\"error_x\":{\"color\":\"#2a3f5f\"},\"error_y\":{\"color\":\"#2a3f5f\"},\"marker\":{\"line\":{\"color\":\"#E5ECF6\",\"width\":0.5},\"pattern\":{\"fillmode\":\"overlay\",\"size\":10,\"solidity\":0.2}},\"type\":\"bar\"}],\"scattergeo\":[{\"type\":\"scattergeo\",\"marker\":{\"colorbar\":{\"outlinewidth\":0,\"ticks\":\"\"}}}],\"scatterpolar\":[{\"type\":\"scatterpolar\",\"marker\":{\"colorbar\":{\"outlinewidth\":0,\"ticks\":\"\"}}}],\"histogram\":[{\"marker\":{\"pattern\":{\"fillmode\":\"overlay\",\"size\":10,\"solidity\":0.2}},\"type\":\"histogram\"}],\"scattergl\":[{\"type\":\"scattergl\",\"marker\":{\"colorbar\":{\"outlinewidth\":0,\"ticks\":\"\"}}}],\"scatter3d\":[{\"type\":\"scatter3d\",\"line\":{\"colorbar\":{\"outlinewidth\":0,\"ticks\":\"\"}},\"marker\":{\"colorbar\":{\"outlinewidth\":0,\"ticks\":\"\"}}}],\"scattermapbox\":[{\"type\":\"scattermapbox\",\"marker\":{\"colorbar\":{\"outlinewidth\":0,\"ticks\":\"\"}}}],\"scatterternary\":[{\"type\":\"scatterternary\",\"marker\":{\"colorbar\":{\"outlinewidth\":0,\"ticks\":\"\"}}}],\"scattercarpet\":[{\"type\":\"scattercarpet\",\"marker\":{\"colorbar\":{\"outlinewidth\":0,\"ticks\":\"\"}}}],\"carpet\":[{\"aaxis\":{\"endlinecolor\":\"#2a3f5f\",\"gridcolor\":\"white\",\"linecolor\":\"white\",\"minorgridcolor\":\"white\",\"startlinecolor\":\"#2a3f5f\"},\"baxis\":{\"endlinecolor\":\"#2a3f5f\",\"gridcolor\":\"white\",\"linecolor\":\"white\",\"minorgridcolor\":\"white\",\"startlinecolor\":\"#2a3f5f\"},\"type\":\"carpet\"}],\"table\":[{\"cells\":{\"fill\":{\"color\":\"#EBF0F8\"},\"line\":{\"color\":\"white\"}},\"header\":{\"fill\":{\"color\":\"#C8D4E3\"},\"line\":{\"color\":\"white\"}},\"type\":\"table\"}],\"barpolar\":[{\"marker\":{\"line\":{\"color\":\"#E5ECF6\",\"width\":0.5},\"pattern\":{\"fillmode\":\"overlay\",\"size\":10,\"solidity\":0.2}},\"type\":\"barpolar\"}],\"pie\":[{\"automargin\":true,\"type\":\"pie\"}]},\"layout\":{\"autotypenumbers\":\"strict\",\"colorway\":[\"#636efa\",\"#EF553B\",\"#00cc96\",\"#ab63fa\",\"#FFA15A\",\"#19d3f3\",\"#FF6692\",\"#B6E880\",\"#FF97FF\",\"#FECB52\"],\"font\":{\"color\":\"#2a3f5f\"},\"hovermode\":\"closest\",\"hoverlabel\":{\"align\":\"left\"},\"paper_bgcolor\":\"white\",\"plot_bgcolor\":\"#E5ECF6\",\"polar\":{\"bgcolor\":\"#E5ECF6\",\"angularaxis\":{\"gridcolor\":\"white\",\"linecolor\":\"white\",\"ticks\":\"\"},\"radialaxis\":{\"gridcolor\":\"white\",\"linecolor\":\"white\",\"ticks\":\"\"}},\"ternary\":{\"bgcolor\":\"#E5ECF6\",\"aaxis\":{\"gridcolor\":\"white\",\"linecolor\":\"white\",\"ticks\":\"\"},\"baxis\":{\"gridcolor\":\"white\",\"linecolor\":\"white\",\"ticks\":\"\"},\"caxis\":{\"gridcolor\":\"white\",\"linecolor\":\"white\",\"ticks\":\"\"}},\"coloraxis\":{\"colorbar\":{\"outlinewidth\":0,\"ticks\":\"\"}},\"colorscale\":{\"sequential\":[[0.0,\"#0d0887\"],[0.1111111111111111,\"#46039f\"],[0.2222222222222222,\"#7201a8\"],[0.3333333333333333,\"#9c179e\"],[0.4444444444444444,\"#bd3786\"],[0.5555555555555556,\"#d8576b\"],[0.6666666666666666,\"#ed7953\"],[0.7777777777777778,\"#fb9f3a\"],[0.8888888888888888,\"#fdca26\"],[1.0,\"#f0f921\"]],\"sequentialminus\":[[0.0,\"#0d0887\"],[0.1111111111111111,\"#46039f\"],[0.2222222222222222,\"#7201a8\"],[0.3333333333333333,\"#9c179e\"],[0.4444444444444444,\"#bd3786\"],[0.5555555555555556,\"#d8576b\"],[0.6666666666666666,\"#ed7953\"],[0.7777777777777778,\"#fb9f3a\"],[0.8888888888888888,\"#fdca26\"],[1.0,\"#f0f921\"]],\"diverging\":[[0,\"#8e0152\"],[0.1,\"#c51b7d\"],[0.2,\"#de77ae\"],[0.3,\"#f1b6da\"],[0.4,\"#fde0ef\"],[0.5,\"#f7f7f7\"],[0.6,\"#e6f5d0\"],[0.7,\"#b8e186\"],[0.8,\"#7fbc41\"],[0.9,\"#4d9221\"],[1,\"#276419\"]]},\"xaxis\":{\"gridcolor\":\"white\",\"linecolor\":\"white\",\"ticks\":\"\",\"title\":{\"standoff\":15},\"zerolinecolor\":\"white\",\"automargin\":true,\"zerolinewidth\":2},\"yaxis\":{\"gridcolor\":\"white\",\"linecolor\":\"white\",\"ticks\":\"\",\"title\":{\"standoff\":15},\"zerolinecolor\":\"white\",\"automargin\":true,\"zerolinewidth\":2},\"scene\":{\"xaxis\":{\"backgroundcolor\":\"#E5ECF6\",\"gridcolor\":\"white\",\"linecolor\":\"white\",\"showbackground\":true,\"ticks\":\"\",\"zerolinecolor\":\"white\",\"gridwidth\":2},\"yaxis\":{\"backgroundcolor\":\"#E5ECF6\",\"gridcolor\":\"white\",\"linecolor\":\"white\",\"showbackground\":true,\"ticks\":\"\",\"zerolinecolor\":\"white\",\"gridwidth\":2},\"zaxis\":{\"backgroundcolor\":\"#E5ECF6\",\"gridcolor\":\"white\",\"linecolor\":\"white\",\"showbackground\":true,\"ticks\":\"\",\"zerolinecolor\":\"white\",\"gridwidth\":2}},\"shapedefaults\":{\"line\":{\"color\":\"#2a3f5f\"}},\"annotationdefaults\":{\"arrowcolor\":\"#2a3f5f\",\"arrowhead\":0,\"arrowwidth\":1},\"geo\":{\"bgcolor\":\"white\",\"landcolor\":\"#E5ECF6\",\"subunitcolor\":\"white\",\"showland\":true,\"showlakes\":true,\"lakecolor\":\"white\"},\"title\":{\"x\":0.05},\"mapbox\":{\"style\":\"light\"}}},\"xaxis\":{\"anchor\":\"y\",\"domain\":[0.0,1.0],\"title\":{\"text\":\"Year\"}},\"yaxis\":{\"anchor\":\"x\",\"domain\":[0.0,1.0],\"title\":{\"text\":\"value\"}},\"legend\":{\"title\":{\"text\":\"variable\"},\"tracegroupgap\":0},\"title\":{\"text\":\"Global average temperature anomaly relative to 1961-1990\"},\"font\":{\"family\":\"Times New Roman\"},\"plot_bgcolor\":\"rgb(242, 246, 252)\"},                        {\"responsive\": true}                    ).then(function(){\n",
       "                            \n",
       "var gd = document.getElementById('4c8a00c3-7a4d-44ff-8049-cbcb382160eb');\n",
       "var x = new MutationObserver(function (mutations, observer) {{\n",
       "        var display = window.getComputedStyle(gd).display;\n",
       "        if (!display || display === 'none') {{\n",
       "            console.log([gd, 'removed!']);\n",
       "            Plotly.purge(gd);\n",
       "            observer.disconnect();\n",
       "        }}\n",
       "}});\n",
       "\n",
       "// Listen for the removal of the full notebook cells\n",
       "var notebookContainer = gd.closest('#notebook-container');\n",
       "if (notebookContainer) {{\n",
       "    x.observe(notebookContainer, {childList: true});\n",
       "}}\n",
       "\n",
       "// Listen for the clearing of the current output cell\n",
       "var outputEl = gd.closest('.output');\n",
       "if (outputEl) {{\n",
       "    x.observe(outputEl, {childList: true});\n",
       "}}\n",
       "\n",
       "                        })                };                });            </script>        </div>"
      ]
     },
     "metadata": {},
     "output_type": "display_data"
    }
   ],
   "source": [
    "# create the basic line graph\n",
    "fig = px.line(\n",
    "    df_global, \n",
    "    x=\"Year\", \n",
    "    y=[\n",
    "        \"U.Bound\",\n",
    "        \"Median\",\n",
    "        \"L.Bound\",\n",
    "    ],\n",
    "    color_discrete_sequence=['red', 'blue', 'green'], # set colours\n",
    "    title='Global average temperature anomaly relative to 1961-1990',\n",
    ")\n",
    "\n",
    "# set the overall layout\n",
    "fig.update_layout(\n",
    "    font=dict(family='Times New Roman'), # set font\n",
    "    plot_bgcolor='rgb(242, 246, 252)', # set background colour as light grey\n",
    ")\n",
    "\n",
    "# display\n",
    "fig.show()"
   ]
  },
  {
   "cell_type": "markdown",
   "id": "52602d31",
   "metadata": {},
   "source": [
    "I'm really happy with this so far. \n",
    "\n",
    "You can see the trend clearly, and it's neat to see the greater interquartile range as you go back in time which represents how the accuracy of global temperature measurement has improved over time.\n",
    "\n",
    "However there are still some rough edges, and plenty that can be customized."
   ]
  },
  {
   "cell_type": "markdown",
   "id": "539467d6",
   "metadata": {},
   "source": [
    "### Make the headings, axes and legend more meaningful"
   ]
  },
  {
   "cell_type": "code",
   "execution_count": 94,
   "id": "fe00ebda",
   "metadata": {},
   "outputs": [
    {
     "data": {
      "application/vnd.plotly.v1+json": {
       "config": {
        "plotlyServerURL": "https://plot.ly"
       },
       "data": [
        {
         "hovertemplate": "variable=U.Bound<br>Year=%{x}<br>value=%{y}<extra></extra>",
         "legendgroup": "U.Bound",
         "line": {
          "color": "red",
          "dash": "solid"
         },
         "marker": {
          "symbol": "circle"
         },
         "mode": "lines",
         "name": "U.Bound",
         "orientation": "v",
         "showlegend": true,
         "type": "scatter",
         "x": [
          1850,
          1851,
          1852,
          1853,
          1854,
          1855,
          1856,
          1857,
          1858,
          1859,
          1860,
          1861,
          1862,
          1863,
          1864,
          1865,
          1866,
          1867,
          1868,
          1869,
          1870,
          1871,
          1872,
          1873,
          1874,
          1875,
          1876,
          1877,
          1878,
          1879,
          1880,
          1881,
          1882,
          1883,
          1884,
          1885,
          1886,
          1887,
          1888,
          1889,
          1890,
          1891,
          1892,
          1893,
          1894,
          1895,
          1896,
          1897,
          1898,
          1899,
          1900,
          1901,
          1902,
          1903,
          1904,
          1905,
          1906,
          1907,
          1908,
          1909,
          1910,
          1911,
          1912,
          1913,
          1914,
          1915,
          1916,
          1917,
          1918,
          1919,
          1920,
          1921,
          1922,
          1923,
          1924,
          1925,
          1926,
          1927,
          1928,
          1929,
          1930,
          1931,
          1932,
          1933,
          1934,
          1935,
          1936,
          1937,
          1938,
          1939,
          1940,
          1941,
          1942,
          1943,
          1944,
          1945,
          1946,
          1947,
          1948,
          1949,
          1950,
          1951,
          1952,
          1953,
          1954,
          1955,
          1956,
          1957,
          1958,
          1959,
          1960,
          1961,
          1962,
          1963,
          1964,
          1965,
          1966,
          1967,
          1968,
          1969,
          1970,
          1971,
          1972,
          1973,
          1974,
          1975,
          1976,
          1977,
          1978,
          1979,
          1980,
          1981,
          1982,
          1983,
          1984,
          1985,
          1986,
          1987,
          1988,
          1989,
          1990,
          1991,
          1992,
          1993,
          1994,
          1995,
          1996,
          1997,
          1998,
          1999,
          2000,
          2001,
          2002,
          2003,
          2004,
          2005,
          2006,
          2007,
          2008,
          2009,
          2010,
          2011,
          2012,
          2013,
          2014,
          2015,
          2016,
          2017,
          2018,
          2019,
          2020,
          2021,
          2022
         ],
         "xaxis": "x",
         "y": [
          -0.25,
          -0.05,
          -0.05,
          -0.11,
          -0.15,
          -0.15,
          -0.17,
          -0.32,
          -0.24,
          -0.14,
          -0.24,
          -0.26,
          -0.37,
          -0.15,
          -0.28,
          -0.14,
          -0.16,
          -0.16,
          -0.17,
          -0.16,
          -0.19,
          -0.22,
          -0.19,
          -0.21,
          -0.24,
          -0.24,
          -0.29,
          0.03,
          0.11,
          -0.17,
          -0.19,
          -0.11,
          -0.17,
          -0.23,
          -0.38,
          -0.36,
          -0.32,
          -0.38,
          -0.27,
          -0.13,
          -0.38,
          -0.27,
          -0.37,
          -0.36,
          -0.34,
          -0.32,
          -0.15,
          -0.12,
          -0.35,
          -0.22,
          -0.1,
          -0.16,
          -0.3,
          -0.41,
          -0.47,
          -0.28,
          -0.19,
          -0.38,
          -0.39,
          -0.42,
          -0.41,
          -0.42,
          -0.36,
          -0.34,
          -0.14,
          -0.06,
          -0.28,
          -0.39,
          -0.27,
          -0.17,
          -0.15,
          -0.1,
          -0.21,
          -0.19,
          -0.19,
          -0.15,
          0.01,
          -0.11,
          -0.07,
          -0.26,
          -0.06,
          0.01,
          -0.04,
          -0.22,
          -0.07,
          -0.11,
          -0.08,
          0.08,
          0.09,
          0.07,
          0.19,
          0.24,
          0.2,
          0.21,
          0.34,
          0.24,
          0.03,
          0.05,
          0.01,
          -0.03,
          -0.12,
          0.03,
          0.11,
          0.18,
          -0.02,
          -0.11,
          -0.19,
          0.03,
          0.05,
          0.01,
          -0.06,
          0.03,
          -0.01,
          0.02,
          -0.26,
          -0.16,
          -0.1,
          -0.07,
          -0.12,
          0.01,
          -0.04,
          -0.17,
          -0.06,
          0.09,
          -0.13,
          -0.07,
          -0.18,
          0.15,
          0.05,
          0.12,
          0.23,
          0.28,
          0.07,
          0.26,
          0.08,
          0.08,
          0.13,
          0.27,
          0.32,
          0.21,
          0.4,
          0.37,
          0.16,
          0.2,
          0.27,
          0.41,
          0.31,
          0.45,
          0.61,
          0.36,
          0.36,
          0.52,
          0.57,
          0.58,
          0.5,
          0.64,
          0.6,
          0.62,
          0.5,
          0.63,
          0.71,
          0.57,
          0.61,
          0.66,
          0.71,
          0.86,
          0.96,
          0.88,
          0.79,
          0.93,
          0.96,
          0.8,
          0.84
         ],
         "yaxis": "y"
        },
        {
         "hovertemplate": "variable=Median<br>Year=%{x}<br>value=%{y}<extra></extra>",
         "legendgroup": "Median",
         "line": {
          "color": "blue",
          "dash": "solid"
         },
         "marker": {
          "symbol": "circle"
         },
         "mode": "lines",
         "name": "Median",
         "orientation": "v",
         "showlegend": true,
         "type": "scatter",
         "x": [
          1850,
          1851,
          1852,
          1853,
          1854,
          1855,
          1856,
          1857,
          1858,
          1859,
          1860,
          1861,
          1862,
          1863,
          1864,
          1865,
          1866,
          1867,
          1868,
          1869,
          1870,
          1871,
          1872,
          1873,
          1874,
          1875,
          1876,
          1877,
          1878,
          1879,
          1880,
          1881,
          1882,
          1883,
          1884,
          1885,
          1886,
          1887,
          1888,
          1889,
          1890,
          1891,
          1892,
          1893,
          1894,
          1895,
          1896,
          1897,
          1898,
          1899,
          1900,
          1901,
          1902,
          1903,
          1904,
          1905,
          1906,
          1907,
          1908,
          1909,
          1910,
          1911,
          1912,
          1913,
          1914,
          1915,
          1916,
          1917,
          1918,
          1919,
          1920,
          1921,
          1922,
          1923,
          1924,
          1925,
          1926,
          1927,
          1928,
          1929,
          1930,
          1931,
          1932,
          1933,
          1934,
          1935,
          1936,
          1937,
          1938,
          1939,
          1940,
          1941,
          1942,
          1943,
          1944,
          1945,
          1946,
          1947,
          1948,
          1949,
          1950,
          1951,
          1952,
          1953,
          1954,
          1955,
          1956,
          1957,
          1958,
          1959,
          1960,
          1961,
          1962,
          1963,
          1964,
          1965,
          1966,
          1967,
          1968,
          1969,
          1970,
          1971,
          1972,
          1973,
          1974,
          1975,
          1976,
          1977,
          1978,
          1979,
          1980,
          1981,
          1982,
          1983,
          1984,
          1985,
          1986,
          1987,
          1988,
          1989,
          1990,
          1991,
          1992,
          1993,
          1994,
          1995,
          1996,
          1997,
          1998,
          1999,
          2000,
          2001,
          2002,
          2003,
          2004,
          2005,
          2006,
          2007,
          2008,
          2009,
          2010,
          2011,
          2012,
          2013,
          2014,
          2015,
          2016,
          2017,
          2018,
          2019,
          2020,
          2021,
          2022
         ],
         "xaxis": "x",
         "y": [
          -0.42,
          -0.23,
          -0.23,
          -0.27,
          -0.29,
          -0.3,
          -0.32,
          -0.47,
          -0.39,
          -0.28,
          -0.39,
          -0.43,
          -0.54,
          -0.34,
          -0.47,
          -0.33,
          -0.34,
          -0.36,
          -0.35,
          -0.32,
          -0.33,
          -0.37,
          -0.33,
          -0.34,
          -0.37,
          -0.38,
          -0.42,
          -0.1,
          -0.01,
          -0.3,
          -0.32,
          -0.23,
          -0.3,
          -0.35,
          -0.49,
          -0.47,
          -0.42,
          -0.5,
          -0.38,
          -0.25,
          -0.51,
          -0.4,
          -0.51,
          -0.49,
          -0.48,
          -0.45,
          -0.28,
          -0.26,
          -0.49,
          -0.36,
          -0.23,
          -0.29,
          -0.44,
          -0.53,
          -0.6,
          -0.41,
          -0.32,
          -0.5,
          -0.51,
          -0.54,
          -0.53,
          -0.54,
          -0.48,
          -0.47,
          -0.26,
          -0.19,
          -0.42,
          -0.54,
          -0.42,
          -0.33,
          -0.3,
          -0.24,
          -0.34,
          -0.32,
          -0.31,
          -0.28,
          -0.12,
          -0.23,
          -0.21,
          -0.39,
          -0.18,
          -0.1,
          -0.15,
          -0.32,
          -0.17,
          -0.21,
          -0.17,
          -0.02,
          -0.01,
          -0.04,
          0.08,
          0.04,
          0,
          0.01,
          0.14,
          0.04,
          -0.12,
          -0.09,
          -0.12,
          -0.14,
          -0.23,
          -0.06,
          0.02,
          0.08,
          -0.12,
          -0.2,
          -0.26,
          -0.04,
          -0.02,
          -0.05,
          -0.12,
          -0.02,
          -0.06,
          -0.04,
          -0.31,
          -0.2,
          -0.15,
          -0.12,
          -0.17,
          -0.03,
          -0.09,
          -0.21,
          -0.09,
          0.05,
          -0.17,
          -0.11,
          -0.22,
          0.1,
          0.01,
          0.09,
          0.2,
          0.25,
          0.03,
          0.22,
          0.05,
          0.05,
          0.1,
          0.24,
          0.28,
          0.18,
          0.36,
          0.34,
          0.12,
          0.17,
          0.23,
          0.38,
          0.28,
          0.42,
          0.58,
          0.32,
          0.33,
          0.49,
          0.54,
          0.54,
          0.47,
          0.61,
          0.57,
          0.59,
          0.47,
          0.6,
          0.68,
          0.54,
          0.58,
          0.62,
          0.67,
          0.83,
          0.93,
          0.85,
          0.76,
          0.89,
          0.92,
          0.76,
          0.8
         ],
         "yaxis": "y"
        },
        {
         "hovertemplate": "variable=L.Bound<br>Year=%{x}<br>value=%{y}<extra></extra>",
         "legendgroup": "L.Bound",
         "line": {
          "color": "green",
          "dash": "solid"
         },
         "marker": {
          "symbol": "circle"
         },
         "mode": "lines",
         "name": "L.Bound",
         "orientation": "v",
         "showlegend": true,
         "type": "scatter",
         "x": [
          1850,
          1851,
          1852,
          1853,
          1854,
          1855,
          1856,
          1857,
          1858,
          1859,
          1860,
          1861,
          1862,
          1863,
          1864,
          1865,
          1866,
          1867,
          1868,
          1869,
          1870,
          1871,
          1872,
          1873,
          1874,
          1875,
          1876,
          1877,
          1878,
          1879,
          1880,
          1881,
          1882,
          1883,
          1884,
          1885,
          1886,
          1887,
          1888,
          1889,
          1890,
          1891,
          1892,
          1893,
          1894,
          1895,
          1896,
          1897,
          1898,
          1899,
          1900,
          1901,
          1902,
          1903,
          1904,
          1905,
          1906,
          1907,
          1908,
          1909,
          1910,
          1911,
          1912,
          1913,
          1914,
          1915,
          1916,
          1917,
          1918,
          1919,
          1920,
          1921,
          1922,
          1923,
          1924,
          1925,
          1926,
          1927,
          1928,
          1929,
          1930,
          1931,
          1932,
          1933,
          1934,
          1935,
          1936,
          1937,
          1938,
          1939,
          1940,
          1941,
          1942,
          1943,
          1944,
          1945,
          1946,
          1947,
          1948,
          1949,
          1950,
          1951,
          1952,
          1953,
          1954,
          1955,
          1956,
          1957,
          1958,
          1959,
          1960,
          1961,
          1962,
          1963,
          1964,
          1965,
          1966,
          1967,
          1968,
          1969,
          1970,
          1971,
          1972,
          1973,
          1974,
          1975,
          1976,
          1977,
          1978,
          1979,
          1980,
          1981,
          1982,
          1983,
          1984,
          1985,
          1986,
          1987,
          1988,
          1989,
          1990,
          1991,
          1992,
          1993,
          1994,
          1995,
          1996,
          1997,
          1998,
          1999,
          2000,
          2001,
          2002,
          2003,
          2004,
          2005,
          2006,
          2007,
          2008,
          2009,
          2010,
          2011,
          2012,
          2013,
          2014,
          2015,
          2016,
          2017,
          2018,
          2019,
          2020,
          2021,
          2022
         ],
         "xaxis": "x",
         "y": [
          -0.59,
          -0.41,
          -0.41,
          -0.43,
          -0.43,
          -0.44,
          -0.47,
          -0.62,
          -0.54,
          -0.42,
          -0.54,
          -0.6,
          -0.7,
          -0.53,
          -0.65,
          -0.52,
          -0.52,
          -0.55,
          -0.53,
          -0.48,
          -0.47,
          -0.51,
          -0.46,
          -0.47,
          -0.51,
          -0.51,
          -0.56,
          -0.23,
          -0.13,
          -0.43,
          -0.44,
          -0.36,
          -0.42,
          -0.46,
          -0.6,
          -0.58,
          -0.52,
          -0.62,
          -0.49,
          -0.37,
          -0.63,
          -0.54,
          -0.64,
          -0.63,
          -0.63,
          -0.58,
          -0.42,
          -0.4,
          -0.62,
          -0.49,
          -0.37,
          -0.43,
          -0.58,
          -0.66,
          -0.73,
          -0.54,
          -0.45,
          -0.63,
          -0.64,
          -0.65,
          -0.66,
          -0.66,
          -0.59,
          -0.59,
          -0.38,
          -0.32,
          -0.56,
          -0.69,
          -0.58,
          -0.48,
          -0.45,
          -0.38,
          -0.47,
          -0.44,
          -0.44,
          -0.41,
          -0.25,
          -0.35,
          -0.34,
          -0.53,
          -0.29,
          -0.21,
          -0.25,
          -0.43,
          -0.27,
          -0.3,
          -0.26,
          -0.12,
          -0.11,
          -0.15,
          -0.04,
          -0.16,
          -0.2,
          -0.2,
          -0.05,
          -0.16,
          -0.27,
          -0.23,
          -0.26,
          -0.25,
          -0.33,
          -0.15,
          -0.08,
          -0.02,
          -0.21,
          -0.28,
          -0.34,
          -0.1,
          -0.08,
          -0.11,
          -0.17,
          -0.07,
          -0.12,
          -0.09,
          -0.35,
          -0.25,
          -0.2,
          -0.16,
          -0.21,
          -0.07,
          -0.13,
          -0.24,
          -0.13,
          0.01,
          -0.21,
          -0.15,
          -0.26,
          0.06,
          -0.03,
          0.06,
          0.16,
          0.22,
          -0.01,
          0.19,
          0.01,
          0.02,
          0.06,
          0.21,
          0.25,
          0.14,
          0.32,
          0.3,
          0.09,
          0.13,
          0.2,
          0.34,
          0.24,
          0.39,
          0.54,
          0.29,
          0.3,
          0.46,
          0.51,
          0.51,
          0.43,
          0.58,
          0.54,
          0.56,
          0.43,
          0.57,
          0.65,
          0.51,
          0.54,
          0.59,
          0.64,
          0.79,
          0.9,
          0.81,
          0.73,
          0.86,
          0.89,
          0.73,
          0.77
         ],
         "yaxis": "y"
        }
       ],
       "layout": {
        "font": {
         "family": "Times New Roman"
        },
        "legend": {
         "title": {},
         "tracegroupgap": 0
        },
        "plot_bgcolor": "rgb(242, 246, 252)",
        "template": {
         "data": {
          "bar": [
           {
            "error_x": {
             "color": "#2a3f5f"
            },
            "error_y": {
             "color": "#2a3f5f"
            },
            "marker": {
             "line": {
              "color": "#E5ECF6",
              "width": 0.5
             },
             "pattern": {
              "fillmode": "overlay",
              "size": 10,
              "solidity": 0.2
             }
            },
            "type": "bar"
           }
          ],
          "barpolar": [
           {
            "marker": {
             "line": {
              "color": "#E5ECF6",
              "width": 0.5
             },
             "pattern": {
              "fillmode": "overlay",
              "size": 10,
              "solidity": 0.2
             }
            },
            "type": "barpolar"
           }
          ],
          "carpet": [
           {
            "aaxis": {
             "endlinecolor": "#2a3f5f",
             "gridcolor": "white",
             "linecolor": "white",
             "minorgridcolor": "white",
             "startlinecolor": "#2a3f5f"
            },
            "baxis": {
             "endlinecolor": "#2a3f5f",
             "gridcolor": "white",
             "linecolor": "white",
             "minorgridcolor": "white",
             "startlinecolor": "#2a3f5f"
            },
            "type": "carpet"
           }
          ],
          "choropleth": [
           {
            "colorbar": {
             "outlinewidth": 0,
             "ticks": ""
            },
            "type": "choropleth"
           }
          ],
          "contour": [
           {
            "colorbar": {
             "outlinewidth": 0,
             "ticks": ""
            },
            "colorscale": [
             [
              0,
              "#0d0887"
             ],
             [
              0.1111111111111111,
              "#46039f"
             ],
             [
              0.2222222222222222,
              "#7201a8"
             ],
             [
              0.3333333333333333,
              "#9c179e"
             ],
             [
              0.4444444444444444,
              "#bd3786"
             ],
             [
              0.5555555555555556,
              "#d8576b"
             ],
             [
              0.6666666666666666,
              "#ed7953"
             ],
             [
              0.7777777777777778,
              "#fb9f3a"
             ],
             [
              0.8888888888888888,
              "#fdca26"
             ],
             [
              1,
              "#f0f921"
             ]
            ],
            "type": "contour"
           }
          ],
          "contourcarpet": [
           {
            "colorbar": {
             "outlinewidth": 0,
             "ticks": ""
            },
            "type": "contourcarpet"
           }
          ],
          "heatmap": [
           {
            "colorbar": {
             "outlinewidth": 0,
             "ticks": ""
            },
            "colorscale": [
             [
              0,
              "#0d0887"
             ],
             [
              0.1111111111111111,
              "#46039f"
             ],
             [
              0.2222222222222222,
              "#7201a8"
             ],
             [
              0.3333333333333333,
              "#9c179e"
             ],
             [
              0.4444444444444444,
              "#bd3786"
             ],
             [
              0.5555555555555556,
              "#d8576b"
             ],
             [
              0.6666666666666666,
              "#ed7953"
             ],
             [
              0.7777777777777778,
              "#fb9f3a"
             ],
             [
              0.8888888888888888,
              "#fdca26"
             ],
             [
              1,
              "#f0f921"
             ]
            ],
            "type": "heatmap"
           }
          ],
          "heatmapgl": [
           {
            "colorbar": {
             "outlinewidth": 0,
             "ticks": ""
            },
            "colorscale": [
             [
              0,
              "#0d0887"
             ],
             [
              0.1111111111111111,
              "#46039f"
             ],
             [
              0.2222222222222222,
              "#7201a8"
             ],
             [
              0.3333333333333333,
              "#9c179e"
             ],
             [
              0.4444444444444444,
              "#bd3786"
             ],
             [
              0.5555555555555556,
              "#d8576b"
             ],
             [
              0.6666666666666666,
              "#ed7953"
             ],
             [
              0.7777777777777778,
              "#fb9f3a"
             ],
             [
              0.8888888888888888,
              "#fdca26"
             ],
             [
              1,
              "#f0f921"
             ]
            ],
            "type": "heatmapgl"
           }
          ],
          "histogram": [
           {
            "marker": {
             "pattern": {
              "fillmode": "overlay",
              "size": 10,
              "solidity": 0.2
             }
            },
            "type": "histogram"
           }
          ],
          "histogram2d": [
           {
            "colorbar": {
             "outlinewidth": 0,
             "ticks": ""
            },
            "colorscale": [
             [
              0,
              "#0d0887"
             ],
             [
              0.1111111111111111,
              "#46039f"
             ],
             [
              0.2222222222222222,
              "#7201a8"
             ],
             [
              0.3333333333333333,
              "#9c179e"
             ],
             [
              0.4444444444444444,
              "#bd3786"
             ],
             [
              0.5555555555555556,
              "#d8576b"
             ],
             [
              0.6666666666666666,
              "#ed7953"
             ],
             [
              0.7777777777777778,
              "#fb9f3a"
             ],
             [
              0.8888888888888888,
              "#fdca26"
             ],
             [
              1,
              "#f0f921"
             ]
            ],
            "type": "histogram2d"
           }
          ],
          "histogram2dcontour": [
           {
            "colorbar": {
             "outlinewidth": 0,
             "ticks": ""
            },
            "colorscale": [
             [
              0,
              "#0d0887"
             ],
             [
              0.1111111111111111,
              "#46039f"
             ],
             [
              0.2222222222222222,
              "#7201a8"
             ],
             [
              0.3333333333333333,
              "#9c179e"
             ],
             [
              0.4444444444444444,
              "#bd3786"
             ],
             [
              0.5555555555555556,
              "#d8576b"
             ],
             [
              0.6666666666666666,
              "#ed7953"
             ],
             [
              0.7777777777777778,
              "#fb9f3a"
             ],
             [
              0.8888888888888888,
              "#fdca26"
             ],
             [
              1,
              "#f0f921"
             ]
            ],
            "type": "histogram2dcontour"
           }
          ],
          "mesh3d": [
           {
            "colorbar": {
             "outlinewidth": 0,
             "ticks": ""
            },
            "type": "mesh3d"
           }
          ],
          "parcoords": [
           {
            "line": {
             "colorbar": {
              "outlinewidth": 0,
              "ticks": ""
             }
            },
            "type": "parcoords"
           }
          ],
          "pie": [
           {
            "automargin": true,
            "type": "pie"
           }
          ],
          "scatter": [
           {
            "fillpattern": {
             "fillmode": "overlay",
             "size": 10,
             "solidity": 0.2
            },
            "type": "scatter"
           }
          ],
          "scatter3d": [
           {
            "line": {
             "colorbar": {
              "outlinewidth": 0,
              "ticks": ""
             }
            },
            "marker": {
             "colorbar": {
              "outlinewidth": 0,
              "ticks": ""
             }
            },
            "type": "scatter3d"
           }
          ],
          "scattercarpet": [
           {
            "marker": {
             "colorbar": {
              "outlinewidth": 0,
              "ticks": ""
             }
            },
            "type": "scattercarpet"
           }
          ],
          "scattergeo": [
           {
            "marker": {
             "colorbar": {
              "outlinewidth": 0,
              "ticks": ""
             }
            },
            "type": "scattergeo"
           }
          ],
          "scattergl": [
           {
            "marker": {
             "colorbar": {
              "outlinewidth": 0,
              "ticks": ""
             }
            },
            "type": "scattergl"
           }
          ],
          "scattermapbox": [
           {
            "marker": {
             "colorbar": {
              "outlinewidth": 0,
              "ticks": ""
             }
            },
            "type": "scattermapbox"
           }
          ],
          "scatterpolar": [
           {
            "marker": {
             "colorbar": {
              "outlinewidth": 0,
              "ticks": ""
             }
            },
            "type": "scatterpolar"
           }
          ],
          "scatterpolargl": [
           {
            "marker": {
             "colorbar": {
              "outlinewidth": 0,
              "ticks": ""
             }
            },
            "type": "scatterpolargl"
           }
          ],
          "scatterternary": [
           {
            "marker": {
             "colorbar": {
              "outlinewidth": 0,
              "ticks": ""
             }
            },
            "type": "scatterternary"
           }
          ],
          "surface": [
           {
            "colorbar": {
             "outlinewidth": 0,
             "ticks": ""
            },
            "colorscale": [
             [
              0,
              "#0d0887"
             ],
             [
              0.1111111111111111,
              "#46039f"
             ],
             [
              0.2222222222222222,
              "#7201a8"
             ],
             [
              0.3333333333333333,
              "#9c179e"
             ],
             [
              0.4444444444444444,
              "#bd3786"
             ],
             [
              0.5555555555555556,
              "#d8576b"
             ],
             [
              0.6666666666666666,
              "#ed7953"
             ],
             [
              0.7777777777777778,
              "#fb9f3a"
             ],
             [
              0.8888888888888888,
              "#fdca26"
             ],
             [
              1,
              "#f0f921"
             ]
            ],
            "type": "surface"
           }
          ],
          "table": [
           {
            "cells": {
             "fill": {
              "color": "#EBF0F8"
             },
             "line": {
              "color": "white"
             }
            },
            "header": {
             "fill": {
              "color": "#C8D4E3"
             },
             "line": {
              "color": "white"
             }
            },
            "type": "table"
           }
          ]
         },
         "layout": {
          "annotationdefaults": {
           "arrowcolor": "#2a3f5f",
           "arrowhead": 0,
           "arrowwidth": 1
          },
          "autotypenumbers": "strict",
          "coloraxis": {
           "colorbar": {
            "outlinewidth": 0,
            "ticks": ""
           }
          },
          "colorscale": {
           "diverging": [
            [
             0,
             "#8e0152"
            ],
            [
             0.1,
             "#c51b7d"
            ],
            [
             0.2,
             "#de77ae"
            ],
            [
             0.3,
             "#f1b6da"
            ],
            [
             0.4,
             "#fde0ef"
            ],
            [
             0.5,
             "#f7f7f7"
            ],
            [
             0.6,
             "#e6f5d0"
            ],
            [
             0.7,
             "#b8e186"
            ],
            [
             0.8,
             "#7fbc41"
            ],
            [
             0.9,
             "#4d9221"
            ],
            [
             1,
             "#276419"
            ]
           ],
           "sequential": [
            [
             0,
             "#0d0887"
            ],
            [
             0.1111111111111111,
             "#46039f"
            ],
            [
             0.2222222222222222,
             "#7201a8"
            ],
            [
             0.3333333333333333,
             "#9c179e"
            ],
            [
             0.4444444444444444,
             "#bd3786"
            ],
            [
             0.5555555555555556,
             "#d8576b"
            ],
            [
             0.6666666666666666,
             "#ed7953"
            ],
            [
             0.7777777777777778,
             "#fb9f3a"
            ],
            [
             0.8888888888888888,
             "#fdca26"
            ],
            [
             1,
             "#f0f921"
            ]
           ],
           "sequentialminus": [
            [
             0,
             "#0d0887"
            ],
            [
             0.1111111111111111,
             "#46039f"
            ],
            [
             0.2222222222222222,
             "#7201a8"
            ],
            [
             0.3333333333333333,
             "#9c179e"
            ],
            [
             0.4444444444444444,
             "#bd3786"
            ],
            [
             0.5555555555555556,
             "#d8576b"
            ],
            [
             0.6666666666666666,
             "#ed7953"
            ],
            [
             0.7777777777777778,
             "#fb9f3a"
            ],
            [
             0.8888888888888888,
             "#fdca26"
            ],
            [
             1,
             "#f0f921"
            ]
           ]
          },
          "colorway": [
           "#636efa",
           "#EF553B",
           "#00cc96",
           "#ab63fa",
           "#FFA15A",
           "#19d3f3",
           "#FF6692",
           "#B6E880",
           "#FF97FF",
           "#FECB52"
          ],
          "font": {
           "color": "#2a3f5f"
          },
          "geo": {
           "bgcolor": "white",
           "lakecolor": "white",
           "landcolor": "#E5ECF6",
           "showlakes": true,
           "showland": true,
           "subunitcolor": "white"
          },
          "hoverlabel": {
           "align": "left"
          },
          "hovermode": "closest",
          "mapbox": {
           "style": "light"
          },
          "paper_bgcolor": "white",
          "plot_bgcolor": "#E5ECF6",
          "polar": {
           "angularaxis": {
            "gridcolor": "white",
            "linecolor": "white",
            "ticks": ""
           },
           "bgcolor": "#E5ECF6",
           "radialaxis": {
            "gridcolor": "white",
            "linecolor": "white",
            "ticks": ""
           }
          },
          "scene": {
           "xaxis": {
            "backgroundcolor": "#E5ECF6",
            "gridcolor": "white",
            "gridwidth": 2,
            "linecolor": "white",
            "showbackground": true,
            "ticks": "",
            "zerolinecolor": "white"
           },
           "yaxis": {
            "backgroundcolor": "#E5ECF6",
            "gridcolor": "white",
            "gridwidth": 2,
            "linecolor": "white",
            "showbackground": true,
            "ticks": "",
            "zerolinecolor": "white"
           },
           "zaxis": {
            "backgroundcolor": "#E5ECF6",
            "gridcolor": "white",
            "gridwidth": 2,
            "linecolor": "white",
            "showbackground": true,
            "ticks": "",
            "zerolinecolor": "white"
           }
          },
          "shapedefaults": {
           "line": {
            "color": "#2a3f5f"
           }
          },
          "ternary": {
           "aaxis": {
            "gridcolor": "white",
            "linecolor": "white",
            "ticks": ""
           },
           "baxis": {
            "gridcolor": "white",
            "linecolor": "white",
            "ticks": ""
           },
           "bgcolor": "#E5ECF6",
           "caxis": {
            "gridcolor": "white",
            "linecolor": "white",
            "ticks": ""
           }
          },
          "title": {
           "x": 0.05
          },
          "xaxis": {
           "automargin": true,
           "gridcolor": "white",
           "linecolor": "white",
           "ticks": "",
           "title": {
            "standoff": 15
           },
           "zerolinecolor": "white",
           "zerolinewidth": 2
          },
          "yaxis": {
           "automargin": true,
           "gridcolor": "white",
           "linecolor": "white",
           "ticks": "",
           "title": {
            "standoff": 15
           },
           "zerolinecolor": "white",
           "zerolinewidth": 2
          }
         }
        },
        "title": {
         "text": "Global average difference in temperature relative to 1961-1990"
        },
        "xaxis": {
         "anchor": "y",
         "domain": [
          0,
          1
         ],
         "title": {
          "font": {
           "family": "Times New Roman"
          },
          "text": "Year"
         }
        },
        "yaxis": {
         "anchor": "x",
         "domain": [
          0,
          1
         ],
         "title": {
          "font": {
           "family": "Times New Roman"
          },
          "text": "Temperature (°C)"
         }
        }
       }
      },
      "text/html": [
       "<div>                            <div id=\"2946115d-8cf5-498d-b46e-19183ba01a97\" class=\"plotly-graph-div\" style=\"height:525px; width:100%;\"></div>            <script type=\"text/javascript\">                require([\"plotly\"], function(Plotly) {                    window.PLOTLYENV=window.PLOTLYENV || {};                                    if (document.getElementById(\"2946115d-8cf5-498d-b46e-19183ba01a97\")) {                    Plotly.newPlot(                        \"2946115d-8cf5-498d-b46e-19183ba01a97\",                        [{\"hovertemplate\":\"variable=U.Bound\\u003cbr\\u003eYear=%{x}\\u003cbr\\u003evalue=%{y}\\u003cextra\\u003e\\u003c\\u002fextra\\u003e\",\"legendgroup\":\"U.Bound\",\"line\":{\"color\":\"red\",\"dash\":\"solid\"},\"marker\":{\"symbol\":\"circle\"},\"mode\":\"lines\",\"name\":\"U.Bound\",\"orientation\":\"v\",\"showlegend\":true,\"x\":[1850,1851,1852,1853,1854,1855,1856,1857,1858,1859,1860,1861,1862,1863,1864,1865,1866,1867,1868,1869,1870,1871,1872,1873,1874,1875,1876,1877,1878,1879,1880,1881,1882,1883,1884,1885,1886,1887,1888,1889,1890,1891,1892,1893,1894,1895,1896,1897,1898,1899,1900,1901,1902,1903,1904,1905,1906,1907,1908,1909,1910,1911,1912,1913,1914,1915,1916,1917,1918,1919,1920,1921,1922,1923,1924,1925,1926,1927,1928,1929,1930,1931,1932,1933,1934,1935,1936,1937,1938,1939,1940,1941,1942,1943,1944,1945,1946,1947,1948,1949,1950,1951,1952,1953,1954,1955,1956,1957,1958,1959,1960,1961,1962,1963,1964,1965,1966,1967,1968,1969,1970,1971,1972,1973,1974,1975,1976,1977,1978,1979,1980,1981,1982,1983,1984,1985,1986,1987,1988,1989,1990,1991,1992,1993,1994,1995,1996,1997,1998,1999,2000,2001,2002,2003,2004,2005,2006,2007,2008,2009,2010,2011,2012,2013,2014,2015,2016,2017,2018,2019,2020,2021,2022],\"xaxis\":\"x\",\"y\":[-0.25,-0.05,-0.05,-0.11,-0.15,-0.15,-0.17,-0.32,-0.24,-0.14,-0.24,-0.26,-0.37,-0.15,-0.28,-0.14,-0.16,-0.16,-0.17,-0.16,-0.19,-0.22,-0.19,-0.21,-0.24,-0.24,-0.29,0.03,0.11,-0.17,-0.19,-0.11,-0.17,-0.23,-0.38,-0.36,-0.32,-0.38,-0.27,-0.13,-0.38,-0.27,-0.37,-0.36,-0.34,-0.32,-0.15,-0.12,-0.35,-0.22,-0.1,-0.16,-0.3,-0.41,-0.47,-0.28,-0.19,-0.38,-0.39,-0.42,-0.41,-0.42,-0.36,-0.34,-0.14,-0.06,-0.28,-0.39,-0.27,-0.17,-0.15,-0.1,-0.21,-0.19,-0.19,-0.15,0.01,-0.11,-0.07,-0.26,-0.06,0.01,-0.04,-0.22,-0.07,-0.11,-0.08,0.08,0.09,0.07,0.19,0.24,0.2,0.21,0.34,0.24,0.03,0.05,0.01,-0.03,-0.12,0.03,0.11,0.18,-0.02,-0.11,-0.19,0.03,0.05,0.01,-0.06,0.03,-0.01,0.02,-0.26,-0.16,-0.1,-0.07,-0.12,0.01,-0.04,-0.17,-0.06,0.09,-0.13,-0.07,-0.18,0.15,0.05,0.12,0.23,0.28,0.07,0.26,0.08,0.08,0.13,0.27,0.32,0.21,0.4,0.37,0.16,0.2,0.27,0.41,0.31,0.45,0.61,0.36,0.36,0.52,0.57,0.58,0.5,0.64,0.6,0.62,0.5,0.63,0.71,0.57,0.61,0.66,0.71,0.86,0.96,0.88,0.79,0.93,0.96,0.8,0.84],\"yaxis\":\"y\",\"type\":\"scatter\"},{\"hovertemplate\":\"variable=Median\\u003cbr\\u003eYear=%{x}\\u003cbr\\u003evalue=%{y}\\u003cextra\\u003e\\u003c\\u002fextra\\u003e\",\"legendgroup\":\"Median\",\"line\":{\"color\":\"blue\",\"dash\":\"solid\"},\"marker\":{\"symbol\":\"circle\"},\"mode\":\"lines\",\"name\":\"Median\",\"orientation\":\"v\",\"showlegend\":true,\"x\":[1850,1851,1852,1853,1854,1855,1856,1857,1858,1859,1860,1861,1862,1863,1864,1865,1866,1867,1868,1869,1870,1871,1872,1873,1874,1875,1876,1877,1878,1879,1880,1881,1882,1883,1884,1885,1886,1887,1888,1889,1890,1891,1892,1893,1894,1895,1896,1897,1898,1899,1900,1901,1902,1903,1904,1905,1906,1907,1908,1909,1910,1911,1912,1913,1914,1915,1916,1917,1918,1919,1920,1921,1922,1923,1924,1925,1926,1927,1928,1929,1930,1931,1932,1933,1934,1935,1936,1937,1938,1939,1940,1941,1942,1943,1944,1945,1946,1947,1948,1949,1950,1951,1952,1953,1954,1955,1956,1957,1958,1959,1960,1961,1962,1963,1964,1965,1966,1967,1968,1969,1970,1971,1972,1973,1974,1975,1976,1977,1978,1979,1980,1981,1982,1983,1984,1985,1986,1987,1988,1989,1990,1991,1992,1993,1994,1995,1996,1997,1998,1999,2000,2001,2002,2003,2004,2005,2006,2007,2008,2009,2010,2011,2012,2013,2014,2015,2016,2017,2018,2019,2020,2021,2022],\"xaxis\":\"x\",\"y\":[-0.42,-0.23,-0.23,-0.27,-0.29,-0.3,-0.32,-0.47,-0.39,-0.28,-0.39,-0.43,-0.54,-0.34,-0.47,-0.33,-0.34,-0.36,-0.35,-0.32,-0.33,-0.37,-0.33,-0.34,-0.37,-0.38,-0.42,-0.1,-0.01,-0.3,-0.32,-0.23,-0.3,-0.35,-0.49,-0.47,-0.42,-0.5,-0.38,-0.25,-0.51,-0.4,-0.51,-0.49,-0.48,-0.45,-0.28,-0.26,-0.49,-0.36,-0.23,-0.29,-0.44,-0.53,-0.6,-0.41,-0.32,-0.5,-0.51,-0.54,-0.53,-0.54,-0.48,-0.47,-0.26,-0.19,-0.42,-0.54,-0.42,-0.33,-0.3,-0.24,-0.34,-0.32,-0.31,-0.28,-0.12,-0.23,-0.21,-0.39,-0.18,-0.1,-0.15,-0.32,-0.17,-0.21,-0.17,-0.02,-0.01,-0.04,0.08,0.04,0.0,0.01,0.14,0.04,-0.12,-0.09,-0.12,-0.14,-0.23,-0.06,0.02,0.08,-0.12,-0.2,-0.26,-0.04,-0.02,-0.05,-0.12,-0.02,-0.06,-0.04,-0.31,-0.2,-0.15,-0.12,-0.17,-0.03,-0.09,-0.21,-0.09,0.05,-0.17,-0.11,-0.22,0.1,0.01,0.09,0.2,0.25,0.03,0.22,0.05,0.05,0.1,0.24,0.28,0.18,0.36,0.34,0.12,0.17,0.23,0.38,0.28,0.42,0.58,0.32,0.33,0.49,0.54,0.54,0.47,0.61,0.57,0.59,0.47,0.6,0.68,0.54,0.58,0.62,0.67,0.83,0.93,0.85,0.76,0.89,0.92,0.76,0.8],\"yaxis\":\"y\",\"type\":\"scatter\"},{\"hovertemplate\":\"variable=L.Bound\\u003cbr\\u003eYear=%{x}\\u003cbr\\u003evalue=%{y}\\u003cextra\\u003e\\u003c\\u002fextra\\u003e\",\"legendgroup\":\"L.Bound\",\"line\":{\"color\":\"green\",\"dash\":\"solid\"},\"marker\":{\"symbol\":\"circle\"},\"mode\":\"lines\",\"name\":\"L.Bound\",\"orientation\":\"v\",\"showlegend\":true,\"x\":[1850,1851,1852,1853,1854,1855,1856,1857,1858,1859,1860,1861,1862,1863,1864,1865,1866,1867,1868,1869,1870,1871,1872,1873,1874,1875,1876,1877,1878,1879,1880,1881,1882,1883,1884,1885,1886,1887,1888,1889,1890,1891,1892,1893,1894,1895,1896,1897,1898,1899,1900,1901,1902,1903,1904,1905,1906,1907,1908,1909,1910,1911,1912,1913,1914,1915,1916,1917,1918,1919,1920,1921,1922,1923,1924,1925,1926,1927,1928,1929,1930,1931,1932,1933,1934,1935,1936,1937,1938,1939,1940,1941,1942,1943,1944,1945,1946,1947,1948,1949,1950,1951,1952,1953,1954,1955,1956,1957,1958,1959,1960,1961,1962,1963,1964,1965,1966,1967,1968,1969,1970,1971,1972,1973,1974,1975,1976,1977,1978,1979,1980,1981,1982,1983,1984,1985,1986,1987,1988,1989,1990,1991,1992,1993,1994,1995,1996,1997,1998,1999,2000,2001,2002,2003,2004,2005,2006,2007,2008,2009,2010,2011,2012,2013,2014,2015,2016,2017,2018,2019,2020,2021,2022],\"xaxis\":\"x\",\"y\":[-0.59,-0.41,-0.41,-0.43,-0.43,-0.44,-0.47,-0.62,-0.54,-0.42,-0.54,-0.6,-0.7,-0.53,-0.65,-0.52,-0.52,-0.55,-0.53,-0.48,-0.47,-0.51,-0.46,-0.47,-0.51,-0.51,-0.56,-0.23,-0.13,-0.43,-0.44,-0.36,-0.42,-0.46,-0.6,-0.58,-0.52,-0.62,-0.49,-0.37,-0.63,-0.54,-0.64,-0.63,-0.63,-0.58,-0.42,-0.4,-0.62,-0.49,-0.37,-0.43,-0.58,-0.66,-0.73,-0.54,-0.45,-0.63,-0.64,-0.65,-0.66,-0.66,-0.59,-0.59,-0.38,-0.32,-0.56,-0.69,-0.58,-0.48,-0.45,-0.38,-0.47,-0.44,-0.44,-0.41,-0.25,-0.35,-0.34,-0.53,-0.29,-0.21,-0.25,-0.43,-0.27,-0.3,-0.26,-0.12,-0.11,-0.15,-0.04,-0.16,-0.2,-0.2,-0.05,-0.16,-0.27,-0.23,-0.26,-0.25,-0.33,-0.15,-0.08,-0.02,-0.21,-0.28,-0.34,-0.1,-0.08,-0.11,-0.17,-0.07,-0.12,-0.09,-0.35,-0.25,-0.2,-0.16,-0.21,-0.07,-0.13,-0.24,-0.13,0.01,-0.21,-0.15,-0.26,0.06,-0.03,0.06,0.16,0.22,-0.01,0.19,0.01,0.02,0.06,0.21,0.25,0.14,0.32,0.3,0.09,0.13,0.2,0.34,0.24,0.39,0.54,0.29,0.3,0.46,0.51,0.51,0.43,0.58,0.54,0.56,0.43,0.57,0.65,0.51,0.54,0.59,0.64,0.79,0.9,0.81,0.73,0.86,0.89,0.73,0.77],\"yaxis\":\"y\",\"type\":\"scatter\"}],                        {\"template\":{\"data\":{\"histogram2dcontour\":[{\"type\":\"histogram2dcontour\",\"colorbar\":{\"outlinewidth\":0,\"ticks\":\"\"},\"colorscale\":[[0.0,\"#0d0887\"],[0.1111111111111111,\"#46039f\"],[0.2222222222222222,\"#7201a8\"],[0.3333333333333333,\"#9c179e\"],[0.4444444444444444,\"#bd3786\"],[0.5555555555555556,\"#d8576b\"],[0.6666666666666666,\"#ed7953\"],[0.7777777777777778,\"#fb9f3a\"],[0.8888888888888888,\"#fdca26\"],[1.0,\"#f0f921\"]]}],\"choropleth\":[{\"type\":\"choropleth\",\"colorbar\":{\"outlinewidth\":0,\"ticks\":\"\"}}],\"histogram2d\":[{\"type\":\"histogram2d\",\"colorbar\":{\"outlinewidth\":0,\"ticks\":\"\"},\"colorscale\":[[0.0,\"#0d0887\"],[0.1111111111111111,\"#46039f\"],[0.2222222222222222,\"#7201a8\"],[0.3333333333333333,\"#9c179e\"],[0.4444444444444444,\"#bd3786\"],[0.5555555555555556,\"#d8576b\"],[0.6666666666666666,\"#ed7953\"],[0.7777777777777778,\"#fb9f3a\"],[0.8888888888888888,\"#fdca26\"],[1.0,\"#f0f921\"]]}],\"heatmap\":[{\"type\":\"heatmap\",\"colorbar\":{\"outlinewidth\":0,\"ticks\":\"\"},\"colorscale\":[[0.0,\"#0d0887\"],[0.1111111111111111,\"#46039f\"],[0.2222222222222222,\"#7201a8\"],[0.3333333333333333,\"#9c179e\"],[0.4444444444444444,\"#bd3786\"],[0.5555555555555556,\"#d8576b\"],[0.6666666666666666,\"#ed7953\"],[0.7777777777777778,\"#fb9f3a\"],[0.8888888888888888,\"#fdca26\"],[1.0,\"#f0f921\"]]}],\"heatmapgl\":[{\"type\":\"heatmapgl\",\"colorbar\":{\"outlinewidth\":0,\"ticks\":\"\"},\"colorscale\":[[0.0,\"#0d0887\"],[0.1111111111111111,\"#46039f\"],[0.2222222222222222,\"#7201a8\"],[0.3333333333333333,\"#9c179e\"],[0.4444444444444444,\"#bd3786\"],[0.5555555555555556,\"#d8576b\"],[0.6666666666666666,\"#ed7953\"],[0.7777777777777778,\"#fb9f3a\"],[0.8888888888888888,\"#fdca26\"],[1.0,\"#f0f921\"]]}],\"contourcarpet\":[{\"type\":\"contourcarpet\",\"colorbar\":{\"outlinewidth\":0,\"ticks\":\"\"}}],\"contour\":[{\"type\":\"contour\",\"colorbar\":{\"outlinewidth\":0,\"ticks\":\"\"},\"colorscale\":[[0.0,\"#0d0887\"],[0.1111111111111111,\"#46039f\"],[0.2222222222222222,\"#7201a8\"],[0.3333333333333333,\"#9c179e\"],[0.4444444444444444,\"#bd3786\"],[0.5555555555555556,\"#d8576b\"],[0.6666666666666666,\"#ed7953\"],[0.7777777777777778,\"#fb9f3a\"],[0.8888888888888888,\"#fdca26\"],[1.0,\"#f0f921\"]]}],\"surface\":[{\"type\":\"surface\",\"colorbar\":{\"outlinewidth\":0,\"ticks\":\"\"},\"colorscale\":[[0.0,\"#0d0887\"],[0.1111111111111111,\"#46039f\"],[0.2222222222222222,\"#7201a8\"],[0.3333333333333333,\"#9c179e\"],[0.4444444444444444,\"#bd3786\"],[0.5555555555555556,\"#d8576b\"],[0.6666666666666666,\"#ed7953\"],[0.7777777777777778,\"#fb9f3a\"],[0.8888888888888888,\"#fdca26\"],[1.0,\"#f0f921\"]]}],\"mesh3d\":[{\"type\":\"mesh3d\",\"colorbar\":{\"outlinewidth\":0,\"ticks\":\"\"}}],\"scatter\":[{\"fillpattern\":{\"fillmode\":\"overlay\",\"size\":10,\"solidity\":0.2},\"type\":\"scatter\"}],\"parcoords\":[{\"type\":\"parcoords\",\"line\":{\"colorbar\":{\"outlinewidth\":0,\"ticks\":\"\"}}}],\"scatterpolargl\":[{\"type\":\"scatterpolargl\",\"marker\":{\"colorbar\":{\"outlinewidth\":0,\"ticks\":\"\"}}}],\"bar\":[{\"error_x\":{\"color\":\"#2a3f5f\"},\"error_y\":{\"color\":\"#2a3f5f\"},\"marker\":{\"line\":{\"color\":\"#E5ECF6\",\"width\":0.5},\"pattern\":{\"fillmode\":\"overlay\",\"size\":10,\"solidity\":0.2}},\"type\":\"bar\"}],\"scattergeo\":[{\"type\":\"scattergeo\",\"marker\":{\"colorbar\":{\"outlinewidth\":0,\"ticks\":\"\"}}}],\"scatterpolar\":[{\"type\":\"scatterpolar\",\"marker\":{\"colorbar\":{\"outlinewidth\":0,\"ticks\":\"\"}}}],\"histogram\":[{\"marker\":{\"pattern\":{\"fillmode\":\"overlay\",\"size\":10,\"solidity\":0.2}},\"type\":\"histogram\"}],\"scattergl\":[{\"type\":\"scattergl\",\"marker\":{\"colorbar\":{\"outlinewidth\":0,\"ticks\":\"\"}}}],\"scatter3d\":[{\"type\":\"scatter3d\",\"line\":{\"colorbar\":{\"outlinewidth\":0,\"ticks\":\"\"}},\"marker\":{\"colorbar\":{\"outlinewidth\":0,\"ticks\":\"\"}}}],\"scattermapbox\":[{\"type\":\"scattermapbox\",\"marker\":{\"colorbar\":{\"outlinewidth\":0,\"ticks\":\"\"}}}],\"scatterternary\":[{\"type\":\"scatterternary\",\"marker\":{\"colorbar\":{\"outlinewidth\":0,\"ticks\":\"\"}}}],\"scattercarpet\":[{\"type\":\"scattercarpet\",\"marker\":{\"colorbar\":{\"outlinewidth\":0,\"ticks\":\"\"}}}],\"carpet\":[{\"aaxis\":{\"endlinecolor\":\"#2a3f5f\",\"gridcolor\":\"white\",\"linecolor\":\"white\",\"minorgridcolor\":\"white\",\"startlinecolor\":\"#2a3f5f\"},\"baxis\":{\"endlinecolor\":\"#2a3f5f\",\"gridcolor\":\"white\",\"linecolor\":\"white\",\"minorgridcolor\":\"white\",\"startlinecolor\":\"#2a3f5f\"},\"type\":\"carpet\"}],\"table\":[{\"cells\":{\"fill\":{\"color\":\"#EBF0F8\"},\"line\":{\"color\":\"white\"}},\"header\":{\"fill\":{\"color\":\"#C8D4E3\"},\"line\":{\"color\":\"white\"}},\"type\":\"table\"}],\"barpolar\":[{\"marker\":{\"line\":{\"color\":\"#E5ECF6\",\"width\":0.5},\"pattern\":{\"fillmode\":\"overlay\",\"size\":10,\"solidity\":0.2}},\"type\":\"barpolar\"}],\"pie\":[{\"automargin\":true,\"type\":\"pie\"}]},\"layout\":{\"autotypenumbers\":\"strict\",\"colorway\":[\"#636efa\",\"#EF553B\",\"#00cc96\",\"#ab63fa\",\"#FFA15A\",\"#19d3f3\",\"#FF6692\",\"#B6E880\",\"#FF97FF\",\"#FECB52\"],\"font\":{\"color\":\"#2a3f5f\"},\"hovermode\":\"closest\",\"hoverlabel\":{\"align\":\"left\"},\"paper_bgcolor\":\"white\",\"plot_bgcolor\":\"#E5ECF6\",\"polar\":{\"bgcolor\":\"#E5ECF6\",\"angularaxis\":{\"gridcolor\":\"white\",\"linecolor\":\"white\",\"ticks\":\"\"},\"radialaxis\":{\"gridcolor\":\"white\",\"linecolor\":\"white\",\"ticks\":\"\"}},\"ternary\":{\"bgcolor\":\"#E5ECF6\",\"aaxis\":{\"gridcolor\":\"white\",\"linecolor\":\"white\",\"ticks\":\"\"},\"baxis\":{\"gridcolor\":\"white\",\"linecolor\":\"white\",\"ticks\":\"\"},\"caxis\":{\"gridcolor\":\"white\",\"linecolor\":\"white\",\"ticks\":\"\"}},\"coloraxis\":{\"colorbar\":{\"outlinewidth\":0,\"ticks\":\"\"}},\"colorscale\":{\"sequential\":[[0.0,\"#0d0887\"],[0.1111111111111111,\"#46039f\"],[0.2222222222222222,\"#7201a8\"],[0.3333333333333333,\"#9c179e\"],[0.4444444444444444,\"#bd3786\"],[0.5555555555555556,\"#d8576b\"],[0.6666666666666666,\"#ed7953\"],[0.7777777777777778,\"#fb9f3a\"],[0.8888888888888888,\"#fdca26\"],[1.0,\"#f0f921\"]],\"sequentialminus\":[[0.0,\"#0d0887\"],[0.1111111111111111,\"#46039f\"],[0.2222222222222222,\"#7201a8\"],[0.3333333333333333,\"#9c179e\"],[0.4444444444444444,\"#bd3786\"],[0.5555555555555556,\"#d8576b\"],[0.6666666666666666,\"#ed7953\"],[0.7777777777777778,\"#fb9f3a\"],[0.8888888888888888,\"#fdca26\"],[1.0,\"#f0f921\"]],\"diverging\":[[0,\"#8e0152\"],[0.1,\"#c51b7d\"],[0.2,\"#de77ae\"],[0.3,\"#f1b6da\"],[0.4,\"#fde0ef\"],[0.5,\"#f7f7f7\"],[0.6,\"#e6f5d0\"],[0.7,\"#b8e186\"],[0.8,\"#7fbc41\"],[0.9,\"#4d9221\"],[1,\"#276419\"]]},\"xaxis\":{\"gridcolor\":\"white\",\"linecolor\":\"white\",\"ticks\":\"\",\"title\":{\"standoff\":15},\"zerolinecolor\":\"white\",\"automargin\":true,\"zerolinewidth\":2},\"yaxis\":{\"gridcolor\":\"white\",\"linecolor\":\"white\",\"ticks\":\"\",\"title\":{\"standoff\":15},\"zerolinecolor\":\"white\",\"automargin\":true,\"zerolinewidth\":2},\"scene\":{\"xaxis\":{\"backgroundcolor\":\"#E5ECF6\",\"gridcolor\":\"white\",\"linecolor\":\"white\",\"showbackground\":true,\"ticks\":\"\",\"zerolinecolor\":\"white\",\"gridwidth\":2},\"yaxis\":{\"backgroundcolor\":\"#E5ECF6\",\"gridcolor\":\"white\",\"linecolor\":\"white\",\"showbackground\":true,\"ticks\":\"\",\"zerolinecolor\":\"white\",\"gridwidth\":2},\"zaxis\":{\"backgroundcolor\":\"#E5ECF6\",\"gridcolor\":\"white\",\"linecolor\":\"white\",\"showbackground\":true,\"ticks\":\"\",\"zerolinecolor\":\"white\",\"gridwidth\":2}},\"shapedefaults\":{\"line\":{\"color\":\"#2a3f5f\"}},\"annotationdefaults\":{\"arrowcolor\":\"#2a3f5f\",\"arrowhead\":0,\"arrowwidth\":1},\"geo\":{\"bgcolor\":\"white\",\"landcolor\":\"#E5ECF6\",\"subunitcolor\":\"white\",\"showland\":true,\"showlakes\":true,\"lakecolor\":\"white\"},\"title\":{\"x\":0.05},\"mapbox\":{\"style\":\"light\"}}},\"xaxis\":{\"anchor\":\"y\",\"domain\":[0.0,1.0],\"title\":{\"text\":\"Year\",\"font\":{\"family\":\"Times New Roman\"}}},\"yaxis\":{\"anchor\":\"x\",\"domain\":[0.0,1.0],\"title\":{\"text\":\"Temperature (\\u00b0C)\",\"font\":{\"family\":\"Times New Roman\"}}},\"legend\":{\"title\":{},\"tracegroupgap\":0},\"title\":{\"text\":\"Global average difference in temperature relative to 1961-1990\"},\"font\":{\"family\":\"Times New Roman\"},\"plot_bgcolor\":\"rgb(242, 246, 252)\"},                        {\"responsive\": true}                    ).then(function(){\n",
       "                            \n",
       "var gd = document.getElementById('2946115d-8cf5-498d-b46e-19183ba01a97');\n",
       "var x = new MutationObserver(function (mutations, observer) {{\n",
       "        var display = window.getComputedStyle(gd).display;\n",
       "        if (!display || display === 'none') {{\n",
       "            console.log([gd, 'removed!']);\n",
       "            Plotly.purge(gd);\n",
       "            observer.disconnect();\n",
       "        }}\n",
       "}});\n",
       "\n",
       "// Listen for the removal of the full notebook cells\n",
       "var notebookContainer = gd.closest('#notebook-container');\n",
       "if (notebookContainer) {{\n",
       "    x.observe(notebookContainer, {childList: true});\n",
       "}}\n",
       "\n",
       "// Listen for the clearing of the current output cell\n",
       "var outputEl = gd.closest('.output');\n",
       "if (outputEl) {{\n",
       "    x.observe(outputEl, {childList: true});\n",
       "}}\n",
       "\n",
       "                        })                };                });            </script>        </div>"
      ]
     },
     "metadata": {},
     "output_type": "display_data"
    }
   ],
   "source": [
    "# set up the line graph\n",
    "fig = px.line(\n",
    "    df_global, \n",
    "    x=\"Year\", \n",
    "    y=[\n",
    "        \"U.Bound\",\n",
    "        \"Median\",\n",
    "        \"L.Bound\",\n",
    "    ], \n",
    "    color_discrete_sequence=['red', 'blue', 'green'], # set colours\n",
    "    title='Global average difference in temperature relative to 1961-1990', # I think difference is a better word than anomaly here\n",
    ")\n",
    "\n",
    "# set the overall layout\n",
    "fig.update_layout(\n",
    "    font=dict(family='Times New Roman'), # set font\n",
    "    plot_bgcolor='rgb(242, 246, 252)', # set background colour as light grey\n",
    "    legend_title=None, # remove unnecessary legend title\n",
    ")\n",
    "\n",
    "# set up x-axis\n",
    "fig.update_xaxes(\n",
    "    title_font=dict(family='Times New Roman'),\n",
    ")\n",
    "    \n",
    "# set up y-axis\n",
    "fig.update_yaxes(\n",
    "    title_font=dict(family='Times New Roman'),\n",
    "    title_text=f'Temperature ({chr(176)}C)',\n",
    ")\n",
    "\n",
    "#display\n",
    "fig.show()"
   ]
  },
  {
   "cell_type": "markdown",
   "id": "e7fc1a9e",
   "metadata": {},
   "source": [
    "### Change the mouse hover event to a vertical trace\n",
    "\n",
    "If you move the mouse over the graph it gives you readings from each line individually. It is difficult to navigate to see each reading.\n",
    "\n",
    "To address this we will add a vertical trace on mouse hover, with a single view showing both bounds and median."
   ]
  },
  {
   "cell_type": "code",
   "execution_count": 95,
   "id": "d990213d",
   "metadata": {},
   "outputs": [
    {
     "data": {
      "application/vnd.plotly.v1+json": {
       "config": {
        "plotlyServerURL": "https://plot.ly"
       },
       "data": [
        {
         "legendgroup": "U.Bound",
         "line": {
          "color": "red",
          "dash": "solid"
         },
         "marker": {
          "symbol": "circle"
         },
         "mode": "lines",
         "name": "U.Bound",
         "orientation": "v",
         "showlegend": true,
         "type": "scatter",
         "x": [
          1850,
          1851,
          1852,
          1853,
          1854,
          1855,
          1856,
          1857,
          1858,
          1859,
          1860,
          1861,
          1862,
          1863,
          1864,
          1865,
          1866,
          1867,
          1868,
          1869,
          1870,
          1871,
          1872,
          1873,
          1874,
          1875,
          1876,
          1877,
          1878,
          1879,
          1880,
          1881,
          1882,
          1883,
          1884,
          1885,
          1886,
          1887,
          1888,
          1889,
          1890,
          1891,
          1892,
          1893,
          1894,
          1895,
          1896,
          1897,
          1898,
          1899,
          1900,
          1901,
          1902,
          1903,
          1904,
          1905,
          1906,
          1907,
          1908,
          1909,
          1910,
          1911,
          1912,
          1913,
          1914,
          1915,
          1916,
          1917,
          1918,
          1919,
          1920,
          1921,
          1922,
          1923,
          1924,
          1925,
          1926,
          1927,
          1928,
          1929,
          1930,
          1931,
          1932,
          1933,
          1934,
          1935,
          1936,
          1937,
          1938,
          1939,
          1940,
          1941,
          1942,
          1943,
          1944,
          1945,
          1946,
          1947,
          1948,
          1949,
          1950,
          1951,
          1952,
          1953,
          1954,
          1955,
          1956,
          1957,
          1958,
          1959,
          1960,
          1961,
          1962,
          1963,
          1964,
          1965,
          1966,
          1967,
          1968,
          1969,
          1970,
          1971,
          1972,
          1973,
          1974,
          1975,
          1976,
          1977,
          1978,
          1979,
          1980,
          1981,
          1982,
          1983,
          1984,
          1985,
          1986,
          1987,
          1988,
          1989,
          1990,
          1991,
          1992,
          1993,
          1994,
          1995,
          1996,
          1997,
          1998,
          1999,
          2000,
          2001,
          2002,
          2003,
          2004,
          2005,
          2006,
          2007,
          2008,
          2009,
          2010,
          2011,
          2012,
          2013,
          2014,
          2015,
          2016,
          2017,
          2018,
          2019,
          2020,
          2021,
          2022
         ],
         "xaxis": "x",
         "y": [
          -0.25,
          -0.05,
          -0.05,
          -0.11,
          -0.15,
          -0.15,
          -0.17,
          -0.32,
          -0.24,
          -0.14,
          -0.24,
          -0.26,
          -0.37,
          -0.15,
          -0.28,
          -0.14,
          -0.16,
          -0.16,
          -0.17,
          -0.16,
          -0.19,
          -0.22,
          -0.19,
          -0.21,
          -0.24,
          -0.24,
          -0.29,
          0.03,
          0.11,
          -0.17,
          -0.19,
          -0.11,
          -0.17,
          -0.23,
          -0.38,
          -0.36,
          -0.32,
          -0.38,
          -0.27,
          -0.13,
          -0.38,
          -0.27,
          -0.37,
          -0.36,
          -0.34,
          -0.32,
          -0.15,
          -0.12,
          -0.35,
          -0.22,
          -0.1,
          -0.16,
          -0.3,
          -0.41,
          -0.47,
          -0.28,
          -0.19,
          -0.38,
          -0.39,
          -0.42,
          -0.41,
          -0.42,
          -0.36,
          -0.34,
          -0.14,
          -0.06,
          -0.28,
          -0.39,
          -0.27,
          -0.17,
          -0.15,
          -0.1,
          -0.21,
          -0.19,
          -0.19,
          -0.15,
          0.01,
          -0.11,
          -0.07,
          -0.26,
          -0.06,
          0.01,
          -0.04,
          -0.22,
          -0.07,
          -0.11,
          -0.08,
          0.08,
          0.09,
          0.07,
          0.19,
          0.24,
          0.2,
          0.21,
          0.34,
          0.24,
          0.03,
          0.05,
          0.01,
          -0.03,
          -0.12,
          0.03,
          0.11,
          0.18,
          -0.02,
          -0.11,
          -0.19,
          0.03,
          0.05,
          0.01,
          -0.06,
          0.03,
          -0.01,
          0.02,
          -0.26,
          -0.16,
          -0.1,
          -0.07,
          -0.12,
          0.01,
          -0.04,
          -0.17,
          -0.06,
          0.09,
          -0.13,
          -0.07,
          -0.18,
          0.15,
          0.05,
          0.12,
          0.23,
          0.28,
          0.07,
          0.26,
          0.08,
          0.08,
          0.13,
          0.27,
          0.32,
          0.21,
          0.4,
          0.37,
          0.16,
          0.2,
          0.27,
          0.41,
          0.31,
          0.45,
          0.61,
          0.36,
          0.36,
          0.52,
          0.57,
          0.58,
          0.5,
          0.64,
          0.6,
          0.62,
          0.5,
          0.63,
          0.71,
          0.57,
          0.61,
          0.66,
          0.71,
          0.86,
          0.96,
          0.88,
          0.79,
          0.93,
          0.96,
          0.8,
          0.84
         ],
         "yaxis": "y"
        },
        {
         "legendgroup": "Median",
         "line": {
          "color": "blue",
          "dash": "solid"
         },
         "marker": {
          "symbol": "circle"
         },
         "mode": "lines",
         "name": "Median",
         "orientation": "v",
         "showlegend": true,
         "type": "scatter",
         "x": [
          1850,
          1851,
          1852,
          1853,
          1854,
          1855,
          1856,
          1857,
          1858,
          1859,
          1860,
          1861,
          1862,
          1863,
          1864,
          1865,
          1866,
          1867,
          1868,
          1869,
          1870,
          1871,
          1872,
          1873,
          1874,
          1875,
          1876,
          1877,
          1878,
          1879,
          1880,
          1881,
          1882,
          1883,
          1884,
          1885,
          1886,
          1887,
          1888,
          1889,
          1890,
          1891,
          1892,
          1893,
          1894,
          1895,
          1896,
          1897,
          1898,
          1899,
          1900,
          1901,
          1902,
          1903,
          1904,
          1905,
          1906,
          1907,
          1908,
          1909,
          1910,
          1911,
          1912,
          1913,
          1914,
          1915,
          1916,
          1917,
          1918,
          1919,
          1920,
          1921,
          1922,
          1923,
          1924,
          1925,
          1926,
          1927,
          1928,
          1929,
          1930,
          1931,
          1932,
          1933,
          1934,
          1935,
          1936,
          1937,
          1938,
          1939,
          1940,
          1941,
          1942,
          1943,
          1944,
          1945,
          1946,
          1947,
          1948,
          1949,
          1950,
          1951,
          1952,
          1953,
          1954,
          1955,
          1956,
          1957,
          1958,
          1959,
          1960,
          1961,
          1962,
          1963,
          1964,
          1965,
          1966,
          1967,
          1968,
          1969,
          1970,
          1971,
          1972,
          1973,
          1974,
          1975,
          1976,
          1977,
          1978,
          1979,
          1980,
          1981,
          1982,
          1983,
          1984,
          1985,
          1986,
          1987,
          1988,
          1989,
          1990,
          1991,
          1992,
          1993,
          1994,
          1995,
          1996,
          1997,
          1998,
          1999,
          2000,
          2001,
          2002,
          2003,
          2004,
          2005,
          2006,
          2007,
          2008,
          2009,
          2010,
          2011,
          2012,
          2013,
          2014,
          2015,
          2016,
          2017,
          2018,
          2019,
          2020,
          2021,
          2022
         ],
         "xaxis": "x",
         "y": [
          -0.42,
          -0.23,
          -0.23,
          -0.27,
          -0.29,
          -0.3,
          -0.32,
          -0.47,
          -0.39,
          -0.28,
          -0.39,
          -0.43,
          -0.54,
          -0.34,
          -0.47,
          -0.33,
          -0.34,
          -0.36,
          -0.35,
          -0.32,
          -0.33,
          -0.37,
          -0.33,
          -0.34,
          -0.37,
          -0.38,
          -0.42,
          -0.1,
          -0.01,
          -0.3,
          -0.32,
          -0.23,
          -0.3,
          -0.35,
          -0.49,
          -0.47,
          -0.42,
          -0.5,
          -0.38,
          -0.25,
          -0.51,
          -0.4,
          -0.51,
          -0.49,
          -0.48,
          -0.45,
          -0.28,
          -0.26,
          -0.49,
          -0.36,
          -0.23,
          -0.29,
          -0.44,
          -0.53,
          -0.6,
          -0.41,
          -0.32,
          -0.5,
          -0.51,
          -0.54,
          -0.53,
          -0.54,
          -0.48,
          -0.47,
          -0.26,
          -0.19,
          -0.42,
          -0.54,
          -0.42,
          -0.33,
          -0.3,
          -0.24,
          -0.34,
          -0.32,
          -0.31,
          -0.28,
          -0.12,
          -0.23,
          -0.21,
          -0.39,
          -0.18,
          -0.1,
          -0.15,
          -0.32,
          -0.17,
          -0.21,
          -0.17,
          -0.02,
          -0.01,
          -0.04,
          0.08,
          0.04,
          0,
          0.01,
          0.14,
          0.04,
          -0.12,
          -0.09,
          -0.12,
          -0.14,
          -0.23,
          -0.06,
          0.02,
          0.08,
          -0.12,
          -0.2,
          -0.26,
          -0.04,
          -0.02,
          -0.05,
          -0.12,
          -0.02,
          -0.06,
          -0.04,
          -0.31,
          -0.2,
          -0.15,
          -0.12,
          -0.17,
          -0.03,
          -0.09,
          -0.21,
          -0.09,
          0.05,
          -0.17,
          -0.11,
          -0.22,
          0.1,
          0.01,
          0.09,
          0.2,
          0.25,
          0.03,
          0.22,
          0.05,
          0.05,
          0.1,
          0.24,
          0.28,
          0.18,
          0.36,
          0.34,
          0.12,
          0.17,
          0.23,
          0.38,
          0.28,
          0.42,
          0.58,
          0.32,
          0.33,
          0.49,
          0.54,
          0.54,
          0.47,
          0.61,
          0.57,
          0.59,
          0.47,
          0.6,
          0.68,
          0.54,
          0.58,
          0.62,
          0.67,
          0.83,
          0.93,
          0.85,
          0.76,
          0.89,
          0.92,
          0.76,
          0.8
         ],
         "yaxis": "y"
        },
        {
         "legendgroup": "L.Bound",
         "line": {
          "color": "green",
          "dash": "solid"
         },
         "marker": {
          "symbol": "circle"
         },
         "mode": "lines",
         "name": "L.Bound",
         "orientation": "v",
         "showlegend": true,
         "type": "scatter",
         "x": [
          1850,
          1851,
          1852,
          1853,
          1854,
          1855,
          1856,
          1857,
          1858,
          1859,
          1860,
          1861,
          1862,
          1863,
          1864,
          1865,
          1866,
          1867,
          1868,
          1869,
          1870,
          1871,
          1872,
          1873,
          1874,
          1875,
          1876,
          1877,
          1878,
          1879,
          1880,
          1881,
          1882,
          1883,
          1884,
          1885,
          1886,
          1887,
          1888,
          1889,
          1890,
          1891,
          1892,
          1893,
          1894,
          1895,
          1896,
          1897,
          1898,
          1899,
          1900,
          1901,
          1902,
          1903,
          1904,
          1905,
          1906,
          1907,
          1908,
          1909,
          1910,
          1911,
          1912,
          1913,
          1914,
          1915,
          1916,
          1917,
          1918,
          1919,
          1920,
          1921,
          1922,
          1923,
          1924,
          1925,
          1926,
          1927,
          1928,
          1929,
          1930,
          1931,
          1932,
          1933,
          1934,
          1935,
          1936,
          1937,
          1938,
          1939,
          1940,
          1941,
          1942,
          1943,
          1944,
          1945,
          1946,
          1947,
          1948,
          1949,
          1950,
          1951,
          1952,
          1953,
          1954,
          1955,
          1956,
          1957,
          1958,
          1959,
          1960,
          1961,
          1962,
          1963,
          1964,
          1965,
          1966,
          1967,
          1968,
          1969,
          1970,
          1971,
          1972,
          1973,
          1974,
          1975,
          1976,
          1977,
          1978,
          1979,
          1980,
          1981,
          1982,
          1983,
          1984,
          1985,
          1986,
          1987,
          1988,
          1989,
          1990,
          1991,
          1992,
          1993,
          1994,
          1995,
          1996,
          1997,
          1998,
          1999,
          2000,
          2001,
          2002,
          2003,
          2004,
          2005,
          2006,
          2007,
          2008,
          2009,
          2010,
          2011,
          2012,
          2013,
          2014,
          2015,
          2016,
          2017,
          2018,
          2019,
          2020,
          2021,
          2022
         ],
         "xaxis": "x",
         "y": [
          -0.59,
          -0.41,
          -0.41,
          -0.43,
          -0.43,
          -0.44,
          -0.47,
          -0.62,
          -0.54,
          -0.42,
          -0.54,
          -0.6,
          -0.7,
          -0.53,
          -0.65,
          -0.52,
          -0.52,
          -0.55,
          -0.53,
          -0.48,
          -0.47,
          -0.51,
          -0.46,
          -0.47,
          -0.51,
          -0.51,
          -0.56,
          -0.23,
          -0.13,
          -0.43,
          -0.44,
          -0.36,
          -0.42,
          -0.46,
          -0.6,
          -0.58,
          -0.52,
          -0.62,
          -0.49,
          -0.37,
          -0.63,
          -0.54,
          -0.64,
          -0.63,
          -0.63,
          -0.58,
          -0.42,
          -0.4,
          -0.62,
          -0.49,
          -0.37,
          -0.43,
          -0.58,
          -0.66,
          -0.73,
          -0.54,
          -0.45,
          -0.63,
          -0.64,
          -0.65,
          -0.66,
          -0.66,
          -0.59,
          -0.59,
          -0.38,
          -0.32,
          -0.56,
          -0.69,
          -0.58,
          -0.48,
          -0.45,
          -0.38,
          -0.47,
          -0.44,
          -0.44,
          -0.41,
          -0.25,
          -0.35,
          -0.34,
          -0.53,
          -0.29,
          -0.21,
          -0.25,
          -0.43,
          -0.27,
          -0.3,
          -0.26,
          -0.12,
          -0.11,
          -0.15,
          -0.04,
          -0.16,
          -0.2,
          -0.2,
          -0.05,
          -0.16,
          -0.27,
          -0.23,
          -0.26,
          -0.25,
          -0.33,
          -0.15,
          -0.08,
          -0.02,
          -0.21,
          -0.28,
          -0.34,
          -0.1,
          -0.08,
          -0.11,
          -0.17,
          -0.07,
          -0.12,
          -0.09,
          -0.35,
          -0.25,
          -0.2,
          -0.16,
          -0.21,
          -0.07,
          -0.13,
          -0.24,
          -0.13,
          0.01,
          -0.21,
          -0.15,
          -0.26,
          0.06,
          -0.03,
          0.06,
          0.16,
          0.22,
          -0.01,
          0.19,
          0.01,
          0.02,
          0.06,
          0.21,
          0.25,
          0.14,
          0.32,
          0.3,
          0.09,
          0.13,
          0.2,
          0.34,
          0.24,
          0.39,
          0.54,
          0.29,
          0.3,
          0.46,
          0.51,
          0.51,
          0.43,
          0.58,
          0.54,
          0.56,
          0.43,
          0.57,
          0.65,
          0.51,
          0.54,
          0.59,
          0.64,
          0.79,
          0.9,
          0.81,
          0.73,
          0.86,
          0.89,
          0.73,
          0.77
         ],
         "yaxis": "y"
        }
       ],
       "layout": {
        "font": {
         "family": "Times New Roman"
        },
        "hoverlabel": {
         "bgcolor": "white",
         "font": {
          "size": 14
         }
        },
        "hovermode": "x unified",
        "legend": {
         "title": {},
         "tracegroupgap": 0
        },
        "plot_bgcolor": "rgb(242, 246, 252)",
        "template": {
         "data": {
          "bar": [
           {
            "error_x": {
             "color": "#2a3f5f"
            },
            "error_y": {
             "color": "#2a3f5f"
            },
            "marker": {
             "line": {
              "color": "#E5ECF6",
              "width": 0.5
             },
             "pattern": {
              "fillmode": "overlay",
              "size": 10,
              "solidity": 0.2
             }
            },
            "type": "bar"
           }
          ],
          "barpolar": [
           {
            "marker": {
             "line": {
              "color": "#E5ECF6",
              "width": 0.5
             },
             "pattern": {
              "fillmode": "overlay",
              "size": 10,
              "solidity": 0.2
             }
            },
            "type": "barpolar"
           }
          ],
          "carpet": [
           {
            "aaxis": {
             "endlinecolor": "#2a3f5f",
             "gridcolor": "white",
             "linecolor": "white",
             "minorgridcolor": "white",
             "startlinecolor": "#2a3f5f"
            },
            "baxis": {
             "endlinecolor": "#2a3f5f",
             "gridcolor": "white",
             "linecolor": "white",
             "minorgridcolor": "white",
             "startlinecolor": "#2a3f5f"
            },
            "type": "carpet"
           }
          ],
          "choropleth": [
           {
            "colorbar": {
             "outlinewidth": 0,
             "ticks": ""
            },
            "type": "choropleth"
           }
          ],
          "contour": [
           {
            "colorbar": {
             "outlinewidth": 0,
             "ticks": ""
            },
            "colorscale": [
             [
              0,
              "#0d0887"
             ],
             [
              0.1111111111111111,
              "#46039f"
             ],
             [
              0.2222222222222222,
              "#7201a8"
             ],
             [
              0.3333333333333333,
              "#9c179e"
             ],
             [
              0.4444444444444444,
              "#bd3786"
             ],
             [
              0.5555555555555556,
              "#d8576b"
             ],
             [
              0.6666666666666666,
              "#ed7953"
             ],
             [
              0.7777777777777778,
              "#fb9f3a"
             ],
             [
              0.8888888888888888,
              "#fdca26"
             ],
             [
              1,
              "#f0f921"
             ]
            ],
            "type": "contour"
           }
          ],
          "contourcarpet": [
           {
            "colorbar": {
             "outlinewidth": 0,
             "ticks": ""
            },
            "type": "contourcarpet"
           }
          ],
          "heatmap": [
           {
            "colorbar": {
             "outlinewidth": 0,
             "ticks": ""
            },
            "colorscale": [
             [
              0,
              "#0d0887"
             ],
             [
              0.1111111111111111,
              "#46039f"
             ],
             [
              0.2222222222222222,
              "#7201a8"
             ],
             [
              0.3333333333333333,
              "#9c179e"
             ],
             [
              0.4444444444444444,
              "#bd3786"
             ],
             [
              0.5555555555555556,
              "#d8576b"
             ],
             [
              0.6666666666666666,
              "#ed7953"
             ],
             [
              0.7777777777777778,
              "#fb9f3a"
             ],
             [
              0.8888888888888888,
              "#fdca26"
             ],
             [
              1,
              "#f0f921"
             ]
            ],
            "type": "heatmap"
           }
          ],
          "heatmapgl": [
           {
            "colorbar": {
             "outlinewidth": 0,
             "ticks": ""
            },
            "colorscale": [
             [
              0,
              "#0d0887"
             ],
             [
              0.1111111111111111,
              "#46039f"
             ],
             [
              0.2222222222222222,
              "#7201a8"
             ],
             [
              0.3333333333333333,
              "#9c179e"
             ],
             [
              0.4444444444444444,
              "#bd3786"
             ],
             [
              0.5555555555555556,
              "#d8576b"
             ],
             [
              0.6666666666666666,
              "#ed7953"
             ],
             [
              0.7777777777777778,
              "#fb9f3a"
             ],
             [
              0.8888888888888888,
              "#fdca26"
             ],
             [
              1,
              "#f0f921"
             ]
            ],
            "type": "heatmapgl"
           }
          ],
          "histogram": [
           {
            "marker": {
             "pattern": {
              "fillmode": "overlay",
              "size": 10,
              "solidity": 0.2
             }
            },
            "type": "histogram"
           }
          ],
          "histogram2d": [
           {
            "colorbar": {
             "outlinewidth": 0,
             "ticks": ""
            },
            "colorscale": [
             [
              0,
              "#0d0887"
             ],
             [
              0.1111111111111111,
              "#46039f"
             ],
             [
              0.2222222222222222,
              "#7201a8"
             ],
             [
              0.3333333333333333,
              "#9c179e"
             ],
             [
              0.4444444444444444,
              "#bd3786"
             ],
             [
              0.5555555555555556,
              "#d8576b"
             ],
             [
              0.6666666666666666,
              "#ed7953"
             ],
             [
              0.7777777777777778,
              "#fb9f3a"
             ],
             [
              0.8888888888888888,
              "#fdca26"
             ],
             [
              1,
              "#f0f921"
             ]
            ],
            "type": "histogram2d"
           }
          ],
          "histogram2dcontour": [
           {
            "colorbar": {
             "outlinewidth": 0,
             "ticks": ""
            },
            "colorscale": [
             [
              0,
              "#0d0887"
             ],
             [
              0.1111111111111111,
              "#46039f"
             ],
             [
              0.2222222222222222,
              "#7201a8"
             ],
             [
              0.3333333333333333,
              "#9c179e"
             ],
             [
              0.4444444444444444,
              "#bd3786"
             ],
             [
              0.5555555555555556,
              "#d8576b"
             ],
             [
              0.6666666666666666,
              "#ed7953"
             ],
             [
              0.7777777777777778,
              "#fb9f3a"
             ],
             [
              0.8888888888888888,
              "#fdca26"
             ],
             [
              1,
              "#f0f921"
             ]
            ],
            "type": "histogram2dcontour"
           }
          ],
          "mesh3d": [
           {
            "colorbar": {
             "outlinewidth": 0,
             "ticks": ""
            },
            "type": "mesh3d"
           }
          ],
          "parcoords": [
           {
            "line": {
             "colorbar": {
              "outlinewidth": 0,
              "ticks": ""
             }
            },
            "type": "parcoords"
           }
          ],
          "pie": [
           {
            "automargin": true,
            "type": "pie"
           }
          ],
          "scatter": [
           {
            "fillpattern": {
             "fillmode": "overlay",
             "size": 10,
             "solidity": 0.2
            },
            "type": "scatter"
           }
          ],
          "scatter3d": [
           {
            "line": {
             "colorbar": {
              "outlinewidth": 0,
              "ticks": ""
             }
            },
            "marker": {
             "colorbar": {
              "outlinewidth": 0,
              "ticks": ""
             }
            },
            "type": "scatter3d"
           }
          ],
          "scattercarpet": [
           {
            "marker": {
             "colorbar": {
              "outlinewidth": 0,
              "ticks": ""
             }
            },
            "type": "scattercarpet"
           }
          ],
          "scattergeo": [
           {
            "marker": {
             "colorbar": {
              "outlinewidth": 0,
              "ticks": ""
             }
            },
            "type": "scattergeo"
           }
          ],
          "scattergl": [
           {
            "marker": {
             "colorbar": {
              "outlinewidth": 0,
              "ticks": ""
             }
            },
            "type": "scattergl"
           }
          ],
          "scattermapbox": [
           {
            "marker": {
             "colorbar": {
              "outlinewidth": 0,
              "ticks": ""
             }
            },
            "type": "scattermapbox"
           }
          ],
          "scatterpolar": [
           {
            "marker": {
             "colorbar": {
              "outlinewidth": 0,
              "ticks": ""
             }
            },
            "type": "scatterpolar"
           }
          ],
          "scatterpolargl": [
           {
            "marker": {
             "colorbar": {
              "outlinewidth": 0,
              "ticks": ""
             }
            },
            "type": "scatterpolargl"
           }
          ],
          "scatterternary": [
           {
            "marker": {
             "colorbar": {
              "outlinewidth": 0,
              "ticks": ""
             }
            },
            "type": "scatterternary"
           }
          ],
          "surface": [
           {
            "colorbar": {
             "outlinewidth": 0,
             "ticks": ""
            },
            "colorscale": [
             [
              0,
              "#0d0887"
             ],
             [
              0.1111111111111111,
              "#46039f"
             ],
             [
              0.2222222222222222,
              "#7201a8"
             ],
             [
              0.3333333333333333,
              "#9c179e"
             ],
             [
              0.4444444444444444,
              "#bd3786"
             ],
             [
              0.5555555555555556,
              "#d8576b"
             ],
             [
              0.6666666666666666,
              "#ed7953"
             ],
             [
              0.7777777777777778,
              "#fb9f3a"
             ],
             [
              0.8888888888888888,
              "#fdca26"
             ],
             [
              1,
              "#f0f921"
             ]
            ],
            "type": "surface"
           }
          ],
          "table": [
           {
            "cells": {
             "fill": {
              "color": "#EBF0F8"
             },
             "line": {
              "color": "white"
             }
            },
            "header": {
             "fill": {
              "color": "#C8D4E3"
             },
             "line": {
              "color": "white"
             }
            },
            "type": "table"
           }
          ]
         },
         "layout": {
          "annotationdefaults": {
           "arrowcolor": "#2a3f5f",
           "arrowhead": 0,
           "arrowwidth": 1
          },
          "autotypenumbers": "strict",
          "coloraxis": {
           "colorbar": {
            "outlinewidth": 0,
            "ticks": ""
           }
          },
          "colorscale": {
           "diverging": [
            [
             0,
             "#8e0152"
            ],
            [
             0.1,
             "#c51b7d"
            ],
            [
             0.2,
             "#de77ae"
            ],
            [
             0.3,
             "#f1b6da"
            ],
            [
             0.4,
             "#fde0ef"
            ],
            [
             0.5,
             "#f7f7f7"
            ],
            [
             0.6,
             "#e6f5d0"
            ],
            [
             0.7,
             "#b8e186"
            ],
            [
             0.8,
             "#7fbc41"
            ],
            [
             0.9,
             "#4d9221"
            ],
            [
             1,
             "#276419"
            ]
           ],
           "sequential": [
            [
             0,
             "#0d0887"
            ],
            [
             0.1111111111111111,
             "#46039f"
            ],
            [
             0.2222222222222222,
             "#7201a8"
            ],
            [
             0.3333333333333333,
             "#9c179e"
            ],
            [
             0.4444444444444444,
             "#bd3786"
            ],
            [
             0.5555555555555556,
             "#d8576b"
            ],
            [
             0.6666666666666666,
             "#ed7953"
            ],
            [
             0.7777777777777778,
             "#fb9f3a"
            ],
            [
             0.8888888888888888,
             "#fdca26"
            ],
            [
             1,
             "#f0f921"
            ]
           ],
           "sequentialminus": [
            [
             0,
             "#0d0887"
            ],
            [
             0.1111111111111111,
             "#46039f"
            ],
            [
             0.2222222222222222,
             "#7201a8"
            ],
            [
             0.3333333333333333,
             "#9c179e"
            ],
            [
             0.4444444444444444,
             "#bd3786"
            ],
            [
             0.5555555555555556,
             "#d8576b"
            ],
            [
             0.6666666666666666,
             "#ed7953"
            ],
            [
             0.7777777777777778,
             "#fb9f3a"
            ],
            [
             0.8888888888888888,
             "#fdca26"
            ],
            [
             1,
             "#f0f921"
            ]
           ]
          },
          "colorway": [
           "#636efa",
           "#EF553B",
           "#00cc96",
           "#ab63fa",
           "#FFA15A",
           "#19d3f3",
           "#FF6692",
           "#B6E880",
           "#FF97FF",
           "#FECB52"
          ],
          "font": {
           "color": "#2a3f5f"
          },
          "geo": {
           "bgcolor": "white",
           "lakecolor": "white",
           "landcolor": "#E5ECF6",
           "showlakes": true,
           "showland": true,
           "subunitcolor": "white"
          },
          "hoverlabel": {
           "align": "left"
          },
          "hovermode": "closest",
          "mapbox": {
           "style": "light"
          },
          "paper_bgcolor": "white",
          "plot_bgcolor": "#E5ECF6",
          "polar": {
           "angularaxis": {
            "gridcolor": "white",
            "linecolor": "white",
            "ticks": ""
           },
           "bgcolor": "#E5ECF6",
           "radialaxis": {
            "gridcolor": "white",
            "linecolor": "white",
            "ticks": ""
           }
          },
          "scene": {
           "xaxis": {
            "backgroundcolor": "#E5ECF6",
            "gridcolor": "white",
            "gridwidth": 2,
            "linecolor": "white",
            "showbackground": true,
            "ticks": "",
            "zerolinecolor": "white"
           },
           "yaxis": {
            "backgroundcolor": "#E5ECF6",
            "gridcolor": "white",
            "gridwidth": 2,
            "linecolor": "white",
            "showbackground": true,
            "ticks": "",
            "zerolinecolor": "white"
           },
           "zaxis": {
            "backgroundcolor": "#E5ECF6",
            "gridcolor": "white",
            "gridwidth": 2,
            "linecolor": "white",
            "showbackground": true,
            "ticks": "",
            "zerolinecolor": "white"
           }
          },
          "shapedefaults": {
           "line": {
            "color": "#2a3f5f"
           }
          },
          "ternary": {
           "aaxis": {
            "gridcolor": "white",
            "linecolor": "white",
            "ticks": ""
           },
           "baxis": {
            "gridcolor": "white",
            "linecolor": "white",
            "ticks": ""
           },
           "bgcolor": "#E5ECF6",
           "caxis": {
            "gridcolor": "white",
            "linecolor": "white",
            "ticks": ""
           }
          },
          "title": {
           "x": 0.05
          },
          "xaxis": {
           "automargin": true,
           "gridcolor": "white",
           "linecolor": "white",
           "ticks": "",
           "title": {
            "standoff": 15
           },
           "zerolinecolor": "white",
           "zerolinewidth": 2
          },
          "yaxis": {
           "automargin": true,
           "gridcolor": "white",
           "linecolor": "white",
           "ticks": "",
           "title": {
            "standoff": 15
           },
           "zerolinecolor": "white",
           "zerolinewidth": 2
          }
         }
        },
        "title": {
         "text": "Global average difference in temperature relative to 1961-1990"
        },
        "xaxis": {
         "anchor": "y",
         "domain": [
          0,
          1
         ],
         "title": {
          "font": {
           "family": "Times New Roman"
          },
          "text": "Year"
         }
        },
        "yaxis": {
         "anchor": "x",
         "domain": [
          0,
          1
         ],
         "title": {
          "font": {
           "family": "Times New Roman"
          },
          "text": "Temperature (°C)"
         }
        }
       }
      },
      "text/html": [
       "<div>                            <div id=\"d63249b4-b561-4d16-aa43-dd069c762632\" class=\"plotly-graph-div\" style=\"height:525px; width:100%;\"></div>            <script type=\"text/javascript\">                require([\"plotly\"], function(Plotly) {                    window.PLOTLYENV=window.PLOTLYENV || {};                                    if (document.getElementById(\"d63249b4-b561-4d16-aa43-dd069c762632\")) {                    Plotly.newPlot(                        \"d63249b4-b561-4d16-aa43-dd069c762632\",                        [{\"legendgroup\":\"U.Bound\",\"line\":{\"color\":\"red\",\"dash\":\"solid\"},\"marker\":{\"symbol\":\"circle\"},\"mode\":\"lines\",\"name\":\"U.Bound\",\"orientation\":\"v\",\"showlegend\":true,\"x\":[1850,1851,1852,1853,1854,1855,1856,1857,1858,1859,1860,1861,1862,1863,1864,1865,1866,1867,1868,1869,1870,1871,1872,1873,1874,1875,1876,1877,1878,1879,1880,1881,1882,1883,1884,1885,1886,1887,1888,1889,1890,1891,1892,1893,1894,1895,1896,1897,1898,1899,1900,1901,1902,1903,1904,1905,1906,1907,1908,1909,1910,1911,1912,1913,1914,1915,1916,1917,1918,1919,1920,1921,1922,1923,1924,1925,1926,1927,1928,1929,1930,1931,1932,1933,1934,1935,1936,1937,1938,1939,1940,1941,1942,1943,1944,1945,1946,1947,1948,1949,1950,1951,1952,1953,1954,1955,1956,1957,1958,1959,1960,1961,1962,1963,1964,1965,1966,1967,1968,1969,1970,1971,1972,1973,1974,1975,1976,1977,1978,1979,1980,1981,1982,1983,1984,1985,1986,1987,1988,1989,1990,1991,1992,1993,1994,1995,1996,1997,1998,1999,2000,2001,2002,2003,2004,2005,2006,2007,2008,2009,2010,2011,2012,2013,2014,2015,2016,2017,2018,2019,2020,2021,2022],\"xaxis\":\"x\",\"y\":[-0.25,-0.05,-0.05,-0.11,-0.15,-0.15,-0.17,-0.32,-0.24,-0.14,-0.24,-0.26,-0.37,-0.15,-0.28,-0.14,-0.16,-0.16,-0.17,-0.16,-0.19,-0.22,-0.19,-0.21,-0.24,-0.24,-0.29,0.03,0.11,-0.17,-0.19,-0.11,-0.17,-0.23,-0.38,-0.36,-0.32,-0.38,-0.27,-0.13,-0.38,-0.27,-0.37,-0.36,-0.34,-0.32,-0.15,-0.12,-0.35,-0.22,-0.1,-0.16,-0.3,-0.41,-0.47,-0.28,-0.19,-0.38,-0.39,-0.42,-0.41,-0.42,-0.36,-0.34,-0.14,-0.06,-0.28,-0.39,-0.27,-0.17,-0.15,-0.1,-0.21,-0.19,-0.19,-0.15,0.01,-0.11,-0.07,-0.26,-0.06,0.01,-0.04,-0.22,-0.07,-0.11,-0.08,0.08,0.09,0.07,0.19,0.24,0.2,0.21,0.34,0.24,0.03,0.05,0.01,-0.03,-0.12,0.03,0.11,0.18,-0.02,-0.11,-0.19,0.03,0.05,0.01,-0.06,0.03,-0.01,0.02,-0.26,-0.16,-0.1,-0.07,-0.12,0.01,-0.04,-0.17,-0.06,0.09,-0.13,-0.07,-0.18,0.15,0.05,0.12,0.23,0.28,0.07,0.26,0.08,0.08,0.13,0.27,0.32,0.21,0.4,0.37,0.16,0.2,0.27,0.41,0.31,0.45,0.61,0.36,0.36,0.52,0.57,0.58,0.5,0.64,0.6,0.62,0.5,0.63,0.71,0.57,0.61,0.66,0.71,0.86,0.96,0.88,0.79,0.93,0.96,0.8,0.84],\"yaxis\":\"y\",\"type\":\"scatter\"},{\"legendgroup\":\"Median\",\"line\":{\"color\":\"blue\",\"dash\":\"solid\"},\"marker\":{\"symbol\":\"circle\"},\"mode\":\"lines\",\"name\":\"Median\",\"orientation\":\"v\",\"showlegend\":true,\"x\":[1850,1851,1852,1853,1854,1855,1856,1857,1858,1859,1860,1861,1862,1863,1864,1865,1866,1867,1868,1869,1870,1871,1872,1873,1874,1875,1876,1877,1878,1879,1880,1881,1882,1883,1884,1885,1886,1887,1888,1889,1890,1891,1892,1893,1894,1895,1896,1897,1898,1899,1900,1901,1902,1903,1904,1905,1906,1907,1908,1909,1910,1911,1912,1913,1914,1915,1916,1917,1918,1919,1920,1921,1922,1923,1924,1925,1926,1927,1928,1929,1930,1931,1932,1933,1934,1935,1936,1937,1938,1939,1940,1941,1942,1943,1944,1945,1946,1947,1948,1949,1950,1951,1952,1953,1954,1955,1956,1957,1958,1959,1960,1961,1962,1963,1964,1965,1966,1967,1968,1969,1970,1971,1972,1973,1974,1975,1976,1977,1978,1979,1980,1981,1982,1983,1984,1985,1986,1987,1988,1989,1990,1991,1992,1993,1994,1995,1996,1997,1998,1999,2000,2001,2002,2003,2004,2005,2006,2007,2008,2009,2010,2011,2012,2013,2014,2015,2016,2017,2018,2019,2020,2021,2022],\"xaxis\":\"x\",\"y\":[-0.42,-0.23,-0.23,-0.27,-0.29,-0.3,-0.32,-0.47,-0.39,-0.28,-0.39,-0.43,-0.54,-0.34,-0.47,-0.33,-0.34,-0.36,-0.35,-0.32,-0.33,-0.37,-0.33,-0.34,-0.37,-0.38,-0.42,-0.1,-0.01,-0.3,-0.32,-0.23,-0.3,-0.35,-0.49,-0.47,-0.42,-0.5,-0.38,-0.25,-0.51,-0.4,-0.51,-0.49,-0.48,-0.45,-0.28,-0.26,-0.49,-0.36,-0.23,-0.29,-0.44,-0.53,-0.6,-0.41,-0.32,-0.5,-0.51,-0.54,-0.53,-0.54,-0.48,-0.47,-0.26,-0.19,-0.42,-0.54,-0.42,-0.33,-0.3,-0.24,-0.34,-0.32,-0.31,-0.28,-0.12,-0.23,-0.21,-0.39,-0.18,-0.1,-0.15,-0.32,-0.17,-0.21,-0.17,-0.02,-0.01,-0.04,0.08,0.04,0.0,0.01,0.14,0.04,-0.12,-0.09,-0.12,-0.14,-0.23,-0.06,0.02,0.08,-0.12,-0.2,-0.26,-0.04,-0.02,-0.05,-0.12,-0.02,-0.06,-0.04,-0.31,-0.2,-0.15,-0.12,-0.17,-0.03,-0.09,-0.21,-0.09,0.05,-0.17,-0.11,-0.22,0.1,0.01,0.09,0.2,0.25,0.03,0.22,0.05,0.05,0.1,0.24,0.28,0.18,0.36,0.34,0.12,0.17,0.23,0.38,0.28,0.42,0.58,0.32,0.33,0.49,0.54,0.54,0.47,0.61,0.57,0.59,0.47,0.6,0.68,0.54,0.58,0.62,0.67,0.83,0.93,0.85,0.76,0.89,0.92,0.76,0.8],\"yaxis\":\"y\",\"type\":\"scatter\"},{\"legendgroup\":\"L.Bound\",\"line\":{\"color\":\"green\",\"dash\":\"solid\"},\"marker\":{\"symbol\":\"circle\"},\"mode\":\"lines\",\"name\":\"L.Bound\",\"orientation\":\"v\",\"showlegend\":true,\"x\":[1850,1851,1852,1853,1854,1855,1856,1857,1858,1859,1860,1861,1862,1863,1864,1865,1866,1867,1868,1869,1870,1871,1872,1873,1874,1875,1876,1877,1878,1879,1880,1881,1882,1883,1884,1885,1886,1887,1888,1889,1890,1891,1892,1893,1894,1895,1896,1897,1898,1899,1900,1901,1902,1903,1904,1905,1906,1907,1908,1909,1910,1911,1912,1913,1914,1915,1916,1917,1918,1919,1920,1921,1922,1923,1924,1925,1926,1927,1928,1929,1930,1931,1932,1933,1934,1935,1936,1937,1938,1939,1940,1941,1942,1943,1944,1945,1946,1947,1948,1949,1950,1951,1952,1953,1954,1955,1956,1957,1958,1959,1960,1961,1962,1963,1964,1965,1966,1967,1968,1969,1970,1971,1972,1973,1974,1975,1976,1977,1978,1979,1980,1981,1982,1983,1984,1985,1986,1987,1988,1989,1990,1991,1992,1993,1994,1995,1996,1997,1998,1999,2000,2001,2002,2003,2004,2005,2006,2007,2008,2009,2010,2011,2012,2013,2014,2015,2016,2017,2018,2019,2020,2021,2022],\"xaxis\":\"x\",\"y\":[-0.59,-0.41,-0.41,-0.43,-0.43,-0.44,-0.47,-0.62,-0.54,-0.42,-0.54,-0.6,-0.7,-0.53,-0.65,-0.52,-0.52,-0.55,-0.53,-0.48,-0.47,-0.51,-0.46,-0.47,-0.51,-0.51,-0.56,-0.23,-0.13,-0.43,-0.44,-0.36,-0.42,-0.46,-0.6,-0.58,-0.52,-0.62,-0.49,-0.37,-0.63,-0.54,-0.64,-0.63,-0.63,-0.58,-0.42,-0.4,-0.62,-0.49,-0.37,-0.43,-0.58,-0.66,-0.73,-0.54,-0.45,-0.63,-0.64,-0.65,-0.66,-0.66,-0.59,-0.59,-0.38,-0.32,-0.56,-0.69,-0.58,-0.48,-0.45,-0.38,-0.47,-0.44,-0.44,-0.41,-0.25,-0.35,-0.34,-0.53,-0.29,-0.21,-0.25,-0.43,-0.27,-0.3,-0.26,-0.12,-0.11,-0.15,-0.04,-0.16,-0.2,-0.2,-0.05,-0.16,-0.27,-0.23,-0.26,-0.25,-0.33,-0.15,-0.08,-0.02,-0.21,-0.28,-0.34,-0.1,-0.08,-0.11,-0.17,-0.07,-0.12,-0.09,-0.35,-0.25,-0.2,-0.16,-0.21,-0.07,-0.13,-0.24,-0.13,0.01,-0.21,-0.15,-0.26,0.06,-0.03,0.06,0.16,0.22,-0.01,0.19,0.01,0.02,0.06,0.21,0.25,0.14,0.32,0.3,0.09,0.13,0.2,0.34,0.24,0.39,0.54,0.29,0.3,0.46,0.51,0.51,0.43,0.58,0.54,0.56,0.43,0.57,0.65,0.51,0.54,0.59,0.64,0.79,0.9,0.81,0.73,0.86,0.89,0.73,0.77],\"yaxis\":\"y\",\"type\":\"scatter\"}],                        {\"template\":{\"data\":{\"histogram2dcontour\":[{\"type\":\"histogram2dcontour\",\"colorbar\":{\"outlinewidth\":0,\"ticks\":\"\"},\"colorscale\":[[0.0,\"#0d0887\"],[0.1111111111111111,\"#46039f\"],[0.2222222222222222,\"#7201a8\"],[0.3333333333333333,\"#9c179e\"],[0.4444444444444444,\"#bd3786\"],[0.5555555555555556,\"#d8576b\"],[0.6666666666666666,\"#ed7953\"],[0.7777777777777778,\"#fb9f3a\"],[0.8888888888888888,\"#fdca26\"],[1.0,\"#f0f921\"]]}],\"choropleth\":[{\"type\":\"choropleth\",\"colorbar\":{\"outlinewidth\":0,\"ticks\":\"\"}}],\"histogram2d\":[{\"type\":\"histogram2d\",\"colorbar\":{\"outlinewidth\":0,\"ticks\":\"\"},\"colorscale\":[[0.0,\"#0d0887\"],[0.1111111111111111,\"#46039f\"],[0.2222222222222222,\"#7201a8\"],[0.3333333333333333,\"#9c179e\"],[0.4444444444444444,\"#bd3786\"],[0.5555555555555556,\"#d8576b\"],[0.6666666666666666,\"#ed7953\"],[0.7777777777777778,\"#fb9f3a\"],[0.8888888888888888,\"#fdca26\"],[1.0,\"#f0f921\"]]}],\"heatmap\":[{\"type\":\"heatmap\",\"colorbar\":{\"outlinewidth\":0,\"ticks\":\"\"},\"colorscale\":[[0.0,\"#0d0887\"],[0.1111111111111111,\"#46039f\"],[0.2222222222222222,\"#7201a8\"],[0.3333333333333333,\"#9c179e\"],[0.4444444444444444,\"#bd3786\"],[0.5555555555555556,\"#d8576b\"],[0.6666666666666666,\"#ed7953\"],[0.7777777777777778,\"#fb9f3a\"],[0.8888888888888888,\"#fdca26\"],[1.0,\"#f0f921\"]]}],\"heatmapgl\":[{\"type\":\"heatmapgl\",\"colorbar\":{\"outlinewidth\":0,\"ticks\":\"\"},\"colorscale\":[[0.0,\"#0d0887\"],[0.1111111111111111,\"#46039f\"],[0.2222222222222222,\"#7201a8\"],[0.3333333333333333,\"#9c179e\"],[0.4444444444444444,\"#bd3786\"],[0.5555555555555556,\"#d8576b\"],[0.6666666666666666,\"#ed7953\"],[0.7777777777777778,\"#fb9f3a\"],[0.8888888888888888,\"#fdca26\"],[1.0,\"#f0f921\"]]}],\"contourcarpet\":[{\"type\":\"contourcarpet\",\"colorbar\":{\"outlinewidth\":0,\"ticks\":\"\"}}],\"contour\":[{\"type\":\"contour\",\"colorbar\":{\"outlinewidth\":0,\"ticks\":\"\"},\"colorscale\":[[0.0,\"#0d0887\"],[0.1111111111111111,\"#46039f\"],[0.2222222222222222,\"#7201a8\"],[0.3333333333333333,\"#9c179e\"],[0.4444444444444444,\"#bd3786\"],[0.5555555555555556,\"#d8576b\"],[0.6666666666666666,\"#ed7953\"],[0.7777777777777778,\"#fb9f3a\"],[0.8888888888888888,\"#fdca26\"],[1.0,\"#f0f921\"]]}],\"surface\":[{\"type\":\"surface\",\"colorbar\":{\"outlinewidth\":0,\"ticks\":\"\"},\"colorscale\":[[0.0,\"#0d0887\"],[0.1111111111111111,\"#46039f\"],[0.2222222222222222,\"#7201a8\"],[0.3333333333333333,\"#9c179e\"],[0.4444444444444444,\"#bd3786\"],[0.5555555555555556,\"#d8576b\"],[0.6666666666666666,\"#ed7953\"],[0.7777777777777778,\"#fb9f3a\"],[0.8888888888888888,\"#fdca26\"],[1.0,\"#f0f921\"]]}],\"mesh3d\":[{\"type\":\"mesh3d\",\"colorbar\":{\"outlinewidth\":0,\"ticks\":\"\"}}],\"scatter\":[{\"fillpattern\":{\"fillmode\":\"overlay\",\"size\":10,\"solidity\":0.2},\"type\":\"scatter\"}],\"parcoords\":[{\"type\":\"parcoords\",\"line\":{\"colorbar\":{\"outlinewidth\":0,\"ticks\":\"\"}}}],\"scatterpolargl\":[{\"type\":\"scatterpolargl\",\"marker\":{\"colorbar\":{\"outlinewidth\":0,\"ticks\":\"\"}}}],\"bar\":[{\"error_x\":{\"color\":\"#2a3f5f\"},\"error_y\":{\"color\":\"#2a3f5f\"},\"marker\":{\"line\":{\"color\":\"#E5ECF6\",\"width\":0.5},\"pattern\":{\"fillmode\":\"overlay\",\"size\":10,\"solidity\":0.2}},\"type\":\"bar\"}],\"scattergeo\":[{\"type\":\"scattergeo\",\"marker\":{\"colorbar\":{\"outlinewidth\":0,\"ticks\":\"\"}}}],\"scatterpolar\":[{\"type\":\"scatterpolar\",\"marker\":{\"colorbar\":{\"outlinewidth\":0,\"ticks\":\"\"}}}],\"histogram\":[{\"marker\":{\"pattern\":{\"fillmode\":\"overlay\",\"size\":10,\"solidity\":0.2}},\"type\":\"histogram\"}],\"scattergl\":[{\"type\":\"scattergl\",\"marker\":{\"colorbar\":{\"outlinewidth\":0,\"ticks\":\"\"}}}],\"scatter3d\":[{\"type\":\"scatter3d\",\"line\":{\"colorbar\":{\"outlinewidth\":0,\"ticks\":\"\"}},\"marker\":{\"colorbar\":{\"outlinewidth\":0,\"ticks\":\"\"}}}],\"scattermapbox\":[{\"type\":\"scattermapbox\",\"marker\":{\"colorbar\":{\"outlinewidth\":0,\"ticks\":\"\"}}}],\"scatterternary\":[{\"type\":\"scatterternary\",\"marker\":{\"colorbar\":{\"outlinewidth\":0,\"ticks\":\"\"}}}],\"scattercarpet\":[{\"type\":\"scattercarpet\",\"marker\":{\"colorbar\":{\"outlinewidth\":0,\"ticks\":\"\"}}}],\"carpet\":[{\"aaxis\":{\"endlinecolor\":\"#2a3f5f\",\"gridcolor\":\"white\",\"linecolor\":\"white\",\"minorgridcolor\":\"white\",\"startlinecolor\":\"#2a3f5f\"},\"baxis\":{\"endlinecolor\":\"#2a3f5f\",\"gridcolor\":\"white\",\"linecolor\":\"white\",\"minorgridcolor\":\"white\",\"startlinecolor\":\"#2a3f5f\"},\"type\":\"carpet\"}],\"table\":[{\"cells\":{\"fill\":{\"color\":\"#EBF0F8\"},\"line\":{\"color\":\"white\"}},\"header\":{\"fill\":{\"color\":\"#C8D4E3\"},\"line\":{\"color\":\"white\"}},\"type\":\"table\"}],\"barpolar\":[{\"marker\":{\"line\":{\"color\":\"#E5ECF6\",\"width\":0.5},\"pattern\":{\"fillmode\":\"overlay\",\"size\":10,\"solidity\":0.2}},\"type\":\"barpolar\"}],\"pie\":[{\"automargin\":true,\"type\":\"pie\"}]},\"layout\":{\"autotypenumbers\":\"strict\",\"colorway\":[\"#636efa\",\"#EF553B\",\"#00cc96\",\"#ab63fa\",\"#FFA15A\",\"#19d3f3\",\"#FF6692\",\"#B6E880\",\"#FF97FF\",\"#FECB52\"],\"font\":{\"color\":\"#2a3f5f\"},\"hovermode\":\"closest\",\"hoverlabel\":{\"align\":\"left\"},\"paper_bgcolor\":\"white\",\"plot_bgcolor\":\"#E5ECF6\",\"polar\":{\"bgcolor\":\"#E5ECF6\",\"angularaxis\":{\"gridcolor\":\"white\",\"linecolor\":\"white\",\"ticks\":\"\"},\"radialaxis\":{\"gridcolor\":\"white\",\"linecolor\":\"white\",\"ticks\":\"\"}},\"ternary\":{\"bgcolor\":\"#E5ECF6\",\"aaxis\":{\"gridcolor\":\"white\",\"linecolor\":\"white\",\"ticks\":\"\"},\"baxis\":{\"gridcolor\":\"white\",\"linecolor\":\"white\",\"ticks\":\"\"},\"caxis\":{\"gridcolor\":\"white\",\"linecolor\":\"white\",\"ticks\":\"\"}},\"coloraxis\":{\"colorbar\":{\"outlinewidth\":0,\"ticks\":\"\"}},\"colorscale\":{\"sequential\":[[0.0,\"#0d0887\"],[0.1111111111111111,\"#46039f\"],[0.2222222222222222,\"#7201a8\"],[0.3333333333333333,\"#9c179e\"],[0.4444444444444444,\"#bd3786\"],[0.5555555555555556,\"#d8576b\"],[0.6666666666666666,\"#ed7953\"],[0.7777777777777778,\"#fb9f3a\"],[0.8888888888888888,\"#fdca26\"],[1.0,\"#f0f921\"]],\"sequentialminus\":[[0.0,\"#0d0887\"],[0.1111111111111111,\"#46039f\"],[0.2222222222222222,\"#7201a8\"],[0.3333333333333333,\"#9c179e\"],[0.4444444444444444,\"#bd3786\"],[0.5555555555555556,\"#d8576b\"],[0.6666666666666666,\"#ed7953\"],[0.7777777777777778,\"#fb9f3a\"],[0.8888888888888888,\"#fdca26\"],[1.0,\"#f0f921\"]],\"diverging\":[[0,\"#8e0152\"],[0.1,\"#c51b7d\"],[0.2,\"#de77ae\"],[0.3,\"#f1b6da\"],[0.4,\"#fde0ef\"],[0.5,\"#f7f7f7\"],[0.6,\"#e6f5d0\"],[0.7,\"#b8e186\"],[0.8,\"#7fbc41\"],[0.9,\"#4d9221\"],[1,\"#276419\"]]},\"xaxis\":{\"gridcolor\":\"white\",\"linecolor\":\"white\",\"ticks\":\"\",\"title\":{\"standoff\":15},\"zerolinecolor\":\"white\",\"automargin\":true,\"zerolinewidth\":2},\"yaxis\":{\"gridcolor\":\"white\",\"linecolor\":\"white\",\"ticks\":\"\",\"title\":{\"standoff\":15},\"zerolinecolor\":\"white\",\"automargin\":true,\"zerolinewidth\":2},\"scene\":{\"xaxis\":{\"backgroundcolor\":\"#E5ECF6\",\"gridcolor\":\"white\",\"linecolor\":\"white\",\"showbackground\":true,\"ticks\":\"\",\"zerolinecolor\":\"white\",\"gridwidth\":2},\"yaxis\":{\"backgroundcolor\":\"#E5ECF6\",\"gridcolor\":\"white\",\"linecolor\":\"white\",\"showbackground\":true,\"ticks\":\"\",\"zerolinecolor\":\"white\",\"gridwidth\":2},\"zaxis\":{\"backgroundcolor\":\"#E5ECF6\",\"gridcolor\":\"white\",\"linecolor\":\"white\",\"showbackground\":true,\"ticks\":\"\",\"zerolinecolor\":\"white\",\"gridwidth\":2}},\"shapedefaults\":{\"line\":{\"color\":\"#2a3f5f\"}},\"annotationdefaults\":{\"arrowcolor\":\"#2a3f5f\",\"arrowhead\":0,\"arrowwidth\":1},\"geo\":{\"bgcolor\":\"white\",\"landcolor\":\"#E5ECF6\",\"subunitcolor\":\"white\",\"showland\":true,\"showlakes\":true,\"lakecolor\":\"white\"},\"title\":{\"x\":0.05},\"mapbox\":{\"style\":\"light\"}}},\"xaxis\":{\"anchor\":\"y\",\"domain\":[0.0,1.0],\"title\":{\"text\":\"Year\",\"font\":{\"family\":\"Times New Roman\"}}},\"yaxis\":{\"anchor\":\"x\",\"domain\":[0.0,1.0],\"title\":{\"text\":\"Temperature (\\u00b0C)\",\"font\":{\"family\":\"Times New Roman\"}}},\"legend\":{\"title\":{},\"tracegroupgap\":0},\"title\":{\"text\":\"Global average difference in temperature relative to 1961-1990\"},\"font\":{\"family\":\"Times New Roman\"},\"plot_bgcolor\":\"rgb(242, 246, 252)\",\"hoverlabel\":{\"font\":{\"size\":14},\"bgcolor\":\"white\"},\"hovermode\":\"x unified\"},                        {\"responsive\": true}                    ).then(function(){\n",
       "                            \n",
       "var gd = document.getElementById('d63249b4-b561-4d16-aa43-dd069c762632');\n",
       "var x = new MutationObserver(function (mutations, observer) {{\n",
       "        var display = window.getComputedStyle(gd).display;\n",
       "        if (!display || display === 'none') {{\n",
       "            console.log([gd, 'removed!']);\n",
       "            Plotly.purge(gd);\n",
       "            observer.disconnect();\n",
       "        }}\n",
       "}});\n",
       "\n",
       "// Listen for the removal of the full notebook cells\n",
       "var notebookContainer = gd.closest('#notebook-container');\n",
       "if (notebookContainer) {{\n",
       "    x.observe(notebookContainer, {childList: true});\n",
       "}}\n",
       "\n",
       "// Listen for the clearing of the current output cell\n",
       "var outputEl = gd.closest('.output');\n",
       "if (outputEl) {{\n",
       "    x.observe(outputEl, {childList: true});\n",
       "}}\n",
       "\n",
       "                        })                };                });            </script>        </div>"
      ]
     },
     "metadata": {},
     "output_type": "display_data"
    }
   ],
   "source": [
    "fig.update_layout(\n",
    "    hovermode=\"x unified\", # adds a vertical line trace on mouse hover\n",
    "    hoverlabel= # formats the label on mouse hover\n",
    "        dict(\n",
    "            bgcolor=\"white\",\n",
    "            font_size=14,\n",
    "        ),\n",
    ")\n",
    "\n",
    "# also needed to set up the trace on mouse hover\n",
    "fig.update_traces(\n",
    "    mode=\"lines\",  # vertical line\n",
    "    hovertemplate=None,\n",
    ")\n",
    "\n",
    "# re-set some graph features that are lost on update\n",
    "fig.update_layout(\n",
    "    legend_title=None, # remove unnecessary legend title\n",
    ")\n",
    "fig.update_xaxes(\n",
    "    title_font=dict(family='Times New Roman'),\n",
    ")\n",
    "fig.update_yaxes(\n",
    "    title_font=dict(family='Times New Roman'),\n",
    "    title_text=f'Temperature ({chr(176)}C)',\n",
    ")\n",
    "\n",
    "#display\n",
    "fig.show()"
   ]
  },
  {
   "cell_type": "markdown",
   "id": "834c65d7",
   "metadata": {},
   "source": [
    "### Make the key aspects of the graph's narrative visible\n",
    "\n",
    "To tell the story about the increase in global temperature we will use a horizontal line which shows the starting point (no change in temperature), and a vertical line to show the reference point against which the temperature differential has been calculated (the centre of the 1961-1990 period)."
   ]
  },
  {
   "cell_type": "code",
   "execution_count": 96,
   "id": "f5fdbc59",
   "metadata": {},
   "outputs": [
    {
     "data": {
      "application/vnd.plotly.v1+json": {
       "config": {
        "plotlyServerURL": "https://plot.ly"
       },
       "data": [
        {
         "legendgroup": "U.Bound",
         "line": {
          "color": "red",
          "dash": "solid"
         },
         "marker": {
          "symbol": "circle"
         },
         "mode": "lines",
         "name": "U.Bound",
         "orientation": "v",
         "showlegend": true,
         "type": "scatter",
         "x": [
          1850,
          1851,
          1852,
          1853,
          1854,
          1855,
          1856,
          1857,
          1858,
          1859,
          1860,
          1861,
          1862,
          1863,
          1864,
          1865,
          1866,
          1867,
          1868,
          1869,
          1870,
          1871,
          1872,
          1873,
          1874,
          1875,
          1876,
          1877,
          1878,
          1879,
          1880,
          1881,
          1882,
          1883,
          1884,
          1885,
          1886,
          1887,
          1888,
          1889,
          1890,
          1891,
          1892,
          1893,
          1894,
          1895,
          1896,
          1897,
          1898,
          1899,
          1900,
          1901,
          1902,
          1903,
          1904,
          1905,
          1906,
          1907,
          1908,
          1909,
          1910,
          1911,
          1912,
          1913,
          1914,
          1915,
          1916,
          1917,
          1918,
          1919,
          1920,
          1921,
          1922,
          1923,
          1924,
          1925,
          1926,
          1927,
          1928,
          1929,
          1930,
          1931,
          1932,
          1933,
          1934,
          1935,
          1936,
          1937,
          1938,
          1939,
          1940,
          1941,
          1942,
          1943,
          1944,
          1945,
          1946,
          1947,
          1948,
          1949,
          1950,
          1951,
          1952,
          1953,
          1954,
          1955,
          1956,
          1957,
          1958,
          1959,
          1960,
          1961,
          1962,
          1963,
          1964,
          1965,
          1966,
          1967,
          1968,
          1969,
          1970,
          1971,
          1972,
          1973,
          1974,
          1975,
          1976,
          1977,
          1978,
          1979,
          1980,
          1981,
          1982,
          1983,
          1984,
          1985,
          1986,
          1987,
          1988,
          1989,
          1990,
          1991,
          1992,
          1993,
          1994,
          1995,
          1996,
          1997,
          1998,
          1999,
          2000,
          2001,
          2002,
          2003,
          2004,
          2005,
          2006,
          2007,
          2008,
          2009,
          2010,
          2011,
          2012,
          2013,
          2014,
          2015,
          2016,
          2017,
          2018,
          2019,
          2020,
          2021,
          2022
         ],
         "xaxis": "x",
         "y": [
          -0.25,
          -0.05,
          -0.05,
          -0.11,
          -0.15,
          -0.15,
          -0.17,
          -0.32,
          -0.24,
          -0.14,
          -0.24,
          -0.26,
          -0.37,
          -0.15,
          -0.28,
          -0.14,
          -0.16,
          -0.16,
          -0.17,
          -0.16,
          -0.19,
          -0.22,
          -0.19,
          -0.21,
          -0.24,
          -0.24,
          -0.29,
          0.03,
          0.11,
          -0.17,
          -0.19,
          -0.11,
          -0.17,
          -0.23,
          -0.38,
          -0.36,
          -0.32,
          -0.38,
          -0.27,
          -0.13,
          -0.38,
          -0.27,
          -0.37,
          -0.36,
          -0.34,
          -0.32,
          -0.15,
          -0.12,
          -0.35,
          -0.22,
          -0.1,
          -0.16,
          -0.3,
          -0.41,
          -0.47,
          -0.28,
          -0.19,
          -0.38,
          -0.39,
          -0.42,
          -0.41,
          -0.42,
          -0.36,
          -0.34,
          -0.14,
          -0.06,
          -0.28,
          -0.39,
          -0.27,
          -0.17,
          -0.15,
          -0.1,
          -0.21,
          -0.19,
          -0.19,
          -0.15,
          0.01,
          -0.11,
          -0.07,
          -0.26,
          -0.06,
          0.01,
          -0.04,
          -0.22,
          -0.07,
          -0.11,
          -0.08,
          0.08,
          0.09,
          0.07,
          0.19,
          0.24,
          0.2,
          0.21,
          0.34,
          0.24,
          0.03,
          0.05,
          0.01,
          -0.03,
          -0.12,
          0.03,
          0.11,
          0.18,
          -0.02,
          -0.11,
          -0.19,
          0.03,
          0.05,
          0.01,
          -0.06,
          0.03,
          -0.01,
          0.02,
          -0.26,
          -0.16,
          -0.1,
          -0.07,
          -0.12,
          0.01,
          -0.04,
          -0.17,
          -0.06,
          0.09,
          -0.13,
          -0.07,
          -0.18,
          0.15,
          0.05,
          0.12,
          0.23,
          0.28,
          0.07,
          0.26,
          0.08,
          0.08,
          0.13,
          0.27,
          0.32,
          0.21,
          0.4,
          0.37,
          0.16,
          0.2,
          0.27,
          0.41,
          0.31,
          0.45,
          0.61,
          0.36,
          0.36,
          0.52,
          0.57,
          0.58,
          0.5,
          0.64,
          0.6,
          0.62,
          0.5,
          0.63,
          0.71,
          0.57,
          0.61,
          0.66,
          0.71,
          0.86,
          0.96,
          0.88,
          0.79,
          0.93,
          0.96,
          0.8,
          0.84
         ],
         "yaxis": "y"
        },
        {
         "legendgroup": "Median",
         "line": {
          "color": "blue",
          "dash": "solid"
         },
         "marker": {
          "symbol": "circle"
         },
         "mode": "lines",
         "name": "Median",
         "orientation": "v",
         "showlegend": true,
         "type": "scatter",
         "x": [
          1850,
          1851,
          1852,
          1853,
          1854,
          1855,
          1856,
          1857,
          1858,
          1859,
          1860,
          1861,
          1862,
          1863,
          1864,
          1865,
          1866,
          1867,
          1868,
          1869,
          1870,
          1871,
          1872,
          1873,
          1874,
          1875,
          1876,
          1877,
          1878,
          1879,
          1880,
          1881,
          1882,
          1883,
          1884,
          1885,
          1886,
          1887,
          1888,
          1889,
          1890,
          1891,
          1892,
          1893,
          1894,
          1895,
          1896,
          1897,
          1898,
          1899,
          1900,
          1901,
          1902,
          1903,
          1904,
          1905,
          1906,
          1907,
          1908,
          1909,
          1910,
          1911,
          1912,
          1913,
          1914,
          1915,
          1916,
          1917,
          1918,
          1919,
          1920,
          1921,
          1922,
          1923,
          1924,
          1925,
          1926,
          1927,
          1928,
          1929,
          1930,
          1931,
          1932,
          1933,
          1934,
          1935,
          1936,
          1937,
          1938,
          1939,
          1940,
          1941,
          1942,
          1943,
          1944,
          1945,
          1946,
          1947,
          1948,
          1949,
          1950,
          1951,
          1952,
          1953,
          1954,
          1955,
          1956,
          1957,
          1958,
          1959,
          1960,
          1961,
          1962,
          1963,
          1964,
          1965,
          1966,
          1967,
          1968,
          1969,
          1970,
          1971,
          1972,
          1973,
          1974,
          1975,
          1976,
          1977,
          1978,
          1979,
          1980,
          1981,
          1982,
          1983,
          1984,
          1985,
          1986,
          1987,
          1988,
          1989,
          1990,
          1991,
          1992,
          1993,
          1994,
          1995,
          1996,
          1997,
          1998,
          1999,
          2000,
          2001,
          2002,
          2003,
          2004,
          2005,
          2006,
          2007,
          2008,
          2009,
          2010,
          2011,
          2012,
          2013,
          2014,
          2015,
          2016,
          2017,
          2018,
          2019,
          2020,
          2021,
          2022
         ],
         "xaxis": "x",
         "y": [
          -0.42,
          -0.23,
          -0.23,
          -0.27,
          -0.29,
          -0.3,
          -0.32,
          -0.47,
          -0.39,
          -0.28,
          -0.39,
          -0.43,
          -0.54,
          -0.34,
          -0.47,
          -0.33,
          -0.34,
          -0.36,
          -0.35,
          -0.32,
          -0.33,
          -0.37,
          -0.33,
          -0.34,
          -0.37,
          -0.38,
          -0.42,
          -0.1,
          -0.01,
          -0.3,
          -0.32,
          -0.23,
          -0.3,
          -0.35,
          -0.49,
          -0.47,
          -0.42,
          -0.5,
          -0.38,
          -0.25,
          -0.51,
          -0.4,
          -0.51,
          -0.49,
          -0.48,
          -0.45,
          -0.28,
          -0.26,
          -0.49,
          -0.36,
          -0.23,
          -0.29,
          -0.44,
          -0.53,
          -0.6,
          -0.41,
          -0.32,
          -0.5,
          -0.51,
          -0.54,
          -0.53,
          -0.54,
          -0.48,
          -0.47,
          -0.26,
          -0.19,
          -0.42,
          -0.54,
          -0.42,
          -0.33,
          -0.3,
          -0.24,
          -0.34,
          -0.32,
          -0.31,
          -0.28,
          -0.12,
          -0.23,
          -0.21,
          -0.39,
          -0.18,
          -0.1,
          -0.15,
          -0.32,
          -0.17,
          -0.21,
          -0.17,
          -0.02,
          -0.01,
          -0.04,
          0.08,
          0.04,
          0,
          0.01,
          0.14,
          0.04,
          -0.12,
          -0.09,
          -0.12,
          -0.14,
          -0.23,
          -0.06,
          0.02,
          0.08,
          -0.12,
          -0.2,
          -0.26,
          -0.04,
          -0.02,
          -0.05,
          -0.12,
          -0.02,
          -0.06,
          -0.04,
          -0.31,
          -0.2,
          -0.15,
          -0.12,
          -0.17,
          -0.03,
          -0.09,
          -0.21,
          -0.09,
          0.05,
          -0.17,
          -0.11,
          -0.22,
          0.1,
          0.01,
          0.09,
          0.2,
          0.25,
          0.03,
          0.22,
          0.05,
          0.05,
          0.1,
          0.24,
          0.28,
          0.18,
          0.36,
          0.34,
          0.12,
          0.17,
          0.23,
          0.38,
          0.28,
          0.42,
          0.58,
          0.32,
          0.33,
          0.49,
          0.54,
          0.54,
          0.47,
          0.61,
          0.57,
          0.59,
          0.47,
          0.6,
          0.68,
          0.54,
          0.58,
          0.62,
          0.67,
          0.83,
          0.93,
          0.85,
          0.76,
          0.89,
          0.92,
          0.76,
          0.8
         ],
         "yaxis": "y"
        },
        {
         "legendgroup": "L.Bound",
         "line": {
          "color": "green",
          "dash": "solid"
         },
         "marker": {
          "symbol": "circle"
         },
         "mode": "lines",
         "name": "L.Bound",
         "orientation": "v",
         "showlegend": true,
         "type": "scatter",
         "x": [
          1850,
          1851,
          1852,
          1853,
          1854,
          1855,
          1856,
          1857,
          1858,
          1859,
          1860,
          1861,
          1862,
          1863,
          1864,
          1865,
          1866,
          1867,
          1868,
          1869,
          1870,
          1871,
          1872,
          1873,
          1874,
          1875,
          1876,
          1877,
          1878,
          1879,
          1880,
          1881,
          1882,
          1883,
          1884,
          1885,
          1886,
          1887,
          1888,
          1889,
          1890,
          1891,
          1892,
          1893,
          1894,
          1895,
          1896,
          1897,
          1898,
          1899,
          1900,
          1901,
          1902,
          1903,
          1904,
          1905,
          1906,
          1907,
          1908,
          1909,
          1910,
          1911,
          1912,
          1913,
          1914,
          1915,
          1916,
          1917,
          1918,
          1919,
          1920,
          1921,
          1922,
          1923,
          1924,
          1925,
          1926,
          1927,
          1928,
          1929,
          1930,
          1931,
          1932,
          1933,
          1934,
          1935,
          1936,
          1937,
          1938,
          1939,
          1940,
          1941,
          1942,
          1943,
          1944,
          1945,
          1946,
          1947,
          1948,
          1949,
          1950,
          1951,
          1952,
          1953,
          1954,
          1955,
          1956,
          1957,
          1958,
          1959,
          1960,
          1961,
          1962,
          1963,
          1964,
          1965,
          1966,
          1967,
          1968,
          1969,
          1970,
          1971,
          1972,
          1973,
          1974,
          1975,
          1976,
          1977,
          1978,
          1979,
          1980,
          1981,
          1982,
          1983,
          1984,
          1985,
          1986,
          1987,
          1988,
          1989,
          1990,
          1991,
          1992,
          1993,
          1994,
          1995,
          1996,
          1997,
          1998,
          1999,
          2000,
          2001,
          2002,
          2003,
          2004,
          2005,
          2006,
          2007,
          2008,
          2009,
          2010,
          2011,
          2012,
          2013,
          2014,
          2015,
          2016,
          2017,
          2018,
          2019,
          2020,
          2021,
          2022
         ],
         "xaxis": "x",
         "y": [
          -0.59,
          -0.41,
          -0.41,
          -0.43,
          -0.43,
          -0.44,
          -0.47,
          -0.62,
          -0.54,
          -0.42,
          -0.54,
          -0.6,
          -0.7,
          -0.53,
          -0.65,
          -0.52,
          -0.52,
          -0.55,
          -0.53,
          -0.48,
          -0.47,
          -0.51,
          -0.46,
          -0.47,
          -0.51,
          -0.51,
          -0.56,
          -0.23,
          -0.13,
          -0.43,
          -0.44,
          -0.36,
          -0.42,
          -0.46,
          -0.6,
          -0.58,
          -0.52,
          -0.62,
          -0.49,
          -0.37,
          -0.63,
          -0.54,
          -0.64,
          -0.63,
          -0.63,
          -0.58,
          -0.42,
          -0.4,
          -0.62,
          -0.49,
          -0.37,
          -0.43,
          -0.58,
          -0.66,
          -0.73,
          -0.54,
          -0.45,
          -0.63,
          -0.64,
          -0.65,
          -0.66,
          -0.66,
          -0.59,
          -0.59,
          -0.38,
          -0.32,
          -0.56,
          -0.69,
          -0.58,
          -0.48,
          -0.45,
          -0.38,
          -0.47,
          -0.44,
          -0.44,
          -0.41,
          -0.25,
          -0.35,
          -0.34,
          -0.53,
          -0.29,
          -0.21,
          -0.25,
          -0.43,
          -0.27,
          -0.3,
          -0.26,
          -0.12,
          -0.11,
          -0.15,
          -0.04,
          -0.16,
          -0.2,
          -0.2,
          -0.05,
          -0.16,
          -0.27,
          -0.23,
          -0.26,
          -0.25,
          -0.33,
          -0.15,
          -0.08,
          -0.02,
          -0.21,
          -0.28,
          -0.34,
          -0.1,
          -0.08,
          -0.11,
          -0.17,
          -0.07,
          -0.12,
          -0.09,
          -0.35,
          -0.25,
          -0.2,
          -0.16,
          -0.21,
          -0.07,
          -0.13,
          -0.24,
          -0.13,
          0.01,
          -0.21,
          -0.15,
          -0.26,
          0.06,
          -0.03,
          0.06,
          0.16,
          0.22,
          -0.01,
          0.19,
          0.01,
          0.02,
          0.06,
          0.21,
          0.25,
          0.14,
          0.32,
          0.3,
          0.09,
          0.13,
          0.2,
          0.34,
          0.24,
          0.39,
          0.54,
          0.29,
          0.3,
          0.46,
          0.51,
          0.51,
          0.43,
          0.58,
          0.54,
          0.56,
          0.43,
          0.57,
          0.65,
          0.51,
          0.54,
          0.59,
          0.64,
          0.79,
          0.9,
          0.81,
          0.73,
          0.86,
          0.89,
          0.73,
          0.77
         ],
         "yaxis": "y"
        }
       ],
       "layout": {
        "annotations": [
         {
          "arrowhead": 1,
          "ax": 80,
          "ay": 0,
          "font": {
           "size": 16
          },
          "showarrow": true,
          "text": "Centre = 0°C",
          "x": 1976,
          "xref": "x",
          "y": -0.5,
          "yref": "y"
         }
        ],
        "font": {
         "family": "Times New Roman"
        },
        "hoverlabel": {
         "bgcolor": "white",
         "font": {
          "size": 14
         }
        },
        "hovermode": "x unified",
        "legend": {
         "title": {},
         "tracegroupgap": 0
        },
        "plot_bgcolor": "rgb(242, 246, 252)",
        "shapes": [
         {
          "line": {
           "color": "black",
           "width": 2
          },
          "type": "line",
          "x0": 0,
          "x1": 1,
          "xref": "paper",
          "y0": 0,
          "y1": 0,
          "yref": "y"
         },
         {
          "line": {
           "color": "grey",
           "dash": "dot",
           "width": 2
          },
          "type": "line",
          "x0": 1975.5,
          "x1": 1975.5,
          "xref": "x",
          "y0": 0,
          "y1": 1,
          "yref": "paper"
         }
        ],
        "template": {
         "data": {
          "bar": [
           {
            "error_x": {
             "color": "#2a3f5f"
            },
            "error_y": {
             "color": "#2a3f5f"
            },
            "marker": {
             "line": {
              "color": "#E5ECF6",
              "width": 0.5
             },
             "pattern": {
              "fillmode": "overlay",
              "size": 10,
              "solidity": 0.2
             }
            },
            "type": "bar"
           }
          ],
          "barpolar": [
           {
            "marker": {
             "line": {
              "color": "#E5ECF6",
              "width": 0.5
             },
             "pattern": {
              "fillmode": "overlay",
              "size": 10,
              "solidity": 0.2
             }
            },
            "type": "barpolar"
           }
          ],
          "carpet": [
           {
            "aaxis": {
             "endlinecolor": "#2a3f5f",
             "gridcolor": "white",
             "linecolor": "white",
             "minorgridcolor": "white",
             "startlinecolor": "#2a3f5f"
            },
            "baxis": {
             "endlinecolor": "#2a3f5f",
             "gridcolor": "white",
             "linecolor": "white",
             "minorgridcolor": "white",
             "startlinecolor": "#2a3f5f"
            },
            "type": "carpet"
           }
          ],
          "choropleth": [
           {
            "colorbar": {
             "outlinewidth": 0,
             "ticks": ""
            },
            "type": "choropleth"
           }
          ],
          "contour": [
           {
            "colorbar": {
             "outlinewidth": 0,
             "ticks": ""
            },
            "colorscale": [
             [
              0,
              "#0d0887"
             ],
             [
              0.1111111111111111,
              "#46039f"
             ],
             [
              0.2222222222222222,
              "#7201a8"
             ],
             [
              0.3333333333333333,
              "#9c179e"
             ],
             [
              0.4444444444444444,
              "#bd3786"
             ],
             [
              0.5555555555555556,
              "#d8576b"
             ],
             [
              0.6666666666666666,
              "#ed7953"
             ],
             [
              0.7777777777777778,
              "#fb9f3a"
             ],
             [
              0.8888888888888888,
              "#fdca26"
             ],
             [
              1,
              "#f0f921"
             ]
            ],
            "type": "contour"
           }
          ],
          "contourcarpet": [
           {
            "colorbar": {
             "outlinewidth": 0,
             "ticks": ""
            },
            "type": "contourcarpet"
           }
          ],
          "heatmap": [
           {
            "colorbar": {
             "outlinewidth": 0,
             "ticks": ""
            },
            "colorscale": [
             [
              0,
              "#0d0887"
             ],
             [
              0.1111111111111111,
              "#46039f"
             ],
             [
              0.2222222222222222,
              "#7201a8"
             ],
             [
              0.3333333333333333,
              "#9c179e"
             ],
             [
              0.4444444444444444,
              "#bd3786"
             ],
             [
              0.5555555555555556,
              "#d8576b"
             ],
             [
              0.6666666666666666,
              "#ed7953"
             ],
             [
              0.7777777777777778,
              "#fb9f3a"
             ],
             [
              0.8888888888888888,
              "#fdca26"
             ],
             [
              1,
              "#f0f921"
             ]
            ],
            "type": "heatmap"
           }
          ],
          "heatmapgl": [
           {
            "colorbar": {
             "outlinewidth": 0,
             "ticks": ""
            },
            "colorscale": [
             [
              0,
              "#0d0887"
             ],
             [
              0.1111111111111111,
              "#46039f"
             ],
             [
              0.2222222222222222,
              "#7201a8"
             ],
             [
              0.3333333333333333,
              "#9c179e"
             ],
             [
              0.4444444444444444,
              "#bd3786"
             ],
             [
              0.5555555555555556,
              "#d8576b"
             ],
             [
              0.6666666666666666,
              "#ed7953"
             ],
             [
              0.7777777777777778,
              "#fb9f3a"
             ],
             [
              0.8888888888888888,
              "#fdca26"
             ],
             [
              1,
              "#f0f921"
             ]
            ],
            "type": "heatmapgl"
           }
          ],
          "histogram": [
           {
            "marker": {
             "pattern": {
              "fillmode": "overlay",
              "size": 10,
              "solidity": 0.2
             }
            },
            "type": "histogram"
           }
          ],
          "histogram2d": [
           {
            "colorbar": {
             "outlinewidth": 0,
             "ticks": ""
            },
            "colorscale": [
             [
              0,
              "#0d0887"
             ],
             [
              0.1111111111111111,
              "#46039f"
             ],
             [
              0.2222222222222222,
              "#7201a8"
             ],
             [
              0.3333333333333333,
              "#9c179e"
             ],
             [
              0.4444444444444444,
              "#bd3786"
             ],
             [
              0.5555555555555556,
              "#d8576b"
             ],
             [
              0.6666666666666666,
              "#ed7953"
             ],
             [
              0.7777777777777778,
              "#fb9f3a"
             ],
             [
              0.8888888888888888,
              "#fdca26"
             ],
             [
              1,
              "#f0f921"
             ]
            ],
            "type": "histogram2d"
           }
          ],
          "histogram2dcontour": [
           {
            "colorbar": {
             "outlinewidth": 0,
             "ticks": ""
            },
            "colorscale": [
             [
              0,
              "#0d0887"
             ],
             [
              0.1111111111111111,
              "#46039f"
             ],
             [
              0.2222222222222222,
              "#7201a8"
             ],
             [
              0.3333333333333333,
              "#9c179e"
             ],
             [
              0.4444444444444444,
              "#bd3786"
             ],
             [
              0.5555555555555556,
              "#d8576b"
             ],
             [
              0.6666666666666666,
              "#ed7953"
             ],
             [
              0.7777777777777778,
              "#fb9f3a"
             ],
             [
              0.8888888888888888,
              "#fdca26"
             ],
             [
              1,
              "#f0f921"
             ]
            ],
            "type": "histogram2dcontour"
           }
          ],
          "mesh3d": [
           {
            "colorbar": {
             "outlinewidth": 0,
             "ticks": ""
            },
            "type": "mesh3d"
           }
          ],
          "parcoords": [
           {
            "line": {
             "colorbar": {
              "outlinewidth": 0,
              "ticks": ""
             }
            },
            "type": "parcoords"
           }
          ],
          "pie": [
           {
            "automargin": true,
            "type": "pie"
           }
          ],
          "scatter": [
           {
            "fillpattern": {
             "fillmode": "overlay",
             "size": 10,
             "solidity": 0.2
            },
            "type": "scatter"
           }
          ],
          "scatter3d": [
           {
            "line": {
             "colorbar": {
              "outlinewidth": 0,
              "ticks": ""
             }
            },
            "marker": {
             "colorbar": {
              "outlinewidth": 0,
              "ticks": ""
             }
            },
            "type": "scatter3d"
           }
          ],
          "scattercarpet": [
           {
            "marker": {
             "colorbar": {
              "outlinewidth": 0,
              "ticks": ""
             }
            },
            "type": "scattercarpet"
           }
          ],
          "scattergeo": [
           {
            "marker": {
             "colorbar": {
              "outlinewidth": 0,
              "ticks": ""
             }
            },
            "type": "scattergeo"
           }
          ],
          "scattergl": [
           {
            "marker": {
             "colorbar": {
              "outlinewidth": 0,
              "ticks": ""
             }
            },
            "type": "scattergl"
           }
          ],
          "scattermapbox": [
           {
            "marker": {
             "colorbar": {
              "outlinewidth": 0,
              "ticks": ""
             }
            },
            "type": "scattermapbox"
           }
          ],
          "scatterpolar": [
           {
            "marker": {
             "colorbar": {
              "outlinewidth": 0,
              "ticks": ""
             }
            },
            "type": "scatterpolar"
           }
          ],
          "scatterpolargl": [
           {
            "marker": {
             "colorbar": {
              "outlinewidth": 0,
              "ticks": ""
             }
            },
            "type": "scatterpolargl"
           }
          ],
          "scatterternary": [
           {
            "marker": {
             "colorbar": {
              "outlinewidth": 0,
              "ticks": ""
             }
            },
            "type": "scatterternary"
           }
          ],
          "surface": [
           {
            "colorbar": {
             "outlinewidth": 0,
             "ticks": ""
            },
            "colorscale": [
             [
              0,
              "#0d0887"
             ],
             [
              0.1111111111111111,
              "#46039f"
             ],
             [
              0.2222222222222222,
              "#7201a8"
             ],
             [
              0.3333333333333333,
              "#9c179e"
             ],
             [
              0.4444444444444444,
              "#bd3786"
             ],
             [
              0.5555555555555556,
              "#d8576b"
             ],
             [
              0.6666666666666666,
              "#ed7953"
             ],
             [
              0.7777777777777778,
              "#fb9f3a"
             ],
             [
              0.8888888888888888,
              "#fdca26"
             ],
             [
              1,
              "#f0f921"
             ]
            ],
            "type": "surface"
           }
          ],
          "table": [
           {
            "cells": {
             "fill": {
              "color": "#EBF0F8"
             },
             "line": {
              "color": "white"
             }
            },
            "header": {
             "fill": {
              "color": "#C8D4E3"
             },
             "line": {
              "color": "white"
             }
            },
            "type": "table"
           }
          ]
         },
         "layout": {
          "annotationdefaults": {
           "arrowcolor": "#2a3f5f",
           "arrowhead": 0,
           "arrowwidth": 1
          },
          "autotypenumbers": "strict",
          "coloraxis": {
           "colorbar": {
            "outlinewidth": 0,
            "ticks": ""
           }
          },
          "colorscale": {
           "diverging": [
            [
             0,
             "#8e0152"
            ],
            [
             0.1,
             "#c51b7d"
            ],
            [
             0.2,
             "#de77ae"
            ],
            [
             0.3,
             "#f1b6da"
            ],
            [
             0.4,
             "#fde0ef"
            ],
            [
             0.5,
             "#f7f7f7"
            ],
            [
             0.6,
             "#e6f5d0"
            ],
            [
             0.7,
             "#b8e186"
            ],
            [
             0.8,
             "#7fbc41"
            ],
            [
             0.9,
             "#4d9221"
            ],
            [
             1,
             "#276419"
            ]
           ],
           "sequential": [
            [
             0,
             "#0d0887"
            ],
            [
             0.1111111111111111,
             "#46039f"
            ],
            [
             0.2222222222222222,
             "#7201a8"
            ],
            [
             0.3333333333333333,
             "#9c179e"
            ],
            [
             0.4444444444444444,
             "#bd3786"
            ],
            [
             0.5555555555555556,
             "#d8576b"
            ],
            [
             0.6666666666666666,
             "#ed7953"
            ],
            [
             0.7777777777777778,
             "#fb9f3a"
            ],
            [
             0.8888888888888888,
             "#fdca26"
            ],
            [
             1,
             "#f0f921"
            ]
           ],
           "sequentialminus": [
            [
             0,
             "#0d0887"
            ],
            [
             0.1111111111111111,
             "#46039f"
            ],
            [
             0.2222222222222222,
             "#7201a8"
            ],
            [
             0.3333333333333333,
             "#9c179e"
            ],
            [
             0.4444444444444444,
             "#bd3786"
            ],
            [
             0.5555555555555556,
             "#d8576b"
            ],
            [
             0.6666666666666666,
             "#ed7953"
            ],
            [
             0.7777777777777778,
             "#fb9f3a"
            ],
            [
             0.8888888888888888,
             "#fdca26"
            ],
            [
             1,
             "#f0f921"
            ]
           ]
          },
          "colorway": [
           "#636efa",
           "#EF553B",
           "#00cc96",
           "#ab63fa",
           "#FFA15A",
           "#19d3f3",
           "#FF6692",
           "#B6E880",
           "#FF97FF",
           "#FECB52"
          ],
          "font": {
           "color": "#2a3f5f"
          },
          "geo": {
           "bgcolor": "white",
           "lakecolor": "white",
           "landcolor": "#E5ECF6",
           "showlakes": true,
           "showland": true,
           "subunitcolor": "white"
          },
          "hoverlabel": {
           "align": "left"
          },
          "hovermode": "closest",
          "mapbox": {
           "style": "light"
          },
          "paper_bgcolor": "white",
          "plot_bgcolor": "#E5ECF6",
          "polar": {
           "angularaxis": {
            "gridcolor": "white",
            "linecolor": "white",
            "ticks": ""
           },
           "bgcolor": "#E5ECF6",
           "radialaxis": {
            "gridcolor": "white",
            "linecolor": "white",
            "ticks": ""
           }
          },
          "scene": {
           "xaxis": {
            "backgroundcolor": "#E5ECF6",
            "gridcolor": "white",
            "gridwidth": 2,
            "linecolor": "white",
            "showbackground": true,
            "ticks": "",
            "zerolinecolor": "white"
           },
           "yaxis": {
            "backgroundcolor": "#E5ECF6",
            "gridcolor": "white",
            "gridwidth": 2,
            "linecolor": "white",
            "showbackground": true,
            "ticks": "",
            "zerolinecolor": "white"
           },
           "zaxis": {
            "backgroundcolor": "#E5ECF6",
            "gridcolor": "white",
            "gridwidth": 2,
            "linecolor": "white",
            "showbackground": true,
            "ticks": "",
            "zerolinecolor": "white"
           }
          },
          "shapedefaults": {
           "line": {
            "color": "#2a3f5f"
           }
          },
          "ternary": {
           "aaxis": {
            "gridcolor": "white",
            "linecolor": "white",
            "ticks": ""
           },
           "baxis": {
            "gridcolor": "white",
            "linecolor": "white",
            "ticks": ""
           },
           "bgcolor": "#E5ECF6",
           "caxis": {
            "gridcolor": "white",
            "linecolor": "white",
            "ticks": ""
           }
          },
          "title": {
           "x": 0.05
          },
          "xaxis": {
           "automargin": true,
           "gridcolor": "white",
           "linecolor": "white",
           "ticks": "",
           "title": {
            "standoff": 15
           },
           "zerolinecolor": "white",
           "zerolinewidth": 2
          },
          "yaxis": {
           "automargin": true,
           "gridcolor": "white",
           "linecolor": "white",
           "ticks": "",
           "title": {
            "standoff": 15
           },
           "zerolinecolor": "white",
           "zerolinewidth": 2
          }
         }
        },
        "title": {
         "text": "Global average difference in temperature relative to 1961-1990"
        },
        "xaxis": {
         "anchor": "y",
         "domain": [
          0,
          1
         ],
         "title": {
          "font": {
           "family": "Times New Roman"
          },
          "text": "Year"
         }
        },
        "yaxis": {
         "anchor": "x",
         "domain": [
          0,
          1
         ],
         "title": {
          "font": {
           "family": "Times New Roman"
          },
          "text": "Temperature (°C)"
         }
        }
       }
      },
      "text/html": [
       "<div>                            <div id=\"45bc8721-1121-4213-9c07-1d478dee70e2\" class=\"plotly-graph-div\" style=\"height:525px; width:100%;\"></div>            <script type=\"text/javascript\">                require([\"plotly\"], function(Plotly) {                    window.PLOTLYENV=window.PLOTLYENV || {};                                    if (document.getElementById(\"45bc8721-1121-4213-9c07-1d478dee70e2\")) {                    Plotly.newPlot(                        \"45bc8721-1121-4213-9c07-1d478dee70e2\",                        [{\"legendgroup\":\"U.Bound\",\"line\":{\"color\":\"red\",\"dash\":\"solid\"},\"marker\":{\"symbol\":\"circle\"},\"mode\":\"lines\",\"name\":\"U.Bound\",\"orientation\":\"v\",\"showlegend\":true,\"x\":[1850,1851,1852,1853,1854,1855,1856,1857,1858,1859,1860,1861,1862,1863,1864,1865,1866,1867,1868,1869,1870,1871,1872,1873,1874,1875,1876,1877,1878,1879,1880,1881,1882,1883,1884,1885,1886,1887,1888,1889,1890,1891,1892,1893,1894,1895,1896,1897,1898,1899,1900,1901,1902,1903,1904,1905,1906,1907,1908,1909,1910,1911,1912,1913,1914,1915,1916,1917,1918,1919,1920,1921,1922,1923,1924,1925,1926,1927,1928,1929,1930,1931,1932,1933,1934,1935,1936,1937,1938,1939,1940,1941,1942,1943,1944,1945,1946,1947,1948,1949,1950,1951,1952,1953,1954,1955,1956,1957,1958,1959,1960,1961,1962,1963,1964,1965,1966,1967,1968,1969,1970,1971,1972,1973,1974,1975,1976,1977,1978,1979,1980,1981,1982,1983,1984,1985,1986,1987,1988,1989,1990,1991,1992,1993,1994,1995,1996,1997,1998,1999,2000,2001,2002,2003,2004,2005,2006,2007,2008,2009,2010,2011,2012,2013,2014,2015,2016,2017,2018,2019,2020,2021,2022],\"xaxis\":\"x\",\"y\":[-0.25,-0.05,-0.05,-0.11,-0.15,-0.15,-0.17,-0.32,-0.24,-0.14,-0.24,-0.26,-0.37,-0.15,-0.28,-0.14,-0.16,-0.16,-0.17,-0.16,-0.19,-0.22,-0.19,-0.21,-0.24,-0.24,-0.29,0.03,0.11,-0.17,-0.19,-0.11,-0.17,-0.23,-0.38,-0.36,-0.32,-0.38,-0.27,-0.13,-0.38,-0.27,-0.37,-0.36,-0.34,-0.32,-0.15,-0.12,-0.35,-0.22,-0.1,-0.16,-0.3,-0.41,-0.47,-0.28,-0.19,-0.38,-0.39,-0.42,-0.41,-0.42,-0.36,-0.34,-0.14,-0.06,-0.28,-0.39,-0.27,-0.17,-0.15,-0.1,-0.21,-0.19,-0.19,-0.15,0.01,-0.11,-0.07,-0.26,-0.06,0.01,-0.04,-0.22,-0.07,-0.11,-0.08,0.08,0.09,0.07,0.19,0.24,0.2,0.21,0.34,0.24,0.03,0.05,0.01,-0.03,-0.12,0.03,0.11,0.18,-0.02,-0.11,-0.19,0.03,0.05,0.01,-0.06,0.03,-0.01,0.02,-0.26,-0.16,-0.1,-0.07,-0.12,0.01,-0.04,-0.17,-0.06,0.09,-0.13,-0.07,-0.18,0.15,0.05,0.12,0.23,0.28,0.07,0.26,0.08,0.08,0.13,0.27,0.32,0.21,0.4,0.37,0.16,0.2,0.27,0.41,0.31,0.45,0.61,0.36,0.36,0.52,0.57,0.58,0.5,0.64,0.6,0.62,0.5,0.63,0.71,0.57,0.61,0.66,0.71,0.86,0.96,0.88,0.79,0.93,0.96,0.8,0.84],\"yaxis\":\"y\",\"type\":\"scatter\"},{\"legendgroup\":\"Median\",\"line\":{\"color\":\"blue\",\"dash\":\"solid\"},\"marker\":{\"symbol\":\"circle\"},\"mode\":\"lines\",\"name\":\"Median\",\"orientation\":\"v\",\"showlegend\":true,\"x\":[1850,1851,1852,1853,1854,1855,1856,1857,1858,1859,1860,1861,1862,1863,1864,1865,1866,1867,1868,1869,1870,1871,1872,1873,1874,1875,1876,1877,1878,1879,1880,1881,1882,1883,1884,1885,1886,1887,1888,1889,1890,1891,1892,1893,1894,1895,1896,1897,1898,1899,1900,1901,1902,1903,1904,1905,1906,1907,1908,1909,1910,1911,1912,1913,1914,1915,1916,1917,1918,1919,1920,1921,1922,1923,1924,1925,1926,1927,1928,1929,1930,1931,1932,1933,1934,1935,1936,1937,1938,1939,1940,1941,1942,1943,1944,1945,1946,1947,1948,1949,1950,1951,1952,1953,1954,1955,1956,1957,1958,1959,1960,1961,1962,1963,1964,1965,1966,1967,1968,1969,1970,1971,1972,1973,1974,1975,1976,1977,1978,1979,1980,1981,1982,1983,1984,1985,1986,1987,1988,1989,1990,1991,1992,1993,1994,1995,1996,1997,1998,1999,2000,2001,2002,2003,2004,2005,2006,2007,2008,2009,2010,2011,2012,2013,2014,2015,2016,2017,2018,2019,2020,2021,2022],\"xaxis\":\"x\",\"y\":[-0.42,-0.23,-0.23,-0.27,-0.29,-0.3,-0.32,-0.47,-0.39,-0.28,-0.39,-0.43,-0.54,-0.34,-0.47,-0.33,-0.34,-0.36,-0.35,-0.32,-0.33,-0.37,-0.33,-0.34,-0.37,-0.38,-0.42,-0.1,-0.01,-0.3,-0.32,-0.23,-0.3,-0.35,-0.49,-0.47,-0.42,-0.5,-0.38,-0.25,-0.51,-0.4,-0.51,-0.49,-0.48,-0.45,-0.28,-0.26,-0.49,-0.36,-0.23,-0.29,-0.44,-0.53,-0.6,-0.41,-0.32,-0.5,-0.51,-0.54,-0.53,-0.54,-0.48,-0.47,-0.26,-0.19,-0.42,-0.54,-0.42,-0.33,-0.3,-0.24,-0.34,-0.32,-0.31,-0.28,-0.12,-0.23,-0.21,-0.39,-0.18,-0.1,-0.15,-0.32,-0.17,-0.21,-0.17,-0.02,-0.01,-0.04,0.08,0.04,0.0,0.01,0.14,0.04,-0.12,-0.09,-0.12,-0.14,-0.23,-0.06,0.02,0.08,-0.12,-0.2,-0.26,-0.04,-0.02,-0.05,-0.12,-0.02,-0.06,-0.04,-0.31,-0.2,-0.15,-0.12,-0.17,-0.03,-0.09,-0.21,-0.09,0.05,-0.17,-0.11,-0.22,0.1,0.01,0.09,0.2,0.25,0.03,0.22,0.05,0.05,0.1,0.24,0.28,0.18,0.36,0.34,0.12,0.17,0.23,0.38,0.28,0.42,0.58,0.32,0.33,0.49,0.54,0.54,0.47,0.61,0.57,0.59,0.47,0.6,0.68,0.54,0.58,0.62,0.67,0.83,0.93,0.85,0.76,0.89,0.92,0.76,0.8],\"yaxis\":\"y\",\"type\":\"scatter\"},{\"legendgroup\":\"L.Bound\",\"line\":{\"color\":\"green\",\"dash\":\"solid\"},\"marker\":{\"symbol\":\"circle\"},\"mode\":\"lines\",\"name\":\"L.Bound\",\"orientation\":\"v\",\"showlegend\":true,\"x\":[1850,1851,1852,1853,1854,1855,1856,1857,1858,1859,1860,1861,1862,1863,1864,1865,1866,1867,1868,1869,1870,1871,1872,1873,1874,1875,1876,1877,1878,1879,1880,1881,1882,1883,1884,1885,1886,1887,1888,1889,1890,1891,1892,1893,1894,1895,1896,1897,1898,1899,1900,1901,1902,1903,1904,1905,1906,1907,1908,1909,1910,1911,1912,1913,1914,1915,1916,1917,1918,1919,1920,1921,1922,1923,1924,1925,1926,1927,1928,1929,1930,1931,1932,1933,1934,1935,1936,1937,1938,1939,1940,1941,1942,1943,1944,1945,1946,1947,1948,1949,1950,1951,1952,1953,1954,1955,1956,1957,1958,1959,1960,1961,1962,1963,1964,1965,1966,1967,1968,1969,1970,1971,1972,1973,1974,1975,1976,1977,1978,1979,1980,1981,1982,1983,1984,1985,1986,1987,1988,1989,1990,1991,1992,1993,1994,1995,1996,1997,1998,1999,2000,2001,2002,2003,2004,2005,2006,2007,2008,2009,2010,2011,2012,2013,2014,2015,2016,2017,2018,2019,2020,2021,2022],\"xaxis\":\"x\",\"y\":[-0.59,-0.41,-0.41,-0.43,-0.43,-0.44,-0.47,-0.62,-0.54,-0.42,-0.54,-0.6,-0.7,-0.53,-0.65,-0.52,-0.52,-0.55,-0.53,-0.48,-0.47,-0.51,-0.46,-0.47,-0.51,-0.51,-0.56,-0.23,-0.13,-0.43,-0.44,-0.36,-0.42,-0.46,-0.6,-0.58,-0.52,-0.62,-0.49,-0.37,-0.63,-0.54,-0.64,-0.63,-0.63,-0.58,-0.42,-0.4,-0.62,-0.49,-0.37,-0.43,-0.58,-0.66,-0.73,-0.54,-0.45,-0.63,-0.64,-0.65,-0.66,-0.66,-0.59,-0.59,-0.38,-0.32,-0.56,-0.69,-0.58,-0.48,-0.45,-0.38,-0.47,-0.44,-0.44,-0.41,-0.25,-0.35,-0.34,-0.53,-0.29,-0.21,-0.25,-0.43,-0.27,-0.3,-0.26,-0.12,-0.11,-0.15,-0.04,-0.16,-0.2,-0.2,-0.05,-0.16,-0.27,-0.23,-0.26,-0.25,-0.33,-0.15,-0.08,-0.02,-0.21,-0.28,-0.34,-0.1,-0.08,-0.11,-0.17,-0.07,-0.12,-0.09,-0.35,-0.25,-0.2,-0.16,-0.21,-0.07,-0.13,-0.24,-0.13,0.01,-0.21,-0.15,-0.26,0.06,-0.03,0.06,0.16,0.22,-0.01,0.19,0.01,0.02,0.06,0.21,0.25,0.14,0.32,0.3,0.09,0.13,0.2,0.34,0.24,0.39,0.54,0.29,0.3,0.46,0.51,0.51,0.43,0.58,0.54,0.56,0.43,0.57,0.65,0.51,0.54,0.59,0.64,0.79,0.9,0.81,0.73,0.86,0.89,0.73,0.77],\"yaxis\":\"y\",\"type\":\"scatter\"}],                        {\"template\":{\"data\":{\"histogram2dcontour\":[{\"type\":\"histogram2dcontour\",\"colorbar\":{\"outlinewidth\":0,\"ticks\":\"\"},\"colorscale\":[[0.0,\"#0d0887\"],[0.1111111111111111,\"#46039f\"],[0.2222222222222222,\"#7201a8\"],[0.3333333333333333,\"#9c179e\"],[0.4444444444444444,\"#bd3786\"],[0.5555555555555556,\"#d8576b\"],[0.6666666666666666,\"#ed7953\"],[0.7777777777777778,\"#fb9f3a\"],[0.8888888888888888,\"#fdca26\"],[1.0,\"#f0f921\"]]}],\"choropleth\":[{\"type\":\"choropleth\",\"colorbar\":{\"outlinewidth\":0,\"ticks\":\"\"}}],\"histogram2d\":[{\"type\":\"histogram2d\",\"colorbar\":{\"outlinewidth\":0,\"ticks\":\"\"},\"colorscale\":[[0.0,\"#0d0887\"],[0.1111111111111111,\"#46039f\"],[0.2222222222222222,\"#7201a8\"],[0.3333333333333333,\"#9c179e\"],[0.4444444444444444,\"#bd3786\"],[0.5555555555555556,\"#d8576b\"],[0.6666666666666666,\"#ed7953\"],[0.7777777777777778,\"#fb9f3a\"],[0.8888888888888888,\"#fdca26\"],[1.0,\"#f0f921\"]]}],\"heatmap\":[{\"type\":\"heatmap\",\"colorbar\":{\"outlinewidth\":0,\"ticks\":\"\"},\"colorscale\":[[0.0,\"#0d0887\"],[0.1111111111111111,\"#46039f\"],[0.2222222222222222,\"#7201a8\"],[0.3333333333333333,\"#9c179e\"],[0.4444444444444444,\"#bd3786\"],[0.5555555555555556,\"#d8576b\"],[0.6666666666666666,\"#ed7953\"],[0.7777777777777778,\"#fb9f3a\"],[0.8888888888888888,\"#fdca26\"],[1.0,\"#f0f921\"]]}],\"heatmapgl\":[{\"type\":\"heatmapgl\",\"colorbar\":{\"outlinewidth\":0,\"ticks\":\"\"},\"colorscale\":[[0.0,\"#0d0887\"],[0.1111111111111111,\"#46039f\"],[0.2222222222222222,\"#7201a8\"],[0.3333333333333333,\"#9c179e\"],[0.4444444444444444,\"#bd3786\"],[0.5555555555555556,\"#d8576b\"],[0.6666666666666666,\"#ed7953\"],[0.7777777777777778,\"#fb9f3a\"],[0.8888888888888888,\"#fdca26\"],[1.0,\"#f0f921\"]]}],\"contourcarpet\":[{\"type\":\"contourcarpet\",\"colorbar\":{\"outlinewidth\":0,\"ticks\":\"\"}}],\"contour\":[{\"type\":\"contour\",\"colorbar\":{\"outlinewidth\":0,\"ticks\":\"\"},\"colorscale\":[[0.0,\"#0d0887\"],[0.1111111111111111,\"#46039f\"],[0.2222222222222222,\"#7201a8\"],[0.3333333333333333,\"#9c179e\"],[0.4444444444444444,\"#bd3786\"],[0.5555555555555556,\"#d8576b\"],[0.6666666666666666,\"#ed7953\"],[0.7777777777777778,\"#fb9f3a\"],[0.8888888888888888,\"#fdca26\"],[1.0,\"#f0f921\"]]}],\"surface\":[{\"type\":\"surface\",\"colorbar\":{\"outlinewidth\":0,\"ticks\":\"\"},\"colorscale\":[[0.0,\"#0d0887\"],[0.1111111111111111,\"#46039f\"],[0.2222222222222222,\"#7201a8\"],[0.3333333333333333,\"#9c179e\"],[0.4444444444444444,\"#bd3786\"],[0.5555555555555556,\"#d8576b\"],[0.6666666666666666,\"#ed7953\"],[0.7777777777777778,\"#fb9f3a\"],[0.8888888888888888,\"#fdca26\"],[1.0,\"#f0f921\"]]}],\"mesh3d\":[{\"type\":\"mesh3d\",\"colorbar\":{\"outlinewidth\":0,\"ticks\":\"\"}}],\"scatter\":[{\"fillpattern\":{\"fillmode\":\"overlay\",\"size\":10,\"solidity\":0.2},\"type\":\"scatter\"}],\"parcoords\":[{\"type\":\"parcoords\",\"line\":{\"colorbar\":{\"outlinewidth\":0,\"ticks\":\"\"}}}],\"scatterpolargl\":[{\"type\":\"scatterpolargl\",\"marker\":{\"colorbar\":{\"outlinewidth\":0,\"ticks\":\"\"}}}],\"bar\":[{\"error_x\":{\"color\":\"#2a3f5f\"},\"error_y\":{\"color\":\"#2a3f5f\"},\"marker\":{\"line\":{\"color\":\"#E5ECF6\",\"width\":0.5},\"pattern\":{\"fillmode\":\"overlay\",\"size\":10,\"solidity\":0.2}},\"type\":\"bar\"}],\"scattergeo\":[{\"type\":\"scattergeo\",\"marker\":{\"colorbar\":{\"outlinewidth\":0,\"ticks\":\"\"}}}],\"scatterpolar\":[{\"type\":\"scatterpolar\",\"marker\":{\"colorbar\":{\"outlinewidth\":0,\"ticks\":\"\"}}}],\"histogram\":[{\"marker\":{\"pattern\":{\"fillmode\":\"overlay\",\"size\":10,\"solidity\":0.2}},\"type\":\"histogram\"}],\"scattergl\":[{\"type\":\"scattergl\",\"marker\":{\"colorbar\":{\"outlinewidth\":0,\"ticks\":\"\"}}}],\"scatter3d\":[{\"type\":\"scatter3d\",\"line\":{\"colorbar\":{\"outlinewidth\":0,\"ticks\":\"\"}},\"marker\":{\"colorbar\":{\"outlinewidth\":0,\"ticks\":\"\"}}}],\"scattermapbox\":[{\"type\":\"scattermapbox\",\"marker\":{\"colorbar\":{\"outlinewidth\":0,\"ticks\":\"\"}}}],\"scatterternary\":[{\"type\":\"scatterternary\",\"marker\":{\"colorbar\":{\"outlinewidth\":0,\"ticks\":\"\"}}}],\"scattercarpet\":[{\"type\":\"scattercarpet\",\"marker\":{\"colorbar\":{\"outlinewidth\":0,\"ticks\":\"\"}}}],\"carpet\":[{\"aaxis\":{\"endlinecolor\":\"#2a3f5f\",\"gridcolor\":\"white\",\"linecolor\":\"white\",\"minorgridcolor\":\"white\",\"startlinecolor\":\"#2a3f5f\"},\"baxis\":{\"endlinecolor\":\"#2a3f5f\",\"gridcolor\":\"white\",\"linecolor\":\"white\",\"minorgridcolor\":\"white\",\"startlinecolor\":\"#2a3f5f\"},\"type\":\"carpet\"}],\"table\":[{\"cells\":{\"fill\":{\"color\":\"#EBF0F8\"},\"line\":{\"color\":\"white\"}},\"header\":{\"fill\":{\"color\":\"#C8D4E3\"},\"line\":{\"color\":\"white\"}},\"type\":\"table\"}],\"barpolar\":[{\"marker\":{\"line\":{\"color\":\"#E5ECF6\",\"width\":0.5},\"pattern\":{\"fillmode\":\"overlay\",\"size\":10,\"solidity\":0.2}},\"type\":\"barpolar\"}],\"pie\":[{\"automargin\":true,\"type\":\"pie\"}]},\"layout\":{\"autotypenumbers\":\"strict\",\"colorway\":[\"#636efa\",\"#EF553B\",\"#00cc96\",\"#ab63fa\",\"#FFA15A\",\"#19d3f3\",\"#FF6692\",\"#B6E880\",\"#FF97FF\",\"#FECB52\"],\"font\":{\"color\":\"#2a3f5f\"},\"hovermode\":\"closest\",\"hoverlabel\":{\"align\":\"left\"},\"paper_bgcolor\":\"white\",\"plot_bgcolor\":\"#E5ECF6\",\"polar\":{\"bgcolor\":\"#E5ECF6\",\"angularaxis\":{\"gridcolor\":\"white\",\"linecolor\":\"white\",\"ticks\":\"\"},\"radialaxis\":{\"gridcolor\":\"white\",\"linecolor\":\"white\",\"ticks\":\"\"}},\"ternary\":{\"bgcolor\":\"#E5ECF6\",\"aaxis\":{\"gridcolor\":\"white\",\"linecolor\":\"white\",\"ticks\":\"\"},\"baxis\":{\"gridcolor\":\"white\",\"linecolor\":\"white\",\"ticks\":\"\"},\"caxis\":{\"gridcolor\":\"white\",\"linecolor\":\"white\",\"ticks\":\"\"}},\"coloraxis\":{\"colorbar\":{\"outlinewidth\":0,\"ticks\":\"\"}},\"colorscale\":{\"sequential\":[[0.0,\"#0d0887\"],[0.1111111111111111,\"#46039f\"],[0.2222222222222222,\"#7201a8\"],[0.3333333333333333,\"#9c179e\"],[0.4444444444444444,\"#bd3786\"],[0.5555555555555556,\"#d8576b\"],[0.6666666666666666,\"#ed7953\"],[0.7777777777777778,\"#fb9f3a\"],[0.8888888888888888,\"#fdca26\"],[1.0,\"#f0f921\"]],\"sequentialminus\":[[0.0,\"#0d0887\"],[0.1111111111111111,\"#46039f\"],[0.2222222222222222,\"#7201a8\"],[0.3333333333333333,\"#9c179e\"],[0.4444444444444444,\"#bd3786\"],[0.5555555555555556,\"#d8576b\"],[0.6666666666666666,\"#ed7953\"],[0.7777777777777778,\"#fb9f3a\"],[0.8888888888888888,\"#fdca26\"],[1.0,\"#f0f921\"]],\"diverging\":[[0,\"#8e0152\"],[0.1,\"#c51b7d\"],[0.2,\"#de77ae\"],[0.3,\"#f1b6da\"],[0.4,\"#fde0ef\"],[0.5,\"#f7f7f7\"],[0.6,\"#e6f5d0\"],[0.7,\"#b8e186\"],[0.8,\"#7fbc41\"],[0.9,\"#4d9221\"],[1,\"#276419\"]]},\"xaxis\":{\"gridcolor\":\"white\",\"linecolor\":\"white\",\"ticks\":\"\",\"title\":{\"standoff\":15},\"zerolinecolor\":\"white\",\"automargin\":true,\"zerolinewidth\":2},\"yaxis\":{\"gridcolor\":\"white\",\"linecolor\":\"white\",\"ticks\":\"\",\"title\":{\"standoff\":15},\"zerolinecolor\":\"white\",\"automargin\":true,\"zerolinewidth\":2},\"scene\":{\"xaxis\":{\"backgroundcolor\":\"#E5ECF6\",\"gridcolor\":\"white\",\"linecolor\":\"white\",\"showbackground\":true,\"ticks\":\"\",\"zerolinecolor\":\"white\",\"gridwidth\":2},\"yaxis\":{\"backgroundcolor\":\"#E5ECF6\",\"gridcolor\":\"white\",\"linecolor\":\"white\",\"showbackground\":true,\"ticks\":\"\",\"zerolinecolor\":\"white\",\"gridwidth\":2},\"zaxis\":{\"backgroundcolor\":\"#E5ECF6\",\"gridcolor\":\"white\",\"linecolor\":\"white\",\"showbackground\":true,\"ticks\":\"\",\"zerolinecolor\":\"white\",\"gridwidth\":2}},\"shapedefaults\":{\"line\":{\"color\":\"#2a3f5f\"}},\"annotationdefaults\":{\"arrowcolor\":\"#2a3f5f\",\"arrowhead\":0,\"arrowwidth\":1},\"geo\":{\"bgcolor\":\"white\",\"landcolor\":\"#E5ECF6\",\"subunitcolor\":\"white\",\"showland\":true,\"showlakes\":true,\"lakecolor\":\"white\"},\"title\":{\"x\":0.05},\"mapbox\":{\"style\":\"light\"}}},\"xaxis\":{\"anchor\":\"y\",\"domain\":[0.0,1.0],\"title\":{\"text\":\"Year\",\"font\":{\"family\":\"Times New Roman\"}}},\"yaxis\":{\"anchor\":\"x\",\"domain\":[0.0,1.0],\"title\":{\"text\":\"Temperature (\\u00b0C)\",\"font\":{\"family\":\"Times New Roman\"}}},\"legend\":{\"title\":{},\"tracegroupgap\":0},\"title\":{\"text\":\"Global average difference in temperature relative to 1961-1990\"},\"font\":{\"family\":\"Times New Roman\"},\"plot_bgcolor\":\"rgb(242, 246, 252)\",\"hoverlabel\":{\"font\":{\"size\":14},\"bgcolor\":\"white\"},\"hovermode\":\"x unified\",\"shapes\":[{\"line\":{\"color\":\"black\",\"width\":2},\"type\":\"line\",\"x0\":0,\"x1\":1,\"xref\":\"paper\",\"y0\":0,\"y1\":0,\"yref\":\"y\"},{\"line\":{\"color\":\"grey\",\"dash\":\"dot\",\"width\":2},\"type\":\"line\",\"x0\":1975.5,\"x1\":1975.5,\"xref\":\"x\",\"y0\":0,\"y1\":1,\"yref\":\"paper\"}],\"annotations\":[{\"arrowhead\":1,\"ax\":80,\"ay\":0,\"font\":{\"size\":16},\"showarrow\":true,\"text\":\"Centre = 0\\u00b0C\",\"x\":1976,\"xref\":\"x\",\"y\":-0.5,\"yref\":\"y\"}]},                        {\"responsive\": true}                    ).then(function(){\n",
       "                            \n",
       "var gd = document.getElementById('45bc8721-1121-4213-9c07-1d478dee70e2');\n",
       "var x = new MutationObserver(function (mutations, observer) {{\n",
       "        var display = window.getComputedStyle(gd).display;\n",
       "        if (!display || display === 'none') {{\n",
       "            console.log([gd, 'removed!']);\n",
       "            Plotly.purge(gd);\n",
       "            observer.disconnect();\n",
       "        }}\n",
       "}});\n",
       "\n",
       "// Listen for the removal of the full notebook cells\n",
       "var notebookContainer = gd.closest('#notebook-container');\n",
       "if (notebookContainer) {{\n",
       "    x.observe(notebookContainer, {childList: true});\n",
       "}}\n",
       "\n",
       "// Listen for the clearing of the current output cell\n",
       "var outputEl = gd.closest('.output');\n",
       "if (outputEl) {{\n",
       "    x.observe(outputEl, {childList: true});\n",
       "}}\n",
       "\n",
       "                        })                };                });            </script>        </div>"
      ]
     },
     "metadata": {},
     "output_type": "display_data"
    }
   ],
   "source": [
    "horizontal_line = dict( # add a horizontal line at 0 degrees\n",
    "    type='line',\n",
    "    yref='y',\n",
    "    y0=0,\n",
    "    y1=0,\n",
    "    xref='paper',\n",
    "    x0=0,\n",
    "    x1=1,\n",
    "    line=dict(color='black', width=2),\n",
    ")\n",
    "vertical_line = dict( # add a vertical line at the centre of the reference period\n",
    "    type='line',\n",
    "    yref='paper',\n",
    "    y0=0,\n",
    "    y1=1,\n",
    "    xref='x',\n",
    "    x0=1975.5,\n",
    "    x1=1975.5,\n",
    "    line=dict(color='grey', width=2, dash='dot')\n",
    ")\n",
    "vertical_line_label = dict( # label for centre of years 1961-1990\n",
    "    xref='x',\n",
    "    x=1976,\n",
    "    yref='y',\n",
    "    y=-0.5,   \n",
    "    text=f'Centre = 0{chr(176)}C',\n",
    "    font=dict(size=16),\n",
    "    showarrow=True,\n",
    "    arrowhead=1,\n",
    "    ax=80,\n",
    "    ay=0,\n",
    ")\n",
    "\n",
    "# add to graph\n",
    "fig.update_layout(\n",
    "    shapes=[ \n",
    "        horizontal_line,\n",
    "        vertical_line,\n",
    "    ],\n",
    "    annotations=[\n",
    "        vertical_line_label,\n",
    "    ],\n",
    ")\n",
    "\n",
    "# re-set some graph features that are lost on update\n",
    "fig.update_layout(\n",
    "    legend_title=None, # remove unnecessary legend title\n",
    ")\n",
    "fig.update_xaxes(\n",
    "    title_font=dict(family='Times New Roman'),\n",
    ")\n",
    "fig.update_yaxes(\n",
    "    title_font=dict(family='Times New Roman'),\n",
    "    title_text=f'Temperature ({chr(176)}C)',\n",
    ")\n",
    "\n",
    "#display\n",
    "fig.show()"
   ]
  },
  {
   "cell_type": "markdown",
   "id": "5be47ba3",
   "metadata": {},
   "source": [
    "### What do we have now?\n",
    "\n",
    "At this point I am pleased about how this graph is telling a key story about our current global situation. Nearly 1 degree over the last 50 years or so is a dramatic rise. \n",
    "\n",
    "I like the interactivity from the mouse hover event which allows the data to be read from without refering to the tabular data. You can select a sub-region by clicking and dragging also.\n",
    "\n",
    "### What next with the graph?\n",
    "\n",
    "Having done some further research I have maaxed out some of the features available to Plotly Express with regards to customization. For example, the ticks on the y-axis could do with having degress Celcius as their units, not just in the axis title, but to do this would mean moving beyond Express.\n",
    "\n",
    "It would be great to apply some branding and a more stylish title, something I may do if I deploy the graph online in the future.\n",
    "\n",
    "### What next with the data?\n",
    "\n",
    "Regarding the data, our next step might be a regression model to see where we might reach with global temperatures in 10 or 20 years' time if these trends continued unabated. It is clearly not a linear relationship so a polynomial regression would be needed. \n",
    "\n",
    "However there are many predictive models available which take into account potential changes in countries' economic and energy policies, furthermore changes in population and economic/social development and the energy use arising from this, for better or worse, and these predictions would be of much greater value compared to what I could produce from this limited data.\n",
    "\n",
    "Here at the United Nations would be a good start: [https://news.un.org/en/story/2023/05/1136732#:~:text=There%20is%20a%2066%20per,for%20at%20least%20one%20year.]\n"
   ]
  },
  {
   "cell_type": "code",
   "execution_count": null,
   "id": "a2bb5f71",
   "metadata": {},
   "outputs": [],
   "source": []
  }
 ],
 "metadata": {
  "kernelspec": {
   "display_name": "Python 3 (ipykernel)",
   "language": "python",
   "name": "python3"
  },
  "language_info": {
   "codemirror_mode": {
    "name": "ipython",
    "version": 3
   },
   "file_extension": ".py",
   "mimetype": "text/x-python",
   "name": "python",
   "nbconvert_exporter": "python",
   "pygments_lexer": "ipython3",
   "version": "3.11.3"
  }
 },
 "nbformat": 4,
 "nbformat_minor": 5
}
