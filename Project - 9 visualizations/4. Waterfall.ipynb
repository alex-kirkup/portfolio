{
 "cells": [
  {
   "cell_type": "markdown",
   "id": "ed5b437a",
   "metadata": {},
   "source": [
    "# A month in the life of my bank account as a waterfall chart"
   ]
  },
  {
   "cell_type": "code",
   "execution_count": 1,
   "id": "fa14e270",
   "metadata": {},
   "outputs": [],
   "source": [
    "from datetime import date as date\n",
    "import numpy as np\n",
    "import pandas as pd\n",
    "from pprint import pprint as pp"
   ]
  },
  {
   "cell_type": "code",
   "execution_count": 26,
   "id": "d2cb1c31",
   "metadata": {},
   "outputs": [
    {
     "data": {
      "text/html": [
       "<div>\n",
       "<style scoped>\n",
       "    .dataframe tbody tr th:only-of-type {\n",
       "        vertical-align: middle;\n",
       "    }\n",
       "\n",
       "    .dataframe tbody tr th {\n",
       "        vertical-align: top;\n",
       "    }\n",
       "\n",
       "    .dataframe thead th {\n",
       "        text-align: right;\n",
       "    }\n",
       "</style>\n",
       "<table border=\"1\" class=\"dataframe\">\n",
       "  <thead>\n",
       "    <tr style=\"text-align: right;\">\n",
       "      <th></th>\n",
       "      <th>Date</th>\n",
       "      <th>Transaction</th>\n",
       "      <th>Credit</th>\n",
       "      <th>Debit</th>\n",
       "      <th>Balance</th>\n",
       "      <th>Date_str</th>\n",
       "    </tr>\n",
       "  </thead>\n",
       "  <tbody>\n",
       "    <tr>\n",
       "      <th>0</th>\n",
       "      <td>2023-06-01</td>\n",
       "      <td>Savings Account Deposit</td>\n",
       "      <td>NaN</td>\n",
       "      <td>250.00</td>\n",
       "      <td>3355.03</td>\n",
       "      <td>2023-06-01</td>\n",
       "    </tr>\n",
       "    <tr>\n",
       "      <th>1</th>\n",
       "      <td>2023-06-01</td>\n",
       "      <td>Kids Club</td>\n",
       "      <td>NaN</td>\n",
       "      <td>12.00</td>\n",
       "      <td>3343.03</td>\n",
       "      <td>2023-06-01</td>\n",
       "    </tr>\n",
       "    <tr>\n",
       "      <th>2</th>\n",
       "      <td>2023-06-01</td>\n",
       "      <td>Union Fees</td>\n",
       "      <td>NaN</td>\n",
       "      <td>17.74</td>\n",
       "      <td>3325.29</td>\n",
       "      <td>2023-06-01</td>\n",
       "    </tr>\n",
       "    <tr>\n",
       "      <th>3</th>\n",
       "      <td>2023-06-01</td>\n",
       "      <td>Supermarket</td>\n",
       "      <td>NaN</td>\n",
       "      <td>24.05</td>\n",
       "      <td>3301.24</td>\n",
       "      <td>2023-06-01</td>\n",
       "    </tr>\n",
       "    <tr>\n",
       "      <th>4</th>\n",
       "      <td>2023-06-02</td>\n",
       "      <td>Loan Repayment for Building Works</td>\n",
       "      <td>NaN</td>\n",
       "      <td>100.00</td>\n",
       "      <td>3201.24</td>\n",
       "      <td>2023-06-02</td>\n",
       "    </tr>\n",
       "    <tr>\n",
       "      <th>5</th>\n",
       "      <td>2026-06-02</td>\n",
       "      <td>Tithe</td>\n",
       "      <td>NaN</td>\n",
       "      <td>108.00</td>\n",
       "      <td>3093.24</td>\n",
       "      <td>2026-06-02</td>\n",
       "    </tr>\n",
       "    <tr>\n",
       "      <th>6</th>\n",
       "      <td>2023-06-02</td>\n",
       "      <td>Bills</td>\n",
       "      <td>NaN</td>\n",
       "      <td>1232.00</td>\n",
       "      <td>1861.24</td>\n",
       "      <td>2023-06-02</td>\n",
       "    </tr>\n",
       "    <tr>\n",
       "      <th>7</th>\n",
       "      <td>2023-06-02</td>\n",
       "      <td>Parking</td>\n",
       "      <td>NaN</td>\n",
       "      <td>19.44</td>\n",
       "      <td>1841.80</td>\n",
       "      <td>2023-06-02</td>\n",
       "    </tr>\n",
       "    <tr>\n",
       "      <th>8</th>\n",
       "      <td>2023-06-02</td>\n",
       "      <td>Retail Store</td>\n",
       "      <td>NaN</td>\n",
       "      <td>14.52</td>\n",
       "      <td>1827.28</td>\n",
       "      <td>2023-06-02</td>\n",
       "    </tr>\n",
       "    <tr>\n",
       "      <th>9</th>\n",
       "      <td>2023-06-02</td>\n",
       "      <td>Crazy Golf</td>\n",
       "      <td>NaN</td>\n",
       "      <td>23.40</td>\n",
       "      <td>1803.88</td>\n",
       "      <td>2023-06-02</td>\n",
       "    </tr>\n",
       "    <tr>\n",
       "      <th>10</th>\n",
       "      <td>2023-06-02</td>\n",
       "      <td>Coffee</td>\n",
       "      <td>NaN</td>\n",
       "      <td>10.25</td>\n",
       "      <td>1793.63</td>\n",
       "      <td>2023-06-02</td>\n",
       "    </tr>\n",
       "    <tr>\n",
       "      <th>11</th>\n",
       "      <td>2023-06-03</td>\n",
       "      <td>Credit Card Bill</td>\n",
       "      <td>NaN</td>\n",
       "      <td>544.54</td>\n",
       "      <td>1249.09</td>\n",
       "      <td>2023-06-03</td>\n",
       "    </tr>\n",
       "    <tr>\n",
       "      <th>12</th>\n",
       "      <td>2023-06-03</td>\n",
       "      <td>Payment for work</td>\n",
       "      <td>100.00</td>\n",
       "      <td>NaN</td>\n",
       "      <td>1349.09</td>\n",
       "      <td>2023-06-03</td>\n",
       "    </tr>\n",
       "    <tr>\n",
       "      <th>13</th>\n",
       "      <td>2023-06-05</td>\n",
       "      <td>Supermarket</td>\n",
       "      <td>NaN</td>\n",
       "      <td>87.03</td>\n",
       "      <td>1262.06</td>\n",
       "      <td>2023-06-05</td>\n",
       "    </tr>\n",
       "    <tr>\n",
       "      <th>14</th>\n",
       "      <td>2023-06-08</td>\n",
       "      <td>Bank refund</td>\n",
       "      <td>103.95</td>\n",
       "      <td>NaN</td>\n",
       "      <td>1366.01</td>\n",
       "      <td>2023-06-08</td>\n",
       "    </tr>\n",
       "    <tr>\n",
       "      <th>15</th>\n",
       "      <td>2023-06-08</td>\n",
       "      <td>Credit Card Additional Payment</td>\n",
       "      <td>NaN</td>\n",
       "      <td>189.36</td>\n",
       "      <td>1176.65</td>\n",
       "      <td>2023-06-08</td>\n",
       "    </tr>\n",
       "    <tr>\n",
       "      <th>16</th>\n",
       "      <td>2023-06-08</td>\n",
       "      <td>Donation</td>\n",
       "      <td>NaN</td>\n",
       "      <td>110.00</td>\n",
       "      <td>1066.65</td>\n",
       "      <td>2023-06-08</td>\n",
       "    </tr>\n",
       "    <tr>\n",
       "      <th>17</th>\n",
       "      <td>2023-06-12</td>\n",
       "      <td>Dinner</td>\n",
       "      <td>NaN</td>\n",
       "      <td>37.50</td>\n",
       "      <td>1029.15</td>\n",
       "      <td>2023-06-12</td>\n",
       "    </tr>\n",
       "    <tr>\n",
       "      <th>18</th>\n",
       "      <td>2023-06-12</td>\n",
       "      <td>Supermarket</td>\n",
       "      <td>NaN</td>\n",
       "      <td>34.42</td>\n",
       "      <td>994.73</td>\n",
       "      <td>2023-06-12</td>\n",
       "    </tr>\n",
       "    <tr>\n",
       "      <th>19</th>\n",
       "      <td>2023-06-14</td>\n",
       "      <td>Kids Event</td>\n",
       "      <td>NaN</td>\n",
       "      <td>104.60</td>\n",
       "      <td>890.13</td>\n",
       "      <td>2023-06-14</td>\n",
       "    </tr>\n",
       "    <tr>\n",
       "      <th>20</th>\n",
       "      <td>2023-06-15</td>\n",
       "      <td>Retail Store</td>\n",
       "      <td>NaN</td>\n",
       "      <td>10.23</td>\n",
       "      <td>879.90</td>\n",
       "      <td>2023-06-15</td>\n",
       "    </tr>\n",
       "    <tr>\n",
       "      <th>21</th>\n",
       "      <td>2023-06-19</td>\n",
       "      <td>Retail Store</td>\n",
       "      <td>NaN</td>\n",
       "      <td>7.07</td>\n",
       "      <td>872.83</td>\n",
       "      <td>2023-06-19</td>\n",
       "    </tr>\n",
       "    <tr>\n",
       "      <th>22</th>\n",
       "      <td>2023-06-21</td>\n",
       "      <td>Mobile Phone Contract</td>\n",
       "      <td>NaN</td>\n",
       "      <td>19.73</td>\n",
       "      <td>853.10</td>\n",
       "      <td>2023-06-21</td>\n",
       "    </tr>\n",
       "    <tr>\n",
       "      <th>23</th>\n",
       "      <td>2023-06-22</td>\n",
       "      <td>Cash withdrawal</td>\n",
       "      <td>NaN</td>\n",
       "      <td>20.00</td>\n",
       "      <td>833.10</td>\n",
       "      <td>2023-06-22</td>\n",
       "    </tr>\n",
       "    <tr>\n",
       "      <th>24</th>\n",
       "      <td>2023-06-24</td>\n",
       "      <td>Supermarket</td>\n",
       "      <td>NaN</td>\n",
       "      <td>20.06</td>\n",
       "      <td>813.04</td>\n",
       "      <td>2023-06-24</td>\n",
       "    </tr>\n",
       "    <tr>\n",
       "      <th>25</th>\n",
       "      <td>2023-06-30</td>\n",
       "      <td>Salary</td>\n",
       "      <td>2394.55</td>\n",
       "      <td>NaN</td>\n",
       "      <td>3207.59</td>\n",
       "      <td>2023-06-30</td>\n",
       "    </tr>\n",
       "    <tr>\n",
       "      <th>26</th>\n",
       "      <td>2023-06-30</td>\n",
       "      <td>Supermarket</td>\n",
       "      <td>NaN</td>\n",
       "      <td>28.05</td>\n",
       "      <td>3179.54</td>\n",
       "      <td>2023-06-30</td>\n",
       "    </tr>\n",
       "  </tbody>\n",
       "</table>\n",
       "</div>"
      ],
      "text/plain": [
       "         Date                        Transaction   Credit    Debit  Balance  \\\n",
       "0  2023-06-01            Savings Account Deposit      NaN   250.00  3355.03   \n",
       "1  2023-06-01                          Kids Club      NaN    12.00  3343.03   \n",
       "2  2023-06-01                         Union Fees      NaN    17.74  3325.29   \n",
       "3  2023-06-01                        Supermarket      NaN    24.05  3301.24   \n",
       "4  2023-06-02  Loan Repayment for Building Works      NaN   100.00  3201.24   \n",
       "5  2026-06-02                              Tithe      NaN   108.00  3093.24   \n",
       "6  2023-06-02                              Bills      NaN  1232.00  1861.24   \n",
       "7  2023-06-02                            Parking      NaN    19.44  1841.80   \n",
       "8  2023-06-02                       Retail Store      NaN    14.52  1827.28   \n",
       "9  2023-06-02                         Crazy Golf      NaN    23.40  1803.88   \n",
       "10 2023-06-02                             Coffee      NaN    10.25  1793.63   \n",
       "11 2023-06-03                   Credit Card Bill      NaN   544.54  1249.09   \n",
       "12 2023-06-03                   Payment for work   100.00      NaN  1349.09   \n",
       "13 2023-06-05                        Supermarket      NaN    87.03  1262.06   \n",
       "14 2023-06-08                        Bank refund   103.95      NaN  1366.01   \n",
       "15 2023-06-08     Credit Card Additional Payment      NaN   189.36  1176.65   \n",
       "16 2023-06-08                           Donation      NaN   110.00  1066.65   \n",
       "17 2023-06-12                             Dinner      NaN    37.50  1029.15   \n",
       "18 2023-06-12                        Supermarket      NaN    34.42   994.73   \n",
       "19 2023-06-14                         Kids Event      NaN   104.60   890.13   \n",
       "20 2023-06-15                       Retail Store      NaN    10.23   879.90   \n",
       "21 2023-06-19                       Retail Store      NaN     7.07   872.83   \n",
       "22 2023-06-21              Mobile Phone Contract      NaN    19.73   853.10   \n",
       "23 2023-06-22                    Cash withdrawal      NaN    20.00   833.10   \n",
       "24 2023-06-24                        Supermarket      NaN    20.06   813.04   \n",
       "25 2023-06-30                             Salary  2394.55      NaN  3207.59   \n",
       "26 2023-06-30                        Supermarket      NaN    28.05  3179.54   \n",
       "\n",
       "      Date_str  \n",
       "0   2023-06-01  \n",
       "1   2023-06-01  \n",
       "2   2023-06-01  \n",
       "3   2023-06-01  \n",
       "4   2023-06-02  \n",
       "5   2026-06-02  \n",
       "6   2023-06-02  \n",
       "7   2023-06-02  \n",
       "8   2023-06-02  \n",
       "9   2023-06-02  \n",
       "10  2023-06-02  \n",
       "11  2023-06-03  \n",
       "12  2023-06-03  \n",
       "13  2023-06-05  \n",
       "14  2023-06-08  \n",
       "15  2023-06-08  \n",
       "16  2023-06-08  \n",
       "17  2023-06-12  \n",
       "18  2023-06-12  \n",
       "19  2023-06-14  \n",
       "20  2023-06-15  \n",
       "21  2023-06-19  \n",
       "22  2023-06-21  \n",
       "23  2023-06-22  \n",
       "24  2023-06-24  \n",
       "25  2023-06-30  \n",
       "26  2023-06-30  "
      ]
     },
     "execution_count": 26,
     "metadata": {},
     "output_type": "execute_result"
    }
   ],
   "source": [
    "df = pd.read_csv(\n",
    "    'data/bank_statement_censored.csv',\n",
    "    parse_dates=['Date'],\n",
    "    dayfirst=True,\n",
    ")\n",
    "df['Date_str'] = df['Date'].astype(str)\n",
    "df.head(50)"
   ]
  },
  {
   "cell_type": "code",
   "execution_count": 27,
   "id": "acc6f38a",
   "metadata": {},
   "outputs": [
    {
     "name": "stdout",
     "output_type": "stream",
     "text": [
      "<class 'pandas.core.frame.DataFrame'>\n",
      "RangeIndex: 27 entries, 0 to 26\n",
      "Data columns (total 6 columns):\n",
      " #   Column       Non-Null Count  Dtype         \n",
      "---  ------       --------------  -----         \n",
      " 0   Date         27 non-null     datetime64[ns]\n",
      " 1   Transaction  27 non-null     object        \n",
      " 2   Credit       3 non-null      float64       \n",
      " 3   Debit        24 non-null     float64       \n",
      " 4   Balance      27 non-null     float64       \n",
      " 5   Date_str     27 non-null     object        \n",
      "dtypes: datetime64[ns](1), float64(3), object(2)\n",
      "memory usage: 1.4+ KB\n"
     ]
    }
   ],
   "source": [
    "df.info()"
   ]
  },
  {
   "cell_type": "code",
   "execution_count": 28,
   "id": "82065027",
   "metadata": {},
   "outputs": [
    {
     "data": {
      "text/html": [
       "<div>\n",
       "<style scoped>\n",
       "    .dataframe tbody tr th:only-of-type {\n",
       "        vertical-align: middle;\n",
       "    }\n",
       "\n",
       "    .dataframe tbody tr th {\n",
       "        vertical-align: top;\n",
       "    }\n",
       "\n",
       "    .dataframe thead th {\n",
       "        text-align: right;\n",
       "    }\n",
       "</style>\n",
       "<table border=\"1\" class=\"dataframe\">\n",
       "  <thead>\n",
       "    <tr style=\"text-align: right;\">\n",
       "      <th></th>\n",
       "      <th>Date</th>\n",
       "      <th>Transaction</th>\n",
       "      <th>Credit</th>\n",
       "      <th>Debit</th>\n",
       "      <th>Balance</th>\n",
       "      <th>Date_str</th>\n",
       "    </tr>\n",
       "  </thead>\n",
       "  <tbody>\n",
       "    <tr>\n",
       "      <th>0</th>\n",
       "      <td>2023-06-01</td>\n",
       "      <td>Savings Account Deposit</td>\n",
       "      <td>0.0</td>\n",
       "      <td>250.00</td>\n",
       "      <td>3355.03</td>\n",
       "      <td>2023-06-01</td>\n",
       "    </tr>\n",
       "    <tr>\n",
       "      <th>1</th>\n",
       "      <td>2023-06-01</td>\n",
       "      <td>Kids Club</td>\n",
       "      <td>0.0</td>\n",
       "      <td>12.00</td>\n",
       "      <td>3343.03</td>\n",
       "      <td>2023-06-01</td>\n",
       "    </tr>\n",
       "    <tr>\n",
       "      <th>2</th>\n",
       "      <td>2023-06-01</td>\n",
       "      <td>Union Fees</td>\n",
       "      <td>0.0</td>\n",
       "      <td>17.74</td>\n",
       "      <td>3325.29</td>\n",
       "      <td>2023-06-01</td>\n",
       "    </tr>\n",
       "    <tr>\n",
       "      <th>3</th>\n",
       "      <td>2023-06-01</td>\n",
       "      <td>Supermarket</td>\n",
       "      <td>0.0</td>\n",
       "      <td>24.05</td>\n",
       "      <td>3301.24</td>\n",
       "      <td>2023-06-01</td>\n",
       "    </tr>\n",
       "    <tr>\n",
       "      <th>4</th>\n",
       "      <td>2023-06-02</td>\n",
       "      <td>Loan Repayment for Building Works</td>\n",
       "      <td>0.0</td>\n",
       "      <td>100.00</td>\n",
       "      <td>3201.24</td>\n",
       "      <td>2023-06-02</td>\n",
       "    </tr>\n",
       "  </tbody>\n",
       "</table>\n",
       "</div>"
      ],
      "text/plain": [
       "        Date                        Transaction  Credit   Debit  Balance  \\\n",
       "0 2023-06-01            Savings Account Deposit     0.0  250.00  3355.03   \n",
       "1 2023-06-01                          Kids Club     0.0   12.00  3343.03   \n",
       "2 2023-06-01                         Union Fees     0.0   17.74  3325.29   \n",
       "3 2023-06-01                        Supermarket     0.0   24.05  3301.24   \n",
       "4 2023-06-02  Loan Repayment for Building Works     0.0  100.00  3201.24   \n",
       "\n",
       "     Date_str  \n",
       "0  2023-06-01  \n",
       "1  2023-06-01  \n",
       "2  2023-06-01  \n",
       "3  2023-06-01  \n",
       "4  2023-06-02  "
      ]
     },
     "execution_count": 28,
     "metadata": {},
     "output_type": "execute_result"
    }
   ],
   "source": [
    "df[['Credit','Debit']] = df[['Credit','Debit']].fillna(0)\n",
    "df.head()"
   ]
  },
  {
   "cell_type": "code",
   "execution_count": 29,
   "id": "1db72742",
   "metadata": {},
   "outputs": [
    {
     "data": {
      "text/html": [
       "<div>\n",
       "<style scoped>\n",
       "    .dataframe tbody tr th:only-of-type {\n",
       "        vertical-align: middle;\n",
       "    }\n",
       "\n",
       "    .dataframe tbody tr th {\n",
       "        vertical-align: top;\n",
       "    }\n",
       "\n",
       "    .dataframe thead th {\n",
       "        text-align: right;\n",
       "    }\n",
       "</style>\n",
       "<table border=\"1\" class=\"dataframe\">\n",
       "  <thead>\n",
       "    <tr style=\"text-align: right;\">\n",
       "      <th></th>\n",
       "      <th>Date</th>\n",
       "      <th>Transaction</th>\n",
       "      <th>Credit</th>\n",
       "      <th>Debit</th>\n",
       "      <th>Balance</th>\n",
       "      <th>Date_str</th>\n",
       "      <th>Change</th>\n",
       "    </tr>\n",
       "  </thead>\n",
       "  <tbody>\n",
       "    <tr>\n",
       "      <th>0</th>\n",
       "      <td>2023-06-01</td>\n",
       "      <td>Savings Account Deposit</td>\n",
       "      <td>0.0</td>\n",
       "      <td>250.00</td>\n",
       "      <td>3355.03</td>\n",
       "      <td>2023-06-01</td>\n",
       "      <td>-250.00</td>\n",
       "    </tr>\n",
       "    <tr>\n",
       "      <th>1</th>\n",
       "      <td>2023-06-01</td>\n",
       "      <td>Kids Club</td>\n",
       "      <td>0.0</td>\n",
       "      <td>12.00</td>\n",
       "      <td>3343.03</td>\n",
       "      <td>2023-06-01</td>\n",
       "      <td>-12.00</td>\n",
       "    </tr>\n",
       "    <tr>\n",
       "      <th>2</th>\n",
       "      <td>2023-06-01</td>\n",
       "      <td>Union Fees</td>\n",
       "      <td>0.0</td>\n",
       "      <td>17.74</td>\n",
       "      <td>3325.29</td>\n",
       "      <td>2023-06-01</td>\n",
       "      <td>-17.74</td>\n",
       "    </tr>\n",
       "    <tr>\n",
       "      <th>3</th>\n",
       "      <td>2023-06-01</td>\n",
       "      <td>Supermarket</td>\n",
       "      <td>0.0</td>\n",
       "      <td>24.05</td>\n",
       "      <td>3301.24</td>\n",
       "      <td>2023-06-01</td>\n",
       "      <td>-24.05</td>\n",
       "    </tr>\n",
       "    <tr>\n",
       "      <th>4</th>\n",
       "      <td>2023-06-02</td>\n",
       "      <td>Loan Repayment for Building Works</td>\n",
       "      <td>0.0</td>\n",
       "      <td>100.00</td>\n",
       "      <td>3201.24</td>\n",
       "      <td>2023-06-02</td>\n",
       "      <td>-100.00</td>\n",
       "    </tr>\n",
       "  </tbody>\n",
       "</table>\n",
       "</div>"
      ],
      "text/plain": [
       "        Date                        Transaction  Credit   Debit  Balance  \\\n",
       "0 2023-06-01            Savings Account Deposit     0.0  250.00  3355.03   \n",
       "1 2023-06-01                          Kids Club     0.0   12.00  3343.03   \n",
       "2 2023-06-01                         Union Fees     0.0   17.74  3325.29   \n",
       "3 2023-06-01                        Supermarket     0.0   24.05  3301.24   \n",
       "4 2023-06-02  Loan Repayment for Building Works     0.0  100.00  3201.24   \n",
       "\n",
       "     Date_str  Change  \n",
       "0  2023-06-01 -250.00  \n",
       "1  2023-06-01  -12.00  \n",
       "2  2023-06-01  -17.74  \n",
       "3  2023-06-01  -24.05  \n",
       "4  2023-06-02 -100.00  "
      ]
     },
     "execution_count": 29,
     "metadata": {},
     "output_type": "execute_result"
    }
   ],
   "source": [
    "df['Change'] = df['Credit']  - df['Debit']\n",
    "df.head()"
   ]
  },
  {
   "cell_type": "code",
   "execution_count": 34,
   "id": "cd5de35b",
   "metadata": {},
   "outputs": [
    {
     "data": {
      "text/html": [
       "<div>\n",
       "<style scoped>\n",
       "    .dataframe tbody tr th:only-of-type {\n",
       "        vertical-align: middle;\n",
       "    }\n",
       "\n",
       "    .dataframe tbody tr th {\n",
       "        vertical-align: top;\n",
       "    }\n",
       "\n",
       "    .dataframe thead th {\n",
       "        text-align: right;\n",
       "    }\n",
       "</style>\n",
       "<table border=\"1\" class=\"dataframe\">\n",
       "  <thead>\n",
       "    <tr style=\"text-align: right;\">\n",
       "      <th></th>\n",
       "      <th>Date</th>\n",
       "      <th>Transaction</th>\n",
       "      <th>Credit</th>\n",
       "      <th>Debit</th>\n",
       "      <th>Balance</th>\n",
       "      <th>Date_str</th>\n",
       "      <th>Change</th>\n",
       "      <th>Change_curr</th>\n",
       "      <th>Transaction_addn</th>\n",
       "    </tr>\n",
       "  </thead>\n",
       "  <tbody>\n",
       "    <tr>\n",
       "      <th>0</th>\n",
       "      <td>2023-06-01</td>\n",
       "      <td>Savings Account Deposit</td>\n",
       "      <td>0.0</td>\n",
       "      <td>250.00</td>\n",
       "      <td>3355.03</td>\n",
       "      <td>2023-06-01</td>\n",
       "      <td>-250.00</td>\n",
       "      <td>-£250.00</td>\n",
       "      <td>Savings Account Deposit -£250.00</td>\n",
       "    </tr>\n",
       "    <tr>\n",
       "      <th>1</th>\n",
       "      <td>2023-06-01</td>\n",
       "      <td>Kids Club</td>\n",
       "      <td>0.0</td>\n",
       "      <td>12.00</td>\n",
       "      <td>3343.03</td>\n",
       "      <td>2023-06-01</td>\n",
       "      <td>-12.00</td>\n",
       "      <td>-£12.00</td>\n",
       "      <td>Kids Club -£12.00</td>\n",
       "    </tr>\n",
       "    <tr>\n",
       "      <th>2</th>\n",
       "      <td>2023-06-01</td>\n",
       "      <td>Union Fees</td>\n",
       "      <td>0.0</td>\n",
       "      <td>17.74</td>\n",
       "      <td>3325.29</td>\n",
       "      <td>2023-06-01</td>\n",
       "      <td>-17.74</td>\n",
       "      <td>-£17.74</td>\n",
       "      <td>Union Fees -£17.74</td>\n",
       "    </tr>\n",
       "    <tr>\n",
       "      <th>3</th>\n",
       "      <td>2023-06-01</td>\n",
       "      <td>Supermarket</td>\n",
       "      <td>0.0</td>\n",
       "      <td>24.05</td>\n",
       "      <td>3301.24</td>\n",
       "      <td>2023-06-01</td>\n",
       "      <td>-24.05</td>\n",
       "      <td>-£24.05</td>\n",
       "      <td>Supermarket -£24.05</td>\n",
       "    </tr>\n",
       "    <tr>\n",
       "      <th>4</th>\n",
       "      <td>2023-06-02</td>\n",
       "      <td>Loan Repayment for Building Works</td>\n",
       "      <td>0.0</td>\n",
       "      <td>100.00</td>\n",
       "      <td>3201.24</td>\n",
       "      <td>2023-06-02</td>\n",
       "      <td>-100.00</td>\n",
       "      <td>-£100.00</td>\n",
       "      <td>Loan Repayment for Building Works -£100.00</td>\n",
       "    </tr>\n",
       "  </tbody>\n",
       "</table>\n",
       "</div>"
      ],
      "text/plain": [
       "        Date                        Transaction  Credit   Debit  Balance  \\\n",
       "0 2023-06-01            Savings Account Deposit     0.0  250.00  3355.03   \n",
       "1 2023-06-01                          Kids Club     0.0   12.00  3343.03   \n",
       "2 2023-06-01                         Union Fees     0.0   17.74  3325.29   \n",
       "3 2023-06-01                        Supermarket     0.0   24.05  3301.24   \n",
       "4 2023-06-02  Loan Repayment for Building Works     0.0  100.00  3201.24   \n",
       "\n",
       "     Date_str  Change Change_curr                            Transaction_addn  \n",
       "0  2023-06-01 -250.00    -£250.00            Savings Account Deposit -£250.00  \n",
       "1  2023-06-01  -12.00     -£12.00                           Kids Club -£12.00  \n",
       "2  2023-06-01  -17.74     -£17.74                          Union Fees -£17.74  \n",
       "3  2023-06-01  -24.05     -£24.05                         Supermarket -£24.05  \n",
       "4  2023-06-02 -100.00    -£100.00  Loan Repayment for Building Works -£100.00  "
      ]
     },
     "execution_count": 34,
     "metadata": {},
     "output_type": "execute_result"
    }
   ],
   "source": [
    "df['Change_curr'] = df['Change'].apply(lambda x: f\"+£{x:,.2f}\" if x>=0 else f\"-£{-x:,.2f}\")\n",
    "df.head()"
   ]
  },
  {
   "cell_type": "code",
   "execution_count": 35,
   "id": "352bf8d8",
   "metadata": {},
   "outputs": [
    {
     "data": {
      "text/html": [
       "<div>\n",
       "<style scoped>\n",
       "    .dataframe tbody tr th:only-of-type {\n",
       "        vertical-align: middle;\n",
       "    }\n",
       "\n",
       "    .dataframe tbody tr th {\n",
       "        vertical-align: top;\n",
       "    }\n",
       "\n",
       "    .dataframe thead th {\n",
       "        text-align: right;\n",
       "    }\n",
       "</style>\n",
       "<table border=\"1\" class=\"dataframe\">\n",
       "  <thead>\n",
       "    <tr style=\"text-align: right;\">\n",
       "      <th></th>\n",
       "      <th>Date</th>\n",
       "      <th>Transaction</th>\n",
       "      <th>Credit</th>\n",
       "      <th>Debit</th>\n",
       "      <th>Balance</th>\n",
       "      <th>Date_str</th>\n",
       "      <th>Change</th>\n",
       "      <th>Change_curr</th>\n",
       "      <th>Transaction_addn</th>\n",
       "    </tr>\n",
       "  </thead>\n",
       "  <tbody>\n",
       "    <tr>\n",
       "      <th>0</th>\n",
       "      <td>2023-06-01</td>\n",
       "      <td>Savings Account Deposit</td>\n",
       "      <td>0.0</td>\n",
       "      <td>250.00</td>\n",
       "      <td>3355.03</td>\n",
       "      <td>2023-06-01</td>\n",
       "      <td>-250.00</td>\n",
       "      <td>-£250.00</td>\n",
       "      <td>Savings Account Deposit -£250.00</td>\n",
       "    </tr>\n",
       "    <tr>\n",
       "      <th>1</th>\n",
       "      <td>2023-06-01</td>\n",
       "      <td>Kids Club</td>\n",
       "      <td>0.0</td>\n",
       "      <td>12.00</td>\n",
       "      <td>3343.03</td>\n",
       "      <td>2023-06-01</td>\n",
       "      <td>-12.00</td>\n",
       "      <td>-£12.00</td>\n",
       "      <td>Kids Club -£12.00</td>\n",
       "    </tr>\n",
       "    <tr>\n",
       "      <th>2</th>\n",
       "      <td>2023-06-01</td>\n",
       "      <td>Union Fees</td>\n",
       "      <td>0.0</td>\n",
       "      <td>17.74</td>\n",
       "      <td>3325.29</td>\n",
       "      <td>2023-06-01</td>\n",
       "      <td>-17.74</td>\n",
       "      <td>-£17.74</td>\n",
       "      <td>Union Fees -£17.74</td>\n",
       "    </tr>\n",
       "    <tr>\n",
       "      <th>3</th>\n",
       "      <td>2023-06-01</td>\n",
       "      <td>Supermarket</td>\n",
       "      <td>0.0</td>\n",
       "      <td>24.05</td>\n",
       "      <td>3301.24</td>\n",
       "      <td>2023-06-01</td>\n",
       "      <td>-24.05</td>\n",
       "      <td>-£24.05</td>\n",
       "      <td>Supermarket -£24.05</td>\n",
       "    </tr>\n",
       "    <tr>\n",
       "      <th>4</th>\n",
       "      <td>2023-06-02</td>\n",
       "      <td>Loan Repayment for Building Works</td>\n",
       "      <td>0.0</td>\n",
       "      <td>100.00</td>\n",
       "      <td>3201.24</td>\n",
       "      <td>2023-06-02</td>\n",
       "      <td>-100.00</td>\n",
       "      <td>-£100.00</td>\n",
       "      <td>Loan Repayment for Building Works -£100.00</td>\n",
       "    </tr>\n",
       "  </tbody>\n",
       "</table>\n",
       "</div>"
      ],
      "text/plain": [
       "        Date                        Transaction  Credit   Debit  Balance  \\\n",
       "0 2023-06-01            Savings Account Deposit     0.0  250.00  3355.03   \n",
       "1 2023-06-01                          Kids Club     0.0   12.00  3343.03   \n",
       "2 2023-06-01                         Union Fees     0.0   17.74  3325.29   \n",
       "3 2023-06-01                        Supermarket     0.0   24.05  3301.24   \n",
       "4 2023-06-02  Loan Repayment for Building Works     0.0  100.00  3201.24   \n",
       "\n",
       "     Date_str  Change Change_curr                            Transaction_addn  \n",
       "0  2023-06-01 -250.00    -£250.00            Savings Account Deposit -£250.00  \n",
       "1  2023-06-01  -12.00     -£12.00                           Kids Club -£12.00  \n",
       "2  2023-06-01  -17.74     -£17.74                          Union Fees -£17.74  \n",
       "3  2023-06-01  -24.05     -£24.05                         Supermarket -£24.05  \n",
       "4  2023-06-02 -100.00    -£100.00  Loan Repayment for Building Works -£100.00  "
      ]
     },
     "execution_count": 35,
     "metadata": {},
     "output_type": "execute_result"
    }
   ],
   "source": [
    "df['Transaction_addn'] = df['Transaction'] + ' ' + df['Change_curr'].astype(str)\n",
    "df.head()"
   ]
  },
  {
   "cell_type": "code",
   "execution_count": 44,
   "id": "2bae87fe",
   "metadata": {},
   "outputs": [
    {
     "name": "stdout",
     "output_type": "stream",
     "text": [
      "(('(0) 2023-06-01', 3355.03, 'Balance 3355.03', 'relative'),\n",
      " ('(1) 2023-06-01', -250.0, 'Savings Account Deposit -£250.00', 'relative'),\n",
      " ('(2) 2023-06-01', -12.0, 'Kids Club -£12.00', 'relative'),\n",
      " ('(3) 2023-06-01', -17.74, 'Union Fees -£17.74', 'relative'),\n",
      " ('(4) 2023-06-01', -24.05, 'Supermarket -£24.05', 'relative'),\n",
      " ('(5) 2023-06-02',\n",
      "  -100.0,\n",
      "  'Loan Repayment for Building Works -£100.00',\n",
      "  'relative'),\n",
      " ('(6) 2026-06-02', -108.0, 'Tithe -£108.00', 'relative'),\n",
      " ('(7) 2023-06-02', -1232.0, 'Bills -£1,232.00', 'relative'),\n",
      " ('(8) 2023-06-02', -19.44, 'Parking -£19.44', 'relative'),\n",
      " ('(9) 2023-06-02', -14.52, 'Retail Store -£14.52', 'relative'),\n",
      " ('(10) 2023-06-02', -23.4, 'Crazy Golf -£23.40', 'relative'),\n",
      " ('(11) 2023-06-02', -10.25, 'Coffee -£10.25', 'relative'),\n",
      " ('(12) 2023-06-03', -544.54, 'Credit Card Bill -£544.54', 'relative'),\n",
      " ('(13) 2023-06-03', 100.0, 'Payment for work +£100.00', 'relative'),\n",
      " ('(14) 2023-06-05', -87.03, 'Supermarket -£87.03', 'relative'),\n",
      " ('(15) 2023-06-08', 103.95, 'Bank refund +£103.95', 'relative'),\n",
      " ('(16) 2023-06-08',\n",
      "  -189.36,\n",
      "  'Credit Card Additional Payment -£189.36',\n",
      "  'relative'),\n",
      " ('(17) 2023-06-08', -110.0, 'Donation -£110.00', 'relative'),\n",
      " ('(18) 2023-06-12', -37.5, 'Dinner -£37.50', 'relative'),\n",
      " ('(19) 2023-06-12', -34.42, 'Supermarket -£34.42', 'relative'),\n",
      " ('(20) 2023-06-14', -104.6, 'Kids Event -£104.60', 'relative'),\n",
      " ('(21) 2023-06-15', -10.23, 'Retail Store -£10.23', 'relative'),\n",
      " ('(22) 2023-06-19', -7.07, 'Retail Store -£7.07', 'relative'),\n",
      " ('(23) 2023-06-21', -19.73, 'Mobile Phone Contract -£19.73', 'relative'),\n",
      " ('(24) 2023-06-22', -20.0, 'Cash withdrawal -£20.00', 'relative'),\n",
      " ('(25) 2023-06-24', -20.06, 'Supermarket -£20.06', 'relative'),\n",
      " ('(26) 2023-06-30', 2394.55, 'Salary +£2,394.55', 'relative'),\n",
      " ('(27) 2023-06-30', -28.05, 'Supermarket -£28.05', 'relative'))\n"
     ]
    }
   ],
   "source": [
    "y_dt = [pd.to_datetime(date(day=1,month=6,year=2023)).date()]\n",
    "y_dt.extend(df['Date'].dt.date.tolist())\n",
    "\n",
    "y = ['1685577600000000000']\n",
    "y.extend(df['Date'].values.tolist())\n",
    "\n",
    "y_str = [f\"(0) {df['Date_str'].values[0]}\"]\n",
    "for n in range(0,len(df.index)):\n",
    "    y_str.append(f\"({n+1}) {df['Date_str'].values[n]}\")\n",
    "\n",
    "x = [df['Balance'].values[0]]\n",
    "x.extend(df['Change'].values.tolist())\n",
    "\n",
    "text = [f\"Balance {df['Balance'].values[0]}\"]\n",
    "text.extend(df['Transaction_addn'].values.tolist())\n",
    "\n",
    "measure = ['relative']\n",
    "measure.extend(['relative' for x in range(0,len(df.index))])\n",
    "\n",
    "see_all = zip(list(reversed(y_str)),list(reversed(x)),list(reversed(text)),measure)\n",
    "see_all = zip(y_str,x,text,measure)\n",
    "pp(tuple(see_all))"
   ]
  },
  {
   "cell_type": "code",
   "execution_count": 46,
   "id": "4831bb04",
   "metadata": {},
   "outputs": [
    {
     "data": {
      "application/vnd.plotly.v1+json": {
       "config": {
        "plotlyServerURL": "https://plot.ly"
       },
       "data": [
        {
         "connector": {
          "line": {
           "color": "rgb(63, 63, 63)"
          }
         },
         "measure": [
          "relative",
          "relative",
          "relative",
          "relative",
          "relative",
          "relative",
          "relative",
          "relative",
          "relative",
          "relative",
          "relative",
          "relative",
          "relative",
          "relative",
          "relative",
          "relative",
          "relative",
          "relative",
          "relative",
          "relative",
          "relative",
          "relative",
          "relative",
          "relative",
          "relative",
          "relative",
          "relative",
          "relative"
         ],
         "name": "20",
         "orientation": "h",
         "text": [
          "Balance 3355.03",
          "Savings Account Deposit -£250.00",
          "Kids Club -£12.00",
          "Union Fees -£17.74",
          "Supermarket -£24.05",
          "Loan Repayment for Building Works -£100.00",
          "Tithe -£108.00",
          "Bills -£1,232.00",
          "Parking -£19.44",
          "Retail Store -£14.52",
          "Crazy Golf -£23.40",
          "Coffee -£10.25",
          "Credit Card Bill -£544.54",
          "Payment for work +£100.00",
          "Supermarket -£87.03",
          "Bank refund +£103.95",
          "Credit Card Additional Payment -£189.36",
          "Donation -£110.00",
          "Dinner -£37.50",
          "Supermarket -£34.42",
          "Kids Event -£104.60",
          "Retail Store -£10.23",
          "Retail Store -£7.07",
          "Mobile Phone Contract -£19.73",
          "Cash withdrawal -£20.00",
          "Supermarket -£20.06",
          "Salary +£2,394.55",
          "Supermarket -£28.05"
         ],
         "textposition": "outside",
         "type": "waterfall",
         "x": [
          3355.03,
          -250,
          -12,
          -17.74,
          -24.05,
          -100,
          -108,
          -1232,
          -19.44,
          -14.52,
          -23.4,
          -10.25,
          -544.54,
          100,
          -87.03,
          103.95,
          -189.36,
          -110,
          -37.5,
          -34.42,
          -104.6,
          -10.23,
          -7.07,
          -19.73,
          -20,
          -20.06,
          2394.55,
          -28.05
         ],
         "y": [
          "(0) 2023-06-01",
          "(1) 2023-06-01",
          "(2) 2023-06-01",
          "(3) 2023-06-01",
          "(4) 2023-06-01",
          "(5) 2023-06-02",
          "(6) 2026-06-02",
          "(7) 2023-06-02",
          "(8) 2023-06-02",
          "(9) 2023-06-02",
          "(10) 2023-06-02",
          "(11) 2023-06-02",
          "(12) 2023-06-03",
          "(13) 2023-06-03",
          "(14) 2023-06-05",
          "(15) 2023-06-08",
          "(16) 2023-06-08",
          "(17) 2023-06-08",
          "(18) 2023-06-12",
          "(19) 2023-06-12",
          "(20) 2023-06-14",
          "(21) 2023-06-15",
          "(22) 2023-06-19",
          "(23) 2023-06-21",
          "(24) 2023-06-22",
          "(25) 2023-06-24",
          "(26) 2023-06-30",
          "(27) 2023-06-30"
         ]
        }
       ],
       "layout": {
        "autosize": false,
        "height": 640,
        "showlegend": true,
        "template": {
         "data": {
          "bar": [
           {
            "error_x": {
             "color": "#2a3f5f"
            },
            "error_y": {
             "color": "#2a3f5f"
            },
            "marker": {
             "line": {
              "color": "#E5ECF6",
              "width": 0.5
             },
             "pattern": {
              "fillmode": "overlay",
              "size": 10,
              "solidity": 0.2
             }
            },
            "type": "bar"
           }
          ],
          "barpolar": [
           {
            "marker": {
             "line": {
              "color": "#E5ECF6",
              "width": 0.5
             },
             "pattern": {
              "fillmode": "overlay",
              "size": 10,
              "solidity": 0.2
             }
            },
            "type": "barpolar"
           }
          ],
          "carpet": [
           {
            "aaxis": {
             "endlinecolor": "#2a3f5f",
             "gridcolor": "white",
             "linecolor": "white",
             "minorgridcolor": "white",
             "startlinecolor": "#2a3f5f"
            },
            "baxis": {
             "endlinecolor": "#2a3f5f",
             "gridcolor": "white",
             "linecolor": "white",
             "minorgridcolor": "white",
             "startlinecolor": "#2a3f5f"
            },
            "type": "carpet"
           }
          ],
          "choropleth": [
           {
            "colorbar": {
             "outlinewidth": 0,
             "ticks": ""
            },
            "type": "choropleth"
           }
          ],
          "contour": [
           {
            "colorbar": {
             "outlinewidth": 0,
             "ticks": ""
            },
            "colorscale": [
             [
              0,
              "#0d0887"
             ],
             [
              0.1111111111111111,
              "#46039f"
             ],
             [
              0.2222222222222222,
              "#7201a8"
             ],
             [
              0.3333333333333333,
              "#9c179e"
             ],
             [
              0.4444444444444444,
              "#bd3786"
             ],
             [
              0.5555555555555556,
              "#d8576b"
             ],
             [
              0.6666666666666666,
              "#ed7953"
             ],
             [
              0.7777777777777778,
              "#fb9f3a"
             ],
             [
              0.8888888888888888,
              "#fdca26"
             ],
             [
              1,
              "#f0f921"
             ]
            ],
            "type": "contour"
           }
          ],
          "contourcarpet": [
           {
            "colorbar": {
             "outlinewidth": 0,
             "ticks": ""
            },
            "type": "contourcarpet"
           }
          ],
          "heatmap": [
           {
            "colorbar": {
             "outlinewidth": 0,
             "ticks": ""
            },
            "colorscale": [
             [
              0,
              "#0d0887"
             ],
             [
              0.1111111111111111,
              "#46039f"
             ],
             [
              0.2222222222222222,
              "#7201a8"
             ],
             [
              0.3333333333333333,
              "#9c179e"
             ],
             [
              0.4444444444444444,
              "#bd3786"
             ],
             [
              0.5555555555555556,
              "#d8576b"
             ],
             [
              0.6666666666666666,
              "#ed7953"
             ],
             [
              0.7777777777777778,
              "#fb9f3a"
             ],
             [
              0.8888888888888888,
              "#fdca26"
             ],
             [
              1,
              "#f0f921"
             ]
            ],
            "type": "heatmap"
           }
          ],
          "heatmapgl": [
           {
            "colorbar": {
             "outlinewidth": 0,
             "ticks": ""
            },
            "colorscale": [
             [
              0,
              "#0d0887"
             ],
             [
              0.1111111111111111,
              "#46039f"
             ],
             [
              0.2222222222222222,
              "#7201a8"
             ],
             [
              0.3333333333333333,
              "#9c179e"
             ],
             [
              0.4444444444444444,
              "#bd3786"
             ],
             [
              0.5555555555555556,
              "#d8576b"
             ],
             [
              0.6666666666666666,
              "#ed7953"
             ],
             [
              0.7777777777777778,
              "#fb9f3a"
             ],
             [
              0.8888888888888888,
              "#fdca26"
             ],
             [
              1,
              "#f0f921"
             ]
            ],
            "type": "heatmapgl"
           }
          ],
          "histogram": [
           {
            "marker": {
             "pattern": {
              "fillmode": "overlay",
              "size": 10,
              "solidity": 0.2
             }
            },
            "type": "histogram"
           }
          ],
          "histogram2d": [
           {
            "colorbar": {
             "outlinewidth": 0,
             "ticks": ""
            },
            "colorscale": [
             [
              0,
              "#0d0887"
             ],
             [
              0.1111111111111111,
              "#46039f"
             ],
             [
              0.2222222222222222,
              "#7201a8"
             ],
             [
              0.3333333333333333,
              "#9c179e"
             ],
             [
              0.4444444444444444,
              "#bd3786"
             ],
             [
              0.5555555555555556,
              "#d8576b"
             ],
             [
              0.6666666666666666,
              "#ed7953"
             ],
             [
              0.7777777777777778,
              "#fb9f3a"
             ],
             [
              0.8888888888888888,
              "#fdca26"
             ],
             [
              1,
              "#f0f921"
             ]
            ],
            "type": "histogram2d"
           }
          ],
          "histogram2dcontour": [
           {
            "colorbar": {
             "outlinewidth": 0,
             "ticks": ""
            },
            "colorscale": [
             [
              0,
              "#0d0887"
             ],
             [
              0.1111111111111111,
              "#46039f"
             ],
             [
              0.2222222222222222,
              "#7201a8"
             ],
             [
              0.3333333333333333,
              "#9c179e"
             ],
             [
              0.4444444444444444,
              "#bd3786"
             ],
             [
              0.5555555555555556,
              "#d8576b"
             ],
             [
              0.6666666666666666,
              "#ed7953"
             ],
             [
              0.7777777777777778,
              "#fb9f3a"
             ],
             [
              0.8888888888888888,
              "#fdca26"
             ],
             [
              1,
              "#f0f921"
             ]
            ],
            "type": "histogram2dcontour"
           }
          ],
          "mesh3d": [
           {
            "colorbar": {
             "outlinewidth": 0,
             "ticks": ""
            },
            "type": "mesh3d"
           }
          ],
          "parcoords": [
           {
            "line": {
             "colorbar": {
              "outlinewidth": 0,
              "ticks": ""
             }
            },
            "type": "parcoords"
           }
          ],
          "pie": [
           {
            "automargin": true,
            "type": "pie"
           }
          ],
          "scatter": [
           {
            "fillpattern": {
             "fillmode": "overlay",
             "size": 10,
             "solidity": 0.2
            },
            "type": "scatter"
           }
          ],
          "scatter3d": [
           {
            "line": {
             "colorbar": {
              "outlinewidth": 0,
              "ticks": ""
             }
            },
            "marker": {
             "colorbar": {
              "outlinewidth": 0,
              "ticks": ""
             }
            },
            "type": "scatter3d"
           }
          ],
          "scattercarpet": [
           {
            "marker": {
             "colorbar": {
              "outlinewidth": 0,
              "ticks": ""
             }
            },
            "type": "scattercarpet"
           }
          ],
          "scattergeo": [
           {
            "marker": {
             "colorbar": {
              "outlinewidth": 0,
              "ticks": ""
             }
            },
            "type": "scattergeo"
           }
          ],
          "scattergl": [
           {
            "marker": {
             "colorbar": {
              "outlinewidth": 0,
              "ticks": ""
             }
            },
            "type": "scattergl"
           }
          ],
          "scattermapbox": [
           {
            "marker": {
             "colorbar": {
              "outlinewidth": 0,
              "ticks": ""
             }
            },
            "type": "scattermapbox"
           }
          ],
          "scatterpolar": [
           {
            "marker": {
             "colorbar": {
              "outlinewidth": 0,
              "ticks": ""
             }
            },
            "type": "scatterpolar"
           }
          ],
          "scatterpolargl": [
           {
            "marker": {
             "colorbar": {
              "outlinewidth": 0,
              "ticks": ""
             }
            },
            "type": "scatterpolargl"
           }
          ],
          "scatterternary": [
           {
            "marker": {
             "colorbar": {
              "outlinewidth": 0,
              "ticks": ""
             }
            },
            "type": "scatterternary"
           }
          ],
          "surface": [
           {
            "colorbar": {
             "outlinewidth": 0,
             "ticks": ""
            },
            "colorscale": [
             [
              0,
              "#0d0887"
             ],
             [
              0.1111111111111111,
              "#46039f"
             ],
             [
              0.2222222222222222,
              "#7201a8"
             ],
             [
              0.3333333333333333,
              "#9c179e"
             ],
             [
              0.4444444444444444,
              "#bd3786"
             ],
             [
              0.5555555555555556,
              "#d8576b"
             ],
             [
              0.6666666666666666,
              "#ed7953"
             ],
             [
              0.7777777777777778,
              "#fb9f3a"
             ],
             [
              0.8888888888888888,
              "#fdca26"
             ],
             [
              1,
              "#f0f921"
             ]
            ],
            "type": "surface"
           }
          ],
          "table": [
           {
            "cells": {
             "fill": {
              "color": "#EBF0F8"
             },
             "line": {
              "color": "white"
             }
            },
            "header": {
             "fill": {
              "color": "#C8D4E3"
             },
             "line": {
              "color": "white"
             }
            },
            "type": "table"
           }
          ]
         },
         "layout": {
          "annotationdefaults": {
           "arrowcolor": "#2a3f5f",
           "arrowhead": 0,
           "arrowwidth": 1
          },
          "autotypenumbers": "strict",
          "coloraxis": {
           "colorbar": {
            "outlinewidth": 0,
            "ticks": ""
           }
          },
          "colorscale": {
           "diverging": [
            [
             0,
             "#8e0152"
            ],
            [
             0.1,
             "#c51b7d"
            ],
            [
             0.2,
             "#de77ae"
            ],
            [
             0.3,
             "#f1b6da"
            ],
            [
             0.4,
             "#fde0ef"
            ],
            [
             0.5,
             "#f7f7f7"
            ],
            [
             0.6,
             "#e6f5d0"
            ],
            [
             0.7,
             "#b8e186"
            ],
            [
             0.8,
             "#7fbc41"
            ],
            [
             0.9,
             "#4d9221"
            ],
            [
             1,
             "#276419"
            ]
           ],
           "sequential": [
            [
             0,
             "#0d0887"
            ],
            [
             0.1111111111111111,
             "#46039f"
            ],
            [
             0.2222222222222222,
             "#7201a8"
            ],
            [
             0.3333333333333333,
             "#9c179e"
            ],
            [
             0.4444444444444444,
             "#bd3786"
            ],
            [
             0.5555555555555556,
             "#d8576b"
            ],
            [
             0.6666666666666666,
             "#ed7953"
            ],
            [
             0.7777777777777778,
             "#fb9f3a"
            ],
            [
             0.8888888888888888,
             "#fdca26"
            ],
            [
             1,
             "#f0f921"
            ]
           ],
           "sequentialminus": [
            [
             0,
             "#0d0887"
            ],
            [
             0.1111111111111111,
             "#46039f"
            ],
            [
             0.2222222222222222,
             "#7201a8"
            ],
            [
             0.3333333333333333,
             "#9c179e"
            ],
            [
             0.4444444444444444,
             "#bd3786"
            ],
            [
             0.5555555555555556,
             "#d8576b"
            ],
            [
             0.6666666666666666,
             "#ed7953"
            ],
            [
             0.7777777777777778,
             "#fb9f3a"
            ],
            [
             0.8888888888888888,
             "#fdca26"
            ],
            [
             1,
             "#f0f921"
            ]
           ]
          },
          "colorway": [
           "#636efa",
           "#EF553B",
           "#00cc96",
           "#ab63fa",
           "#FFA15A",
           "#19d3f3",
           "#FF6692",
           "#B6E880",
           "#FF97FF",
           "#FECB52"
          ],
          "font": {
           "color": "#2a3f5f"
          },
          "geo": {
           "bgcolor": "white",
           "lakecolor": "white",
           "landcolor": "#E5ECF6",
           "showlakes": true,
           "showland": true,
           "subunitcolor": "white"
          },
          "hoverlabel": {
           "align": "left"
          },
          "hovermode": "closest",
          "mapbox": {
           "style": "light"
          },
          "paper_bgcolor": "white",
          "plot_bgcolor": "#E5ECF6",
          "polar": {
           "angularaxis": {
            "gridcolor": "white",
            "linecolor": "white",
            "ticks": ""
           },
           "bgcolor": "#E5ECF6",
           "radialaxis": {
            "gridcolor": "white",
            "linecolor": "white",
            "ticks": ""
           }
          },
          "scene": {
           "xaxis": {
            "backgroundcolor": "#E5ECF6",
            "gridcolor": "white",
            "gridwidth": 2,
            "linecolor": "white",
            "showbackground": true,
            "ticks": "",
            "zerolinecolor": "white"
           },
           "yaxis": {
            "backgroundcolor": "#E5ECF6",
            "gridcolor": "white",
            "gridwidth": 2,
            "linecolor": "white",
            "showbackground": true,
            "ticks": "",
            "zerolinecolor": "white"
           },
           "zaxis": {
            "backgroundcolor": "#E5ECF6",
            "gridcolor": "white",
            "gridwidth": 2,
            "linecolor": "white",
            "showbackground": true,
            "ticks": "",
            "zerolinecolor": "white"
           }
          },
          "shapedefaults": {
           "line": {
            "color": "#2a3f5f"
           }
          },
          "ternary": {
           "aaxis": {
            "gridcolor": "white",
            "linecolor": "white",
            "ticks": ""
           },
           "baxis": {
            "gridcolor": "white",
            "linecolor": "white",
            "ticks": ""
           },
           "bgcolor": "#E5ECF6",
           "caxis": {
            "gridcolor": "white",
            "linecolor": "white",
            "ticks": ""
           }
          },
          "title": {
           "x": 0.05
          },
          "xaxis": {
           "automargin": true,
           "gridcolor": "white",
           "linecolor": "white",
           "ticks": "",
           "title": {
            "standoff": 15
           },
           "zerolinecolor": "white",
           "zerolinewidth": 2
          },
          "yaxis": {
           "automargin": true,
           "gridcolor": "white",
           "linecolor": "white",
           "ticks": "",
           "title": {
            "standoff": 15
           },
           "zerolinecolor": "white",
           "zerolinewidth": 2
          }
         }
        },
        "title": {
         "text": "Profit and loss statement 2018"
        },
        "width": 1000,
        "xaxis": {
         "range": [
          -1000,
          4500
         ]
        },
        "yaxis": {
         "autorange": "reversed"
        }
       }
      },
      "text/html": [
       "<div>                            <div id=\"74be62ac-5e62-4d33-ac55-cd47b8de4c16\" class=\"plotly-graph-div\" style=\"height:640px; width:1000px;\"></div>            <script type=\"text/javascript\">                require([\"plotly\"], function(Plotly) {                    window.PLOTLYENV=window.PLOTLYENV || {};                                    if (document.getElementById(\"74be62ac-5e62-4d33-ac55-cd47b8de4c16\")) {                    Plotly.newPlot(                        \"74be62ac-5e62-4d33-ac55-cd47b8de4c16\",                        [{\"connector\":{\"line\":{\"color\":\"rgb(63, 63, 63)\"}},\"measure\":[\"relative\",\"relative\",\"relative\",\"relative\",\"relative\",\"relative\",\"relative\",\"relative\",\"relative\",\"relative\",\"relative\",\"relative\",\"relative\",\"relative\",\"relative\",\"relative\",\"relative\",\"relative\",\"relative\",\"relative\",\"relative\",\"relative\",\"relative\",\"relative\",\"relative\",\"relative\",\"relative\",\"relative\"],\"name\":\"20\",\"orientation\":\"h\",\"text\":[\"Balance 3355.03\",\"Savings Account Deposit -\\u00a3250.00\",\"Kids Club -\\u00a312.00\",\"Union Fees -\\u00a317.74\",\"Supermarket -\\u00a324.05\",\"Loan Repayment for Building Works -\\u00a3100.00\",\"Tithe -\\u00a3108.00\",\"Bills -\\u00a31,232.00\",\"Parking -\\u00a319.44\",\"Retail Store -\\u00a314.52\",\"Crazy Golf -\\u00a323.40\",\"Coffee -\\u00a310.25\",\"Credit Card Bill -\\u00a3544.54\",\"Payment for work +\\u00a3100.00\",\"Supermarket -\\u00a387.03\",\"Bank refund +\\u00a3103.95\",\"Credit Card Additional Payment -\\u00a3189.36\",\"Donation -\\u00a3110.00\",\"Dinner -\\u00a337.50\",\"Supermarket -\\u00a334.42\",\"Kids Event -\\u00a3104.60\",\"Retail Store -\\u00a310.23\",\"Retail Store -\\u00a37.07\",\"Mobile Phone Contract -\\u00a319.73\",\"Cash withdrawal -\\u00a320.00\",\"Supermarket -\\u00a320.06\",\"Salary +\\u00a32,394.55\",\"Supermarket -\\u00a328.05\"],\"textposition\":\"outside\",\"x\":[3355.03,-250.0,-12.0,-17.74,-24.05,-100.0,-108.0,-1232.0,-19.44,-14.52,-23.4,-10.25,-544.54,100.0,-87.03,103.95,-189.36,-110.0,-37.5,-34.42,-104.6,-10.23,-7.07,-19.73,-20.0,-20.06,2394.55,-28.05],\"y\":[\"(0) 2023-06-01\",\"(1) 2023-06-01\",\"(2) 2023-06-01\",\"(3) 2023-06-01\",\"(4) 2023-06-01\",\"(5) 2023-06-02\",\"(6) 2026-06-02\",\"(7) 2023-06-02\",\"(8) 2023-06-02\",\"(9) 2023-06-02\",\"(10) 2023-06-02\",\"(11) 2023-06-02\",\"(12) 2023-06-03\",\"(13) 2023-06-03\",\"(14) 2023-06-05\",\"(15) 2023-06-08\",\"(16) 2023-06-08\",\"(17) 2023-06-08\",\"(18) 2023-06-12\",\"(19) 2023-06-12\",\"(20) 2023-06-14\",\"(21) 2023-06-15\",\"(22) 2023-06-19\",\"(23) 2023-06-21\",\"(24) 2023-06-22\",\"(25) 2023-06-24\",\"(26) 2023-06-30\",\"(27) 2023-06-30\"],\"type\":\"waterfall\"}],                        {\"template\":{\"data\":{\"histogram2dcontour\":[{\"type\":\"histogram2dcontour\",\"colorbar\":{\"outlinewidth\":0,\"ticks\":\"\"},\"colorscale\":[[0.0,\"#0d0887\"],[0.1111111111111111,\"#46039f\"],[0.2222222222222222,\"#7201a8\"],[0.3333333333333333,\"#9c179e\"],[0.4444444444444444,\"#bd3786\"],[0.5555555555555556,\"#d8576b\"],[0.6666666666666666,\"#ed7953\"],[0.7777777777777778,\"#fb9f3a\"],[0.8888888888888888,\"#fdca26\"],[1.0,\"#f0f921\"]]}],\"choropleth\":[{\"type\":\"choropleth\",\"colorbar\":{\"outlinewidth\":0,\"ticks\":\"\"}}],\"histogram2d\":[{\"type\":\"histogram2d\",\"colorbar\":{\"outlinewidth\":0,\"ticks\":\"\"},\"colorscale\":[[0.0,\"#0d0887\"],[0.1111111111111111,\"#46039f\"],[0.2222222222222222,\"#7201a8\"],[0.3333333333333333,\"#9c179e\"],[0.4444444444444444,\"#bd3786\"],[0.5555555555555556,\"#d8576b\"],[0.6666666666666666,\"#ed7953\"],[0.7777777777777778,\"#fb9f3a\"],[0.8888888888888888,\"#fdca26\"],[1.0,\"#f0f921\"]]}],\"heatmap\":[{\"type\":\"heatmap\",\"colorbar\":{\"outlinewidth\":0,\"ticks\":\"\"},\"colorscale\":[[0.0,\"#0d0887\"],[0.1111111111111111,\"#46039f\"],[0.2222222222222222,\"#7201a8\"],[0.3333333333333333,\"#9c179e\"],[0.4444444444444444,\"#bd3786\"],[0.5555555555555556,\"#d8576b\"],[0.6666666666666666,\"#ed7953\"],[0.7777777777777778,\"#fb9f3a\"],[0.8888888888888888,\"#fdca26\"],[1.0,\"#f0f921\"]]}],\"heatmapgl\":[{\"type\":\"heatmapgl\",\"colorbar\":{\"outlinewidth\":0,\"ticks\":\"\"},\"colorscale\":[[0.0,\"#0d0887\"],[0.1111111111111111,\"#46039f\"],[0.2222222222222222,\"#7201a8\"],[0.3333333333333333,\"#9c179e\"],[0.4444444444444444,\"#bd3786\"],[0.5555555555555556,\"#d8576b\"],[0.6666666666666666,\"#ed7953\"],[0.7777777777777778,\"#fb9f3a\"],[0.8888888888888888,\"#fdca26\"],[1.0,\"#f0f921\"]]}],\"contourcarpet\":[{\"type\":\"contourcarpet\",\"colorbar\":{\"outlinewidth\":0,\"ticks\":\"\"}}],\"contour\":[{\"type\":\"contour\",\"colorbar\":{\"outlinewidth\":0,\"ticks\":\"\"},\"colorscale\":[[0.0,\"#0d0887\"],[0.1111111111111111,\"#46039f\"],[0.2222222222222222,\"#7201a8\"],[0.3333333333333333,\"#9c179e\"],[0.4444444444444444,\"#bd3786\"],[0.5555555555555556,\"#d8576b\"],[0.6666666666666666,\"#ed7953\"],[0.7777777777777778,\"#fb9f3a\"],[0.8888888888888888,\"#fdca26\"],[1.0,\"#f0f921\"]]}],\"surface\":[{\"type\":\"surface\",\"colorbar\":{\"outlinewidth\":0,\"ticks\":\"\"},\"colorscale\":[[0.0,\"#0d0887\"],[0.1111111111111111,\"#46039f\"],[0.2222222222222222,\"#7201a8\"],[0.3333333333333333,\"#9c179e\"],[0.4444444444444444,\"#bd3786\"],[0.5555555555555556,\"#d8576b\"],[0.6666666666666666,\"#ed7953\"],[0.7777777777777778,\"#fb9f3a\"],[0.8888888888888888,\"#fdca26\"],[1.0,\"#f0f921\"]]}],\"mesh3d\":[{\"type\":\"mesh3d\",\"colorbar\":{\"outlinewidth\":0,\"ticks\":\"\"}}],\"scatter\":[{\"fillpattern\":{\"fillmode\":\"overlay\",\"size\":10,\"solidity\":0.2},\"type\":\"scatter\"}],\"parcoords\":[{\"type\":\"parcoords\",\"line\":{\"colorbar\":{\"outlinewidth\":0,\"ticks\":\"\"}}}],\"scatterpolargl\":[{\"type\":\"scatterpolargl\",\"marker\":{\"colorbar\":{\"outlinewidth\":0,\"ticks\":\"\"}}}],\"bar\":[{\"error_x\":{\"color\":\"#2a3f5f\"},\"error_y\":{\"color\":\"#2a3f5f\"},\"marker\":{\"line\":{\"color\":\"#E5ECF6\",\"width\":0.5},\"pattern\":{\"fillmode\":\"overlay\",\"size\":10,\"solidity\":0.2}},\"type\":\"bar\"}],\"scattergeo\":[{\"type\":\"scattergeo\",\"marker\":{\"colorbar\":{\"outlinewidth\":0,\"ticks\":\"\"}}}],\"scatterpolar\":[{\"type\":\"scatterpolar\",\"marker\":{\"colorbar\":{\"outlinewidth\":0,\"ticks\":\"\"}}}],\"histogram\":[{\"marker\":{\"pattern\":{\"fillmode\":\"overlay\",\"size\":10,\"solidity\":0.2}},\"type\":\"histogram\"}],\"scattergl\":[{\"type\":\"scattergl\",\"marker\":{\"colorbar\":{\"outlinewidth\":0,\"ticks\":\"\"}}}],\"scatter3d\":[{\"type\":\"scatter3d\",\"line\":{\"colorbar\":{\"outlinewidth\":0,\"ticks\":\"\"}},\"marker\":{\"colorbar\":{\"outlinewidth\":0,\"ticks\":\"\"}}}],\"scattermapbox\":[{\"type\":\"scattermapbox\",\"marker\":{\"colorbar\":{\"outlinewidth\":0,\"ticks\":\"\"}}}],\"scatterternary\":[{\"type\":\"scatterternary\",\"marker\":{\"colorbar\":{\"outlinewidth\":0,\"ticks\":\"\"}}}],\"scattercarpet\":[{\"type\":\"scattercarpet\",\"marker\":{\"colorbar\":{\"outlinewidth\":0,\"ticks\":\"\"}}}],\"carpet\":[{\"aaxis\":{\"endlinecolor\":\"#2a3f5f\",\"gridcolor\":\"white\",\"linecolor\":\"white\",\"minorgridcolor\":\"white\",\"startlinecolor\":\"#2a3f5f\"},\"baxis\":{\"endlinecolor\":\"#2a3f5f\",\"gridcolor\":\"white\",\"linecolor\":\"white\",\"minorgridcolor\":\"white\",\"startlinecolor\":\"#2a3f5f\"},\"type\":\"carpet\"}],\"table\":[{\"cells\":{\"fill\":{\"color\":\"#EBF0F8\"},\"line\":{\"color\":\"white\"}},\"header\":{\"fill\":{\"color\":\"#C8D4E3\"},\"line\":{\"color\":\"white\"}},\"type\":\"table\"}],\"barpolar\":[{\"marker\":{\"line\":{\"color\":\"#E5ECF6\",\"width\":0.5},\"pattern\":{\"fillmode\":\"overlay\",\"size\":10,\"solidity\":0.2}},\"type\":\"barpolar\"}],\"pie\":[{\"automargin\":true,\"type\":\"pie\"}]},\"layout\":{\"autotypenumbers\":\"strict\",\"colorway\":[\"#636efa\",\"#EF553B\",\"#00cc96\",\"#ab63fa\",\"#FFA15A\",\"#19d3f3\",\"#FF6692\",\"#B6E880\",\"#FF97FF\",\"#FECB52\"],\"font\":{\"color\":\"#2a3f5f\"},\"hovermode\":\"closest\",\"hoverlabel\":{\"align\":\"left\"},\"paper_bgcolor\":\"white\",\"plot_bgcolor\":\"#E5ECF6\",\"polar\":{\"bgcolor\":\"#E5ECF6\",\"angularaxis\":{\"gridcolor\":\"white\",\"linecolor\":\"white\",\"ticks\":\"\"},\"radialaxis\":{\"gridcolor\":\"white\",\"linecolor\":\"white\",\"ticks\":\"\"}},\"ternary\":{\"bgcolor\":\"#E5ECF6\",\"aaxis\":{\"gridcolor\":\"white\",\"linecolor\":\"white\",\"ticks\":\"\"},\"baxis\":{\"gridcolor\":\"white\",\"linecolor\":\"white\",\"ticks\":\"\"},\"caxis\":{\"gridcolor\":\"white\",\"linecolor\":\"white\",\"ticks\":\"\"}},\"coloraxis\":{\"colorbar\":{\"outlinewidth\":0,\"ticks\":\"\"}},\"colorscale\":{\"sequential\":[[0.0,\"#0d0887\"],[0.1111111111111111,\"#46039f\"],[0.2222222222222222,\"#7201a8\"],[0.3333333333333333,\"#9c179e\"],[0.4444444444444444,\"#bd3786\"],[0.5555555555555556,\"#d8576b\"],[0.6666666666666666,\"#ed7953\"],[0.7777777777777778,\"#fb9f3a\"],[0.8888888888888888,\"#fdca26\"],[1.0,\"#f0f921\"]],\"sequentialminus\":[[0.0,\"#0d0887\"],[0.1111111111111111,\"#46039f\"],[0.2222222222222222,\"#7201a8\"],[0.3333333333333333,\"#9c179e\"],[0.4444444444444444,\"#bd3786\"],[0.5555555555555556,\"#d8576b\"],[0.6666666666666666,\"#ed7953\"],[0.7777777777777778,\"#fb9f3a\"],[0.8888888888888888,\"#fdca26\"],[1.0,\"#f0f921\"]],\"diverging\":[[0,\"#8e0152\"],[0.1,\"#c51b7d\"],[0.2,\"#de77ae\"],[0.3,\"#f1b6da\"],[0.4,\"#fde0ef\"],[0.5,\"#f7f7f7\"],[0.6,\"#e6f5d0\"],[0.7,\"#b8e186\"],[0.8,\"#7fbc41\"],[0.9,\"#4d9221\"],[1,\"#276419\"]]},\"xaxis\":{\"gridcolor\":\"white\",\"linecolor\":\"white\",\"ticks\":\"\",\"title\":{\"standoff\":15},\"zerolinecolor\":\"white\",\"automargin\":true,\"zerolinewidth\":2},\"yaxis\":{\"gridcolor\":\"white\",\"linecolor\":\"white\",\"ticks\":\"\",\"title\":{\"standoff\":15},\"zerolinecolor\":\"white\",\"automargin\":true,\"zerolinewidth\":2},\"scene\":{\"xaxis\":{\"backgroundcolor\":\"#E5ECF6\",\"gridcolor\":\"white\",\"linecolor\":\"white\",\"showbackground\":true,\"ticks\":\"\",\"zerolinecolor\":\"white\",\"gridwidth\":2},\"yaxis\":{\"backgroundcolor\":\"#E5ECF6\",\"gridcolor\":\"white\",\"linecolor\":\"white\",\"showbackground\":true,\"ticks\":\"\",\"zerolinecolor\":\"white\",\"gridwidth\":2},\"zaxis\":{\"backgroundcolor\":\"#E5ECF6\",\"gridcolor\":\"white\",\"linecolor\":\"white\",\"showbackground\":true,\"ticks\":\"\",\"zerolinecolor\":\"white\",\"gridwidth\":2}},\"shapedefaults\":{\"line\":{\"color\":\"#2a3f5f\"}},\"annotationdefaults\":{\"arrowcolor\":\"#2a3f5f\",\"arrowhead\":0,\"arrowwidth\":1},\"geo\":{\"bgcolor\":\"white\",\"landcolor\":\"#E5ECF6\",\"subunitcolor\":\"white\",\"showland\":true,\"showlakes\":true,\"lakecolor\":\"white\"},\"title\":{\"x\":0.05},\"mapbox\":{\"style\":\"light\"}}},\"title\":{\"text\":\"Profit and loss statement 2018\"},\"showlegend\":true,\"autosize\":false,\"width\":1000,\"height\":640,\"yaxis\":{\"autorange\":\"reversed\"},\"xaxis\":{\"range\":[-1000,4500]}},                        {\"responsive\": true}                    ).then(function(){\n",
       "                            \n",
       "var gd = document.getElementById('74be62ac-5e62-4d33-ac55-cd47b8de4c16');\n",
       "var x = new MutationObserver(function (mutations, observer) {{\n",
       "        var display = window.getComputedStyle(gd).display;\n",
       "        if (!display || display === 'none') {{\n",
       "            console.log([gd, 'removed!']);\n",
       "            Plotly.purge(gd);\n",
       "            observer.disconnect();\n",
       "        }}\n",
       "}});\n",
       "\n",
       "// Listen for the removal of the full notebook cells\n",
       "var notebookContainer = gd.closest('#notebook-container');\n",
       "if (notebookContainer) {{\n",
       "    x.observe(notebookContainer, {childList: true});\n",
       "}}\n",
       "\n",
       "// Listen for the clearing of the current output cell\n",
       "var outputEl = gd.closest('.output');\n",
       "if (outputEl) {{\n",
       "    x.observe(outputEl, {childList: true});\n",
       "}}\n",
       "\n",
       "                        })                };                });            </script>        </div>"
      ]
     },
     "metadata": {},
     "output_type": "display_data"
    }
   ],
   "source": [
    "import plotly.graph_objects as go\n",
    "\n",
    "\n",
    "fig = go.Figure(\n",
    "    go.Waterfall(\n",
    "        name = \"20\", \n",
    "        orientation = \"h\",\n",
    "        measure = measure,\n",
    "        y = y_str,\n",
    "        x = x,\n",
    "        textposition = \"outside\",\n",
    "        text = text,\n",
    "        connector = {\"line\":{\"color\":\"rgb(63, 63, 63)\"}},\n",
    "))\n",
    "\n",
    "fig.update_layout(\n",
    "    title = \"Profit and loss statement 2018\",\n",
    "    showlegend = True,\n",
    "    autosize=False,\n",
    "    width=1000,\n",
    "    height=640,\n",
    ")\n",
    "\n",
    "fig.update_yaxes(autorange = \"reversed\")\n",
    "fig.update_xaxes(range = [-1000,4500])\n",
    "\n",
    "fig.show()"
   ]
  },
  {
   "cell_type": "code",
   "execution_count": null,
   "id": "cb536bcf",
   "metadata": {},
   "outputs": [],
   "source": []
  },
  {
   "cell_type": "code",
   "execution_count": null,
   "id": "514115ca",
   "metadata": {},
   "outputs": [],
   "source": []
  }
 ],
 "metadata": {
  "kernelspec": {
   "display_name": "Python 3 (ipykernel)",
   "language": "python",
   "name": "python3"
  },
  "language_info": {
   "codemirror_mode": {
    "name": "ipython",
    "version": 3
   },
   "file_extension": ".py",
   "mimetype": "text/x-python",
   "name": "python",
   "nbconvert_exporter": "python",
   "pygments_lexer": "ipython3",
   "version": "3.11.3"
  }
 },
 "nbformat": 4,
 "nbformat_minor": 5
}
